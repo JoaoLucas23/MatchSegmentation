{
 "cells": [
  {
   "cell_type": "code",
   "execution_count": 1,
   "metadata": {},
   "outputs": [],
   "source": [
    "import gandula\n",
    "from tqdm.auto import tqdm\n",
    "import os\n",
    "import sys\n",
    "import pandas as pd\n",
    "import numpy as np\n",
    "from multiprocessing import Pool"
   ]
  },
  {
   "cell_type": "code",
   "execution_count": 2,
   "metadata": {},
   "outputs": [
    {
     "name": "stdout",
     "output_type": "stream",
     "text": [
      "The autoreload extension is already loaded. To reload it, use:\n",
      "  %reload_ext autoreload\n"
     ]
    }
   ],
   "source": [
    "%load_ext autoreload\n",
    "%autoreload 2"
   ]
  },
  {
   "cell_type": "code",
   "execution_count": 3,
   "metadata": {},
   "outputs": [],
   "source": [
    "project_root = os.path.abspath(\n",
    "    os.path.join(\"C:/Users/jllgo/OneDrive/Documentos/UFMG/MSc & MSI 2/MatchSegmentation\")\n",
    ")\n",
    "if project_root not in sys.path:\n",
    "    sys.path.append(project_root)"
   ]
  },
  {
   "cell_type": "code",
   "execution_count": 4,
   "metadata": {},
   "outputs": [],
   "source": [
    "from src.data.loader import FramesLoader"
   ]
  },
  {
   "cell_type": "code",
   "execution_count": 5,
   "metadata": {},
   "outputs": [],
   "source": [
    "DATA_PATH = '../data/raw/PL-22-23'\n",
    "output_path = \"../data/intermediate/PL-22-23\""
   ]
  },
  {
   "cell_type": "code",
   "execution_count": 6,
   "metadata": {},
   "outputs": [],
   "source": [
    "games = os.listdir(DATA_PATH)\n",
    "game_ids = [game.split('.')[0] for game in games][:5]"
   ]
  },
  {
   "cell_type": "code",
   "execution_count": 7,
   "metadata": {},
   "outputs": [
    {
     "data": {
      "application/vnd.jupyter.widget-view+json": {
       "model_id": "d8d8c40d40054aedadc68c7d6b04e848",
       "version_major": 2,
       "version_minor": 0
      },
      "text/plain": [
       "Loading Games:   0%|          | 0/5 [00:00<?, ?it/s]"
      ]
     },
     "metadata": {},
     "output_type": "display_data"
    }
   ],
   "source": [
    "frames_loader = FramesLoader(game_ids, DATA_PATH)\n",
    "frames_loader.load(path=output_path)"
   ]
  },
  {
   "cell_type": "markdown",
   "metadata": {},
   "source": [
    "# Data Exploration"
   ]
  },
  {
   "cell_type": "code",
   "execution_count": 8,
   "metadata": {},
   "outputs": [
    {
     "name": "stdout",
     "output_type": "stream",
     "text": [
      "<class 'pandas.core.frame.DataFrame'>\n",
      "RangeIndex: 840213 entries, 0 to 840212\n",
      "Data columns (total 19 columns):\n",
      " #   Column                  Non-Null Count   Dtype  \n",
      "---  ------                  --------------   -----  \n",
      " 0   match_id                840213 non-null  int64  \n",
      " 1   frame_id                840213 non-null  int64  \n",
      " 2   period                  840213 non-null  int64  \n",
      " 3   elapsed_seconds         840213 non-null  float64\n",
      " 4   home_has_possession     492053 non-null  float64\n",
      " 5   event_id                193176 non-null  float64\n",
      " 6   event_type              840213 non-null  object \n",
      " 7   event_setpiece_type     840213 non-null  object \n",
      " 8   event_player_id         185032 non-null  float64\n",
      " 9   event_team_id           185074 non-null  float64\n",
      " 10  event_start_frame       193176 non-null  float64\n",
      " 11  event_end_frame         193176 non-null  float64\n",
      " 12  possession_id           9934 non-null    float64\n",
      " 13  possession_type         840213 non-null  object \n",
      " 14  possession_start_frame  9934 non-null    float64\n",
      " 15  possession_end_frame    9934 non-null    float64\n",
      " 16  sequence                492053 non-null  float64\n",
      " 17  version                 840213 non-null  object \n",
      " 18  video_time_milli        840213 non-null  float64\n",
      "dtypes: float64(12), int64(3), object(4)\n",
      "memory usage: 121.8+ MB\n"
     ]
    }
   ],
   "source": [
    "metadata_full_df = pd.concat([frame_tuple[0] for frame_tuple in frames_loader.frames])\n",
    "metadata_full_df = metadata_full_df.reset_index(drop=True)\n",
    "metadata_full_df.info()"
   ]
  },
  {
   "cell_type": "code",
   "execution_count": 9,
   "metadata": {},
   "outputs": [
    {
     "name": "stdout",
     "output_type": "stream",
     "text": [
      "Total number of frames available: 840213\n"
     ]
    }
   ],
   "source": [
    "print(f\"Total number of frames available: {len(metadata_full_df)}\")"
   ]
  },
  {
   "cell_type": "code",
   "execution_count": 10,
   "metadata": {},
   "outputs": [
    {
     "name": "stdout",
     "output_type": "stream",
     "text": [
      "<class 'pandas.core.frame.DataFrame'>\n",
      "RangeIndex: 191223 entries, 0 to 191222\n",
      "Data columns (total 19 columns):\n",
      " #   Column                  Non-Null Count   Dtype  \n",
      "---  ------                  --------------   -----  \n",
      " 0   match_id                191223 non-null  int64  \n",
      " 1   frame_id                191223 non-null  int64  \n",
      " 2   period                  191223 non-null  int64  \n",
      " 3   elapsed_seconds         191223 non-null  float64\n",
      " 4   home_has_possession     191191 non-null  float64\n",
      " 5   event_id                190684 non-null  float64\n",
      " 6   event_type              191223 non-null  object \n",
      " 7   event_setpiece_type     0 non-null       object \n",
      " 8   event_player_id         184527 non-null  float64\n",
      " 9   event_team_id           184537 non-null  float64\n",
      " 10  event_start_frame       190684 non-null  float64\n",
      " 11  event_end_frame         190684 non-null  float64\n",
      " 12  possession_id           9385 non-null    float64\n",
      " 13  possession_type         191223 non-null  object \n",
      " 14  possession_start_frame  9385 non-null    float64\n",
      " 15  possession_end_frame    9385 non-null    float64\n",
      " 16  sequence                191191 non-null  float64\n",
      " 17  version                 191223 non-null  object \n",
      " 18  video_time_milli        191223 non-null  float64\n",
      "dtypes: float64(12), int64(3), object(4)\n",
      "memory usage: 27.7+ MB\n"
     ]
    }
   ],
   "source": [
    "metadata_reduced_df = pd.concat([frame_tuple[1] for frame_tuple in frames_loader.frames])\n",
    "metadata_reduced_df = metadata_reduced_df.reset_index(drop=True)\n",
    "metadata_reduced_df.info()"
   ]
  },
  {
   "cell_type": "code",
   "execution_count": 11,
   "metadata": {},
   "outputs": [
    {
     "name": "stdout",
     "output_type": "stream",
     "text": [
      "Total number of frames available: 191223\n"
     ]
    }
   ],
   "source": [
    "print(f\"Total number of frames available: {len(metadata_reduced_df)}\")"
   ]
  },
  {
   "cell_type": "markdown",
   "metadata": {},
   "source": [
    "# Filter Invalid Frames"
   ]
  },
  {
   "cell_type": "code",
   "execution_count": null,
   "metadata": {},
   "outputs": [],
   "source": []
  },
  {
   "cell_type": "code",
   "execution_count": 12,
   "metadata": {},
   "outputs": [],
   "source": [
    "df = metadata_reduced_df.sort_values(by=[\"match_id\", \"frame_id\"]).reset_index(drop=True)"
   ]
  },
  {
   "cell_type": "code",
   "execution_count": 13,
   "metadata": {},
   "outputs": [
    {
     "data": {
      "text/plain": [
       "array([nan])"
      ]
     },
     "execution_count": 13,
     "metadata": {},
     "output_type": "execute_result"
    }
   ],
   "source": [
    "df[df['event_id'].isna()]['event_id'].unique()"
   ]
  },
  {
   "cell_type": "code",
   "execution_count": 14,
   "metadata": {},
   "outputs": [
    {
     "data": {
      "text/plain": [
       "array([None], dtype=object)"
      ]
     },
     "execution_count": 14,
     "metadata": {},
     "output_type": "execute_result"
    }
   ],
   "source": [
    "metadata_reduced_df['event_setpiece_type'].unique()"
   ]
  },
  {
   "cell_type": "markdown",
   "metadata": {},
   "source": [
    "## Events"
   ]
  },
  {
   "cell_type": "code",
   "execution_count": 27,
   "metadata": {},
   "outputs": [
    {
     "data": {
      "text/plain": [
       "possession_type\n",
       "BALL_CARRY      1\n",
       "CHALLENGE       2\n",
       "PASS           13\n",
       "REBOUND         4\n",
       "SHOT            2\n",
       "nan           339\n",
       "dtype: int64"
      ]
     },
     "execution_count": 27,
     "metadata": {},
     "output_type": "execute_result"
    }
   ],
   "source": [
    "metadata_reduced_df[metadata_reduced_df['sequence']==5].groupby('possession_type').size()"
   ]
  },
  {
   "cell_type": "code",
   "execution_count": 15,
   "metadata": {},
   "outputs": [
    {
     "data": {
      "text/plain": [
       "array([4435314., 4435318., 4435325., ..., 4475754., 4475758., 4475798.])"
      ]
     },
     "execution_count": 15,
     "metadata": {},
     "output_type": "execute_result"
    }
   ],
   "source": [
    "metadata_reduced_df['event_id'].unique()"
   ]
  },
  {
   "cell_type": "code",
   "execution_count": 20,
   "metadata": {},
   "outputs": [
    {
     "data": {
      "text/plain": [
       "array(['ON_THE_BALL', 'VIDEO_MISSING', 'nan', 'PBC_IN_PLAY', 'PLAYER_ON'],\n",
       "      dtype=object)"
      ]
     },
     "execution_count": 20,
     "metadata": {},
     "output_type": "execute_result"
    }
   ],
   "source": [
    "metadata_reduced_df['event_type'].unique()\n"
   ]
  },
  {
   "cell_type": "code",
   "execution_count": 16,
   "metadata": {},
   "outputs": [
    {
     "data": {
      "text/plain": [
       "array(['nan', 'PASS', 'CHALLENGE', 'REBOUND', 'SHOT', 'BALL_CARRY',\n",
       "       'CROSS', 'CLEARANCE'], dtype=object)"
      ]
     },
     "execution_count": 16,
     "metadata": {},
     "output_type": "execute_result"
    }
   ],
   "source": [
    "metadata_reduced_df['possession_type'].unique()\n"
   ]
  },
  {
   "cell_type": "code",
   "execution_count": 17,
   "metadata": {},
   "outputs": [
    {
     "data": {
      "text/plain": [
       "possession_type\n",
       "PASS          4476\n",
       "CHALLENGE      932\n",
       "CLEARANCE      256\n",
       "REBOUND        198\n",
       "BALL_CARRY     159\n",
       "CROSS          150\n",
       "SHOT           114\n",
       "Name: possession_id, dtype: int64"
      ]
     },
     "execution_count": 17,
     "metadata": {},
     "output_type": "execute_result"
    }
   ],
   "source": [
    "events_count = metadata_reduced_df[metadata_reduced_df['possession_type']!='nan'].groupby('possession_type')['possession_id'].nunique()\n",
    "events_count.sort_values(ascending=False)"
   ]
  },
  {
   "cell_type": "code",
   "execution_count": 18,
   "metadata": {},
   "outputs": [
    {
     "data": {
      "text/plain": [
       "array(['PASS', 'nan', 'CHALLENGE', 'REBOUND', 'SHOT', 'BALL_CARRY',\n",
       "       'CROSS', 'CLEARANCE'], dtype=object)"
      ]
     },
     "execution_count": 18,
     "metadata": {},
     "output_type": "execute_result"
    }
   ],
   "source": [
    "metadata_full_df['possession_type'].unique()"
   ]
  },
  {
   "cell_type": "code",
   "execution_count": 19,
   "metadata": {},
   "outputs": [
    {
     "data": {
      "text/plain": [
       "possession_type\n",
       "PASS          4887\n",
       "CHALLENGE      934\n",
       "CLEARANCE      259\n",
       "CROSS          206\n",
       "REBOUND        198\n",
       "BALL_CARRY     159\n",
       "SHOT           117\n",
       "Name: possession_id, dtype: int64"
      ]
     },
     "execution_count": 19,
     "metadata": {},
     "output_type": "execute_result"
    }
   ],
   "source": [
    "events_count = metadata_full_df[metadata_full_df['possession_type']!='nan'].groupby('possession_type')['possession_id'].nunique()\n",
    "events_count.sort_values(ascending=False)"
   ]
  },
  {
   "cell_type": "code",
   "execution_count": null,
   "metadata": {},
   "outputs": [],
   "source": []
  },
  {
   "cell_type": "code",
   "execution_count": null,
   "metadata": {},
   "outputs": [],
   "source": []
  },
  {
   "cell_type": "code",
   "execution_count": null,
   "metadata": {},
   "outputs": [],
   "source": []
  },
  {
   "cell_type": "code",
   "execution_count": null,
   "metadata": {},
   "outputs": [],
   "source": []
  },
  {
   "cell_type": "code",
   "execution_count": null,
   "metadata": {},
   "outputs": [],
   "source": []
  }
 ],
 "metadata": {
  "kernelspec": {
   "display_name": ".venv",
   "language": "python",
   "name": "python3"
  },
  "language_info": {
   "codemirror_mode": {
    "name": "ipython",
    "version": 3
   },
   "file_extension": ".py",
   "mimetype": "text/x-python",
   "name": "python",
   "nbconvert_exporter": "python",
   "pygments_lexer": "ipython3",
   "version": "3.12.3"
  }
 },
 "nbformat": 4,
 "nbformat_minor": 2
}
