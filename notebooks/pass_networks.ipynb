{
 "cells": [
  {
   "cell_type": "code",
   "execution_count": null,
   "metadata": {},
   "outputs": [],
   "source": [
    "%load_ext autoreload\n",
    "%autoreload 2"
   ]
  },
  {
   "cell_type": "code",
   "execution_count": 2,
   "metadata": {},
   "outputs": [],
   "source": [
    "import os\n",
    "import sys\n",
    "from multiprocessing import Pool, cpu_count\n",
    "from tqdm.auto import tqdm\n",
    "import pandas as pd"
   ]
  },
  {
   "cell_type": "code",
   "execution_count": 3,
   "metadata": {},
   "outputs": [],
   "source": [
    "import warnings\n",
    "warnings.filterwarnings('ignore', category=pd.errors.SettingWithCopyWarning)"
   ]
  },
  {
   "cell_type": "code",
   "execution_count": 4,
   "metadata": {},
   "outputs": [],
   "source": [
    "project_root = os.path.abspath(\n",
    "    os.path.join(\"C:/Users/jllgo/OneDrive/Documentos/UFMG/MSc & MSI 2/MatchSegmentation\")\n",
    ")\n",
    "if project_root not in sys.path:\n",
    "    sys.path.append(project_root)"
   ]
  },
  {
   "cell_type": "code",
   "execution_count": 5,
   "metadata": {},
   "outputs": [],
   "source": [
    "from src.pass_networks.process_games import process_game\n",
    "from src.pass_networks.process_games import load_game\n",
    "from src.pass_networks.process_games import save_game\n",
    "from src.pass_networks.process_match_info import get_match_info\n",
    "from src.pass_networks.process_match_info import process_players\n",
    "from src.pass_networks.process_intervals import get_interval_graphs\n",
    "from src.pass_networks.process_intervals import load_graphs\n",
    "from src.pass_networks.process_intervals import save_graphs"
   ]
  },
  {
   "cell_type": "code",
   "execution_count": 6,
   "metadata": {},
   "outputs": [],
   "source": [
    "RAW_DATA_PATH = '../data/raw/PL-22-23'\n",
    "INTERMEDIATE_DATA_PATH = '../data/intermediate/PL-22-23'\n",
    "PROCESSED_DATA_PATH = \"../data/processed/PL-22-23\"\n",
    "CSV_DATA_PATH = \"../data/csv\""
   ]
  },
  {
   "cell_type": "markdown",
   "metadata": {},
   "source": [
    "# 1. Get Data"
   ]
  },
  {
   "cell_type": "code",
   "execution_count": null,
   "metadata": {},
   "outputs": [],
   "source": [
    "games = os.listdir(RAW_DATA_PATH)\n",
    "game_ids = [game.split('.')[0] for game in games][:10]\n",
    "print(f\"Games to process: {len(game_ids)}\")"
   ]
  },
  {
   "cell_type": "code",
   "execution_count": null,
   "metadata": {},
   "outputs": [],
   "source": [
    "pre_processed_games = os.listdir(INTERMEDIATE_DATA_PATH)\n",
    "pre_processed_game_ids = [game.split('.')[0] for game in pre_processed_games]\n",
    "print(f\"Games already pre-processed: {len(pre_processed_game_ids)}\")"
   ]
  },
  {
   "cell_type": "code",
   "execution_count": null,
   "metadata": {},
   "outputs": [],
   "source": [
    "raw_game_ids = [game_id for game_id in game_ids if game_id not in pre_processed_game_ids]\n",
    "print(f\"Games to process: {len(raw_game_ids)}\")"
   ]
  },
  {
   "cell_type": "code",
   "execution_count": 10,
   "metadata": {},
   "outputs": [],
   "source": [
    "all_games = pre_processed_game_ids + game_ids"
   ]
  },
  {
   "cell_type": "code",
   "execution_count": null,
   "metadata": {},
   "outputs": [],
   "source": [
    "matches = []\n",
    "\n",
    "# Check if the game has already been pre-processed\n",
    "if len(pre_processed_game_ids) > 0:\n",
    "    tasks = [(INTERMEDIATE_DATA_PATH,game_id) for game_id in pre_processed_game_ids]\n",
    "\n",
    "    for task in tqdm(tasks, desc=\"Loading Pre-Processed Games\", total=len(tasks)):\n",
    "        metadata_df, players_df, events_df = load_game(task)\n",
    "        matches.append((task[1],metadata_df, players_df, events_df))\n",
    "\n",
    "if len(raw_game_ids) > 0:\n",
    "\n",
    "    for game_id in tqdm(raw_game_ids, desc=\"Processing Games\", total=len(raw_game_ids)):\n",
    "        metadata_df, players_df, events_df = process_game(RAW_DATA_PATH, game_id)\n",
    "        matches.append((game_id,metadata_df, players_df, events_df))\n",
    "        save_game(metadata_df,players_df,events_df,INTERMEDIATE_DATA_PATH,game_id)"
   ]
  },
  {
   "cell_type": "code",
   "execution_count": 26,
   "metadata": {},
   "outputs": [],
   "source": [
    "players_info, teams_info, games_info = get_match_info(CSV_DATA_PATH)"
   ]
  },
  {
   "cell_type": "markdown",
   "metadata": {},
   "source": [
    "# 2. Data Treatment"
   ]
  },
  {
   "cell_type": "code",
   "execution_count": null,
   "metadata": {},
   "outputs": [],
   "source": [
    "players_dfs = []\n",
    "events_dfs = []\n",
    "metadata_dfs = []\n",
    "match_ids = []\n",
    "\n",
    "for match_dfs in tqdm(matches, desc=\"Data Processing\"):\n",
    "    match_id, metadata_df, players_df, events_df = match_dfs\n",
    "    players_match_info = players_info[players_info['match_id'] == int(match_id)].reset_index(drop=True)\n",
    "    match_info = games_info[games_info['match_id'] == int(match_id)].reset_index(drop=True)\n",
    "\n",
    "    players_df = process_players(players_df, match_info, players_match_info, metadata_df)\n",
    "\n",
    "    players_dfs.append(players_df)\n",
    "    events_dfs.append(events_df)\n",
    "    metadata_dfs.append(metadata_df)\n",
    "    match_ids.append(match_id)\n",
    "\n",
    "players_df = pd.concat(players_dfs)\n",
    "events_df = pd.concat(events_dfs)\n",
    "metadata_df = pd.concat(metadata_dfs)"
   ]
  },
  {
   "cell_type": "code",
   "execution_count": null,
   "metadata": {},
   "outputs": [],
   "source": [
    "players_interval_df = players_df.groupby(['match_id','interval_id','team_id','player_id','nickname','shirt']).agg(\n",
    "    x=('x', 'mean'),\n",
    "    y=('y', 'mean')\n",
    ").reset_index()\n",
    "\n",
    "players_interval_df['player_id'] = players_interval_df['player_id'].astype(int)\n",
    "players_interval_df['match_id'] = players_interval_df['match_id'].astype(int)\n",
    "players_interval_df['interval_id'] = players_interval_df['interval_id'].astype(int)\n",
    "players_interval_df['team_id'] = players_interval_df['team_id'].astype(int)\n",
    "players_interval_df['shirt'] = players_interval_df['shirt'].astype(int)\n",
    "\n",
    "players_interval_df.head()"
   ]
  },
  {
   "cell_type": "markdown",
   "metadata": {},
   "source": [
    "### Events"
   ]
  },
  {
   "cell_type": "code",
   "execution_count": null,
   "metadata": {},
   "outputs": [],
   "source": [
    "pass_df = events_df[(events_df['possession_type']=='PASS') & (events_df['outcome']=='C')][['match_id','player_id','receiver_id','event_id','possession_id','team_id']]\n",
    "pass_df.head()"
   ]
  },
  {
   "cell_type": "code",
   "execution_count": null,
   "metadata": {},
   "outputs": [],
   "source": [
    "carry_df = events_df[(events_df['possession_type']=='CARRY') & ((events_df['carry_type'].isin(['T','C'])) | ((events_df['carry_type']=='D')&(events_df['outcome'].isin(['K','B']))))][['match_id','player_id','receiver_id','event_id','possession_id','team_id']]\n",
    "carry_df.head()"
   ]
  },
  {
   "cell_type": "code",
   "execution_count": null,
   "metadata": {},
   "outputs": [],
   "source": [
    "shots_df = events_df[(events_df['possession_type']=='SHOT')][['match_id','player_id','receiver_id','event_id','possession_id','team_id']]\n",
    "shots_df.head()"
   ]
  },
  {
   "cell_type": "code",
   "execution_count": null,
   "metadata": {},
   "outputs": [],
   "source": [
    "network_events_df = pd.concat([pass_df,carry_df, shots_df]).reset_index(drop=True)\n",
    "network_events_df.head()"
   ]
  },
  {
   "cell_type": "markdown",
   "metadata": {},
   "source": [
    "### Networks"
   ]
  },
  {
   "cell_type": "code",
   "execution_count": null,
   "metadata": {},
   "outputs": [],
   "source": [
    "network_frame_df = network_events_df.merge(metadata_df[['match_id','interval_id','frame_id','event_id','possession_id']], on=['match_id','event_id','possession_id'], how='left')\n",
    "network_frame_df.head()"
   ]
  },
  {
   "cell_type": "code",
   "execution_count": null,
   "metadata": {},
   "outputs": [],
   "source": [
    "# Group by match_id, interval_id, team_id, player_id, receiver_id to get the number of interactions between players\n",
    "\n",
    "grouped_df = network_frame_df.groupby(['match_id','interval_id','team_id','player_id','receiver_id']).size().reset_index(name='count')\n",
    "grouped_df['match_id']=grouped_df['match_id'].astype(int)\n",
    "grouped_df['interval_id']=grouped_df['interval_id'].astype(int)\n",
    "grouped_df['team_id']=grouped_df['team_id'].astype(int)\n",
    "grouped_df['player_id']=grouped_df['player_id'].astype(int)\n",
    "grouped_df['receiver_id']=grouped_df['receiver_id'].astype(int)\n",
    "\n",
    "grouped_df.head()"
   ]
  },
  {
   "cell_type": "code",
   "execution_count": null,
   "metadata": {},
   "outputs": [],
   "source": [
    "# Get player info\n",
    "grouped_df = grouped_df.merge(players_info[['match_id','team_id','player_id','nickname','shirt_number']], how='left', left_on=['match_id','player_id'], right_on=['match_id','player_id']).drop_duplicates().reset_index(drop=True)\n",
    "\n",
    "# Get receiver info\n",
    "grouped_df = grouped_df.merge(players_info[['match_id','team_id','player_id','nickname','shirt_number']], how='left', left_on=['match_id','receiver_id'], right_on=['match_id','player_id'], suffixes=('_player','_receiver')).drop_duplicates().reset_index(drop=True)\n",
    "\n",
    "grouped_df.head()"
   ]
  },
  {
   "cell_type": "markdown",
   "metadata": {},
   "source": [
    "# Graphs"
   ]
  },
  {
   "cell_type": "code",
   "execution_count": null,
   "metadata": {},
   "outputs": [],
   "source": [
    "graph_games = os.listdir(PROCESSED_DATA_PATH)\n",
    "graph_game_ids = [game.split('.')[0] for game in graph_games]\n",
    "print(f\"Games to process: {len(graph_game_ids)}\")"
   ]
  },
  {
   "cell_type": "code",
   "execution_count": null,
   "metadata": {},
   "outputs": [],
   "source": [
    "pre_processed_ids = [game_id for game_id in match_ids if game_id not in graph_game_ids]\n",
    "print(f\"Games to process graphs: {len(pre_processed_ids)}\")"
   ]
  },
  {
   "cell_type": "code",
   "execution_count": null,
   "metadata": {},
   "outputs": [],
   "source": [
    "graphs = []\n",
    "\n",
    "if len(graph_game_ids) > 0:\n",
    "    tasks = [(PROCESSED_DATA_PATH,game_id) for game_id in graph_game_ids]\n",
    "\n",
    "    for task in tqdm(tasks, desc=\"Loading Pre-Processed Graphs\", total=len(tasks)):\n",
    "        match_graphs = load_graphs(task)\n",
    "        graphs.append((task[1],match_graphs))\n",
    "\n",
    "if len(pre_processed_ids) > 0:\n",
    "\n",
    "    for game_id in tqdm(pre_processed_ids, desc=\"Processing Graphs\", total=len(pre_processed_ids)):\n",
    "\n",
    "        match_grouped_df = grouped_df[grouped_df['match_id']==int(game_id)]\n",
    "        match_players_interval_df = players_interval_df[players_interval_df['match_id']==int(game_id)]\n",
    "\n",
    "        match_graphs = get_interval_graphs(match_grouped_df, match_players_interval_df)\n",
    "\n",
    "        save_graphs(game_id, PROCESSED_DATA_PATH, match_graphs)\n",
    "        graphs.append((game_id,match_graphs))"
   ]
  },
  {
   "cell_type": "code",
   "execution_count": null,
   "metadata": {},
   "outputs": [],
   "source": [
    "graphs[0][1][0]['2.0'].name"
   ]
  }
 ],
 "metadata": {
  "kernelspec": {
   "display_name": ".venv",
   "language": "python",
   "name": "python3"
  },
  "language_info": {
   "codemirror_mode": {
    "name": "ipython",
    "version": 3
   },
   "file_extension": ".py",
   "mimetype": "text/x-python",
   "name": "python",
   "nbconvert_exporter": "python",
   "pygments_lexer": "ipython3",
   "version": "3.12.3"
  }
 },
 "nbformat": 4,
 "nbformat_minor": 2
}
