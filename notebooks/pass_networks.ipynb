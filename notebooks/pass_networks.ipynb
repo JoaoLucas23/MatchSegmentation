{
 "cells": [
  {
   "cell_type": "code",
   "execution_count": 1,
   "metadata": {},
   "outputs": [
    {
     "name": "stdout",
     "output_type": "stream",
     "text": [
      "The autoreload extension is already loaded. To reload it, use:\n",
      "  %reload_ext autoreload\n"
     ]
    }
   ],
   "source": [
    "%load_ext autoreload\n",
    "%autoreload 2"
   ]
  },
  {
   "cell_type": "code",
   "execution_count": 2,
   "metadata": {},
   "outputs": [],
   "source": [
    "import os\n",
    "import sys\n",
    "from multiprocessing import Pool, cpu_count\n",
    "from tqdm.auto import tqdm\n",
    "import pandas as pd"
   ]
  },
  {
   "cell_type": "code",
   "execution_count": 3,
   "metadata": {},
   "outputs": [],
   "source": [
    "import warnings\n",
    "warnings.filterwarnings('ignore', category=pd.errors.SettingWithCopyWarning)"
   ]
  },
  {
   "cell_type": "code",
   "execution_count": 4,
   "metadata": {},
   "outputs": [],
   "source": [
    "project_root = os.path.abspath(\n",
    "    os.path.join(\"C:/Users/jllgo/OneDrive/Documentos/UFMG/MSc & MSI 2/MatchSegmentation\")\n",
    ")\n",
    "if project_root not in sys.path:\n",
    "    sys.path.append(project_root)"
   ]
  },
  {
   "cell_type": "code",
   "execution_count": 5,
   "metadata": {},
   "outputs": [],
   "source": [
    "from src.pass_networks.process_games import process_game\n",
    "from src.pass_networks.process_games import load_game\n",
    "from src.pass_networks.process_games import save_game\n",
    "from src.pass_networks.process_match_info import get_match_info\n",
    "from src.pass_networks.process_match_info import process_players\n",
    "from src.pass_networks.process_intervals import get_interval_graphs\n",
    "from src.pass_networks.process_intervals import load_graphs\n",
    "from src.pass_networks.process_intervals import save_graphs"
   ]
  },
  {
   "cell_type": "code",
   "execution_count": 6,
   "metadata": {},
   "outputs": [],
   "source": [
    "RAW_DATA_PATH = '../data/raw/PL-22-23'\n",
    "INTERMEDIATE_DATA_PATH = '../data/intermediate/PL-22-23'\n",
    "PROCESSED_DATA_PATH = \"../data/processed/PL-22-23\"\n",
    "CSV_DATA_PATH = \"../data/csv\""
   ]
  },
  {
   "cell_type": "markdown",
   "metadata": {},
   "source": [
    "# 1. Get Data"
   ]
  },
  {
   "cell_type": "code",
   "execution_count": 7,
   "metadata": {},
   "outputs": [
    {
     "name": "stdout",
     "output_type": "stream",
     "text": [
      "Games to process: 190\n"
     ]
    }
   ],
   "source": [
    "games = os.listdir(RAW_DATA_PATH)\n",
    "game_ids = [game.split('.')[0] for game in games]\n",
    "print(f\"Games to process: {len(game_ids)}\")"
   ]
  },
  {
   "cell_type": "code",
   "execution_count": 8,
   "metadata": {},
   "outputs": [
    {
     "name": "stdout",
     "output_type": "stream",
     "text": [
      "Games already pre-processed: 190\n"
     ]
    }
   ],
   "source": [
    "pre_processed_games = os.listdir(INTERMEDIATE_DATA_PATH)\n",
    "pre_processed_game_ids = [game.split('.')[0] for game in pre_processed_games]\n",
    "print(f\"Games already pre-processed: {len(pre_processed_game_ids)}\")"
   ]
  },
  {
   "cell_type": "code",
   "execution_count": 9,
   "metadata": {},
   "outputs": [
    {
     "name": "stdout",
     "output_type": "stream",
     "text": [
      "Games already processed: 80\n"
     ]
    }
   ],
   "source": [
    "processed = os.listdir(PROCESSED_DATA_PATH)\n",
    "processed_game_ids = [game.split('.')[0] for game in processed]\n",
    "print(f\"Games already processed: {len(processed_game_ids)}\")"
   ]
  },
  {
   "cell_type": "code",
   "execution_count": 17,
   "metadata": {},
   "outputs": [
    {
     "name": "stdout",
     "output_type": "stream",
     "text": [
      "Games to process: 110\n"
     ]
    }
   ],
   "source": [
    "matches_to_process = [game_id for game_id in game_ids if game_id not in processed_game_ids]\n",
    "print(f\"Games to process: {len(matches_to_process)}\")"
   ]
  },
  {
   "cell_type": "code",
   "execution_count": 18,
   "metadata": {},
   "outputs": [],
   "source": [
    "all_games = pre_processed_game_ids + game_ids"
   ]
  },
  {
   "cell_type": "code",
   "execution_count": 19,
   "metadata": {},
   "outputs": [
    {
     "data": {
      "application/vnd.jupyter.widget-view+json": {
       "model_id": "7bf987544abc49c3abd2f3d7578c170c",
       "version_major": 2,
       "version_minor": 0
      },
      "text/plain": [
       "Loading Pre-Processed Games:   0%|          | 0/110 [00:00<?, ?it/s]"
      ]
     },
     "metadata": {},
     "output_type": "display_data"
    }
   ],
   "source": [
    "matches = []\n",
    "\n",
    "#Check if the game has already been pre-processed\n",
    "if len(matches_to_process) > 0:\n",
    "    tasks = [(INTERMEDIATE_DATA_PATH,game_id) for game_id in matches_to_process]\n",
    "\n",
    "    for task in tqdm(tasks, desc=\"Loading Pre-Processed Games\", total=len(tasks)):\n",
    "        metadata_df, players_df, events_df = load_game(task)\n",
    "        matches.append((task[1],metadata_df, players_df, events_df))\n",
    "\n",
    "# if len(raw_game_ids) > 0:\n",
    "\n",
    "#     for game_id in tqdm(raw_game_ids, desc=\"Processing Games\", total=len(raw_game_ids)):\n",
    "#         metadata_df, players_df, events_df = process_game((RAW_DATA_PATH, game_id))\n",
    "#         matches.append((game_id,metadata_df, players_df, events_df))\n",
    "#         save_game(metadata_df,players_df,events_df,INTERMEDIATE_DATA_PATH,game_id)"
   ]
  },
  {
   "cell_type": "code",
   "execution_count": 20,
   "metadata": {},
   "outputs": [],
   "source": [
    "players_info, teams_info, games_info = get_match_info(CSV_DATA_PATH)"
   ]
  },
  {
   "cell_type": "markdown",
   "metadata": {},
   "source": [
    "# 2. Data Treatment"
   ]
  },
  {
   "cell_type": "code",
   "execution_count": 21,
   "metadata": {},
   "outputs": [
    {
     "data": {
      "text/plain": [
       "110"
      ]
     },
     "execution_count": 21,
     "metadata": {},
     "output_type": "execute_result"
    }
   ],
   "source": [
    "len(matches)"
   ]
  },
  {
   "cell_type": "code",
   "execution_count": 83,
   "metadata": {},
   "outputs": [
    {
     "data": {
      "application/vnd.jupyter.widget-view+json": {
       "model_id": "ac9ec6dc9f364c56a5ab5336ea849698",
       "version_major": 2,
       "version_minor": 0
      },
      "text/plain": [
       "Data Processing:   0%|          | 0/10 [00:00<?, ?it/s]"
      ]
     },
     "metadata": {},
     "output_type": "display_data"
    }
   ],
   "source": [
    "players_dfs = []\n",
    "events_dfs = []\n",
    "metadata_dfs = []\n",
    "match_ids = []\n",
    "\n",
    "for match_dfs in tqdm(matches[100:], desc=\"Data Processing\"):\n",
    "    match_id, metadata_df, players_df, events_df = match_dfs\n",
    "    players_match_info = players_info[players_info['match_id'] == int(match_id)].reset_index(drop=True)\n",
    "    match_info = games_info[games_info['match_id'] == int(match_id)].reset_index(drop=True)\n",
    "\n",
    "    players_df = process_players(players_df, match_info, players_match_info, metadata_df)\n",
    "\n",
    "    players_dfs.append(players_df)\n",
    "    events_dfs.append(events_df)\n",
    "    metadata_dfs.append(metadata_df)\n",
    "    match_ids.append(match_id)\n",
    "\n",
    "players_df = pd.concat(players_dfs)\n",
    "events_df = pd.concat(events_dfs)\n",
    "metadata_df = pd.concat(metadata_dfs)"
   ]
  },
  {
   "cell_type": "code",
   "execution_count": 84,
   "metadata": {},
   "outputs": [],
   "source": [
    "players_df = players_df[players_df['interval_id'].notna()].reset_index(drop=True)\n",
    "metadata_df = metadata_df[metadata_df['interval_id'].notna()].reset_index(drop=True)"
   ]
  },
  {
   "cell_type": "code",
   "execution_count": 85,
   "metadata": {},
   "outputs": [
    {
     "data": {
      "text/html": [
       "<div>\n",
       "<style scoped>\n",
       "    .dataframe tbody tr th:only-of-type {\n",
       "        vertical-align: middle;\n",
       "    }\n",
       "\n",
       "    .dataframe tbody tr th {\n",
       "        vertical-align: top;\n",
       "    }\n",
       "\n",
       "    .dataframe thead th {\n",
       "        text-align: right;\n",
       "    }\n",
       "</style>\n",
       "<table border=\"1\" class=\"dataframe\">\n",
       "  <thead>\n",
       "    <tr style=\"text-align: right;\">\n",
       "      <th></th>\n",
       "      <th>match_id</th>\n",
       "      <th>interval_id</th>\n",
       "      <th>team_id</th>\n",
       "      <th>player_id</th>\n",
       "      <th>nickname</th>\n",
       "      <th>shirt</th>\n",
       "      <th>x</th>\n",
       "      <th>y</th>\n",
       "    </tr>\n",
       "  </thead>\n",
       "  <tbody>\n",
       "    <tr>\n",
       "      <th>0</th>\n",
       "      <td>4616</td>\n",
       "      <td>1</td>\n",
       "      <td>2</td>\n",
       "      <td>15</td>\n",
       "      <td>Oleksandr Zinchenko</td>\n",
       "      <td>35</td>\n",
       "      <td>-20.241368</td>\n",
       "      <td>8.668105</td>\n",
       "    </tr>\n",
       "    <tr>\n",
       "      <th>1</th>\n",
       "      <td>4616</td>\n",
       "      <td>1</td>\n",
       "      <td>2</td>\n",
       "      <td>157</td>\n",
       "      <td>Granit Xhaka</td>\n",
       "      <td>34</td>\n",
       "      <td>-13.845737</td>\n",
       "      <td>12.999579</td>\n",
       "    </tr>\n",
       "    <tr>\n",
       "      <th>2</th>\n",
       "      <td>4616</td>\n",
       "      <td>1</td>\n",
       "      <td>2</td>\n",
       "      <td>162</td>\n",
       "      <td>Gabriel Martinelli</td>\n",
       "      <td>11</td>\n",
       "      <td>-1.596737</td>\n",
       "      <td>22.053105</td>\n",
       "    </tr>\n",
       "    <tr>\n",
       "      <th>3</th>\n",
       "      <td>4616</td>\n",
       "      <td>1</td>\n",
       "      <td>2</td>\n",
       "      <td>163</td>\n",
       "      <td>Bukayo Saka</td>\n",
       "      <td>7</td>\n",
       "      <td>-0.802632</td>\n",
       "      <td>-24.583737</td>\n",
       "    </tr>\n",
       "    <tr>\n",
       "      <th>4</th>\n",
       "      <td>4616</td>\n",
       "      <td>1</td>\n",
       "      <td>2</td>\n",
       "      <td>168</td>\n",
       "      <td>Eddie Nketiah</td>\n",
       "      <td>14</td>\n",
       "      <td>-2.476211</td>\n",
       "      <td>4.055158</td>\n",
       "    </tr>\n",
       "  </tbody>\n",
       "</table>\n",
       "</div>"
      ],
      "text/plain": [
       "   match_id  interval_id  team_id  player_id             nickname  shirt  \\\n",
       "0      4616            1        2         15  Oleksandr Zinchenko     35   \n",
       "1      4616            1        2        157         Granit Xhaka     34   \n",
       "2      4616            1        2        162   Gabriel Martinelli     11   \n",
       "3      4616            1        2        163          Bukayo Saka      7   \n",
       "4      4616            1        2        168        Eddie Nketiah     14   \n",
       "\n",
       "           x          y  \n",
       "0 -20.241368   8.668105  \n",
       "1 -13.845737  12.999579  \n",
       "2  -1.596737  22.053105  \n",
       "3  -0.802632 -24.583737  \n",
       "4  -2.476211   4.055158  "
      ]
     },
     "execution_count": 85,
     "metadata": {},
     "output_type": "execute_result"
    }
   ],
   "source": [
    "players_interval_df = players_df.groupby(['match_id','interval_id','team_id','player_id','nickname','shirt']).agg(\n",
    "    x=('x', 'mean'),\n",
    "    y=('y', 'mean')\n",
    ").reset_index()\n",
    "\n",
    "players_interval_df['player_id'] = players_interval_df['player_id'].astype(int)\n",
    "players_interval_df['match_id'] = players_interval_df['match_id'].astype(int)\n",
    "players_interval_df['interval_id'] = players_interval_df['interval_id'].astype(int)\n",
    "players_interval_df['team_id'] = players_interval_df['team_id'].astype(int)\n",
    "players_interval_df['shirt'] = players_interval_df['shirt'].astype(int)\n",
    "\n",
    "players_interval_df.head()"
   ]
  },
  {
   "cell_type": "code",
   "execution_count": 86,
   "metadata": {},
   "outputs": [
    {
     "data": {
      "text/html": [
       "<div>\n",
       "<style scoped>\n",
       "    .dataframe tbody tr th:only-of-type {\n",
       "        vertical-align: middle;\n",
       "    }\n",
       "\n",
       "    .dataframe tbody tr th {\n",
       "        vertical-align: top;\n",
       "    }\n",
       "\n",
       "    .dataframe thead th {\n",
       "        text-align: right;\n",
       "    }\n",
       "</style>\n",
       "<table border=\"1\" class=\"dataframe\">\n",
       "  <thead>\n",
       "    <tr style=\"text-align: right;\">\n",
       "      <th></th>\n",
       "      <th>match_id</th>\n",
       "      <th>interval_id</th>\n",
       "      <th>team_id</th>\n",
       "      <th>team</th>\n",
       "    </tr>\n",
       "  </thead>\n",
       "  <tbody>\n",
       "    <tr>\n",
       "      <th>0</th>\n",
       "      <td>4616</td>\n",
       "      <td>1.0</td>\n",
       "      <td>2</td>\n",
       "      <td>home</td>\n",
       "    </tr>\n",
       "    <tr>\n",
       "      <th>1</th>\n",
       "      <td>4616</td>\n",
       "      <td>1.0</td>\n",
       "      <td>13</td>\n",
       "      <td>away</td>\n",
       "    </tr>\n",
       "    <tr>\n",
       "      <th>2</th>\n",
       "      <td>4616</td>\n",
       "      <td>2.0</td>\n",
       "      <td>2</td>\n",
       "      <td>home</td>\n",
       "    </tr>\n",
       "    <tr>\n",
       "      <th>3</th>\n",
       "      <td>4616</td>\n",
       "      <td>2.0</td>\n",
       "      <td>13</td>\n",
       "      <td>away</td>\n",
       "    </tr>\n",
       "    <tr>\n",
       "      <th>4</th>\n",
       "      <td>4616</td>\n",
       "      <td>3.0</td>\n",
       "      <td>2</td>\n",
       "      <td>home</td>\n",
       "    </tr>\n",
       "    <tr>\n",
       "      <th>...</th>\n",
       "      <td>...</td>\n",
       "      <td>...</td>\n",
       "      <td>...</td>\n",
       "      <td>...</td>\n",
       "    </tr>\n",
       "    <tr>\n",
       "      <th>973</th>\n",
       "      <td>4625</td>\n",
       "      <td>48.0</td>\n",
       "      <td>221</td>\n",
       "      <td>away</td>\n",
       "    </tr>\n",
       "    <tr>\n",
       "      <th>974</th>\n",
       "      <td>4625</td>\n",
       "      <td>49.0</td>\n",
       "      <td>16</td>\n",
       "      <td>home</td>\n",
       "    </tr>\n",
       "    <tr>\n",
       "      <th>975</th>\n",
       "      <td>4625</td>\n",
       "      <td>49.0</td>\n",
       "      <td>221</td>\n",
       "      <td>away</td>\n",
       "    </tr>\n",
       "    <tr>\n",
       "      <th>976</th>\n",
       "      <td>4625</td>\n",
       "      <td>50.0</td>\n",
       "      <td>16</td>\n",
       "      <td>home</td>\n",
       "    </tr>\n",
       "    <tr>\n",
       "      <th>977</th>\n",
       "      <td>4625</td>\n",
       "      <td>50.0</td>\n",
       "      <td>221</td>\n",
       "      <td>away</td>\n",
       "    </tr>\n",
       "  </tbody>\n",
       "</table>\n",
       "<p>978 rows × 4 columns</p>\n",
       "</div>"
      ],
      "text/plain": [
       "     match_id  interval_id  team_id  team\n",
       "0        4616          1.0        2  home\n",
       "1        4616          1.0       13  away\n",
       "2        4616          2.0        2  home\n",
       "3        4616          2.0       13  away\n",
       "4        4616          3.0        2  home\n",
       "..        ...          ...      ...   ...\n",
       "973      4625         48.0      221  away\n",
       "974      4625         49.0       16  home\n",
       "975      4625         49.0      221  away\n",
       "976      4625         50.0       16  home\n",
       "977      4625         50.0      221  away\n",
       "\n",
       "[978 rows x 4 columns]"
      ]
     },
     "execution_count": 86,
     "metadata": {},
     "output_type": "execute_result"
    }
   ],
   "source": [
    "match_intervals = players_df[['match_id','interval_id','team_id','team']].drop_duplicates().reset_index(drop=True)\n",
    "match_intervals"
   ]
  },
  {
   "cell_type": "code",
   "execution_count": 87,
   "metadata": {},
   "outputs": [
    {
     "data": {
      "text/html": [
       "<div>\n",
       "<style scoped>\n",
       "    .dataframe tbody tr th:only-of-type {\n",
       "        vertical-align: middle;\n",
       "    }\n",
       "\n",
       "    .dataframe tbody tr th {\n",
       "        vertical-align: top;\n",
       "    }\n",
       "\n",
       "    .dataframe thead th {\n",
       "        text-align: right;\n",
       "    }\n",
       "</style>\n",
       "<table border=\"1\" class=\"dataframe\">\n",
       "  <thead>\n",
       "    <tr style=\"text-align: right;\">\n",
       "      <th></th>\n",
       "      <th>match_id</th>\n",
       "      <th>interval_id</th>\n",
       "      <th>team_id</th>\n",
       "      <th>player_id</th>\n",
       "      <th>nickname</th>\n",
       "      <th>shirt</th>\n",
       "      <th>x</th>\n",
       "      <th>y</th>\n",
       "    </tr>\n",
       "  </thead>\n",
       "  <tbody>\n",
       "    <tr>\n",
       "      <th>0</th>\n",
       "      <td>4616</td>\n",
       "      <td>1.0</td>\n",
       "      <td>2</td>\n",
       "      <td>-1</td>\n",
       "      <td>Goal</td>\n",
       "      <td>-1</td>\n",
       "      <td>52.000000</td>\n",
       "      <td>0.000000</td>\n",
       "    </tr>\n",
       "    <tr>\n",
       "      <th>1</th>\n",
       "      <td>4616</td>\n",
       "      <td>1.0</td>\n",
       "      <td>2</td>\n",
       "      <td>15</td>\n",
       "      <td>Oleksandr Zinchenko</td>\n",
       "      <td>35</td>\n",
       "      <td>-20.241368</td>\n",
       "      <td>8.668105</td>\n",
       "    </tr>\n",
       "    <tr>\n",
       "      <th>2</th>\n",
       "      <td>4616</td>\n",
       "      <td>1.0</td>\n",
       "      <td>2</td>\n",
       "      <td>157</td>\n",
       "      <td>Granit Xhaka</td>\n",
       "      <td>34</td>\n",
       "      <td>-13.845737</td>\n",
       "      <td>12.999579</td>\n",
       "    </tr>\n",
       "    <tr>\n",
       "      <th>3</th>\n",
       "      <td>4616</td>\n",
       "      <td>1.0</td>\n",
       "      <td>2</td>\n",
       "      <td>162</td>\n",
       "      <td>Gabriel Martinelli</td>\n",
       "      <td>11</td>\n",
       "      <td>-1.596737</td>\n",
       "      <td>22.053105</td>\n",
       "    </tr>\n",
       "    <tr>\n",
       "      <th>4</th>\n",
       "      <td>4616</td>\n",
       "      <td>1.0</td>\n",
       "      <td>2</td>\n",
       "      <td>163</td>\n",
       "      <td>Bukayo Saka</td>\n",
       "      <td>7</td>\n",
       "      <td>-0.802632</td>\n",
       "      <td>-24.583737</td>\n",
       "    </tr>\n",
       "    <tr>\n",
       "      <th>...</th>\n",
       "      <td>...</td>\n",
       "      <td>...</td>\n",
       "      <td>...</td>\n",
       "      <td>...</td>\n",
       "      <td>...</td>\n",
       "      <td>...</td>\n",
       "      <td>...</td>\n",
       "      <td>...</td>\n",
       "    </tr>\n",
       "    <tr>\n",
       "      <th>11762</th>\n",
       "      <td>4625</td>\n",
       "      <td>50.0</td>\n",
       "      <td>221</td>\n",
       "      <td>7001</td>\n",
       "      <td>Ryan Yates</td>\n",
       "      <td>22</td>\n",
       "      <td>35.124000</td>\n",
       "      <td>-6.359000</td>\n",
       "    </tr>\n",
       "    <tr>\n",
       "      <th>11763</th>\n",
       "      <td>4625</td>\n",
       "      <td>50.0</td>\n",
       "      <td>221</td>\n",
       "      <td>7003</td>\n",
       "      <td>Joe Worrall</td>\n",
       "      <td>4</td>\n",
       "      <td>42.979000</td>\n",
       "      <td>-1.358000</td>\n",
       "    </tr>\n",
       "    <tr>\n",
       "      <th>11764</th>\n",
       "      <td>4625</td>\n",
       "      <td>50.0</td>\n",
       "      <td>221</td>\n",
       "      <td>7174</td>\n",
       "      <td>Harry Toffolo</td>\n",
       "      <td>15</td>\n",
       "      <td>41.727000</td>\n",
       "      <td>-11.497000</td>\n",
       "    </tr>\n",
       "    <tr>\n",
       "      <th>11765</th>\n",
       "      <td>4625</td>\n",
       "      <td>50.0</td>\n",
       "      <td>221</td>\n",
       "      <td>8328</td>\n",
       "      <td>Remo Freuler</td>\n",
       "      <td>23</td>\n",
       "      <td>40.901000</td>\n",
       "      <td>-6.860000</td>\n",
       "    </tr>\n",
       "    <tr>\n",
       "      <th>11766</th>\n",
       "      <td>4625</td>\n",
       "      <td>50.0</td>\n",
       "      <td>221</td>\n",
       "      <td>14116</td>\n",
       "      <td>Gustavo Scarpa</td>\n",
       "      <td>31</td>\n",
       "      <td>30.462000</td>\n",
       "      <td>7.852000</td>\n",
       "    </tr>\n",
       "  </tbody>\n",
       "</table>\n",
       "<p>11767 rows × 8 columns</p>\n",
       "</div>"
      ],
      "text/plain": [
       "       match_id  interval_id  team_id  player_id             nickname  shirt  \\\n",
       "0          4616          1.0        2         -1                 Goal     -1   \n",
       "1          4616          1.0        2         15  Oleksandr Zinchenko     35   \n",
       "2          4616          1.0        2        157         Granit Xhaka     34   \n",
       "3          4616          1.0        2        162   Gabriel Martinelli     11   \n",
       "4          4616          1.0        2        163          Bukayo Saka      7   \n",
       "...         ...          ...      ...        ...                  ...    ...   \n",
       "11762      4625         50.0      221       7001           Ryan Yates     22   \n",
       "11763      4625         50.0      221       7003          Joe Worrall      4   \n",
       "11764      4625         50.0      221       7174        Harry Toffolo     15   \n",
       "11765      4625         50.0      221       8328         Remo Freuler     23   \n",
       "11766      4625         50.0      221      14116       Gustavo Scarpa     31   \n",
       "\n",
       "               x          y  \n",
       "0      52.000000   0.000000  \n",
       "1     -20.241368   8.668105  \n",
       "2     -13.845737  12.999579  \n",
       "3      -1.596737  22.053105  \n",
       "4      -0.802632 -24.583737  \n",
       "...          ...        ...  \n",
       "11762  35.124000  -6.359000  \n",
       "11763  42.979000  -1.358000  \n",
       "11764  41.727000 -11.497000  \n",
       "11765  40.901000  -6.860000  \n",
       "11766  30.462000   7.852000  \n",
       "\n",
       "[11767 rows x 8 columns]"
      ]
     },
     "execution_count": 87,
     "metadata": {},
     "output_type": "execute_result"
    }
   ],
   "source": [
    "data = [{\n",
    "    'match_id':row['match_id'],\n",
    "    'interval_id':row['interval_id'],\n",
    "    'team_id': row['team_id'],\n",
    "    'player_id': -1,\n",
    "    'nickname': 'Goal',\n",
    "    'shirt': -1,\n",
    "    'x': 52 if row['team']=='home' else -52,\n",
    "    'y': 0\n",
    "} for _,row in match_intervals.iterrows()]\n",
    "\n",
    "data = pd.DataFrame(data)\n",
    "\n",
    "players_interval_df = pd.concat([players_interval_df, data], ignore_index=True).sort_values(['match_id','interval_id','team_id','player_id']).reset_index(drop=True)\n",
    "players_interval_df"
   ]
  },
  {
   "cell_type": "markdown",
   "metadata": {},
   "source": [
    "### Events"
   ]
  },
  {
   "cell_type": "code",
   "execution_count": 88,
   "metadata": {},
   "outputs": [
    {
     "data": {
      "text/html": [
       "<div>\n",
       "<style scoped>\n",
       "    .dataframe tbody tr th:only-of-type {\n",
       "        vertical-align: middle;\n",
       "    }\n",
       "\n",
       "    .dataframe tbody tr th {\n",
       "        vertical-align: top;\n",
       "    }\n",
       "\n",
       "    .dataframe thead th {\n",
       "        text-align: right;\n",
       "    }\n",
       "</style>\n",
       "<table border=\"1\" class=\"dataframe\">\n",
       "  <thead>\n",
       "    <tr style=\"text-align: right;\">\n",
       "      <th></th>\n",
       "      <th>match_id</th>\n",
       "      <th>player_id</th>\n",
       "      <th>receiver_id</th>\n",
       "      <th>event_id</th>\n",
       "      <th>possession_id</th>\n",
       "      <th>team_id</th>\n",
       "    </tr>\n",
       "  </thead>\n",
       "  <tbody>\n",
       "    <tr>\n",
       "      <th>0</th>\n",
       "      <td>4616.0</td>\n",
       "      <td>335.0</td>\n",
       "      <td>320.0</td>\n",
       "      <td>6900393.0</td>\n",
       "      <td>6789845.0</td>\n",
       "      <td>13.0</td>\n",
       "    </tr>\n",
       "    <tr>\n",
       "      <th>1</th>\n",
       "      <td>4616.0</td>\n",
       "      <td>320.0</td>\n",
       "      <td>3942.0</td>\n",
       "      <td>6900400.0</td>\n",
       "      <td>6789850.0</td>\n",
       "      <td>13.0</td>\n",
       "    </tr>\n",
       "    <tr>\n",
       "      <th>2</th>\n",
       "      <td>4616.0</td>\n",
       "      <td>3942.0</td>\n",
       "      <td>320.0</td>\n",
       "      <td>6900417.0</td>\n",
       "      <td>6789869.0</td>\n",
       "      <td>13.0</td>\n",
       "    </tr>\n",
       "    <tr>\n",
       "      <th>3</th>\n",
       "      <td>4616.0</td>\n",
       "      <td>320.0</td>\n",
       "      <td>3942.0</td>\n",
       "      <td>6900421.0</td>\n",
       "      <td>6789873.0</td>\n",
       "      <td>13.0</td>\n",
       "    </tr>\n",
       "    <tr>\n",
       "      <th>4</th>\n",
       "      <td>4616.0</td>\n",
       "      <td>3942.0</td>\n",
       "      <td>441.0</td>\n",
       "      <td>6900425.0</td>\n",
       "      <td>6789877.0</td>\n",
       "      <td>13.0</td>\n",
       "    </tr>\n",
       "  </tbody>\n",
       "</table>\n",
       "</div>"
      ],
      "text/plain": [
       "   match_id  player_id  receiver_id   event_id  possession_id  team_id\n",
       "0    4616.0      335.0        320.0  6900393.0      6789845.0     13.0\n",
       "1    4616.0      320.0       3942.0  6900400.0      6789850.0     13.0\n",
       "2    4616.0     3942.0        320.0  6900417.0      6789869.0     13.0\n",
       "3    4616.0      320.0       3942.0  6900421.0      6789873.0     13.0\n",
       "4    4616.0     3942.0        441.0  6900425.0      6789877.0     13.0"
      ]
     },
     "execution_count": 88,
     "metadata": {},
     "output_type": "execute_result"
    }
   ],
   "source": [
    "pass_df = events_df[(events_df['possession_type']=='PASS') & (events_df['outcome']=='C')][['match_id','player_id','receiver_id','event_id','possession_id','team_id']]\n",
    "pass_df.head()"
   ]
  },
  {
   "cell_type": "code",
   "execution_count": 89,
   "metadata": {},
   "outputs": [
    {
     "data": {
      "text/html": [
       "<div>\n",
       "<style scoped>\n",
       "    .dataframe tbody tr th:only-of-type {\n",
       "        vertical-align: middle;\n",
       "    }\n",
       "\n",
       "    .dataframe tbody tr th {\n",
       "        vertical-align: top;\n",
       "    }\n",
       "\n",
       "    .dataframe thead th {\n",
       "        text-align: right;\n",
       "    }\n",
       "</style>\n",
       "<table border=\"1\" class=\"dataframe\">\n",
       "  <thead>\n",
       "    <tr style=\"text-align: right;\">\n",
       "      <th></th>\n",
       "      <th>match_id</th>\n",
       "      <th>player_id</th>\n",
       "      <th>receiver_id</th>\n",
       "      <th>event_id</th>\n",
       "      <th>possession_id</th>\n",
       "      <th>team_id</th>\n",
       "    </tr>\n",
       "  </thead>\n",
       "  <tbody>\n",
       "    <tr>\n",
       "      <th>34</th>\n",
       "      <td>4616.0</td>\n",
       "      <td>162.0</td>\n",
       "      <td>162.0</td>\n",
       "      <td>6900652.0</td>\n",
       "      <td>6790101.0</td>\n",
       "      <td>2.0</td>\n",
       "    </tr>\n",
       "    <tr>\n",
       "      <th>164</th>\n",
       "      <td>4616.0</td>\n",
       "      <td>157.0</td>\n",
       "      <td>157.0</td>\n",
       "      <td>6901256.0</td>\n",
       "      <td>6797380.0</td>\n",
       "      <td>2.0</td>\n",
       "    </tr>\n",
       "    <tr>\n",
       "      <th>168</th>\n",
       "      <td>4616.0</td>\n",
       "      <td>162.0</td>\n",
       "      <td>162.0</td>\n",
       "      <td>6901269.0</td>\n",
       "      <td>6797712.0</td>\n",
       "      <td>2.0</td>\n",
       "    </tr>\n",
       "    <tr>\n",
       "      <th>236</th>\n",
       "      <td>4616.0</td>\n",
       "      <td>311.0</td>\n",
       "      <td>311.0</td>\n",
       "      <td>6901694.0</td>\n",
       "      <td>6791142.0</td>\n",
       "      <td>13.0</td>\n",
       "    </tr>\n",
       "    <tr>\n",
       "      <th>237</th>\n",
       "      <td>4616.0</td>\n",
       "      <td>311.0</td>\n",
       "      <td>311.0</td>\n",
       "      <td>6901694.0</td>\n",
       "      <td>6791142.0</td>\n",
       "      <td>13.0</td>\n",
       "    </tr>\n",
       "  </tbody>\n",
       "</table>\n",
       "</div>"
      ],
      "text/plain": [
       "     match_id  player_id  receiver_id   event_id  possession_id  team_id\n",
       "34     4616.0      162.0        162.0  6900652.0      6790101.0      2.0\n",
       "164    4616.0      157.0        157.0  6901256.0      6797380.0      2.0\n",
       "168    4616.0      162.0        162.0  6901269.0      6797712.0      2.0\n",
       "236    4616.0      311.0        311.0  6901694.0      6791142.0     13.0\n",
       "237    4616.0      311.0        311.0  6901694.0      6791142.0     13.0"
      ]
     },
     "execution_count": 89,
     "metadata": {},
     "output_type": "execute_result"
    }
   ],
   "source": [
    "carry_df = events_df[(events_df['possession_type']=='CARRY') & ((events_df['carry_type'].isin(['T','C'])) | ((events_df['carry_type']=='D')&(events_df['outcome'].isin(['K','B']))))][['match_id','player_id','receiver_id','event_id','possession_id','team_id']]\n",
    "carry_df.head()"
   ]
  },
  {
   "cell_type": "code",
   "execution_count": 90,
   "metadata": {},
   "outputs": [
    {
     "data": {
      "text/html": [
       "<div>\n",
       "<style scoped>\n",
       "    .dataframe tbody tr th:only-of-type {\n",
       "        vertical-align: middle;\n",
       "    }\n",
       "\n",
       "    .dataframe tbody tr th {\n",
       "        vertical-align: top;\n",
       "    }\n",
       "\n",
       "    .dataframe thead th {\n",
       "        text-align: right;\n",
       "    }\n",
       "</style>\n",
       "<table border=\"1\" class=\"dataframe\">\n",
       "  <thead>\n",
       "    <tr style=\"text-align: right;\">\n",
       "      <th></th>\n",
       "      <th>match_id</th>\n",
       "      <th>player_id</th>\n",
       "      <th>receiver_id</th>\n",
       "      <th>event_id</th>\n",
       "      <th>possession_id</th>\n",
       "      <th>team_id</th>\n",
       "    </tr>\n",
       "  </thead>\n",
       "  <tbody>\n",
       "    <tr>\n",
       "      <th>30</th>\n",
       "      <td>4616.0</td>\n",
       "      <td>162.0</td>\n",
       "      <td>-1.0</td>\n",
       "      <td>6900628.0</td>\n",
       "      <td>6790071.0</td>\n",
       "      <td>2.0</td>\n",
       "    </tr>\n",
       "    <tr>\n",
       "      <th>31</th>\n",
       "      <td>4616.0</td>\n",
       "      <td>162.0</td>\n",
       "      <td>-1.0</td>\n",
       "      <td>6900628.0</td>\n",
       "      <td>6790071.0</td>\n",
       "      <td>2.0</td>\n",
       "    </tr>\n",
       "    <tr>\n",
       "      <th>32</th>\n",
       "      <td>4616.0</td>\n",
       "      <td>162.0</td>\n",
       "      <td>-1.0</td>\n",
       "      <td>6900628.0</td>\n",
       "      <td>6790071.0</td>\n",
       "      <td>2.0</td>\n",
       "    </tr>\n",
       "    <tr>\n",
       "      <th>33</th>\n",
       "      <td>4616.0</td>\n",
       "      <td>162.0</td>\n",
       "      <td>-1.0</td>\n",
       "      <td>6900628.0</td>\n",
       "      <td>6790071.0</td>\n",
       "      <td>2.0</td>\n",
       "    </tr>\n",
       "    <tr>\n",
       "      <th>38</th>\n",
       "      <td>4616.0</td>\n",
       "      <td>1688.0</td>\n",
       "      <td>-1.0</td>\n",
       "      <td>6900681.0</td>\n",
       "      <td>6790123.0</td>\n",
       "      <td>2.0</td>\n",
       "    </tr>\n",
       "  </tbody>\n",
       "</table>\n",
       "</div>"
      ],
      "text/plain": [
       "    match_id  player_id  receiver_id   event_id  possession_id  team_id\n",
       "30    4616.0      162.0         -1.0  6900628.0      6790071.0      2.0\n",
       "31    4616.0      162.0         -1.0  6900628.0      6790071.0      2.0\n",
       "32    4616.0      162.0         -1.0  6900628.0      6790071.0      2.0\n",
       "33    4616.0      162.0         -1.0  6900628.0      6790071.0      2.0\n",
       "38    4616.0     1688.0         -1.0  6900681.0      6790123.0      2.0"
      ]
     },
     "execution_count": 90,
     "metadata": {},
     "output_type": "execute_result"
    }
   ],
   "source": [
    "shots_df = events_df[(events_df['possession_type']=='SHOT')][['match_id','player_id','receiver_id','event_id','possession_id','team_id']]\n",
    "shots_df.head()"
   ]
  },
  {
   "cell_type": "code",
   "execution_count": 91,
   "metadata": {},
   "outputs": [
    {
     "data": {
      "text/html": [
       "<div>\n",
       "<style scoped>\n",
       "    .dataframe tbody tr th:only-of-type {\n",
       "        vertical-align: middle;\n",
       "    }\n",
       "\n",
       "    .dataframe tbody tr th {\n",
       "        vertical-align: top;\n",
       "    }\n",
       "\n",
       "    .dataframe thead th {\n",
       "        text-align: right;\n",
       "    }\n",
       "</style>\n",
       "<table border=\"1\" class=\"dataframe\">\n",
       "  <thead>\n",
       "    <tr style=\"text-align: right;\">\n",
       "      <th></th>\n",
       "      <th>match_id</th>\n",
       "      <th>player_id</th>\n",
       "      <th>receiver_id</th>\n",
       "      <th>event_id</th>\n",
       "      <th>possession_id</th>\n",
       "      <th>team_id</th>\n",
       "    </tr>\n",
       "  </thead>\n",
       "  <tbody>\n",
       "    <tr>\n",
       "      <th>0</th>\n",
       "      <td>4616.0</td>\n",
       "      <td>335.0</td>\n",
       "      <td>320.0</td>\n",
       "      <td>6900393.0</td>\n",
       "      <td>6789845.0</td>\n",
       "      <td>13.0</td>\n",
       "    </tr>\n",
       "    <tr>\n",
       "      <th>1</th>\n",
       "      <td>4616.0</td>\n",
       "      <td>320.0</td>\n",
       "      <td>3942.0</td>\n",
       "      <td>6900400.0</td>\n",
       "      <td>6789850.0</td>\n",
       "      <td>13.0</td>\n",
       "    </tr>\n",
       "    <tr>\n",
       "      <th>2</th>\n",
       "      <td>4616.0</td>\n",
       "      <td>3942.0</td>\n",
       "      <td>320.0</td>\n",
       "      <td>6900417.0</td>\n",
       "      <td>6789869.0</td>\n",
       "      <td>13.0</td>\n",
       "    </tr>\n",
       "    <tr>\n",
       "      <th>3</th>\n",
       "      <td>4616.0</td>\n",
       "      <td>320.0</td>\n",
       "      <td>3942.0</td>\n",
       "      <td>6900421.0</td>\n",
       "      <td>6789873.0</td>\n",
       "      <td>13.0</td>\n",
       "    </tr>\n",
       "    <tr>\n",
       "      <th>4</th>\n",
       "      <td>4616.0</td>\n",
       "      <td>3942.0</td>\n",
       "      <td>441.0</td>\n",
       "      <td>6900425.0</td>\n",
       "      <td>6789877.0</td>\n",
       "      <td>13.0</td>\n",
       "    </tr>\n",
       "  </tbody>\n",
       "</table>\n",
       "</div>"
      ],
      "text/plain": [
       "   match_id  player_id  receiver_id   event_id  possession_id  team_id\n",
       "0    4616.0      335.0        320.0  6900393.0      6789845.0     13.0\n",
       "1    4616.0      320.0       3942.0  6900400.0      6789850.0     13.0\n",
       "2    4616.0     3942.0        320.0  6900417.0      6789869.0     13.0\n",
       "3    4616.0      320.0       3942.0  6900421.0      6789873.0     13.0\n",
       "4    4616.0     3942.0        441.0  6900425.0      6789877.0     13.0"
      ]
     },
     "execution_count": 91,
     "metadata": {},
     "output_type": "execute_result"
    }
   ],
   "source": [
    "network_events_df = pd.concat([pass_df,carry_df, shots_df]).reset_index(drop=True)\n",
    "network_events_df.head()"
   ]
  },
  {
   "cell_type": "markdown",
   "metadata": {},
   "source": [
    "### Networks"
   ]
  },
  {
   "cell_type": "code",
   "execution_count": 92,
   "metadata": {},
   "outputs": [
    {
     "data": {
      "text/html": [
       "<div>\n",
       "<style scoped>\n",
       "    .dataframe tbody tr th:only-of-type {\n",
       "        vertical-align: middle;\n",
       "    }\n",
       "\n",
       "    .dataframe tbody tr th {\n",
       "        vertical-align: top;\n",
       "    }\n",
       "\n",
       "    .dataframe thead th {\n",
       "        text-align: right;\n",
       "    }\n",
       "</style>\n",
       "<table border=\"1\" class=\"dataframe\">\n",
       "  <thead>\n",
       "    <tr style=\"text-align: right;\">\n",
       "      <th></th>\n",
       "      <th>match_id</th>\n",
       "      <th>player_id</th>\n",
       "      <th>receiver_id</th>\n",
       "      <th>event_id</th>\n",
       "      <th>possession_id</th>\n",
       "      <th>team_id</th>\n",
       "      <th>interval_id</th>\n",
       "      <th>frame_id</th>\n",
       "    </tr>\n",
       "  </thead>\n",
       "  <tbody>\n",
       "    <tr>\n",
       "      <th>0</th>\n",
       "      <td>4616.0</td>\n",
       "      <td>335.0</td>\n",
       "      <td>320.0</td>\n",
       "      <td>6900393.0</td>\n",
       "      <td>6789845.0</td>\n",
       "      <td>13.0</td>\n",
       "      <td>NaN</td>\n",
       "      <td>NaN</td>\n",
       "    </tr>\n",
       "    <tr>\n",
       "      <th>1</th>\n",
       "      <td>4616.0</td>\n",
       "      <td>320.0</td>\n",
       "      <td>3942.0</td>\n",
       "      <td>6900400.0</td>\n",
       "      <td>6789850.0</td>\n",
       "      <td>13.0</td>\n",
       "      <td>1.0</td>\n",
       "      <td>3534.0</td>\n",
       "    </tr>\n",
       "    <tr>\n",
       "      <th>2</th>\n",
       "      <td>4616.0</td>\n",
       "      <td>3942.0</td>\n",
       "      <td>320.0</td>\n",
       "      <td>6900417.0</td>\n",
       "      <td>6789869.0</td>\n",
       "      <td>13.0</td>\n",
       "      <td>1.0</td>\n",
       "      <td>3630.0</td>\n",
       "    </tr>\n",
       "    <tr>\n",
       "      <th>3</th>\n",
       "      <td>4616.0</td>\n",
       "      <td>320.0</td>\n",
       "      <td>3942.0</td>\n",
       "      <td>6900421.0</td>\n",
       "      <td>6789873.0</td>\n",
       "      <td>13.0</td>\n",
       "      <td>1.0</td>\n",
       "      <td>3710.0</td>\n",
       "    </tr>\n",
       "    <tr>\n",
       "      <th>4</th>\n",
       "      <td>4616.0</td>\n",
       "      <td>3942.0</td>\n",
       "      <td>441.0</td>\n",
       "      <td>6900425.0</td>\n",
       "      <td>6789877.0</td>\n",
       "      <td>13.0</td>\n",
       "      <td>1.0</td>\n",
       "      <td>3806.0</td>\n",
       "    </tr>\n",
       "  </tbody>\n",
       "</table>\n",
       "</div>"
      ],
      "text/plain": [
       "   match_id  player_id  receiver_id   event_id  possession_id  team_id  \\\n",
       "0    4616.0      335.0        320.0  6900393.0      6789845.0     13.0   \n",
       "1    4616.0      320.0       3942.0  6900400.0      6789850.0     13.0   \n",
       "2    4616.0     3942.0        320.0  6900417.0      6789869.0     13.0   \n",
       "3    4616.0      320.0       3942.0  6900421.0      6789873.0     13.0   \n",
       "4    4616.0     3942.0        441.0  6900425.0      6789877.0     13.0   \n",
       "\n",
       "   interval_id  frame_id  \n",
       "0          NaN       NaN  \n",
       "1          1.0    3534.0  \n",
       "2          1.0    3630.0  \n",
       "3          1.0    3710.0  \n",
       "4          1.0    3806.0  "
      ]
     },
     "execution_count": 92,
     "metadata": {},
     "output_type": "execute_result"
    }
   ],
   "source": [
    "network_frame_df = network_events_df.merge(metadata_df[['match_id','interval_id','frame_id','event_id','possession_id']], on=['match_id','event_id','possession_id'], how='left')\n",
    "network_frame_df.head()"
   ]
  },
  {
   "cell_type": "code",
   "execution_count": 93,
   "metadata": {},
   "outputs": [
    {
     "data": {
      "text/html": [
       "<div>\n",
       "<style scoped>\n",
       "    .dataframe tbody tr th:only-of-type {\n",
       "        vertical-align: middle;\n",
       "    }\n",
       "\n",
       "    .dataframe tbody tr th {\n",
       "        vertical-align: top;\n",
       "    }\n",
       "\n",
       "    .dataframe thead th {\n",
       "        text-align: right;\n",
       "    }\n",
       "</style>\n",
       "<table border=\"1\" class=\"dataframe\">\n",
       "  <thead>\n",
       "    <tr style=\"text-align: right;\">\n",
       "      <th></th>\n",
       "      <th>match_id</th>\n",
       "      <th>interval_id</th>\n",
       "      <th>team_id</th>\n",
       "      <th>player_id</th>\n",
       "      <th>receiver_id</th>\n",
       "      <th>count</th>\n",
       "    </tr>\n",
       "  </thead>\n",
       "  <tbody>\n",
       "    <tr>\n",
       "      <th>0</th>\n",
       "      <td>4616</td>\n",
       "      <td>1</td>\n",
       "      <td>2</td>\n",
       "      <td>15</td>\n",
       "      <td>1380</td>\n",
       "      <td>1</td>\n",
       "    </tr>\n",
       "    <tr>\n",
       "      <th>1</th>\n",
       "      <td>4616</td>\n",
       "      <td>1</td>\n",
       "      <td>2</td>\n",
       "      <td>157</td>\n",
       "      <td>168</td>\n",
       "      <td>2</td>\n",
       "    </tr>\n",
       "    <tr>\n",
       "      <th>2</th>\n",
       "      <td>4616</td>\n",
       "      <td>1</td>\n",
       "      <td>2</td>\n",
       "      <td>168</td>\n",
       "      <td>15</td>\n",
       "      <td>1</td>\n",
       "    </tr>\n",
       "    <tr>\n",
       "      <th>3</th>\n",
       "      <td>4616</td>\n",
       "      <td>1</td>\n",
       "      <td>2</td>\n",
       "      <td>281</td>\n",
       "      <td>168</td>\n",
       "      <td>1</td>\n",
       "    </tr>\n",
       "    <tr>\n",
       "      <th>4</th>\n",
       "      <td>4616</td>\n",
       "      <td>1</td>\n",
       "      <td>2</td>\n",
       "      <td>281</td>\n",
       "      <td>1380</td>\n",
       "      <td>1</td>\n",
       "    </tr>\n",
       "  </tbody>\n",
       "</table>\n",
       "</div>"
      ],
      "text/plain": [
       "   match_id  interval_id  team_id  player_id  receiver_id  count\n",
       "0      4616            1        2         15         1380      1\n",
       "1      4616            1        2        157          168      2\n",
       "2      4616            1        2        168           15      1\n",
       "3      4616            1        2        281          168      1\n",
       "4      4616            1        2        281         1380      1"
      ]
     },
     "execution_count": 93,
     "metadata": {},
     "output_type": "execute_result"
    }
   ],
   "source": [
    "# Group by match_id, interval_id, team_id, player_id, receiver_id to get the number of interactions between players\n",
    "\n",
    "grouped_df = network_frame_df.groupby(['match_id','interval_id','team_id','player_id','receiver_id']).size().reset_index(name='count')\n",
    "grouped_df['match_id']=grouped_df['match_id'].astype(int)\n",
    "grouped_df['interval_id']=grouped_df['interval_id'].astype(int)\n",
    "grouped_df['team_id']=grouped_df['team_id'].astype(int)\n",
    "grouped_df['player_id']=grouped_df['player_id'].astype(int)\n",
    "grouped_df['receiver_id']=grouped_df['receiver_id'].astype(int)\n",
    "\n",
    "grouped_df.head()"
   ]
  },
  {
   "cell_type": "code",
   "execution_count": 94,
   "metadata": {},
   "outputs": [
    {
     "data": {
      "text/html": [
       "<div>\n",
       "<style scoped>\n",
       "    .dataframe tbody tr th:only-of-type {\n",
       "        vertical-align: middle;\n",
       "    }\n",
       "\n",
       "    .dataframe tbody tr th {\n",
       "        vertical-align: top;\n",
       "    }\n",
       "\n",
       "    .dataframe thead th {\n",
       "        text-align: right;\n",
       "    }\n",
       "</style>\n",
       "<table border=\"1\" class=\"dataframe\">\n",
       "  <thead>\n",
       "    <tr style=\"text-align: right;\">\n",
       "      <th></th>\n",
       "      <th>match_id</th>\n",
       "      <th>interval_id</th>\n",
       "      <th>team_id_x</th>\n",
       "      <th>player_id_player</th>\n",
       "      <th>receiver_id</th>\n",
       "      <th>count</th>\n",
       "      <th>team_id_y</th>\n",
       "      <th>nickname_player</th>\n",
       "      <th>shirt_number_player</th>\n",
       "      <th>team_id</th>\n",
       "      <th>player_id_receiver</th>\n",
       "      <th>nickname_receiver</th>\n",
       "      <th>shirt_number_receiver</th>\n",
       "    </tr>\n",
       "  </thead>\n",
       "  <tbody>\n",
       "    <tr>\n",
       "      <th>0</th>\n",
       "      <td>4616</td>\n",
       "      <td>1</td>\n",
       "      <td>2</td>\n",
       "      <td>15</td>\n",
       "      <td>1380</td>\n",
       "      <td>1</td>\n",
       "      <td>2</td>\n",
       "      <td>Oleksandr Zinchenko</td>\n",
       "      <td>35</td>\n",
       "      <td>2.0</td>\n",
       "      <td>1380.0</td>\n",
       "      <td>Thomas Partey</td>\n",
       "      <td>5.0</td>\n",
       "    </tr>\n",
       "    <tr>\n",
       "      <th>1</th>\n",
       "      <td>4616</td>\n",
       "      <td>1</td>\n",
       "      <td>2</td>\n",
       "      <td>157</td>\n",
       "      <td>168</td>\n",
       "      <td>2</td>\n",
       "      <td>2</td>\n",
       "      <td>Granit Xhaka</td>\n",
       "      <td>34</td>\n",
       "      <td>2.0</td>\n",
       "      <td>168.0</td>\n",
       "      <td>Eddie Nketiah</td>\n",
       "      <td>14.0</td>\n",
       "    </tr>\n",
       "    <tr>\n",
       "      <th>2</th>\n",
       "      <td>4616</td>\n",
       "      <td>1</td>\n",
       "      <td>2</td>\n",
       "      <td>168</td>\n",
       "      <td>15</td>\n",
       "      <td>1</td>\n",
       "      <td>2</td>\n",
       "      <td>Eddie Nketiah</td>\n",
       "      <td>14</td>\n",
       "      <td>2.0</td>\n",
       "      <td>15.0</td>\n",
       "      <td>Oleksandr Zinchenko</td>\n",
       "      <td>35.0</td>\n",
       "    </tr>\n",
       "    <tr>\n",
       "      <th>3</th>\n",
       "      <td>4616</td>\n",
       "      <td>1</td>\n",
       "      <td>2</td>\n",
       "      <td>281</td>\n",
       "      <td>168</td>\n",
       "      <td>1</td>\n",
       "      <td>2</td>\n",
       "      <td>Aaron Ramsdale</td>\n",
       "      <td>1</td>\n",
       "      <td>2.0</td>\n",
       "      <td>168.0</td>\n",
       "      <td>Eddie Nketiah</td>\n",
       "      <td>14.0</td>\n",
       "    </tr>\n",
       "    <tr>\n",
       "      <th>4</th>\n",
       "      <td>4616</td>\n",
       "      <td>1</td>\n",
       "      <td>2</td>\n",
       "      <td>281</td>\n",
       "      <td>1380</td>\n",
       "      <td>1</td>\n",
       "      <td>2</td>\n",
       "      <td>Aaron Ramsdale</td>\n",
       "      <td>1</td>\n",
       "      <td>2.0</td>\n",
       "      <td>1380.0</td>\n",
       "      <td>Thomas Partey</td>\n",
       "      <td>5.0</td>\n",
       "    </tr>\n",
       "  </tbody>\n",
       "</table>\n",
       "</div>"
      ],
      "text/plain": [
       "   match_id  interval_id  team_id_x  player_id_player  receiver_id  count  \\\n",
       "0      4616            1          2                15         1380      1   \n",
       "1      4616            1          2               157          168      2   \n",
       "2      4616            1          2               168           15      1   \n",
       "3      4616            1          2               281          168      1   \n",
       "4      4616            1          2               281         1380      1   \n",
       "\n",
       "   team_id_y      nickname_player  shirt_number_player  team_id  \\\n",
       "0          2  Oleksandr Zinchenko                   35      2.0   \n",
       "1          2         Granit Xhaka                   34      2.0   \n",
       "2          2        Eddie Nketiah                   14      2.0   \n",
       "3          2       Aaron Ramsdale                    1      2.0   \n",
       "4          2       Aaron Ramsdale                    1      2.0   \n",
       "\n",
       "   player_id_receiver    nickname_receiver  shirt_number_receiver  \n",
       "0              1380.0        Thomas Partey                    5.0  \n",
       "1               168.0        Eddie Nketiah                   14.0  \n",
       "2                15.0  Oleksandr Zinchenko                   35.0  \n",
       "3               168.0        Eddie Nketiah                   14.0  \n",
       "4              1380.0        Thomas Partey                    5.0  "
      ]
     },
     "execution_count": 94,
     "metadata": {},
     "output_type": "execute_result"
    }
   ],
   "source": [
    "# Get player info\n",
    "grouped_df = grouped_df.merge(players_info[['match_id','team_id','player_id','nickname','shirt_number']], how='left', left_on=['match_id','player_id'], right_on=['match_id','player_id']).drop_duplicates().reset_index(drop=True)\n",
    "\n",
    "# Get receiver info\n",
    "grouped_df = grouped_df.merge(players_info[['match_id','team_id','player_id','nickname','shirt_number']], how='left', left_on=['match_id','receiver_id'], right_on=['match_id','player_id'], suffixes=('_player','_receiver')).drop_duplicates().reset_index(drop=True)\n",
    "\n",
    "grouped_df.head()"
   ]
  },
  {
   "cell_type": "markdown",
   "metadata": {},
   "source": [
    "# Graphs"
   ]
  },
  {
   "cell_type": "code",
   "execution_count": 95,
   "metadata": {},
   "outputs": [
    {
     "name": "stdout",
     "output_type": "stream",
     "text": [
      "Games to process: 180\n"
     ]
    }
   ],
   "source": [
    "graph_games = os.listdir(PROCESSED_DATA_PATH)\n",
    "graph_game_ids = [game.split('.')[0] for game in graph_games]\n",
    "print(f\"Games to process: {len(graph_game_ids)}\")"
   ]
  },
  {
   "cell_type": "code",
   "execution_count": 96,
   "metadata": {},
   "outputs": [
    {
     "name": "stdout",
     "output_type": "stream",
     "text": [
      "Games to process graphs: 10\n"
     ]
    }
   ],
   "source": [
    "pre_processed_ids = [game_id for game_id in match_ids if game_id not in graph_game_ids]\n",
    "print(f\"Games to process graphs: {len(pre_processed_ids)}\")"
   ]
  },
  {
   "cell_type": "code",
   "execution_count": 97,
   "metadata": {},
   "outputs": [
    {
     "data": {
      "application/vnd.jupyter.widget-view+json": {
       "model_id": "5242e18221aa4e9981632d823971d05d",
       "version_major": 2,
       "version_minor": 0
      },
      "text/plain": [
       "Processing Graphs:   0%|          | 0/10 [00:00<?, ?it/s]"
      ]
     },
     "metadata": {},
     "output_type": "display_data"
    },
    {
     "data": {
      "application/vnd.jupyter.widget-view+json": {
       "model_id": "4104c76a04bd4dec9f5ed42dca3daebf",
       "version_major": 2,
       "version_minor": 0
      },
      "text/plain": [
       "Processing intervals:   0%|          | 0/50 [00:00<?, ?it/s]"
      ]
     },
     "metadata": {},
     "output_type": "display_data"
    },
    {
     "data": {
      "application/vnd.jupyter.widget-view+json": {
       "model_id": "85c68c349fa64f80ba5d9b9b25d4b313",
       "version_major": 2,
       "version_minor": 0
      },
      "text/plain": [
       "Processing intervals:   0%|          | 0/48 [00:00<?, ?it/s]"
      ]
     },
     "metadata": {},
     "output_type": "display_data"
    },
    {
     "data": {
      "application/vnd.jupyter.widget-view+json": {
       "model_id": "4b56b5ab63da4842b9cf5eb5d906e7c7",
       "version_major": 2,
       "version_minor": 0
      },
      "text/plain": [
       "Processing intervals: 0it [00:00, ?it/s]"
      ]
     },
     "metadata": {},
     "output_type": "display_data"
    },
    {
     "data": {
      "application/vnd.jupyter.widget-view+json": {
       "model_id": "f5a78c5147e3406fa84cdc99189ecf3e",
       "version_major": 2,
       "version_minor": 0
      },
      "text/plain": [
       "Processing intervals: 0it [00:00, ?it/s]"
      ]
     },
     "metadata": {},
     "output_type": "display_data"
    },
    {
     "data": {
      "application/vnd.jupyter.widget-view+json": {
       "model_id": "7eef29fa17ba4bc9bbfeb22b89e6cc05",
       "version_major": 2,
       "version_minor": 0
      },
      "text/plain": [
       "Processing intervals:   0%|          | 0/47 [00:00<?, ?it/s]"
      ]
     },
     "metadata": {},
     "output_type": "display_data"
    },
    {
     "data": {
      "application/vnd.jupyter.widget-view+json": {
       "model_id": "18af8cfd24674d00b9422ddcfaafa22b",
       "version_major": 2,
       "version_minor": 0
      },
      "text/plain": [
       "Processing intervals:   0%|          | 0/47 [00:00<?, ?it/s]"
      ]
     },
     "metadata": {},
     "output_type": "display_data"
    },
    {
     "data": {
      "application/vnd.jupyter.widget-view+json": {
       "model_id": "39d128d9daee47e0bf21b694fd819138",
       "version_major": 2,
       "version_minor": 0
      },
      "text/plain": [
       "Processing intervals:   0%|          | 0/48 [00:00<?, ?it/s]"
      ]
     },
     "metadata": {},
     "output_type": "display_data"
    },
    {
     "data": {
      "application/vnd.jupyter.widget-view+json": {
       "model_id": "91acf6401c064f1faec5c4a6e3610c8d",
       "version_major": 2,
       "version_minor": 0
      },
      "text/plain": [
       "Processing intervals:   0%|          | 0/49 [00:00<?, ?it/s]"
      ]
     },
     "metadata": {},
     "output_type": "display_data"
    },
    {
     "data": {
      "application/vnd.jupyter.widget-view+json": {
       "model_id": "d928dc36c12b4750b3a9c78e7be1a321",
       "version_major": 2,
       "version_minor": 0
      },
      "text/plain": [
       "Processing intervals:   0%|          | 0/48 [00:00<?, ?it/s]"
      ]
     },
     "metadata": {},
     "output_type": "display_data"
    },
    {
     "data": {
      "application/vnd.jupyter.widget-view+json": {
       "model_id": "fe55545bed014ff1a8d6540946104f7e",
       "version_major": 2,
       "version_minor": 0
      },
      "text/plain": [
       "Processing intervals:   0%|          | 0/49 [00:00<?, ?it/s]"
      ]
     },
     "metadata": {},
     "output_type": "display_data"
    }
   ],
   "source": [
    "graphs = []\n",
    "\n",
    "# if len(graph_game_ids) > 0:\n",
    "#     tasks = [(PROCESSED_DATA_PATH,game_id) for game_id in graph_game_ids]\n",
    "\n",
    "#     for task in tqdm(tasks, desc=\"Loading Pre-Processed Graphs\", total=len(tasks)):\n",
    "#         match_graphs = load_graphs(task)\n",
    "#         graphs.append((task[1],match_graphs))\n",
    "\n",
    "if len(pre_processed_ids) > 0:\n",
    "\n",
    "    for game_id in tqdm(pre_processed_ids, desc=\"Processing Graphs\", total=len(pre_processed_ids)):\n",
    "\n",
    "        match_grouped_df = grouped_df[grouped_df['match_id']==int(game_id)]\n",
    "        match_players_interval_df = players_interval_df[players_interval_df['match_id']==int(game_id)]\n",
    "\n",
    "        match_graphs = get_interval_graphs(match_grouped_df, match_players_interval_df)\n",
    "\n",
    "        save_graphs(game_id, PROCESSED_DATA_PATH, match_graphs)\n",
    "        graphs.append((game_id,match_graphs))"
   ]
  }
 ],
 "metadata": {
  "kernelspec": {
   "display_name": ".venv",
   "language": "python",
   "name": "python3"
  },
  "language_info": {
   "codemirror_mode": {
    "name": "ipython",
    "version": 3
   },
   "file_extension": ".py",
   "mimetype": "text/x-python",
   "name": "python",
   "nbconvert_exporter": "python",
   "pygments_lexer": "ipython3",
   "version": "3.12.3"
  }
 },
 "nbformat": 4,
 "nbformat_minor": 2
}
