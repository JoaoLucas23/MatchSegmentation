{
 "cells": [
  {
   "cell_type": "code",
   "execution_count": 61,
   "metadata": {},
   "outputs": [
    {
     "name": "stdout",
     "output_type": "stream",
     "text": [
      "The autoreload extension is already loaded. To reload it, use:\n",
      "  %reload_ext autoreload\n"
     ]
    }
   ],
   "source": [
    "%load_ext autoreload\n",
    "%autoreload 2"
   ]
  },
  {
   "cell_type": "code",
   "execution_count": 62,
   "metadata": {},
   "outputs": [],
   "source": [
    "import os\n",
    "import sys\n",
    "from multiprocessing import Pool, cpu_count\n",
    "from tqdm.auto import tqdm\n",
    "import pandas as pd"
   ]
  },
  {
   "cell_type": "code",
   "execution_count": 63,
   "metadata": {},
   "outputs": [],
   "source": [
    "import warnings\n",
    "warnings.filterwarnings('ignore', category=pd.errors.SettingWithCopyWarning)"
   ]
  },
  {
   "cell_type": "code",
   "execution_count": 64,
   "metadata": {},
   "outputs": [],
   "source": [
    "project_root = os.path.abspath(\n",
    "    os.path.join(\"C:/Users/jllgo/OneDrive/Documentos/UFMG/MSc & MSI 2/MatchSegmentation\")\n",
    ")\n",
    "if project_root not in sys.path:\n",
    "    sys.path.append(project_root)"
   ]
  },
  {
   "cell_type": "code",
   "execution_count": 65,
   "metadata": {},
   "outputs": [],
   "source": [
    "from src.pass_networks.process_games import process_game\n",
    "from src.pass_networks.process_games import load_game\n",
    "from src.pass_networks.process_games import save_game\n",
    "from src.pass_networks.process_match_info import get_match_info\n",
    "from src.pass_networks.process_match_info import process_players\n",
    "from src.pass_networks.process_intervals import get_interval_graphs\n",
    "from src.pass_networks.process_intervals import load_graphs\n",
    "from src.pass_networks.process_intervals import save_graphs"
   ]
  },
  {
   "cell_type": "code",
   "execution_count": 66,
   "metadata": {},
   "outputs": [],
   "source": [
    "RAW_DATA_PATH = '../data/raw/PL-22-23'\n",
    "INTERMEDIATE_DATA_PATH = '../data/intermediate/PL-22-23'\n",
    "PROCESSED_DATA_PATH = \"../data/processed/PL-22-23\"\n",
    "CSV_DATA_PATH = \"../data/csv\""
   ]
  },
  {
   "cell_type": "markdown",
   "metadata": {},
   "source": [
    "# 1. Get Data"
   ]
  },
  {
   "cell_type": "code",
   "execution_count": 67,
   "metadata": {},
   "outputs": [
    {
     "name": "stdout",
     "output_type": "stream",
     "text": [
      "Games to process: 190\n"
     ]
    }
   ],
   "source": [
    "games = os.listdir(RAW_DATA_PATH)\n",
    "raw_game_ids = [game.split('.')[0] for game in games]\n",
    "print(f\"Games to process: {len(raw_game_ids)}\")"
   ]
  },
  {
   "cell_type": "code",
   "execution_count": 68,
   "metadata": {},
   "outputs": [
    {
     "name": "stdout",
     "output_type": "stream",
     "text": [
      "Games already pre-processed: 112\n"
     ]
    }
   ],
   "source": [
    "pre_processed_games = os.listdir(INTERMEDIATE_DATA_PATH)\n",
    "pre_processed_game_ids = [game.split('.')[0] for game in pre_processed_games]\n",
    "print(f\"Games already pre-processed: {len(pre_processed_game_ids)}\")"
   ]
  },
  {
   "cell_type": "code",
   "execution_count": 69,
   "metadata": {},
   "outputs": [
    {
     "name": "stdout",
     "output_type": "stream",
     "text": [
      "Games already processed: 111\n"
     ]
    }
   ],
   "source": [
    "processed = os.listdir(PROCESSED_DATA_PATH)\n",
    "processed_game_ids = [game.split('.')[0] for game in processed]\n",
    "print(f\"Games already processed: {len(processed_game_ids)}\")"
   ]
  },
  {
   "cell_type": "code",
   "execution_count": 70,
   "metadata": {},
   "outputs": [
    {
     "data": {
      "text/plain": [
       "['4437',\n",
       " '4445',\n",
       " '4448',\n",
       " '4458',\n",
       " '4446',\n",
       " '4493',\n",
       " '4499',\n",
       " '4502',\n",
       " '4509',\n",
       " '4510',\n",
       " '4524',\n",
       " '4527',\n",
       " '4528',\n",
       " '4529',\n",
       " '4530',\n",
       " '4531',\n",
       " '4532',\n",
       " '4533',\n",
       " '4534',\n",
       " '4535',\n",
       " '4536',\n",
       " '4537',\n",
       " '4538',\n",
       " '4539',\n",
       " '4540',\n",
       " '4541',\n",
       " '4542',\n",
       " '4543',\n",
       " '4544',\n",
       " '4545',\n",
       " '4546',\n",
       " '4547',\n",
       " '4548',\n",
       " '4549',\n",
       " '4550',\n",
       " '4551',\n",
       " '4552',\n",
       " '4553',\n",
       " '4554',\n",
       " '4555',\n",
       " '4556',\n",
       " '4566',\n",
       " '4567',\n",
       " '4570',\n",
       " '4572',\n",
       " '4574',\n",
       " '4578',\n",
       " '4579',\n",
       " '4580',\n",
       " '4596']"
      ]
     },
     "execution_count": 70,
     "metadata": {},
     "output_type": "execute_result"
    }
   ],
   "source": [
    "failed_ids = pd.read_csv(f\"{CSV_DATA_PATH}/failed_matches.csv\", header=None).values.astype(str).flatten().tolist()\n",
    "failed_ids"
   ]
  },
  {
   "cell_type": "code",
   "execution_count": 71,
   "metadata": {},
   "outputs": [
    {
     "name": "stdout",
     "output_type": "stream",
     "text": [
      "Pre Processed Games to Process: 111\n"
     ]
    }
   ],
   "source": [
    "pre_processed_games = [game_id for game_id in pre_processed_game_ids if game_id not in failed_ids]\n",
    "print(f\"Pre Processed Games to Process: {len(pre_processed_games)}\")"
   ]
  },
  {
   "cell_type": "code",
   "execution_count": 72,
   "metadata": {},
   "outputs": [
    {
     "name": "stdout",
     "output_type": "stream",
     "text": [
      "Games to process: 10\n"
     ]
    }
   ],
   "source": [
    "matches_to_process = [game_id for game_id in raw_game_ids if game_id not in pre_processed_game_ids and game_id not in failed_ids][:30]\n",
    "print(f\"Games to process: {len(matches_to_process)}\")"
   ]
  },
  {
   "cell_type": "code",
   "execution_count": 73,
   "metadata": {},
   "outputs": [
    {
     "data": {
      "application/vnd.jupyter.widget-view+json": {
       "model_id": "f171e8bbd6054ef9b04ab3861216fc00",
       "version_major": 2,
       "version_minor": 0
      },
      "text/plain": [
       "Processing Games:   0%|          | 0/10 [00:00<?, ?it/s]"
      ]
     },
     "metadata": {},
     "output_type": "display_data"
    },
    {
     "data": {
      "application/vnd.jupyter.widget-view+json": {
       "model_id": "4bc1975a92ab43c585439d3a1b372cd5",
       "version_major": 2,
       "version_minor": 0
      },
      "text/plain": [
       "Loading frames from match 4597: 0 frames [00:00, ? frames/s]"
      ]
     },
     "metadata": {},
     "output_type": "display_data"
    },
    {
     "data": {
      "application/vnd.jupyter.widget-view+json": {
       "model_id": "ddc44f1681bf4e459bdedf1b5fc752c8",
       "version_major": 2,
       "version_minor": 0
      },
      "text/plain": [
       "Validating frames:   0%|          | 0/175995 [00:00<?, ? frames/s]"
      ]
     },
     "metadata": {},
     "output_type": "display_data"
    },
    {
     "data": {
      "application/vnd.jupyter.widget-view+json": {
       "model_id": "cc9e37d91e5849fd83a82cacd2f87477",
       "version_major": 2,
       "version_minor": 0
      },
      "text/plain": [
       "Loading frames from match 4598: 0 frames [00:00, ? frames/s]"
      ]
     },
     "metadata": {},
     "output_type": "display_data"
    },
    {
     "data": {
      "application/vnd.jupyter.widget-view+json": {
       "model_id": "6476dfb69b364c0ab4ea3b54749a3688",
       "version_major": 2,
       "version_minor": 0
      },
      "text/plain": [
       "Validating frames:   0%|          | 0/180924 [00:00<?, ? frames/s]"
      ]
     },
     "metadata": {},
     "output_type": "display_data"
    },
    {
     "data": {
      "application/vnd.jupyter.widget-view+json": {
       "model_id": "6a9e00a72e9f4e3aa15af7dae26cd6d3",
       "version_major": 2,
       "version_minor": 0
      },
      "text/plain": [
       "Loading frames from match 4599: 0 frames [00:00, ? frames/s]"
      ]
     },
     "metadata": {},
     "output_type": "display_data"
    },
    {
     "data": {
      "application/vnd.jupyter.widget-view+json": {
       "model_id": "fde9508ad7a140fc89d7b6b219b91ae7",
       "version_major": 2,
       "version_minor": 0
      },
      "text/plain": [
       "Validating frames:   0%|          | 0/178304 [00:00<?, ? frames/s]"
      ]
     },
     "metadata": {},
     "output_type": "display_data"
    },
    {
     "data": {
      "application/vnd.jupyter.widget-view+json": {
       "model_id": "634aea809ca743f0ad90598ef92abd4a",
       "version_major": 2,
       "version_minor": 0
      },
      "text/plain": [
       "Loading frames from match 4600: 0 frames [00:00, ? frames/s]"
      ]
     },
     "metadata": {},
     "output_type": "display_data"
    },
    {
     "data": {
      "application/vnd.jupyter.widget-view+json": {
       "model_id": "909b872e29464343966d747c066ba217",
       "version_major": 2,
       "version_minor": 0
      },
      "text/plain": [
       "Validating frames:   0%|          | 0/174181 [00:00<?, ? frames/s]"
      ]
     },
     "metadata": {},
     "output_type": "display_data"
    },
    {
     "name": "stdout",
     "output_type": "stream",
     "text": [
      "Error processing match_id 4600: Error getting match events for match_id=4600\n"
     ]
    },
    {
     "data": {
      "application/vnd.jupyter.widget-view+json": {
       "model_id": "4d5c9eec88294cb7875c480542b0d80b",
       "version_major": 2,
       "version_minor": 0
      },
      "text/plain": [
       "Loading frames from match 4601: 0 frames [00:00, ? frames/s]"
      ]
     },
     "metadata": {},
     "output_type": "display_data"
    },
    {
     "data": {
      "application/vnd.jupyter.widget-view+json": {
       "model_id": "ec861aeeddc04964baaaaba289356dd7",
       "version_major": 2,
       "version_minor": 0
      },
      "text/plain": [
       "Validating frames:   0%|          | 0/174833 [00:00<?, ? frames/s]"
      ]
     },
     "metadata": {},
     "output_type": "display_data"
    },
    {
     "data": {
      "application/vnd.jupyter.widget-view+json": {
       "model_id": "cad485a97c7748faa346b415465cd6eb",
       "version_major": 2,
       "version_minor": 0
      },
      "text/plain": [
       "Loading frames from match 4602: 0 frames [00:00, ? frames/s]"
      ]
     },
     "metadata": {},
     "output_type": "display_data"
    },
    {
     "data": {
      "application/vnd.jupyter.widget-view+json": {
       "model_id": "d9fd24369d934c35a508dc011d2f6d0a",
       "version_major": 2,
       "version_minor": 0
      },
      "text/plain": [
       "Validating frames:   0%|          | 0/174579 [00:00<?, ? frames/s]"
      ]
     },
     "metadata": {},
     "output_type": "display_data"
    },
    {
     "data": {
      "application/vnd.jupyter.widget-view+json": {
       "model_id": "370145c72d094c5cb4314c196f9acf20",
       "version_major": 2,
       "version_minor": 0
      },
      "text/plain": [
       "Loading frames from match 4603: 0 frames [00:00, ? frames/s]"
      ]
     },
     "metadata": {},
     "output_type": "display_data"
    },
    {
     "data": {
      "application/vnd.jupyter.widget-view+json": {
       "model_id": "2f4b86b285bf42729c33191daeda0652",
       "version_major": 2,
       "version_minor": 0
      },
      "text/plain": [
       "Validating frames:   0%|          | 0/173403 [00:00<?, ? frames/s]"
      ]
     },
     "metadata": {},
     "output_type": "display_data"
    },
    {
     "data": {
      "application/vnd.jupyter.widget-view+json": {
       "model_id": "dee8b5a04fb1401f8210a266f92e478b",
       "version_major": 2,
       "version_minor": 0
      },
      "text/plain": [
       "Loading frames from match 4604: 0 frames [00:00, ? frames/s]"
      ]
     },
     "metadata": {},
     "output_type": "display_data"
    },
    {
     "data": {
      "application/vnd.jupyter.widget-view+json": {
       "model_id": "ebe6315e75634f9f92baea352958f8bb",
       "version_major": 2,
       "version_minor": 0
      },
      "text/plain": [
       "Validating frames:   0%|          | 0/176436 [00:00<?, ? frames/s]"
      ]
     },
     "metadata": {},
     "output_type": "display_data"
    },
    {
     "data": {
      "application/vnd.jupyter.widget-view+json": {
       "model_id": "c4222af0019541ce96daae38bfb12dd6",
       "version_major": 2,
       "version_minor": 0
      },
      "text/plain": [
       "Loading frames from match 4605: 0 frames [00:00, ? frames/s]"
      ]
     },
     "metadata": {},
     "output_type": "display_data"
    },
    {
     "data": {
      "application/vnd.jupyter.widget-view+json": {
       "model_id": "42d5010d8efa47e28a0aca595bef2110",
       "version_major": 2,
       "version_minor": 0
      },
      "text/plain": [
       "Validating frames:   0%|          | 0/171095 [00:00<?, ? frames/s]"
      ]
     },
     "metadata": {},
     "output_type": "display_data"
    },
    {
     "data": {
      "application/vnd.jupyter.widget-view+json": {
       "model_id": "408b959015e24946a742857484075e1c",
       "version_major": 2,
       "version_minor": 0
      },
      "text/plain": [
       "Loading frames from match 4606: 0 frames [00:00, ? frames/s]"
      ]
     },
     "metadata": {},
     "output_type": "display_data"
    },
    {
     "data": {
      "application/vnd.jupyter.widget-view+json": {
       "model_id": "cd812e8491b240d4989949080f757521",
       "version_major": 2,
       "version_minor": 0
      },
      "text/plain": [
       "Validating frames:   0%|          | 0/173616 [00:00<?, ? frames/s]"
      ]
     },
     "metadata": {},
     "output_type": "display_data"
    }
   ],
   "source": [
    "matches = []\n",
    "\n",
    "failed_matches = []\n",
    "\n",
    "# #Check if the game has already been pre-processed\n",
    "# if len(pre_processed_game_ids) > 0:\n",
    "#     tasks = [(INTERMEDIATE_DATA_PATH,game_id) for game_id in pre_processed_game_ids]\n",
    "\n",
    "#     for task in tqdm(tasks, desc=\"Loading Pre-Processed Games\", total=len(tasks)):\n",
    "#         metadata_df, players_df, events_df = load_game(task)\n",
    "#         matches.append((task[1],metadata_df, players_df, events_df))\n",
    "\n",
    "if len(matches_to_process) > 0:\n",
    "\n",
    "    for game_id in tqdm(matches_to_process, desc=\"Processing Games\", total=len(matches_to_process)):\n",
    "        metadata_df, players_df, events_df = process_game((RAW_DATA_PATH, game_id))\n",
    "        if metadata_df.empty or players_df.empty or events_df.empty:\n",
    "            failed_matches.append(game_id)\n",
    "            continue\n",
    "        else:\n",
    "            matches.append((game_id,metadata_df, players_df, events_df))\n",
    "            save_game(metadata_df,players_df,events_df,INTERMEDIATE_DATA_PATH,game_id)\n",
    "\n"
   ]
  },
  {
   "cell_type": "code",
   "execution_count": 74,
   "metadata": {},
   "outputs": [],
   "source": [
    "failed_matches = pd.DataFrame(failed_matches, columns=[\"game_id\"])\n",
    "failed_matches.to_csv(f\"{CSV_DATA_PATH}/failed_matches.csv\", index=False, header=False, mode='a')"
   ]
  },
  {
   "cell_type": "code",
   "execution_count": 75,
   "metadata": {},
   "outputs": [],
   "source": [
    "players_info, teams_info, games_info = get_match_info(CSV_DATA_PATH)"
   ]
  },
  {
   "cell_type": "markdown",
   "metadata": {},
   "source": [
    "# 2. Data Treatment"
   ]
  },
  {
   "cell_type": "code",
   "execution_count": null,
   "metadata": {},
   "outputs": [
    {
     "data": {
      "application/vnd.jupyter.widget-view+json": {
       "model_id": "01f3cc7f614d4abda5582010a5348c73",
       "version_major": 2,
       "version_minor": 0
      },
      "text/plain": [
       "Data Processing:   0%|          | 0/9 [00:00<?, ?it/s]"
      ]
     },
     "metadata": {},
     "output_type": "display_data"
    }
   ],
   "source": [
    "players_dfs = []\n",
    "events_dfs = []\n",
    "metadata_dfs = []\n",
    "match_ids = []\n",
    "\n",
    "for match_dfs in tqdm(matches, desc=\"Data Processing\"):\n",
    "    match_id, metadata_df, players_df, events_df = match_dfs\n",
    "    players_match_info = players_info[players_info['match_id'] == int(match_id)].reset_index(drop=True)\n",
    "    match_info = games_info[games_info['match_id'] == int(match_id)].reset_index(drop=True)\n",
    "\n",
    "    players_df = process_players(players_df, match_info, players_match_info, metadata_df)\n",
    "\n",
    "    players_dfs.append(players_df)\n",
    "    events_dfs.append(events_df)\n",
    "    metadata_dfs.append(metadata_df)\n",
    "    match_ids.append(match_id)\n",
    "\n",
    "players_df = pd.concat(players_dfs)\n",
    "events_df = pd.concat(events_dfs)\n",
    "metadata_df = pd.concat(metadata_dfs)"
   ]
  },
  {
   "cell_type": "code",
   "execution_count": null,
   "metadata": {},
   "outputs": [
    {
     "data": {
      "text/html": [
       "<div>\n",
       "<style scoped>\n",
       "    .dataframe tbody tr th:only-of-type {\n",
       "        vertical-align: middle;\n",
       "    }\n",
       "\n",
       "    .dataframe tbody tr th {\n",
       "        vertical-align: top;\n",
       "    }\n",
       "\n",
       "    .dataframe thead th {\n",
       "        text-align: right;\n",
       "    }\n",
       "</style>\n",
       "<table border=\"1\" class=\"dataframe\">\n",
       "  <thead>\n",
       "    <tr style=\"text-align: right;\">\n",
       "      <th></th>\n",
       "      <th>match_id</th>\n",
       "      <th>interval_id</th>\n",
       "      <th>team_id</th>\n",
       "      <th>player_id</th>\n",
       "      <th>nickname</th>\n",
       "      <th>shirt</th>\n",
       "      <th>x</th>\n",
       "      <th>y</th>\n",
       "    </tr>\n",
       "  </thead>\n",
       "  <tbody>\n",
       "    <tr>\n",
       "      <th>0</th>\n",
       "      <td>4577</td>\n",
       "      <td>1</td>\n",
       "      <td>2</td>\n",
       "      <td>15</td>\n",
       "      <td>Oleksandr Zinchenko</td>\n",
       "      <td>35</td>\n",
       "      <td>-6.095556</td>\n",
       "      <td>-17.260125</td>\n",
       "    </tr>\n",
       "    <tr>\n",
       "      <th>1</th>\n",
       "      <td>4577</td>\n",
       "      <td>1</td>\n",
       "      <td>2</td>\n",
       "      <td>30</td>\n",
       "      <td>Gabriel Jesus</td>\n",
       "      <td>9</td>\n",
       "      <td>-25.407863</td>\n",
       "      <td>-5.989329</td>\n",
       "    </tr>\n",
       "    <tr>\n",
       "      <th>2</th>\n",
       "      <td>4577</td>\n",
       "      <td>1</td>\n",
       "      <td>2</td>\n",
       "      <td>157</td>\n",
       "      <td>Granit Xhaka</td>\n",
       "      <td>34</td>\n",
       "      <td>-18.722916</td>\n",
       "      <td>-9.891943</td>\n",
       "    </tr>\n",
       "    <tr>\n",
       "      <th>3</th>\n",
       "      <td>4577</td>\n",
       "      <td>1</td>\n",
       "      <td>2</td>\n",
       "      <td>162</td>\n",
       "      <td>Gabriel Martinelli</td>\n",
       "      <td>11</td>\n",
       "      <td>-21.028437</td>\n",
       "      <td>-15.301360</td>\n",
       "    </tr>\n",
       "    <tr>\n",
       "      <th>4</th>\n",
       "      <td>4577</td>\n",
       "      <td>1</td>\n",
       "      <td>2</td>\n",
       "      <td>163</td>\n",
       "      <td>Bukayo Saka</td>\n",
       "      <td>7</td>\n",
       "      <td>-20.986642</td>\n",
       "      <td>8.602386</td>\n",
       "    </tr>\n",
       "    <tr>\n",
       "      <th>...</th>\n",
       "      <td>...</td>\n",
       "      <td>...</td>\n",
       "      <td>...</td>\n",
       "      <td>...</td>\n",
       "      <td>...</td>\n",
       "      <td>...</td>\n",
       "      <td>...</td>\n",
       "      <td>...</td>\n",
       "    </tr>\n",
       "    <tr>\n",
       "      <th>16432</th>\n",
       "      <td>4595</td>\n",
       "      <td>1</td>\n",
       "      <td>20</td>\n",
       "      <td>4157</td>\n",
       "      <td>Boubacar Traoré</td>\n",
       "      <td>6</td>\n",
       "      <td>-19.078434</td>\n",
       "      <td>-8.205097</td>\n",
       "    </tr>\n",
       "    <tr>\n",
       "      <th>16433</th>\n",
       "      <td>4595</td>\n",
       "      <td>1</td>\n",
       "      <td>20</td>\n",
       "      <td>5082</td>\n",
       "      <td>Nathan Collins</td>\n",
       "      <td>4</td>\n",
       "      <td>-25.171813</td>\n",
       "      <td>-9.889463</td>\n",
       "    </tr>\n",
       "    <tr>\n",
       "      <th>16434</th>\n",
       "      <td>4595</td>\n",
       "      <td>1</td>\n",
       "      <td>20</td>\n",
       "      <td>5131</td>\n",
       "      <td>José Sá</td>\n",
       "      <td>1</td>\n",
       "      <td>-44.672403</td>\n",
       "      <td>0.189599</td>\n",
       "    </tr>\n",
       "    <tr>\n",
       "      <th>16435</th>\n",
       "      <td>4595</td>\n",
       "      <td>1</td>\n",
       "      <td>20</td>\n",
       "      <td>6064</td>\n",
       "      <td>Hugo Bueno</td>\n",
       "      <td>64</td>\n",
       "      <td>-23.869012</td>\n",
       "      <td>22.569298</td>\n",
       "    </tr>\n",
       "    <tr>\n",
       "      <th>16436</th>\n",
       "      <td>4595</td>\n",
       "      <td>1</td>\n",
       "      <td>20</td>\n",
       "      <td>7094</td>\n",
       "      <td>Toti Gomes</td>\n",
       "      <td>24</td>\n",
       "      <td>-25.769053</td>\n",
       "      <td>13.179459</td>\n",
       "    </tr>\n",
       "  </tbody>\n",
       "</table>\n",
       "<p>352 rows × 8 columns</p>\n",
       "</div>"
      ],
      "text/plain": [
       "       match_id  interval_id  team_id  player_id             nickname  shirt  \\\n",
       "0          4577            1        2         15  Oleksandr Zinchenko     35   \n",
       "1          4577            1        2         30        Gabriel Jesus      9   \n",
       "2          4577            1        2        157         Granit Xhaka     34   \n",
       "3          4577            1        2        162   Gabriel Martinelli     11   \n",
       "4          4577            1        2        163          Bukayo Saka      7   \n",
       "...         ...          ...      ...        ...                  ...    ...   \n",
       "16432      4595            1       20       4157      Boubacar Traoré      6   \n",
       "16433      4595            1       20       5082       Nathan Collins      4   \n",
       "16434      4595            1       20       5131              José Sá      1   \n",
       "16435      4595            1       20       6064           Hugo Bueno     64   \n",
       "16436      4595            1       20       7094           Toti Gomes     24   \n",
       "\n",
       "               x          y  \n",
       "0      -6.095556 -17.260125  \n",
       "1     -25.407863  -5.989329  \n",
       "2     -18.722916  -9.891943  \n",
       "3     -21.028437 -15.301360  \n",
       "4     -20.986642   8.602386  \n",
       "...          ...        ...  \n",
       "16432 -19.078434  -8.205097  \n",
       "16433 -25.171813  -9.889463  \n",
       "16434 -44.672403   0.189599  \n",
       "16435 -23.869012  22.569298  \n",
       "16436 -25.769053  13.179459  \n",
       "\n",
       "[352 rows x 8 columns]"
      ]
     },
     "execution_count": 47,
     "metadata": {},
     "output_type": "execute_result"
    }
   ],
   "source": [
    "players_interval_df = players_df.groupby(['match_id','interval_id','team_id','player_id','nickname','shirt']).agg(\n",
    "    x=('x', 'mean'),\n",
    "    y=('y', 'mean')\n",
    ").reset_index()\n",
    "\n",
    "players_interval_df['player_id'] = players_interval_df['player_id'].astype(int)\n",
    "players_interval_df['match_id'] = players_interval_df['match_id'].astype(int)\n",
    "players_interval_df['interval_id'] = players_interval_df['interval_id'].astype(int)\n",
    "players_interval_df['team_id'] = players_interval_df['team_id'].astype(int)\n",
    "players_interval_df['shirt'] = players_interval_df['shirt'].astype(int)\n",
    "\n",
    "players_interval_df[players_interval_df['interval_id']==1]"
   ]
  },
  {
   "cell_type": "code",
   "execution_count": null,
   "metadata": {},
   "outputs": [
    {
     "data": {
      "text/html": [
       "<div>\n",
       "<style scoped>\n",
       "    .dataframe tbody tr th:only-of-type {\n",
       "        vertical-align: middle;\n",
       "    }\n",
       "\n",
       "    .dataframe tbody tr th {\n",
       "        vertical-align: top;\n",
       "    }\n",
       "\n",
       "    .dataframe thead th {\n",
       "        text-align: right;\n",
       "    }\n",
       "</style>\n",
       "<table border=\"1\" class=\"dataframe\">\n",
       "  <thead>\n",
       "    <tr style=\"text-align: right;\">\n",
       "      <th></th>\n",
       "      <th>match_id</th>\n",
       "      <th>interval_id</th>\n",
       "      <th>team_id</th>\n",
       "      <th>team</th>\n",
       "    </tr>\n",
       "  </thead>\n",
       "  <tbody>\n",
       "    <tr>\n",
       "      <th>0</th>\n",
       "      <td>4577</td>\n",
       "      <td>1.0</td>\n",
       "      <td>6</td>\n",
       "      <td>home</td>\n",
       "    </tr>\n",
       "    <tr>\n",
       "      <th>1</th>\n",
       "      <td>4577</td>\n",
       "      <td>1.0</td>\n",
       "      <td>2</td>\n",
       "      <td>away</td>\n",
       "    </tr>\n",
       "    <tr>\n",
       "      <th>2</th>\n",
       "      <td>4577</td>\n",
       "      <td>2.0</td>\n",
       "      <td>6</td>\n",
       "      <td>home</td>\n",
       "    </tr>\n",
       "    <tr>\n",
       "      <th>3</th>\n",
       "      <td>4577</td>\n",
       "      <td>2.0</td>\n",
       "      <td>2</td>\n",
       "      <td>away</td>\n",
       "    </tr>\n",
       "    <tr>\n",
       "      <th>4</th>\n",
       "      <td>4577</td>\n",
       "      <td>3.0</td>\n",
       "      <td>6</td>\n",
       "      <td>home</td>\n",
       "    </tr>\n",
       "    <tr>\n",
       "      <th>...</th>\n",
       "      <td>...</td>\n",
       "      <td>...</td>\n",
       "      <td>...</td>\n",
       "      <td>...</td>\n",
       "    </tr>\n",
       "    <tr>\n",
       "      <th>1579</th>\n",
       "      <td>4595</td>\n",
       "      <td>47.0</td>\n",
       "      <td>2</td>\n",
       "      <td>away</td>\n",
       "    </tr>\n",
       "    <tr>\n",
       "      <th>1580</th>\n",
       "      <td>4595</td>\n",
       "      <td>48.0</td>\n",
       "      <td>20</td>\n",
       "      <td>home</td>\n",
       "    </tr>\n",
       "    <tr>\n",
       "      <th>1581</th>\n",
       "      <td>4595</td>\n",
       "      <td>48.0</td>\n",
       "      <td>2</td>\n",
       "      <td>away</td>\n",
       "    </tr>\n",
       "    <tr>\n",
       "      <th>1582</th>\n",
       "      <td>4595</td>\n",
       "      <td>49.0</td>\n",
       "      <td>20</td>\n",
       "      <td>home</td>\n",
       "    </tr>\n",
       "    <tr>\n",
       "      <th>1583</th>\n",
       "      <td>4595</td>\n",
       "      <td>49.0</td>\n",
       "      <td>2</td>\n",
       "      <td>away</td>\n",
       "    </tr>\n",
       "  </tbody>\n",
       "</table>\n",
       "<p>1584 rows × 4 columns</p>\n",
       "</div>"
      ],
      "text/plain": [
       "      match_id  interval_id  team_id  team\n",
       "0         4577          1.0        6  home\n",
       "1         4577          1.0        2  away\n",
       "2         4577          2.0        6  home\n",
       "3         4577          2.0        2  away\n",
       "4         4577          3.0        6  home\n",
       "...        ...          ...      ...   ...\n",
       "1579      4595         47.0        2  away\n",
       "1580      4595         48.0       20  home\n",
       "1581      4595         48.0        2  away\n",
       "1582      4595         49.0       20  home\n",
       "1583      4595         49.0        2  away\n",
       "\n",
       "[1584 rows x 4 columns]"
      ]
     },
     "execution_count": 48,
     "metadata": {},
     "output_type": "execute_result"
    }
   ],
   "source": [
    "match_intervals = players_df[['match_id','interval_id','team_id','team']].drop_duplicates().reset_index(drop=True)\n",
    "match_intervals = match_intervals[match_intervals['interval_id'].notna()].reset_index(drop=True)\n",
    "match_intervals"
   ]
  },
  {
   "cell_type": "code",
   "execution_count": null,
   "metadata": {},
   "outputs": [
    {
     "data": {
      "text/html": [
       "<div>\n",
       "<style scoped>\n",
       "    .dataframe tbody tr th:only-of-type {\n",
       "        vertical-align: middle;\n",
       "    }\n",
       "\n",
       "    .dataframe tbody tr th {\n",
       "        vertical-align: top;\n",
       "    }\n",
       "\n",
       "    .dataframe thead th {\n",
       "        text-align: right;\n",
       "    }\n",
       "</style>\n",
       "<table border=\"1\" class=\"dataframe\">\n",
       "  <thead>\n",
       "    <tr style=\"text-align: right;\">\n",
       "      <th></th>\n",
       "      <th>match_id</th>\n",
       "      <th>interval_id</th>\n",
       "      <th>team_id</th>\n",
       "      <th>player_id</th>\n",
       "      <th>nickname</th>\n",
       "      <th>shirt</th>\n",
       "      <th>x</th>\n",
       "      <th>y</th>\n",
       "    </tr>\n",
       "  </thead>\n",
       "  <tbody>\n",
       "    <tr>\n",
       "      <th>0</th>\n",
       "      <td>4577</td>\n",
       "      <td>1.0</td>\n",
       "      <td>2</td>\n",
       "      <td>-1</td>\n",
       "      <td>Goal</td>\n",
       "      <td>-1</td>\n",
       "      <td>-52.000000</td>\n",
       "      <td>0.000000</td>\n",
       "    </tr>\n",
       "    <tr>\n",
       "      <th>1</th>\n",
       "      <td>4577</td>\n",
       "      <td>1.0</td>\n",
       "      <td>2</td>\n",
       "      <td>15</td>\n",
       "      <td>Oleksandr Zinchenko</td>\n",
       "      <td>35</td>\n",
       "      <td>-6.095556</td>\n",
       "      <td>-17.260125</td>\n",
       "    </tr>\n",
       "    <tr>\n",
       "      <th>2</th>\n",
       "      <td>4577</td>\n",
       "      <td>1.0</td>\n",
       "      <td>2</td>\n",
       "      <td>30</td>\n",
       "      <td>Gabriel Jesus</td>\n",
       "      <td>9</td>\n",
       "      <td>-25.407863</td>\n",
       "      <td>-5.989329</td>\n",
       "    </tr>\n",
       "    <tr>\n",
       "      <th>3</th>\n",
       "      <td>4577</td>\n",
       "      <td>1.0</td>\n",
       "      <td>2</td>\n",
       "      <td>157</td>\n",
       "      <td>Granit Xhaka</td>\n",
       "      <td>34</td>\n",
       "      <td>-18.722916</td>\n",
       "      <td>-9.891943</td>\n",
       "    </tr>\n",
       "    <tr>\n",
       "      <th>4</th>\n",
       "      <td>4577</td>\n",
       "      <td>1.0</td>\n",
       "      <td>2</td>\n",
       "      <td>162</td>\n",
       "      <td>Gabriel Martinelli</td>\n",
       "      <td>11</td>\n",
       "      <td>-21.028437</td>\n",
       "      <td>-15.301360</td>\n",
       "    </tr>\n",
       "    <tr>\n",
       "      <th>...</th>\n",
       "      <td>...</td>\n",
       "      <td>...</td>\n",
       "      <td>...</td>\n",
       "      <td>...</td>\n",
       "      <td>...</td>\n",
       "      <td>...</td>\n",
       "      <td>...</td>\n",
       "      <td>...</td>\n",
       "    </tr>\n",
       "    <tr>\n",
       "      <th>19076</th>\n",
       "      <td>4595</td>\n",
       "      <td>49.0</td>\n",
       "      <td>20</td>\n",
       "      <td>5082</td>\n",
       "      <td>Nathan Collins</td>\n",
       "      <td>4</td>\n",
       "      <td>-20.298433</td>\n",
       "      <td>-7.253906</td>\n",
       "    </tr>\n",
       "    <tr>\n",
       "      <th>19077</th>\n",
       "      <td>4595</td>\n",
       "      <td>49.0</td>\n",
       "      <td>20</td>\n",
       "      <td>5131</td>\n",
       "      <td>José Sá</td>\n",
       "      <td>1</td>\n",
       "      <td>-45.520099</td>\n",
       "      <td>3.211650</td>\n",
       "    </tr>\n",
       "    <tr>\n",
       "      <th>19078</th>\n",
       "      <td>4595</td>\n",
       "      <td>49.0</td>\n",
       "      <td>20</td>\n",
       "      <td>6064</td>\n",
       "      <td>Hugo Bueno</td>\n",
       "      <td>64</td>\n",
       "      <td>-6.888931</td>\n",
       "      <td>26.067867</td>\n",
       "    </tr>\n",
       "    <tr>\n",
       "      <th>19079</th>\n",
       "      <td>4595</td>\n",
       "      <td>49.0</td>\n",
       "      <td>20</td>\n",
       "      <td>8079</td>\n",
       "      <td>Matheus Nunes</td>\n",
       "      <td>27</td>\n",
       "      <td>-10.217798</td>\n",
       "      <td>7.580586</td>\n",
       "    </tr>\n",
       "    <tr>\n",
       "      <th>19080</th>\n",
       "      <td>4595</td>\n",
       "      <td>49.0</td>\n",
       "      <td>20</td>\n",
       "      <td>13895</td>\n",
       "      <td>Dexter Lembikisa</td>\n",
       "      <td>81</td>\n",
       "      <td>-11.803517</td>\n",
       "      <td>-2.098502</td>\n",
       "    </tr>\n",
       "  </tbody>\n",
       "</table>\n",
       "<p>19081 rows × 8 columns</p>\n",
       "</div>"
      ],
      "text/plain": [
       "       match_id  interval_id  team_id  player_id             nickname  shirt  \\\n",
       "0          4577          1.0        2         -1                 Goal     -1   \n",
       "1          4577          1.0        2         15  Oleksandr Zinchenko     35   \n",
       "2          4577          1.0        2         30        Gabriel Jesus      9   \n",
       "3          4577          1.0        2        157         Granit Xhaka     34   \n",
       "4          4577          1.0        2        162   Gabriel Martinelli     11   \n",
       "...         ...          ...      ...        ...                  ...    ...   \n",
       "19076      4595         49.0       20       5082       Nathan Collins      4   \n",
       "19077      4595         49.0       20       5131              José Sá      1   \n",
       "19078      4595         49.0       20       6064           Hugo Bueno     64   \n",
       "19079      4595         49.0       20       8079        Matheus Nunes     27   \n",
       "19080      4595         49.0       20      13895     Dexter Lembikisa     81   \n",
       "\n",
       "               x          y  \n",
       "0     -52.000000   0.000000  \n",
       "1      -6.095556 -17.260125  \n",
       "2     -25.407863  -5.989329  \n",
       "3     -18.722916  -9.891943  \n",
       "4     -21.028437 -15.301360  \n",
       "...          ...        ...  \n",
       "19076 -20.298433  -7.253906  \n",
       "19077 -45.520099   3.211650  \n",
       "19078  -6.888931  26.067867  \n",
       "19079 -10.217798   7.580586  \n",
       "19080 -11.803517  -2.098502  \n",
       "\n",
       "[19081 rows x 8 columns]"
      ]
     },
     "execution_count": 49,
     "metadata": {},
     "output_type": "execute_result"
    }
   ],
   "source": [
    "data = [{\n",
    "    'match_id':row['match_id'],\n",
    "    'interval_id':row['interval_id'],\n",
    "    'team_id': row['team_id'],\n",
    "    'player_id': -1,\n",
    "    'nickname': 'Goal',\n",
    "    'shirt': -1,\n",
    "    'x': 52 if row['team']=='home' else -52,\n",
    "    'y': 0\n",
    "} for _,row in match_intervals.iterrows()]\n",
    "\n",
    "data = pd.DataFrame(data)\n",
    "\n",
    "players_interval_df = pd.concat([players_interval_df, data], ignore_index=True).sort_values(['match_id','interval_id','team_id','player_id']).reset_index(drop=True)\n",
    "players_interval_df"
   ]
  },
  {
   "cell_type": "code",
   "execution_count": null,
   "metadata": {},
   "outputs": [
    {
     "data": {
      "text/html": [
       "<div>\n",
       "<style scoped>\n",
       "    .dataframe tbody tr th:only-of-type {\n",
       "        vertical-align: middle;\n",
       "    }\n",
       "\n",
       "    .dataframe tbody tr th {\n",
       "        vertical-align: top;\n",
       "    }\n",
       "\n",
       "    .dataframe thead th {\n",
       "        text-align: right;\n",
       "    }\n",
       "</style>\n",
       "<table border=\"1\" class=\"dataframe\">\n",
       "  <thead>\n",
       "    <tr style=\"text-align: right;\">\n",
       "      <th></th>\n",
       "      <th>match_id</th>\n",
       "      <th>interval_id</th>\n",
       "      <th>team_id</th>\n",
       "      <th>player_id</th>\n",
       "      <th>nickname</th>\n",
       "      <th>shirt</th>\n",
       "      <th>x</th>\n",
       "      <th>y</th>\n",
       "    </tr>\n",
       "  </thead>\n",
       "  <tbody>\n",
       "    <tr>\n",
       "      <th>0</th>\n",
       "      <td>4577</td>\n",
       "      <td>1.0</td>\n",
       "      <td>2</td>\n",
       "      <td>-1</td>\n",
       "      <td>Goal</td>\n",
       "      <td>-1</td>\n",
       "      <td>-52.000000</td>\n",
       "      <td>0.000000</td>\n",
       "    </tr>\n",
       "    <tr>\n",
       "      <th>1</th>\n",
       "      <td>4577</td>\n",
       "      <td>1.0</td>\n",
       "      <td>2</td>\n",
       "      <td>15</td>\n",
       "      <td>Oleksandr Zinchenko</td>\n",
       "      <td>35</td>\n",
       "      <td>-6.095556</td>\n",
       "      <td>-17.260125</td>\n",
       "    </tr>\n",
       "    <tr>\n",
       "      <th>2</th>\n",
       "      <td>4577</td>\n",
       "      <td>1.0</td>\n",
       "      <td>2</td>\n",
       "      <td>30</td>\n",
       "      <td>Gabriel Jesus</td>\n",
       "      <td>9</td>\n",
       "      <td>-25.407863</td>\n",
       "      <td>-5.989329</td>\n",
       "    </tr>\n",
       "    <tr>\n",
       "      <th>3</th>\n",
       "      <td>4577</td>\n",
       "      <td>1.0</td>\n",
       "      <td>2</td>\n",
       "      <td>157</td>\n",
       "      <td>Granit Xhaka</td>\n",
       "      <td>34</td>\n",
       "      <td>-18.722916</td>\n",
       "      <td>-9.891943</td>\n",
       "    </tr>\n",
       "    <tr>\n",
       "      <th>4</th>\n",
       "      <td>4577</td>\n",
       "      <td>1.0</td>\n",
       "      <td>2</td>\n",
       "      <td>162</td>\n",
       "      <td>Gabriel Martinelli</td>\n",
       "      <td>11</td>\n",
       "      <td>-21.028437</td>\n",
       "      <td>-15.301360</td>\n",
       "    </tr>\n",
       "    <tr>\n",
       "      <th>...</th>\n",
       "      <td>...</td>\n",
       "      <td>...</td>\n",
       "      <td>...</td>\n",
       "      <td>...</td>\n",
       "      <td>...</td>\n",
       "      <td>...</td>\n",
       "      <td>...</td>\n",
       "      <td>...</td>\n",
       "    </tr>\n",
       "    <tr>\n",
       "      <th>19076</th>\n",
       "      <td>4595</td>\n",
       "      <td>49.0</td>\n",
       "      <td>20</td>\n",
       "      <td>5082</td>\n",
       "      <td>Nathan Collins</td>\n",
       "      <td>4</td>\n",
       "      <td>-20.298433</td>\n",
       "      <td>-7.253906</td>\n",
       "    </tr>\n",
       "    <tr>\n",
       "      <th>19077</th>\n",
       "      <td>4595</td>\n",
       "      <td>49.0</td>\n",
       "      <td>20</td>\n",
       "      <td>5131</td>\n",
       "      <td>José Sá</td>\n",
       "      <td>1</td>\n",
       "      <td>-45.520099</td>\n",
       "      <td>3.211650</td>\n",
       "    </tr>\n",
       "    <tr>\n",
       "      <th>19078</th>\n",
       "      <td>4595</td>\n",
       "      <td>49.0</td>\n",
       "      <td>20</td>\n",
       "      <td>6064</td>\n",
       "      <td>Hugo Bueno</td>\n",
       "      <td>64</td>\n",
       "      <td>-6.888931</td>\n",
       "      <td>26.067867</td>\n",
       "    </tr>\n",
       "    <tr>\n",
       "      <th>19079</th>\n",
       "      <td>4595</td>\n",
       "      <td>49.0</td>\n",
       "      <td>20</td>\n",
       "      <td>8079</td>\n",
       "      <td>Matheus Nunes</td>\n",
       "      <td>27</td>\n",
       "      <td>-10.217798</td>\n",
       "      <td>7.580586</td>\n",
       "    </tr>\n",
       "    <tr>\n",
       "      <th>19080</th>\n",
       "      <td>4595</td>\n",
       "      <td>49.0</td>\n",
       "      <td>20</td>\n",
       "      <td>13895</td>\n",
       "      <td>Dexter Lembikisa</td>\n",
       "      <td>81</td>\n",
       "      <td>-11.803517</td>\n",
       "      <td>-2.098502</td>\n",
       "    </tr>\n",
       "  </tbody>\n",
       "</table>\n",
       "<p>19081 rows × 8 columns</p>\n",
       "</div>"
      ],
      "text/plain": [
       "       match_id  interval_id  team_id  player_id             nickname  shirt  \\\n",
       "0          4577          1.0        2         -1                 Goal     -1   \n",
       "1          4577          1.0        2         15  Oleksandr Zinchenko     35   \n",
       "2          4577          1.0        2         30        Gabriel Jesus      9   \n",
       "3          4577          1.0        2        157         Granit Xhaka     34   \n",
       "4          4577          1.0        2        162   Gabriel Martinelli     11   \n",
       "...         ...          ...      ...        ...                  ...    ...   \n",
       "19076      4595         49.0       20       5082       Nathan Collins      4   \n",
       "19077      4595         49.0       20       5131              José Sá      1   \n",
       "19078      4595         49.0       20       6064           Hugo Bueno     64   \n",
       "19079      4595         49.0       20       8079        Matheus Nunes     27   \n",
       "19080      4595         49.0       20      13895     Dexter Lembikisa     81   \n",
       "\n",
       "               x          y  \n",
       "0     -52.000000   0.000000  \n",
       "1      -6.095556 -17.260125  \n",
       "2     -25.407863  -5.989329  \n",
       "3     -18.722916  -9.891943  \n",
       "4     -21.028437 -15.301360  \n",
       "...          ...        ...  \n",
       "19076 -20.298433  -7.253906  \n",
       "19077 -45.520099   3.211650  \n",
       "19078  -6.888931  26.067867  \n",
       "19079 -10.217798   7.580586  \n",
       "19080 -11.803517  -2.098502  \n",
       "\n",
       "[19081 rows x 8 columns]"
      ]
     },
     "execution_count": 50,
     "metadata": {},
     "output_type": "execute_result"
    }
   ],
   "source": [
    "players_interval_df = players_interval_df[players_interval_df['interval_id'].notna()].reset_index(drop=True)\n",
    "players_interval_df"
   ]
  },
  {
   "cell_type": "markdown",
   "metadata": {},
   "source": [
    "### Events"
   ]
  },
  {
   "cell_type": "code",
   "execution_count": null,
   "metadata": {},
   "outputs": [
    {
     "data": {
      "text/html": [
       "<div>\n",
       "<style scoped>\n",
       "    .dataframe tbody tr th:only-of-type {\n",
       "        vertical-align: middle;\n",
       "    }\n",
       "\n",
       "    .dataframe tbody tr th {\n",
       "        vertical-align: top;\n",
       "    }\n",
       "\n",
       "    .dataframe thead th {\n",
       "        text-align: right;\n",
       "    }\n",
       "</style>\n",
       "<table border=\"1\" class=\"dataframe\">\n",
       "  <thead>\n",
       "    <tr style=\"text-align: right;\">\n",
       "      <th></th>\n",
       "      <th>match_id</th>\n",
       "      <th>player_id</th>\n",
       "      <th>receiver_id</th>\n",
       "      <th>event_id</th>\n",
       "      <th>possession_id</th>\n",
       "      <th>team_id</th>\n",
       "    </tr>\n",
       "  </thead>\n",
       "  <tbody>\n",
       "    <tr>\n",
       "      <th>0</th>\n",
       "      <td>4577</td>\n",
       "      <td>105</td>\n",
       "      <td>1926</td>\n",
       "      <td>6227560</td>\n",
       "      <td>6093714</td>\n",
       "      <td>6</td>\n",
       "    </tr>\n",
       "    <tr>\n",
       "      <th>2</th>\n",
       "      <td>4577</td>\n",
       "      <td>157</td>\n",
       "      <td>1688</td>\n",
       "      <td>6227567</td>\n",
       "      <td>6093720</td>\n",
       "      <td>2</td>\n",
       "    </tr>\n",
       "    <tr>\n",
       "      <th>3</th>\n",
       "      <td>4577</td>\n",
       "      <td>1688</td>\n",
       "      <td>30</td>\n",
       "      <td>6227569</td>\n",
       "      <td>6093722</td>\n",
       "      <td>2</td>\n",
       "    </tr>\n",
       "    <tr>\n",
       "      <th>4</th>\n",
       "      <td>4577</td>\n",
       "      <td>30</td>\n",
       "      <td>162</td>\n",
       "      <td>6227572</td>\n",
       "      <td>6093725</td>\n",
       "      <td>2</td>\n",
       "    </tr>\n",
       "    <tr>\n",
       "      <th>5</th>\n",
       "      <td>4577</td>\n",
       "      <td>162</td>\n",
       "      <td>30</td>\n",
       "      <td>6227576</td>\n",
       "      <td>6093730</td>\n",
       "      <td>2</td>\n",
       "    </tr>\n",
       "  </tbody>\n",
       "</table>\n",
       "</div>"
      ],
      "text/plain": [
       "  match_id player_id receiver_id event_id possession_id team_id\n",
       "0     4577       105        1926  6227560       6093714       6\n",
       "2     4577       157        1688  6227567       6093720       2\n",
       "3     4577      1688          30  6227569       6093722       2\n",
       "4     4577        30         162  6227572       6093725       2\n",
       "5     4577       162          30  6227576       6093730       2"
      ]
     },
     "execution_count": 51,
     "metadata": {},
     "output_type": "execute_result"
    }
   ],
   "source": [
    "pass_df = events_df[(events_df['possession_type']=='PASS') & (events_df['outcome']=='C')][['match_id','player_id','receiver_id','event_id','possession_id','team_id']]\n",
    "pass_df.head()"
   ]
  },
  {
   "cell_type": "code",
   "execution_count": null,
   "metadata": {},
   "outputs": [
    {
     "data": {
      "text/html": [
       "<div>\n",
       "<style scoped>\n",
       "    .dataframe tbody tr th:only-of-type {\n",
       "        vertical-align: middle;\n",
       "    }\n",
       "\n",
       "    .dataframe tbody tr th {\n",
       "        vertical-align: top;\n",
       "    }\n",
       "\n",
       "    .dataframe thead th {\n",
       "        text-align: right;\n",
       "    }\n",
       "</style>\n",
       "<table border=\"1\" class=\"dataframe\">\n",
       "  <thead>\n",
       "    <tr style=\"text-align: right;\">\n",
       "      <th></th>\n",
       "      <th>match_id</th>\n",
       "      <th>player_id</th>\n",
       "      <th>receiver_id</th>\n",
       "      <th>event_id</th>\n",
       "      <th>possession_id</th>\n",
       "      <th>team_id</th>\n",
       "    </tr>\n",
       "  </thead>\n",
       "  <tbody>\n",
       "    <tr>\n",
       "      <th>69</th>\n",
       "      <td>4577</td>\n",
       "      <td>25</td>\n",
       "      <td>25</td>\n",
       "      <td>6228037</td>\n",
       "      <td>6094172</td>\n",
       "      <td>6</td>\n",
       "    </tr>\n",
       "    <tr>\n",
       "      <th>76</th>\n",
       "      <td>4577</td>\n",
       "      <td>15</td>\n",
       "      <td>15</td>\n",
       "      <td>6228086</td>\n",
       "      <td>6149210</td>\n",
       "      <td>2</td>\n",
       "    </tr>\n",
       "    <tr>\n",
       "      <th>127</th>\n",
       "      <td>4577</td>\n",
       "      <td>157</td>\n",
       "      <td>157</td>\n",
       "      <td>6228358</td>\n",
       "      <td>6149422</td>\n",
       "      <td>2</td>\n",
       "    </tr>\n",
       "    <tr>\n",
       "      <th>166</th>\n",
       "      <td>4577</td>\n",
       "      <td>105</td>\n",
       "      <td>105</td>\n",
       "      <td>6228552</td>\n",
       "      <td>6094697</td>\n",
       "      <td>6</td>\n",
       "    </tr>\n",
       "    <tr>\n",
       "      <th>167</th>\n",
       "      <td>4577</td>\n",
       "      <td>1688</td>\n",
       "      <td>1688</td>\n",
       "      <td>6228555</td>\n",
       "      <td>6094699</td>\n",
       "      <td>2</td>\n",
       "    </tr>\n",
       "  </tbody>\n",
       "</table>\n",
       "</div>"
      ],
      "text/plain": [
       "    match_id player_id receiver_id event_id possession_id team_id\n",
       "69      4577        25          25  6228037       6094172       6\n",
       "76      4577        15          15  6228086       6149210       2\n",
       "127     4577       157         157  6228358       6149422       2\n",
       "166     4577       105         105  6228552       6094697       6\n",
       "167     4577      1688        1688  6228555       6094699       2"
      ]
     },
     "execution_count": 52,
     "metadata": {},
     "output_type": "execute_result"
    }
   ],
   "source": [
    "carry_df = events_df[(events_df['possession_type']=='CARRY') & ((events_df['carry_type'].isin(['T','C'])) | ((events_df['carry_type']=='D')&(events_df['outcome'].isin(['K','B']))))][['match_id','player_id','receiver_id','event_id','possession_id','team_id']]\n",
    "carry_df.head()"
   ]
  },
  {
   "cell_type": "code",
   "execution_count": null,
   "metadata": {},
   "outputs": [
    {
     "data": {
      "text/html": [
       "<div>\n",
       "<style scoped>\n",
       "    .dataframe tbody tr th:only-of-type {\n",
       "        vertical-align: middle;\n",
       "    }\n",
       "\n",
       "    .dataframe tbody tr th {\n",
       "        vertical-align: top;\n",
       "    }\n",
       "\n",
       "    .dataframe thead th {\n",
       "        text-align: right;\n",
       "    }\n",
       "</style>\n",
       "<table border=\"1\" class=\"dataframe\">\n",
       "  <thead>\n",
       "    <tr style=\"text-align: right;\">\n",
       "      <th></th>\n",
       "      <th>match_id</th>\n",
       "      <th>player_id</th>\n",
       "      <th>receiver_id</th>\n",
       "      <th>event_id</th>\n",
       "      <th>possession_id</th>\n",
       "      <th>team_id</th>\n",
       "    </tr>\n",
       "  </thead>\n",
       "  <tbody>\n",
       "    <tr>\n",
       "      <th>56</th>\n",
       "      <td>4577</td>\n",
       "      <td>1916</td>\n",
       "      <td>-1</td>\n",
       "      <td>6227938</td>\n",
       "      <td>6094071</td>\n",
       "      <td>2</td>\n",
       "    </tr>\n",
       "    <tr>\n",
       "      <th>82</th>\n",
       "      <td>4577</td>\n",
       "      <td>1916</td>\n",
       "      <td>-1</td>\n",
       "      <td>6228117</td>\n",
       "      <td>6094257</td>\n",
       "      <td>2</td>\n",
       "    </tr>\n",
       "    <tr>\n",
       "      <th>159</th>\n",
       "      <td>4577</td>\n",
       "      <td>162</td>\n",
       "      <td>-1</td>\n",
       "      <td>6228508</td>\n",
       "      <td>6094655</td>\n",
       "      <td>2</td>\n",
       "    </tr>\n",
       "    <tr>\n",
       "      <th>186</th>\n",
       "      <td>4577</td>\n",
       "      <td>30</td>\n",
       "      <td>-1</td>\n",
       "      <td>6228645</td>\n",
       "      <td>6094796</td>\n",
       "      <td>2</td>\n",
       "    </tr>\n",
       "    <tr>\n",
       "      <th>190</th>\n",
       "      <td>4577</td>\n",
       "      <td>105</td>\n",
       "      <td>-1</td>\n",
       "      <td>6228690</td>\n",
       "      <td>6094838</td>\n",
       "      <td>6</td>\n",
       "    </tr>\n",
       "  </tbody>\n",
       "</table>\n",
       "</div>"
      ],
      "text/plain": [
       "    match_id player_id receiver_id event_id possession_id team_id\n",
       "56      4577      1916          -1  6227938       6094071       2\n",
       "82      4577      1916          -1  6228117       6094257       2\n",
       "159     4577       162          -1  6228508       6094655       2\n",
       "186     4577        30          -1  6228645       6094796       2\n",
       "190     4577       105          -1  6228690       6094838       6"
      ]
     },
     "execution_count": 53,
     "metadata": {},
     "output_type": "execute_result"
    }
   ],
   "source": [
    "shots_df = events_df[(events_df['possession_type']=='SHOT')][['match_id','player_id','receiver_id','event_id','possession_id','team_id']]\n",
    "shots_df.head()"
   ]
  },
  {
   "cell_type": "code",
   "execution_count": null,
   "metadata": {},
   "outputs": [
    {
     "data": {
      "text/html": [
       "<div>\n",
       "<style scoped>\n",
       "    .dataframe tbody tr th:only-of-type {\n",
       "        vertical-align: middle;\n",
       "    }\n",
       "\n",
       "    .dataframe tbody tr th {\n",
       "        vertical-align: top;\n",
       "    }\n",
       "\n",
       "    .dataframe thead th {\n",
       "        text-align: right;\n",
       "    }\n",
       "</style>\n",
       "<table border=\"1\" class=\"dataframe\">\n",
       "  <thead>\n",
       "    <tr style=\"text-align: right;\">\n",
       "      <th></th>\n",
       "      <th>match_id</th>\n",
       "      <th>player_id</th>\n",
       "      <th>receiver_id</th>\n",
       "      <th>event_id</th>\n",
       "      <th>possession_id</th>\n",
       "      <th>team_id</th>\n",
       "    </tr>\n",
       "  </thead>\n",
       "  <tbody>\n",
       "    <tr>\n",
       "      <th>0</th>\n",
       "      <td>4577</td>\n",
       "      <td>105</td>\n",
       "      <td>1926</td>\n",
       "      <td>6227560</td>\n",
       "      <td>6093714</td>\n",
       "      <td>6</td>\n",
       "    </tr>\n",
       "    <tr>\n",
       "      <th>1</th>\n",
       "      <td>4577</td>\n",
       "      <td>157</td>\n",
       "      <td>1688</td>\n",
       "      <td>6227567</td>\n",
       "      <td>6093720</td>\n",
       "      <td>2</td>\n",
       "    </tr>\n",
       "    <tr>\n",
       "      <th>2</th>\n",
       "      <td>4577</td>\n",
       "      <td>1688</td>\n",
       "      <td>30</td>\n",
       "      <td>6227569</td>\n",
       "      <td>6093722</td>\n",
       "      <td>2</td>\n",
       "    </tr>\n",
       "    <tr>\n",
       "      <th>3</th>\n",
       "      <td>4577</td>\n",
       "      <td>30</td>\n",
       "      <td>162</td>\n",
       "      <td>6227572</td>\n",
       "      <td>6093725</td>\n",
       "      <td>2</td>\n",
       "    </tr>\n",
       "    <tr>\n",
       "      <th>4</th>\n",
       "      <td>4577</td>\n",
       "      <td>162</td>\n",
       "      <td>30</td>\n",
       "      <td>6227576</td>\n",
       "      <td>6093730</td>\n",
       "      <td>2</td>\n",
       "    </tr>\n",
       "  </tbody>\n",
       "</table>\n",
       "</div>"
      ],
      "text/plain": [
       "  match_id player_id receiver_id event_id possession_id team_id\n",
       "0     4577       105        1926  6227560       6093714       6\n",
       "1     4577       157        1688  6227567       6093720       2\n",
       "2     4577      1688          30  6227569       6093722       2\n",
       "3     4577        30         162  6227572       6093725       2\n",
       "4     4577       162          30  6227576       6093730       2"
      ]
     },
     "execution_count": 54,
     "metadata": {},
     "output_type": "execute_result"
    }
   ],
   "source": [
    "network_events_df = pd.concat([pass_df,carry_df, shots_df]).reset_index(drop=True)\n",
    "network_events_df.head()"
   ]
  },
  {
   "cell_type": "markdown",
   "metadata": {},
   "source": [
    "### Networks"
   ]
  },
  {
   "cell_type": "code",
   "execution_count": null,
   "metadata": {},
   "outputs": [
    {
     "data": {
      "text/html": [
       "<div>\n",
       "<style scoped>\n",
       "    .dataframe tbody tr th:only-of-type {\n",
       "        vertical-align: middle;\n",
       "    }\n",
       "\n",
       "    .dataframe tbody tr th {\n",
       "        vertical-align: top;\n",
       "    }\n",
       "\n",
       "    .dataframe thead th {\n",
       "        text-align: right;\n",
       "    }\n",
       "</style>\n",
       "<table border=\"1\" class=\"dataframe\">\n",
       "  <thead>\n",
       "    <tr style=\"text-align: right;\">\n",
       "      <th></th>\n",
       "      <th>match_id</th>\n",
       "      <th>player_id</th>\n",
       "      <th>receiver_id</th>\n",
       "      <th>event_id</th>\n",
       "      <th>possession_id</th>\n",
       "      <th>team_id</th>\n",
       "      <th>interval_id</th>\n",
       "      <th>frame_id</th>\n",
       "    </tr>\n",
       "  </thead>\n",
       "  <tbody>\n",
       "    <tr>\n",
       "      <th>0</th>\n",
       "      <td>4577.0</td>\n",
       "      <td>105</td>\n",
       "      <td>1926</td>\n",
       "      <td>6227560.0</td>\n",
       "      <td>6093714.0</td>\n",
       "      <td>6</td>\n",
       "      <td>1.0</td>\n",
       "      <td>9539.0</td>\n",
       "    </tr>\n",
       "    <tr>\n",
       "      <th>1</th>\n",
       "      <td>4577.0</td>\n",
       "      <td>157</td>\n",
       "      <td>1688</td>\n",
       "      <td>6227567.0</td>\n",
       "      <td>6093720.0</td>\n",
       "      <td>2</td>\n",
       "      <td>1.0</td>\n",
       "      <td>9738.0</td>\n",
       "    </tr>\n",
       "    <tr>\n",
       "      <th>2</th>\n",
       "      <td>4577.0</td>\n",
       "      <td>1688</td>\n",
       "      <td>30</td>\n",
       "      <td>6227569.0</td>\n",
       "      <td>6093722.0</td>\n",
       "      <td>2</td>\n",
       "      <td>1.0</td>\n",
       "      <td>9804.0</td>\n",
       "    </tr>\n",
       "    <tr>\n",
       "      <th>3</th>\n",
       "      <td>4577.0</td>\n",
       "      <td>30</td>\n",
       "      <td>162</td>\n",
       "      <td>6227572.0</td>\n",
       "      <td>6093725.0</td>\n",
       "      <td>2</td>\n",
       "      <td>1.0</td>\n",
       "      <td>9858.0</td>\n",
       "    </tr>\n",
       "    <tr>\n",
       "      <th>4</th>\n",
       "      <td>4577.0</td>\n",
       "      <td>162</td>\n",
       "      <td>30</td>\n",
       "      <td>6227576.0</td>\n",
       "      <td>6093730.0</td>\n",
       "      <td>2</td>\n",
       "      <td>1.0</td>\n",
       "      <td>9880.0</td>\n",
       "    </tr>\n",
       "  </tbody>\n",
       "</table>\n",
       "</div>"
      ],
      "text/plain": [
       "   match_id player_id receiver_id   event_id  possession_id team_id  \\\n",
       "0    4577.0       105        1926  6227560.0      6093714.0       6   \n",
       "1    4577.0       157        1688  6227567.0      6093720.0       2   \n",
       "2    4577.0      1688          30  6227569.0      6093722.0       2   \n",
       "3    4577.0        30         162  6227572.0      6093725.0       2   \n",
       "4    4577.0       162          30  6227576.0      6093730.0       2   \n",
       "\n",
       "   interval_id  frame_id  \n",
       "0          1.0    9539.0  \n",
       "1          1.0    9738.0  \n",
       "2          1.0    9804.0  \n",
       "3          1.0    9858.0  \n",
       "4          1.0    9880.0  "
      ]
     },
     "execution_count": 55,
     "metadata": {},
     "output_type": "execute_result"
    }
   ],
   "source": [
    "network_events_df['match_id'] = network_events_df['match_id'].astype(float)\n",
    "network_events_df['event_id'] = network_events_df['event_id'].astype(float)\n",
    "network_events_df['possession_id'] = network_events_df['possession_id'].astype(float)\n",
    "metadata_df['match_id'] = metadata_df['match_id'].astype(float)\n",
    "metadata_df['event_id'] = metadata_df['event_id'].astype(float)\n",
    "metadata_df['possession_id'] = metadata_df['possession_id'].astype(float)\n",
    "\n",
    "network_frame_df = network_events_df.merge(metadata_df[['match_id','interval_id','frame_id','event_id','possession_id']], on=['match_id','event_id','possession_id'], how='left')\n",
    "network_frame_df.head()"
   ]
  },
  {
   "cell_type": "code",
   "execution_count": null,
   "metadata": {},
   "outputs": [
    {
     "data": {
      "text/html": [
       "<div>\n",
       "<style scoped>\n",
       "    .dataframe tbody tr th:only-of-type {\n",
       "        vertical-align: middle;\n",
       "    }\n",
       "\n",
       "    .dataframe tbody tr th {\n",
       "        vertical-align: top;\n",
       "    }\n",
       "\n",
       "    .dataframe thead th {\n",
       "        text-align: right;\n",
       "    }\n",
       "</style>\n",
       "<table border=\"1\" class=\"dataframe\">\n",
       "  <thead>\n",
       "    <tr style=\"text-align: right;\">\n",
       "      <th></th>\n",
       "      <th>match_id</th>\n",
       "      <th>interval_id</th>\n",
       "      <th>team_id</th>\n",
       "      <th>player_id</th>\n",
       "      <th>receiver_id</th>\n",
       "      <th>count</th>\n",
       "    </tr>\n",
       "  </thead>\n",
       "  <tbody>\n",
       "    <tr>\n",
       "      <th>0</th>\n",
       "      <td>4577</td>\n",
       "      <td>1</td>\n",
       "      <td>2</td>\n",
       "      <td>157</td>\n",
       "      <td>1688</td>\n",
       "      <td>1</td>\n",
       "    </tr>\n",
       "    <tr>\n",
       "      <th>1</th>\n",
       "      <td>4577</td>\n",
       "      <td>1</td>\n",
       "      <td>2</td>\n",
       "      <td>162</td>\n",
       "      <td>30</td>\n",
       "      <td>1</td>\n",
       "    </tr>\n",
       "    <tr>\n",
       "      <th>2</th>\n",
       "      <td>4577</td>\n",
       "      <td>1</td>\n",
       "      <td>2</td>\n",
       "      <td>1688</td>\n",
       "      <td>30</td>\n",
       "      <td>1</td>\n",
       "    </tr>\n",
       "    <tr>\n",
       "      <th>3</th>\n",
       "      <td>4577</td>\n",
       "      <td>1</td>\n",
       "      <td>2</td>\n",
       "      <td>1895</td>\n",
       "      <td>1688</td>\n",
       "      <td>1</td>\n",
       "    </tr>\n",
       "    <tr>\n",
       "      <th>4</th>\n",
       "      <td>4577</td>\n",
       "      <td>1</td>\n",
       "      <td>2</td>\n",
       "      <td>30</td>\n",
       "      <td>162</td>\n",
       "      <td>2</td>\n",
       "    </tr>\n",
       "  </tbody>\n",
       "</table>\n",
       "</div>"
      ],
      "text/plain": [
       "   match_id  interval_id  team_id  player_id  receiver_id  count\n",
       "0      4577            1        2        157         1688      1\n",
       "1      4577            1        2        162           30      1\n",
       "2      4577            1        2       1688           30      1\n",
       "3      4577            1        2       1895         1688      1\n",
       "4      4577            1        2         30          162      2"
      ]
     },
     "execution_count": 56,
     "metadata": {},
     "output_type": "execute_result"
    }
   ],
   "source": [
    "# Group by match_id, interval_id, team_id, player_id, receiver_id to get the number of interactions between players\n",
    "\n",
    "grouped_df = network_frame_df.groupby(['match_id','interval_id','team_id','player_id','receiver_id']).size().reset_index(name='count')\n",
    "grouped_df['match_id']=grouped_df['match_id'].astype(int)\n",
    "grouped_df['interval_id']=grouped_df['interval_id'].astype(int)\n",
    "grouped_df['team_id']=grouped_df['team_id'].astype(int)\n",
    "grouped_df['player_id']=grouped_df['player_id'].astype(int)\n",
    "grouped_df['receiver_id']=grouped_df['receiver_id'].astype(int)\n",
    "\n",
    "grouped_df.head()"
   ]
  },
  {
   "cell_type": "code",
   "execution_count": null,
   "metadata": {},
   "outputs": [
    {
     "data": {
      "text/html": [
       "<div>\n",
       "<style scoped>\n",
       "    .dataframe tbody tr th:only-of-type {\n",
       "        vertical-align: middle;\n",
       "    }\n",
       "\n",
       "    .dataframe tbody tr th {\n",
       "        vertical-align: top;\n",
       "    }\n",
       "\n",
       "    .dataframe thead th {\n",
       "        text-align: right;\n",
       "    }\n",
       "</style>\n",
       "<table border=\"1\" class=\"dataframe\">\n",
       "  <thead>\n",
       "    <tr style=\"text-align: right;\">\n",
       "      <th></th>\n",
       "      <th>match_id</th>\n",
       "      <th>interval_id</th>\n",
       "      <th>team_id</th>\n",
       "      <th>player_id</th>\n",
       "      <th>receiver_id</th>\n",
       "      <th>count</th>\n",
       "      <th>player_nickname</th>\n",
       "      <th>player_shirt</th>\n",
       "      <th>receiver_nickname</th>\n",
       "      <th>receiver_shirt</th>\n",
       "    </tr>\n",
       "  </thead>\n",
       "  <tbody>\n",
       "    <tr>\n",
       "      <th>0</th>\n",
       "      <td>4577</td>\n",
       "      <td>1</td>\n",
       "      <td>2</td>\n",
       "      <td>157</td>\n",
       "      <td>1688</td>\n",
       "      <td>1</td>\n",
       "      <td>Granit Xhaka</td>\n",
       "      <td>34</td>\n",
       "      <td>Martin Ödegaard</td>\n",
       "      <td>8</td>\n",
       "    </tr>\n",
       "    <tr>\n",
       "      <th>1</th>\n",
       "      <td>4577</td>\n",
       "      <td>1</td>\n",
       "      <td>2</td>\n",
       "      <td>162</td>\n",
       "      <td>30</td>\n",
       "      <td>1</td>\n",
       "      <td>Gabriel Martinelli</td>\n",
       "      <td>11</td>\n",
       "      <td>Gabriel Jesus</td>\n",
       "      <td>9</td>\n",
       "    </tr>\n",
       "    <tr>\n",
       "      <th>2</th>\n",
       "      <td>4577</td>\n",
       "      <td>1</td>\n",
       "      <td>2</td>\n",
       "      <td>1688</td>\n",
       "      <td>30</td>\n",
       "      <td>1</td>\n",
       "      <td>Martin Ödegaard</td>\n",
       "      <td>8</td>\n",
       "      <td>Gabriel Jesus</td>\n",
       "      <td>9</td>\n",
       "    </tr>\n",
       "    <tr>\n",
       "      <th>3</th>\n",
       "      <td>4577</td>\n",
       "      <td>1</td>\n",
       "      <td>2</td>\n",
       "      <td>1895</td>\n",
       "      <td>1688</td>\n",
       "      <td>1</td>\n",
       "      <td>William Saliba</td>\n",
       "      <td>12</td>\n",
       "      <td>Martin Ödegaard</td>\n",
       "      <td>8</td>\n",
       "    </tr>\n",
       "    <tr>\n",
       "      <th>4</th>\n",
       "      <td>4577</td>\n",
       "      <td>1</td>\n",
       "      <td>2</td>\n",
       "      <td>30</td>\n",
       "      <td>162</td>\n",
       "      <td>2</td>\n",
       "      <td>Gabriel Jesus</td>\n",
       "      <td>9</td>\n",
       "      <td>Gabriel Martinelli</td>\n",
       "      <td>11</td>\n",
       "    </tr>\n",
       "  </tbody>\n",
       "</table>\n",
       "</div>"
      ],
      "text/plain": [
       "   match_id  interval_id  team_id  player_id  receiver_id  count  \\\n",
       "0      4577            1        2        157         1688      1   \n",
       "1      4577            1        2        162           30      1   \n",
       "2      4577            1        2       1688           30      1   \n",
       "3      4577            1        2       1895         1688      1   \n",
       "4      4577            1        2         30          162      2   \n",
       "\n",
       "      player_nickname  player_shirt   receiver_nickname  receiver_shirt  \n",
       "0        Granit Xhaka            34     Martin Ödegaard               8  \n",
       "1  Gabriel Martinelli            11       Gabriel Jesus               9  \n",
       "2     Martin Ödegaard             8       Gabriel Jesus               9  \n",
       "3      William Saliba            12     Martin Ödegaard               8  \n",
       "4       Gabriel Jesus             9  Gabriel Martinelli              11  "
      ]
     },
     "execution_count": 57,
     "metadata": {},
     "output_type": "execute_result"
    }
   ],
   "source": [
    "grouped_df = grouped_df.merge(players_info[['match_id','player_id','nickname','shirt_number']], how='left', left_on=['match_id','player_id'], right_on=['match_id','player_id']).drop_duplicates().reset_index(drop=True)\n",
    "grouped_df = grouped_df.merge(players_info[['match_id','player_id','nickname','shirt_number']], how='left', left_on=['match_id','receiver_id'], right_on=['match_id','player_id']).drop_duplicates().reset_index(drop=True)\n",
    "\n",
    "grouped_df = grouped_df.rename(columns={'player_id_x':'player_id','nickname_x':'player_nickname','shirt_number_x':'player_shirt','nickname_y':'receiver_nickname','shirt_number_y':'receiver_shirt'})\n",
    "grouped_df = grouped_df.drop(['player_id_y'], axis=1)\n",
    "\n",
    "grouped_df['receiver_nickname'] = grouped_df['receiver_nickname'].fillna('Goal')\n",
    "grouped_df['receiver_shirt'] = grouped_df['receiver_shirt'].fillna(-1)\n",
    "grouped_df['receiver_shirt'] = grouped_df['receiver_shirt'].astype(int)\n",
    "\n",
    "grouped_df.head()"
   ]
  },
  {
   "cell_type": "markdown",
   "metadata": {},
   "source": [
    "# Graphs"
   ]
  },
  {
   "cell_type": "code",
   "execution_count": null,
   "metadata": {},
   "outputs": [
    {
     "name": "stdout",
     "output_type": "stream",
     "text": [
      "Games to process: 95\n"
     ]
    }
   ],
   "source": [
    "graph_games = os.listdir(PROCESSED_DATA_PATH)\n",
    "graph_game_ids = [game.split('.')[0] for game in graph_games]\n",
    "print(f\"Games to process: {len(graph_game_ids)}\")"
   ]
  },
  {
   "cell_type": "code",
   "execution_count": null,
   "metadata": {},
   "outputs": [
    {
     "name": "stdout",
     "output_type": "stream",
     "text": [
      "Games to process graphs: 16\n"
     ]
    }
   ],
   "source": [
    "pre_processed_ids = [game_id for game_id in match_ids if game_id not in graph_game_ids]\n",
    "print(f\"Games to process graphs: {len(pre_processed_ids)}\")"
   ]
  },
  {
   "cell_type": "code",
   "execution_count": null,
   "metadata": {},
   "outputs": [
    {
     "data": {
      "application/vnd.jupyter.widget-view+json": {
       "model_id": "54e25341f30f44fcb10b682e186840a9",
       "version_major": 2,
       "version_minor": 0
      },
      "text/plain": [
       "Processing Graphs:   0%|          | 0/16 [00:00<?, ?it/s]"
      ]
     },
     "metadata": {},
     "output_type": "display_data"
    },
    {
     "data": {
      "application/vnd.jupyter.widget-view+json": {
       "model_id": "d2c35edc23044e2aa5447e5c38d6dea4",
       "version_major": 2,
       "version_minor": 0
      },
      "text/plain": [
       "Processing intervals:   0%|          | 0/49 [00:00<?, ?it/s]"
      ]
     },
     "metadata": {},
     "output_type": "display_data"
    },
    {
     "data": {
      "application/vnd.jupyter.widget-view+json": {
       "model_id": "b55f57141fb243c6891b1b0e103c1645",
       "version_major": 2,
       "version_minor": 0
      },
      "text/plain": [
       "Processing intervals:   0%|          | 0/51 [00:00<?, ?it/s]"
      ]
     },
     "metadata": {},
     "output_type": "display_data"
    },
    {
     "data": {
      "application/vnd.jupyter.widget-view+json": {
       "model_id": "c455e7a5fcce49fba02a0f8420e23d3b",
       "version_major": 2,
       "version_minor": 0
      },
      "text/plain": [
       "Processing intervals:   0%|          | 0/49 [00:00<?, ?it/s]"
      ]
     },
     "metadata": {},
     "output_type": "display_data"
    },
    {
     "data": {
      "application/vnd.jupyter.widget-view+json": {
       "model_id": "edcadf992da84e72a0bc89a6b32e2992",
       "version_major": 2,
       "version_minor": 0
      },
      "text/plain": [
       "Processing intervals:   0%|          | 0/48 [00:00<?, ?it/s]"
      ]
     },
     "metadata": {},
     "output_type": "display_data"
    },
    {
     "data": {
      "application/vnd.jupyter.widget-view+json": {
       "model_id": "36ab4da97cb04e398a4bd16fc18690fc",
       "version_major": 2,
       "version_minor": 0
      },
      "text/plain": [
       "Processing intervals:   0%|          | 0/48 [00:00<?, ?it/s]"
      ]
     },
     "metadata": {},
     "output_type": "display_data"
    },
    {
     "data": {
      "application/vnd.jupyter.widget-view+json": {
       "model_id": "caf70d5dde5945639aacbf4e9da95fd5",
       "version_major": 2,
       "version_minor": 0
      },
      "text/plain": [
       "Processing intervals:   0%|          | 0/52 [00:00<?, ?it/s]"
      ]
     },
     "metadata": {},
     "output_type": "display_data"
    },
    {
     "data": {
      "application/vnd.jupyter.widget-view+json": {
       "model_id": "aba85a86c8cb4f6080177a8ea6a857c7",
       "version_major": 2,
       "version_minor": 0
      },
      "text/plain": [
       "Processing intervals:   0%|          | 0/50 [00:00<?, ?it/s]"
      ]
     },
     "metadata": {},
     "output_type": "display_data"
    },
    {
     "data": {
      "application/vnd.jupyter.widget-view+json": {
       "model_id": "e63fae77d3f04b28aee4c8d7b43825a6",
       "version_major": 2,
       "version_minor": 0
      },
      "text/plain": [
       "Processing intervals:   0%|          | 0/50 [00:00<?, ?it/s]"
      ]
     },
     "metadata": {},
     "output_type": "display_data"
    },
    {
     "data": {
      "application/vnd.jupyter.widget-view+json": {
       "model_id": "52c14b458af34e95af12f7537e9d239f",
       "version_major": 2,
       "version_minor": 0
      },
      "text/plain": [
       "Processing intervals:   0%|          | 0/48 [00:00<?, ?it/s]"
      ]
     },
     "metadata": {},
     "output_type": "display_data"
    },
    {
     "data": {
      "application/vnd.jupyter.widget-view+json": {
       "model_id": "0a485bb1d2b34594b0b9201f18b9f306",
       "version_major": 2,
       "version_minor": 0
      },
      "text/plain": [
       "Processing intervals:   0%|          | 0/49 [00:00<?, ?it/s]"
      ]
     },
     "metadata": {},
     "output_type": "display_data"
    },
    {
     "data": {
      "application/vnd.jupyter.widget-view+json": {
       "model_id": "6fb1b6798ae24eb79eec9d66ff1c5bc8",
       "version_major": 2,
       "version_minor": 0
      },
      "text/plain": [
       "Processing intervals:   0%|          | 0/52 [00:00<?, ?it/s]"
      ]
     },
     "metadata": {},
     "output_type": "display_data"
    },
    {
     "data": {
      "application/vnd.jupyter.widget-view+json": {
       "model_id": "05d09548e8b548abaee2f8961ff28573",
       "version_major": 2,
       "version_minor": 0
      },
      "text/plain": [
       "Processing intervals:   0%|          | 0/51 [00:00<?, ?it/s]"
      ]
     },
     "metadata": {},
     "output_type": "display_data"
    },
    {
     "data": {
      "application/vnd.jupyter.widget-view+json": {
       "model_id": "c02a45b9e01e4e9c9e0c4caa9fa480cc",
       "version_major": 2,
       "version_minor": 0
      },
      "text/plain": [
       "Processing intervals:   0%|          | 0/49 [00:00<?, ?it/s]"
      ]
     },
     "metadata": {},
     "output_type": "display_data"
    },
    {
     "data": {
      "application/vnd.jupyter.widget-view+json": {
       "model_id": "a0af5e977927479bac97d773c7b0ee72",
       "version_major": 2,
       "version_minor": 0
      },
      "text/plain": [
       "Processing intervals:   0%|          | 0/48 [00:00<?, ?it/s]"
      ]
     },
     "metadata": {},
     "output_type": "display_data"
    },
    {
     "data": {
      "application/vnd.jupyter.widget-view+json": {
       "model_id": "2d84a014dca64199ba10474274e68063",
       "version_major": 2,
       "version_minor": 0
      },
      "text/plain": [
       "Processing intervals:   0%|          | 0/49 [00:00<?, ?it/s]"
      ]
     },
     "metadata": {},
     "output_type": "display_data"
    },
    {
     "data": {
      "application/vnd.jupyter.widget-view+json": {
       "model_id": "fe2984cde5c14d42b02f257ec5686155",
       "version_major": 2,
       "version_minor": 0
      },
      "text/plain": [
       "Processing intervals:   0%|          | 0/49 [00:00<?, ?it/s]"
      ]
     },
     "metadata": {},
     "output_type": "display_data"
    }
   ],
   "source": [
    "#graphs = []\n",
    "\n",
    "# if len(graph_game_ids) > 0:\n",
    "\n",
    "#     for game_id in tqdm(graph_game_ids, desc=\"Loading Graphs\", total=len(graph_game_ids)):\n",
    "#         match_graphs = load_graphs(game_id, PROCESSED_DATA_PATH)\n",
    "#         graphs.append((task[1],match_graphs))\n",
    "\n",
    "if len(pre_processed_ids) > 0:\n",
    "\n",
    "    for game_id in tqdm(pre_processed_ids, desc=\"Processing Graphs\", total=len(pre_processed_ids)):\n",
    "\n",
    "        match_grouped_df = grouped_df[grouped_df['match_id']==int(game_id)].reset_index(drop=True)\n",
    "        match_players_interval_df = players_interval_df[players_interval_df['match_id']==int(game_id)].reset_index(drop=True)\n",
    "\n",
    "        match_graphs = get_interval_graphs(match_grouped_df, match_players_interval_df)\n",
    "        save_graphs(game_id, PROCESSED_DATA_PATH, match_graphs)\n",
    "        #graphs.append((game_id,match_graphs))"
   ]
  }
 ],
 "metadata": {
  "kernelspec": {
   "display_name": ".venv",
   "language": "python",
   "name": "python3"
  },
  "language_info": {
   "codemirror_mode": {
    "name": "ipython",
    "version": 3
   },
   "file_extension": ".py",
   "mimetype": "text/x-python",
   "name": "python",
   "nbconvert_exporter": "python",
   "pygments_lexer": "ipython3",
   "version": "3.12.3"
  }
 },
 "nbformat": 4,
 "nbformat_minor": 2
}
