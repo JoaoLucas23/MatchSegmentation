{
 "cells": [
  {
   "cell_type": "code",
   "execution_count": 72,
   "metadata": {},
   "outputs": [
    {
     "name": "stdout",
     "output_type": "stream",
     "text": [
      "The autoreload extension is already loaded. To reload it, use:\n",
      "  %reload_ext autoreload\n"
     ]
    }
   ],
   "source": [
    "%load_ext autoreload\n",
    "%autoreload 2"
   ]
  },
  {
   "cell_type": "code",
   "execution_count": 73,
   "metadata": {},
   "outputs": [],
   "source": [
    "import os\n",
    "import sys\n",
    "from multiprocessing import Pool, cpu_count\n",
    "from tqdm.auto import tqdm\n",
    "import pandas as pd"
   ]
  },
  {
   "cell_type": "code",
   "execution_count": 74,
   "metadata": {},
   "outputs": [],
   "source": [
    "import warnings\n",
    "warnings.filterwarnings('ignore', category=pd.errors.SettingWithCopyWarning)"
   ]
  },
  {
   "cell_type": "code",
   "execution_count": 75,
   "metadata": {},
   "outputs": [],
   "source": [
    "project_root = os.path.abspath(\n",
    "    os.path.join(\"C:/Users/jllgo/OneDrive/Documentos/UFMG/MSc & MSI 2/MatchSegmentation\")\n",
    ")\n",
    "if project_root not in sys.path:\n",
    "    sys.path.append(project_root)"
   ]
  },
  {
   "cell_type": "code",
   "execution_count": 76,
   "metadata": {},
   "outputs": [],
   "source": [
    "from src.pass_networks.process_games import process_game\n",
    "from src.pass_networks.process_games import load_game\n",
    "from src.pass_networks.process_games import save_game\n",
    "from src.pass_networks.process_match_info import get_match_info\n",
    "from src.pass_networks.process_match_info import process_players\n",
    "from src.pass_networks.process_intervals import get_interval_graphs\n",
    "from src.pass_networks.process_intervals import load_graphs\n",
    "from src.pass_networks.process_intervals import save_graphs"
   ]
  },
  {
   "cell_type": "code",
   "execution_count": 77,
   "metadata": {},
   "outputs": [],
   "source": [
    "RAW_DATA_PATH = '../data/raw/PL-22-23'\n",
    "INTERMEDIATE_DATA_PATH = '../data/intermediate/PL-22-23'\n",
    "PROCESSED_DATA_PATH = \"../data/processed/PL-22-23\"\n",
    "CSV_DATA_PATH = \"../data/csv\""
   ]
  },
  {
   "cell_type": "markdown",
   "metadata": {},
   "source": [
    "# 1. Get Data"
   ]
  },
  {
   "cell_type": "code",
   "execution_count": 78,
   "metadata": {},
   "outputs": [
    {
     "name": "stdout",
     "output_type": "stream",
     "text": [
      "Games to process: 190\n"
     ]
    }
   ],
   "source": [
    "games = os.listdir(RAW_DATA_PATH)\n",
    "raw_game_ids = [game.split('.')[0] for game in games]\n",
    "print(f\"Games to process: {len(raw_game_ids)}\")"
   ]
  },
  {
   "cell_type": "code",
   "execution_count": 79,
   "metadata": {},
   "outputs": [
    {
     "name": "stdout",
     "output_type": "stream",
     "text": [
      "Games already pre-processed: 9\n"
     ]
    }
   ],
   "source": [
    "pre_processed_games = os.listdir(INTERMEDIATE_DATA_PATH)\n",
    "pre_processed_game_ids = [game.split('.')[0] for game in pre_processed_games]\n",
    "print(f\"Games already pre-processed: {len(pre_processed_game_ids)}\")"
   ]
  },
  {
   "cell_type": "code",
   "execution_count": 80,
   "metadata": {},
   "outputs": [
    {
     "name": "stdout",
     "output_type": "stream",
     "text": [
      "Games already processed: 9\n"
     ]
    }
   ],
   "source": [
    "processed = os.listdir(PROCESSED_DATA_PATH)\n",
    "processed_game_ids = [game.split('.')[0] for game in processed]\n",
    "print(f\"Games already processed: {len(processed_game_ids)}\")"
   ]
  },
  {
   "cell_type": "code",
   "execution_count": 81,
   "metadata": {},
   "outputs": [
    {
     "data": {
      "text/plain": [
       "['4437', '4445']"
      ]
     },
     "execution_count": 81,
     "metadata": {},
     "output_type": "execute_result"
    }
   ],
   "source": [
    "failed_ids = pd.read_csv(f\"{CSV_DATA_PATH}/failed_matches.csv\", header=None).values.astype(str).flatten().tolist()\n",
    "failed_ids"
   ]
  },
  {
   "cell_type": "code",
   "execution_count": null,
   "metadata": {},
   "outputs": [],
   "source": [
    "pre_processed_games = [game_id for game_id in pre_processed_game_ids if game_id not in failed_ids]\n",
    "print(f\"Pre Processed Games to Process: {len(pre_processed_games)}\")"
   ]
  },
  {
   "cell_type": "code",
   "execution_count": 82,
   "metadata": {},
   "outputs": [
    {
     "name": "stdout",
     "output_type": "stream",
     "text": [
      "Games to process: 20\n"
     ]
    }
   ],
   "source": [
    "matches_to_process = [game_id for game_id in raw_game_ids if game_id not in pre_processed_game_ids and game_id not in failed_ids][:20]\n",
    "print(f\"Games to process: {len(matches_to_process)}\")"
   ]
  },
  {
   "cell_type": "code",
   "execution_count": null,
   "metadata": {},
   "outputs": [
    {
     "data": {
      "application/vnd.jupyter.widget-view+json": {
       "model_id": "6ef01f571c98459090a2cf9c25960a6a",
       "version_major": 2,
       "version_minor": 0
      },
      "text/plain": [
       "Processing Games:   0%|          | 0/20 [00:00<?, ?it/s]"
      ]
     },
     "metadata": {},
     "output_type": "display_data"
    },
    {
     "data": {
      "application/vnd.jupyter.widget-view+json": {
       "model_id": "d95f2ce9b1474a5c91e100a3d170c2d6",
       "version_major": 2,
       "version_minor": 0
      },
      "text/plain": [
       "Loading frames from match 4447: 0 frames [00:00, ? frames/s]"
      ]
     },
     "metadata": {},
     "output_type": "display_data"
    },
    {
     "data": {
      "application/vnd.jupyter.widget-view+json": {
       "model_id": "9adbce7ace90466490a4082ed8177b9d",
       "version_major": 2,
       "version_minor": 0
      },
      "text/plain": [
       "Validating frames:   0%|          | 0/183570 [00:00<?, ? frames/s]"
      ]
     },
     "metadata": {},
     "output_type": "display_data"
    },
    {
     "data": {
      "application/vnd.jupyter.widget-view+json": {
       "model_id": "c1087f27e2e04bf48a67de22f1d269ad",
       "version_major": 2,
       "version_minor": 0
      },
      "text/plain": [
       "Loading frames from match 4448: 0 frames [00:00, ? frames/s]"
      ]
     },
     "metadata": {},
     "output_type": "display_data"
    },
    {
     "data": {
      "application/vnd.jupyter.widget-view+json": {
       "model_id": "c9b2d27ddd6e40abb6be6bcc5e9eaa3f",
       "version_major": 2,
       "version_minor": 0
      },
      "text/plain": [
       "Validating frames:   0%|          | 0/176471 [00:00<?, ? frames/s]"
      ]
     },
     "metadata": {},
     "output_type": "display_data"
    },
    {
     "name": "stdout",
     "output_type": "stream",
     "text": [
      "Error processing match_id 4448: cannot access local variable 'row' where it is not associated with a value\n"
     ]
    },
    {
     "data": {
      "application/vnd.jupyter.widget-view+json": {
       "model_id": "36f4283e85b745f2aa24235557696604",
       "version_major": 2,
       "version_minor": 0
      },
      "text/plain": [
       "Loading frames from match 4449: 0 frames [00:00, ? frames/s]"
      ]
     },
     "metadata": {},
     "output_type": "display_data"
    },
    {
     "data": {
      "application/vnd.jupyter.widget-view+json": {
       "model_id": "64908f10b14e4298ac007c64463038ef",
       "version_major": 2,
       "version_minor": 0
      },
      "text/plain": [
       "Validating frames:   0%|          | 0/174899 [00:00<?, ? frames/s]"
      ]
     },
     "metadata": {},
     "output_type": "display_data"
    },
    {
     "data": {
      "application/vnd.jupyter.widget-view+json": {
       "model_id": "3fac51a56fc44f2598754e5c6e396c8b",
       "version_major": 2,
       "version_minor": 0
      },
      "text/plain": [
       "Loading frames from match 4450: 0 frames [00:00, ? frames/s]"
      ]
     },
     "metadata": {},
     "output_type": "display_data"
    },
    {
     "data": {
      "application/vnd.jupyter.widget-view+json": {
       "model_id": "46b24d883c404a978a895b51a286b151",
       "version_major": 2,
       "version_minor": 0
      },
      "text/plain": [
       "Validating frames:   0%|          | 0/180368 [00:00<?, ? frames/s]"
      ]
     },
     "metadata": {},
     "output_type": "display_data"
    },
    {
     "data": {
      "application/vnd.jupyter.widget-view+json": {
       "model_id": "51813bfecbbc4cb895a3993604ae31a9",
       "version_major": 2,
       "version_minor": 0
      },
      "text/plain": [
       "Loading frames from match 4451: 0 frames [00:00, ? frames/s]"
      ]
     },
     "metadata": {},
     "output_type": "display_data"
    },
    {
     "data": {
      "application/vnd.jupyter.widget-view+json": {
       "model_id": "ace461b4627f48c3b4705cc69c61c7ab",
       "version_major": 2,
       "version_minor": 0
      },
      "text/plain": [
       "Validating frames:   0%|          | 0/178361 [00:00<?, ? frames/s]"
      ]
     },
     "metadata": {},
     "output_type": "display_data"
    },
    {
     "data": {
      "application/vnd.jupyter.widget-view+json": {
       "model_id": "c2e9c23344a343208b19f96d78c90689",
       "version_major": 2,
       "version_minor": 0
      },
      "text/plain": [
       "Loading frames from match 4452: 0 frames [00:00, ? frames/s]"
      ]
     },
     "metadata": {},
     "output_type": "display_data"
    },
    {
     "data": {
      "application/vnd.jupyter.widget-view+json": {
       "model_id": "376e39bdf344418c95d7782553788452",
       "version_major": 2,
       "version_minor": 0
      },
      "text/plain": [
       "Validating frames:   0%|          | 0/174479 [00:00<?, ? frames/s]"
      ]
     },
     "metadata": {},
     "output_type": "display_data"
    },
    {
     "data": {
      "application/vnd.jupyter.widget-view+json": {
       "model_id": "d15bcf78fbba4e48bbd94e4dd4e7d839",
       "version_major": 2,
       "version_minor": 0
      },
      "text/plain": [
       "Loading frames from match 4453: 0 frames [00:00, ? frames/s]"
      ]
     },
     "metadata": {},
     "output_type": "display_data"
    },
    {
     "data": {
      "application/vnd.jupyter.widget-view+json": {
       "model_id": "64bd72f8f9a74cce93820895e0eea883",
       "version_major": 2,
       "version_minor": 0
      },
      "text/plain": [
       "Validating frames:   0%|          | 0/182159 [00:00<?, ? frames/s]"
      ]
     },
     "metadata": {},
     "output_type": "display_data"
    },
    {
     "data": {
      "application/vnd.jupyter.widget-view+json": {
       "model_id": "910582f8c87f4dd8878b7a00595ea390",
       "version_major": 2,
       "version_minor": 0
      },
      "text/plain": [
       "Loading frames from match 4454: 0 frames [00:00, ? frames/s]"
      ]
     },
     "metadata": {},
     "output_type": "display_data"
    },
    {
     "data": {
      "application/vnd.jupyter.widget-view+json": {
       "model_id": "d2970e8579c74944abd4d17ed699eacd",
       "version_major": 2,
       "version_minor": 0
      },
      "text/plain": [
       "Validating frames:   0%|          | 0/180391 [00:00<?, ? frames/s]"
      ]
     },
     "metadata": {},
     "output_type": "display_data"
    },
    {
     "data": {
      "application/vnd.jupyter.widget-view+json": {
       "model_id": "7543d743d5db42b0bc9b90688c2592eb",
       "version_major": 2,
       "version_minor": 0
      },
      "text/plain": [
       "Loading frames from match 4455: 0 frames [00:00, ? frames/s]"
      ]
     },
     "metadata": {},
     "output_type": "display_data"
    },
    {
     "data": {
      "application/vnd.jupyter.widget-view+json": {
       "model_id": "de650beff9624f4bb0a15a38e620cb33",
       "version_major": 2,
       "version_minor": 0
      },
      "text/plain": [
       "Validating frames:   0%|          | 0/182472 [00:00<?, ? frames/s]"
      ]
     },
     "metadata": {},
     "output_type": "display_data"
    },
    {
     "data": {
      "application/vnd.jupyter.widget-view+json": {
       "model_id": "21b5876d6b39451bab6a88a5f22fdda4",
       "version_major": 2,
       "version_minor": 0
      },
      "text/plain": [
       "Loading frames from match 4456: 0 frames [00:00, ? frames/s]"
      ]
     },
     "metadata": {},
     "output_type": "display_data"
    },
    {
     "data": {
      "application/vnd.jupyter.widget-view+json": {
       "model_id": "7748c757e9b04437858eb367d984a4ce",
       "version_major": 2,
       "version_minor": 0
      },
      "text/plain": [
       "Validating frames:   0%|          | 0/173211 [00:00<?, ? frames/s]"
      ]
     },
     "metadata": {},
     "output_type": "display_data"
    },
    {
     "data": {
      "application/vnd.jupyter.widget-view+json": {
       "model_id": "77158a15a5e649c08a7074be084e442c",
       "version_major": 2,
       "version_minor": 0
      },
      "text/plain": [
       "Loading frames from match 4457: 0 frames [00:00, ? frames/s]"
      ]
     },
     "metadata": {},
     "output_type": "display_data"
    },
    {
     "data": {
      "application/vnd.jupyter.widget-view+json": {
       "model_id": "ce37f75a402742fca1e4ba96f25a2aa0",
       "version_major": 2,
       "version_minor": 0
      },
      "text/plain": [
       "Validating frames:   0%|          | 0/173112 [00:00<?, ? frames/s]"
      ]
     },
     "metadata": {},
     "output_type": "display_data"
    },
    {
     "data": {
      "application/vnd.jupyter.widget-view+json": {
       "model_id": "2a61ced6d6d84ca894a405269e81935a",
       "version_major": 2,
       "version_minor": 0
      },
      "text/plain": [
       "Loading frames from match 4458: 0 frames [00:00, ? frames/s]"
      ]
     },
     "metadata": {},
     "output_type": "display_data"
    },
    {
     "data": {
      "application/vnd.jupyter.widget-view+json": {
       "model_id": "1619d61b5fbe4c9dba80ad5be0d05678",
       "version_major": 2,
       "version_minor": 0
      },
      "text/plain": [
       "Validating frames:   0%|          | 0/170916 [00:00<?, ? frames/s]"
      ]
     },
     "metadata": {},
     "output_type": "display_data"
    },
    {
     "name": "stdout",
     "output_type": "stream",
     "text": [
      "Error processing match_id 4458: Error getting match events for match_id=4458\n"
     ]
    },
    {
     "data": {
      "application/vnd.jupyter.widget-view+json": {
       "model_id": "15acc942159a4b108591188a780b4999",
       "version_major": 2,
       "version_minor": 0
      },
      "text/plain": [
       "Loading frames from match 4459: 0 frames [00:00, ? frames/s]"
      ]
     },
     "metadata": {},
     "output_type": "display_data"
    },
    {
     "data": {
      "application/vnd.jupyter.widget-view+json": {
       "model_id": "cc2b63fbd25d47cfa029842e386313f5",
       "version_major": 2,
       "version_minor": 0
      },
      "text/plain": [
       "Validating frames:   0%|          | 0/173976 [00:00<?, ? frames/s]"
      ]
     },
     "metadata": {},
     "output_type": "display_data"
    },
    {
     "data": {
      "application/vnd.jupyter.widget-view+json": {
       "model_id": "3e989333e928478abe00247427487ca4",
       "version_major": 2,
       "version_minor": 0
      },
      "text/plain": [
       "Loading frames from match 4460: 0 frames [00:00, ? frames/s]"
      ]
     },
     "metadata": {},
     "output_type": "display_data"
    },
    {
     "data": {
      "application/vnd.jupyter.widget-view+json": {
       "model_id": "6a9353069a994837a56168df4c436140",
       "version_major": 2,
       "version_minor": 0
      },
      "text/plain": [
       "Validating frames:   0%|          | 0/171042 [00:00<?, ? frames/s]"
      ]
     },
     "metadata": {},
     "output_type": "display_data"
    },
    {
     "data": {
      "application/vnd.jupyter.widget-view+json": {
       "model_id": "9f31783f5927487690b20b8e1dc93ea4",
       "version_major": 2,
       "version_minor": 0
      },
      "text/plain": [
       "Loading frames from match 4461: 0 frames [00:00, ? frames/s]"
      ]
     },
     "metadata": {},
     "output_type": "display_data"
    },
    {
     "data": {
      "application/vnd.jupyter.widget-view+json": {
       "model_id": "17bda27ef08048ef8f850c21e7a3ef85",
       "version_major": 2,
       "version_minor": 0
      },
      "text/plain": [
       "Validating frames:   0%|          | 0/174716 [00:00<?, ? frames/s]"
      ]
     },
     "metadata": {},
     "output_type": "display_data"
    },
    {
     "data": {
      "application/vnd.jupyter.widget-view+json": {
       "model_id": "76feed34756c4796be6f04d0dfc16f98",
       "version_major": 2,
       "version_minor": 0
      },
      "text/plain": [
       "Loading frames from match 4462: 0 frames [00:00, ? frames/s]"
      ]
     },
     "metadata": {},
     "output_type": "display_data"
    },
    {
     "data": {
      "application/vnd.jupyter.widget-view+json": {
       "model_id": "252e4603b01448aba86ea2dcab6e1e06",
       "version_major": 2,
       "version_minor": 0
      },
      "text/plain": [
       "Validating frames:   0%|          | 0/173632 [00:00<?, ? frames/s]"
      ]
     },
     "metadata": {},
     "output_type": "display_data"
    },
    {
     "data": {
      "application/vnd.jupyter.widget-view+json": {
       "model_id": "2dfef7c22e4746e3961b1f46d31c5e69",
       "version_major": 2,
       "version_minor": 0
      },
      "text/plain": [
       "Loading frames from match 4463: 0 frames [00:00, ? frames/s]"
      ]
     },
     "metadata": {},
     "output_type": "display_data"
    },
    {
     "data": {
      "application/vnd.jupyter.widget-view+json": {
       "model_id": "e90e4a2afd904b3baa1e3402a9ad6e2e",
       "version_major": 2,
       "version_minor": 0
      },
      "text/plain": [
       "Validating frames:   0%|          | 0/183343 [00:00<?, ? frames/s]"
      ]
     },
     "metadata": {},
     "output_type": "display_data"
    },
    {
     "data": {
      "application/vnd.jupyter.widget-view+json": {
       "model_id": "137368d85cb9425b9fd8207c3ef437e8",
       "version_major": 2,
       "version_minor": 0
      },
      "text/plain": [
       "Loading frames from match 4464: 0 frames [00:00, ? frames/s]"
      ]
     },
     "metadata": {},
     "output_type": "display_data"
    },
    {
     "data": {
      "application/vnd.jupyter.widget-view+json": {
       "model_id": "329d165c6b804b2bb55aa76c0f0ce691",
       "version_major": 2,
       "version_minor": 0
      },
      "text/plain": [
       "Validating frames:   0%|          | 0/145489 [00:00<?, ? frames/s]"
      ]
     },
     "metadata": {},
     "output_type": "display_data"
    },
    {
     "data": {
      "application/vnd.jupyter.widget-view+json": {
       "model_id": "c53bb615d6354bca99dda698e0f997a4",
       "version_major": 2,
       "version_minor": 0
      },
      "text/plain": [
       "Loading frames from match 4465: 0 frames [00:00, ? frames/s]"
      ]
     },
     "metadata": {},
     "output_type": "display_data"
    },
    {
     "data": {
      "application/vnd.jupyter.widget-view+json": {
       "model_id": "d94ac61b6344408892517b1411ea36f8",
       "version_major": 2,
       "version_minor": 0
      },
      "text/plain": [
       "Validating frames:   0%|          | 0/173177 [00:00<?, ? frames/s]"
      ]
     },
     "metadata": {},
     "output_type": "display_data"
    },
    {
     "data": {
      "application/vnd.jupyter.widget-view+json": {
       "model_id": "f12c96687de14891b9d91e44a3aa0a3e",
       "version_major": 2,
       "version_minor": 0
      },
      "text/plain": [
       "Loading frames from match 4466: 0 frames [00:00, ? frames/s]"
      ]
     },
     "metadata": {},
     "output_type": "display_data"
    },
    {
     "data": {
      "application/vnd.jupyter.widget-view+json": {
       "model_id": "a91058a71a6c402fa6a028231d3b5922",
       "version_major": 2,
       "version_minor": 0
      },
      "text/plain": [
       "Validating frames:   0%|          | 0/177429 [00:00<?, ? frames/s]"
      ]
     },
     "metadata": {},
     "output_type": "display_data"
    }
   ],
   "source": [
    "matches = []\n",
    "\n",
    "failed_matches = []\n",
    "\n",
    "# #Check if the game has already been pre-processed\n",
    "# if len(pre_processed_game_ids) > 0:\n",
    "#     tasks = [(INTERMEDIATE_DATA_PATH,game_id) for game_id in pre_processed_game_ids]\n",
    "\n",
    "#     for task in tqdm(tasks, desc=\"Loading Pre-Processed Games\", total=len(tasks)):\n",
    "#         metadata_df, players_df, events_df = load_game(task)\n",
    "#         matches.append((task[1],metadata_df, players_df, events_df))\n",
    "\n",
    "if len(matches_to_process) > 0:\n",
    "\n",
    "    for game_id in tqdm(matches_to_process, desc=\"Processing Games\", total=len(matches_to_process)):\n",
    "        metadata_df, players_df, events_df = process_game((RAW_DATA_PATH, game_id))\n",
    "        if metadata_df.empty or players_df.empty or events_df.empty:\n",
    "            failed_matches.append(game_id)\n",
    "            continue\n",
    "        else:\n",
    "            matches.append((game_id,metadata_df, players_df, events_df))\n",
    "            save_game(metadata_df,players_df,events_df,INTERMEDIATE_DATA_PATH,game_id)\n",
    "\n"
   ]
  },
  {
   "cell_type": "code",
   "execution_count": 14,
   "metadata": {},
   "outputs": [],
   "source": [
    "failed_matches = pd.DataFrame(failed_matches, columns=[\"game_id\"])\n",
    "failed_matches.to_csv(f\"{CSV_DATA_PATH}/failed_matches.csv\", index=False, header=False, mode='a')"
   ]
  },
  {
   "cell_type": "code",
   "execution_count": 37,
   "metadata": {},
   "outputs": [],
   "source": [
    "players_info, teams_info, games_info = get_match_info(CSV_DATA_PATH)"
   ]
  },
  {
   "cell_type": "markdown",
   "metadata": {},
   "source": [
    "# 2. Data Treatment"
   ]
  },
  {
   "cell_type": "code",
   "execution_count": 38,
   "metadata": {},
   "outputs": [
    {
     "data": {
      "application/vnd.jupyter.widget-view+json": {
       "model_id": "b7157076516d4d4aa3cd7c6336ad552f",
       "version_major": 2,
       "version_minor": 0
      },
      "text/plain": [
       "Data Processing:   0%|          | 0/9 [00:00<?, ?it/s]"
      ]
     },
     "metadata": {},
     "output_type": "display_data"
    }
   ],
   "source": [
    "players_dfs = []\n",
    "events_dfs = []\n",
    "metadata_dfs = []\n",
    "match_ids = []\n",
    "\n",
    "for match_dfs in tqdm(matches, desc=\"Data Processing\"):\n",
    "    match_id, metadata_df, players_df, events_df = match_dfs\n",
    "    players_match_info = players_info[players_info['match_id'] == int(match_id)].reset_index(drop=True)\n",
    "    match_info = games_info[games_info['match_id'] == int(match_id)].reset_index(drop=True)\n",
    "\n",
    "    players_df = process_players(players_df, match_info, players_match_info, metadata_df)\n",
    "\n",
    "    players_dfs.append(players_df)\n",
    "    events_dfs.append(events_df)\n",
    "    metadata_dfs.append(metadata_df)\n",
    "    match_ids.append(match_id)\n",
    "\n",
    "players_df = pd.concat(players_dfs)\n",
    "events_df = pd.concat(events_dfs)\n",
    "metadata_df = pd.concat(metadata_dfs)"
   ]
  },
  {
   "cell_type": "code",
   "execution_count": 39,
   "metadata": {},
   "outputs": [
    {
     "data": {
      "text/html": [
       "<div>\n",
       "<style scoped>\n",
       "    .dataframe tbody tr th:only-of-type {\n",
       "        vertical-align: middle;\n",
       "    }\n",
       "\n",
       "    .dataframe tbody tr th {\n",
       "        vertical-align: top;\n",
       "    }\n",
       "\n",
       "    .dataframe thead th {\n",
       "        text-align: right;\n",
       "    }\n",
       "</style>\n",
       "<table border=\"1\" class=\"dataframe\">\n",
       "  <thead>\n",
       "    <tr style=\"text-align: right;\">\n",
       "      <th></th>\n",
       "      <th>match_id</th>\n",
       "      <th>interval_id</th>\n",
       "      <th>team_id</th>\n",
       "      <th>player_id</th>\n",
       "      <th>nickname</th>\n",
       "      <th>shirt</th>\n",
       "      <th>x</th>\n",
       "      <th>y</th>\n",
       "    </tr>\n",
       "  </thead>\n",
       "  <tbody>\n",
       "    <tr>\n",
       "      <th>0</th>\n",
       "      <td>4436</td>\n",
       "      <td>1</td>\n",
       "      <td>2</td>\n",
       "      <td>15</td>\n",
       "      <td>Oleksandr Zinchenko</td>\n",
       "      <td>35</td>\n",
       "      <td>13.573355</td>\n",
       "      <td>-7.494776</td>\n",
       "    </tr>\n",
       "    <tr>\n",
       "      <th>1</th>\n",
       "      <td>4436</td>\n",
       "      <td>1</td>\n",
       "      <td>2</td>\n",
       "      <td>30</td>\n",
       "      <td>Gabriel Jesus</td>\n",
       "      <td>9</td>\n",
       "      <td>-3.277079</td>\n",
       "      <td>14.615077</td>\n",
       "    </tr>\n",
       "    <tr>\n",
       "      <th>2</th>\n",
       "      <td>4436</td>\n",
       "      <td>1</td>\n",
       "      <td>2</td>\n",
       "      <td>157</td>\n",
       "      <td>Granit Xhaka</td>\n",
       "      <td>34</td>\n",
       "      <td>7.887703</td>\n",
       "      <td>0.839211</td>\n",
       "    </tr>\n",
       "    <tr>\n",
       "      <th>3</th>\n",
       "      <td>4436</td>\n",
       "      <td>1</td>\n",
       "      <td>2</td>\n",
       "      <td>162</td>\n",
       "      <td>Gabriel Martinelli</td>\n",
       "      <td>11</td>\n",
       "      <td>-0.625160</td>\n",
       "      <td>-2.459962</td>\n",
       "    </tr>\n",
       "    <tr>\n",
       "      <th>4</th>\n",
       "      <td>4436</td>\n",
       "      <td>1</td>\n",
       "      <td>2</td>\n",
       "      <td>163</td>\n",
       "      <td>Bukayo Saka</td>\n",
       "      <td>7</td>\n",
       "      <td>5.372688</td>\n",
       "      <td>26.414956</td>\n",
       "    </tr>\n",
       "    <tr>\n",
       "      <th>...</th>\n",
       "      <td>...</td>\n",
       "      <td>...</td>\n",
       "      <td>...</td>\n",
       "      <td>...</td>\n",
       "      <td>...</td>\n",
       "      <td>...</td>\n",
       "      <td>...</td>\n",
       "      <td>...</td>\n",
       "    </tr>\n",
       "    <tr>\n",
       "      <th>8669</th>\n",
       "      <td>4446</td>\n",
       "      <td>1</td>\n",
       "      <td>9</td>\n",
       "      <td>220</td>\n",
       "      <td>James Maddison</td>\n",
       "      <td>10</td>\n",
       "      <td>1.202907</td>\n",
       "      <td>-0.480332</td>\n",
       "    </tr>\n",
       "    <tr>\n",
       "      <th>8670</th>\n",
       "      <td>4446</td>\n",
       "      <td>1</td>\n",
       "      <td>9</td>\n",
       "      <td>225</td>\n",
       "      <td>Jamie Vardy</td>\n",
       "      <td>9</td>\n",
       "      <td>-7.655601</td>\n",
       "      <td>-3.839095</td>\n",
       "    </tr>\n",
       "    <tr>\n",
       "      <th>8671</th>\n",
       "      <td>4446</td>\n",
       "      <td>1</td>\n",
       "      <td>9</td>\n",
       "      <td>1960</td>\n",
       "      <td>Timothy Castagne</td>\n",
       "      <td>27</td>\n",
       "      <td>8.776463</td>\n",
       "      <td>18.250230</td>\n",
       "    </tr>\n",
       "    <tr>\n",
       "      <th>8672</th>\n",
       "      <td>4446</td>\n",
       "      <td>1</td>\n",
       "      <td>9</td>\n",
       "      <td>2069</td>\n",
       "      <td>Wesley Fofana</td>\n",
       "      <td>3</td>\n",
       "      <td>20.699112</td>\n",
       "      <td>9.525530</td>\n",
       "    </tr>\n",
       "    <tr>\n",
       "      <th>8673</th>\n",
       "      <td>4446</td>\n",
       "      <td>1</td>\n",
       "      <td>9</td>\n",
       "      <td>5155</td>\n",
       "      <td>Kiernan Dewsbury-Hall</td>\n",
       "      <td>22</td>\n",
       "      <td>13.601299</td>\n",
       "      <td>-8.296789</td>\n",
       "    </tr>\n",
       "  </tbody>\n",
       "</table>\n",
       "<p>198 rows × 8 columns</p>\n",
       "</div>"
      ],
      "text/plain": [
       "      match_id  interval_id  team_id  player_id               nickname  shirt  \\\n",
       "0         4436            1        2         15    Oleksandr Zinchenko     35   \n",
       "1         4436            1        2         30          Gabriel Jesus      9   \n",
       "2         4436            1        2        157           Granit Xhaka     34   \n",
       "3         4436            1        2        162     Gabriel Martinelli     11   \n",
       "4         4436            1        2        163            Bukayo Saka      7   \n",
       "...        ...          ...      ...        ...                    ...    ...   \n",
       "8669      4446            1        9        220         James Maddison     10   \n",
       "8670      4446            1        9        225            Jamie Vardy      9   \n",
       "8671      4446            1        9       1960       Timothy Castagne     27   \n",
       "8672      4446            1        9       2069          Wesley Fofana      3   \n",
       "8673      4446            1        9       5155  Kiernan Dewsbury-Hall     22   \n",
       "\n",
       "              x          y  \n",
       "0     13.573355  -7.494776  \n",
       "1     -3.277079  14.615077  \n",
       "2      7.887703   0.839211  \n",
       "3     -0.625160  -2.459962  \n",
       "4      5.372688  26.414956  \n",
       "...         ...        ...  \n",
       "8669   1.202907  -0.480332  \n",
       "8670  -7.655601  -3.839095  \n",
       "8671   8.776463  18.250230  \n",
       "8672  20.699112   9.525530  \n",
       "8673  13.601299  -8.296789  \n",
       "\n",
       "[198 rows x 8 columns]"
      ]
     },
     "execution_count": 39,
     "metadata": {},
     "output_type": "execute_result"
    }
   ],
   "source": [
    "players_interval_df = players_df.groupby(['match_id','interval_id','team_id','player_id','nickname','shirt']).agg(\n",
    "    x=('x', 'mean'),\n",
    "    y=('y', 'mean')\n",
    ").reset_index()\n",
    "\n",
    "players_interval_df['player_id'] = players_interval_df['player_id'].astype(int)\n",
    "players_interval_df['match_id'] = players_interval_df['match_id'].astype(int)\n",
    "players_interval_df['interval_id'] = players_interval_df['interval_id'].astype(int)\n",
    "players_interval_df['team_id'] = players_interval_df['team_id'].astype(int)\n",
    "players_interval_df['shirt'] = players_interval_df['shirt'].astype(int)\n",
    "\n",
    "players_interval_df[players_interval_df['interval_id']==1]"
   ]
  },
  {
   "cell_type": "code",
   "execution_count": null,
   "metadata": {},
   "outputs": [
    {
     "data": {
      "text/html": [
       "<div>\n",
       "<style scoped>\n",
       "    .dataframe tbody tr th:only-of-type {\n",
       "        vertical-align: middle;\n",
       "    }\n",
       "\n",
       "    .dataframe tbody tr th {\n",
       "        vertical-align: top;\n",
       "    }\n",
       "\n",
       "    .dataframe thead th {\n",
       "        text-align: right;\n",
       "    }\n",
       "</style>\n",
       "<table border=\"1\" class=\"dataframe\">\n",
       "  <thead>\n",
       "    <tr style=\"text-align: right;\">\n",
       "      <th></th>\n",
       "      <th>match_id</th>\n",
       "      <th>interval_id</th>\n",
       "      <th>team_id</th>\n",
       "      <th>team</th>\n",
       "    </tr>\n",
       "  </thead>\n",
       "  <tbody>\n",
       "    <tr>\n",
       "      <th>0</th>\n",
       "      <td>4436</td>\n",
       "      <td>1.0</td>\n",
       "      <td>7</td>\n",
       "      <td>home</td>\n",
       "    </tr>\n",
       "    <tr>\n",
       "      <th>1</th>\n",
       "      <td>4436</td>\n",
       "      <td>1.0</td>\n",
       "      <td>2</td>\n",
       "      <td>away</td>\n",
       "    </tr>\n",
       "    <tr>\n",
       "      <th>2</th>\n",
       "      <td>4436</td>\n",
       "      <td>2.0</td>\n",
       "      <td>7</td>\n",
       "      <td>home</td>\n",
       "    </tr>\n",
       "    <tr>\n",
       "      <th>3</th>\n",
       "      <td>4436</td>\n",
       "      <td>2.0</td>\n",
       "      <td>2</td>\n",
       "      <td>away</td>\n",
       "    </tr>\n",
       "    <tr>\n",
       "      <th>4</th>\n",
       "      <td>4436</td>\n",
       "      <td>3.0</td>\n",
       "      <td>7</td>\n",
       "      <td>home</td>\n",
       "    </tr>\n",
       "    <tr>\n",
       "      <th>...</th>\n",
       "      <td>...</td>\n",
       "      <td>...</td>\n",
       "      <td>...</td>\n",
       "      <td>...</td>\n",
       "    </tr>\n",
       "    <tr>\n",
       "      <th>877</th>\n",
       "      <td>4446</td>\n",
       "      <td>49.0</td>\n",
       "      <td>9</td>\n",
       "      <td>away</td>\n",
       "    </tr>\n",
       "    <tr>\n",
       "      <th>878</th>\n",
       "      <td>4446</td>\n",
       "      <td>50.0</td>\n",
       "      <td>2</td>\n",
       "      <td>home</td>\n",
       "    </tr>\n",
       "    <tr>\n",
       "      <th>879</th>\n",
       "      <td>4446</td>\n",
       "      <td>50.0</td>\n",
       "      <td>9</td>\n",
       "      <td>away</td>\n",
       "    </tr>\n",
       "    <tr>\n",
       "      <th>880</th>\n",
       "      <td>4446</td>\n",
       "      <td>51.0</td>\n",
       "      <td>2</td>\n",
       "      <td>home</td>\n",
       "    </tr>\n",
       "    <tr>\n",
       "      <th>881</th>\n",
       "      <td>4446</td>\n",
       "      <td>51.0</td>\n",
       "      <td>9</td>\n",
       "      <td>away</td>\n",
       "    </tr>\n",
       "  </tbody>\n",
       "</table>\n",
       "<p>882 rows × 4 columns</p>\n",
       "</div>"
      ],
      "text/plain": [
       "     match_id  interval_id  team_id  team\n",
       "0        4436          1.0        7  home\n",
       "1        4436          1.0        2  away\n",
       "2        4436          2.0        7  home\n",
       "3        4436          2.0        2  away\n",
       "4        4436          3.0        7  home\n",
       "..        ...          ...      ...   ...\n",
       "877      4446         49.0        9  away\n",
       "878      4446         50.0        2  home\n",
       "879      4446         50.0        9  away\n",
       "880      4446         51.0        2  home\n",
       "881      4446         51.0        9  away\n",
       "\n",
       "[882 rows x 4 columns]"
      ]
     },
     "execution_count": 41,
     "metadata": {},
     "output_type": "execute_result"
    }
   ],
   "source": [
    "match_intervals = players_df[['match_id','interval_id','team_id','team']].drop_duplicates().reset_index(drop=True)\n",
    "match_intervals = match_intervals[match_intervals['interval_id'].notna()].reset_index(drop=True)\n",
    "match_intervals"
   ]
  },
  {
   "cell_type": "code",
   "execution_count": 42,
   "metadata": {},
   "outputs": [
    {
     "data": {
      "text/html": [
       "<div>\n",
       "<style scoped>\n",
       "    .dataframe tbody tr th:only-of-type {\n",
       "        vertical-align: middle;\n",
       "    }\n",
       "\n",
       "    .dataframe tbody tr th {\n",
       "        vertical-align: top;\n",
       "    }\n",
       "\n",
       "    .dataframe thead th {\n",
       "        text-align: right;\n",
       "    }\n",
       "</style>\n",
       "<table border=\"1\" class=\"dataframe\">\n",
       "  <thead>\n",
       "    <tr style=\"text-align: right;\">\n",
       "      <th></th>\n",
       "      <th>match_id</th>\n",
       "      <th>interval_id</th>\n",
       "      <th>team_id</th>\n",
       "      <th>player_id</th>\n",
       "      <th>nickname</th>\n",
       "      <th>shirt</th>\n",
       "      <th>x</th>\n",
       "      <th>y</th>\n",
       "    </tr>\n",
       "  </thead>\n",
       "  <tbody>\n",
       "    <tr>\n",
       "      <th>0</th>\n",
       "      <td>4436</td>\n",
       "      <td>1.0</td>\n",
       "      <td>2</td>\n",
       "      <td>-1</td>\n",
       "      <td>Goal</td>\n",
       "      <td>-1</td>\n",
       "      <td>-52.000000</td>\n",
       "      <td>0.000000</td>\n",
       "    </tr>\n",
       "    <tr>\n",
       "      <th>1</th>\n",
       "      <td>4436</td>\n",
       "      <td>1.0</td>\n",
       "      <td>2</td>\n",
       "      <td>15</td>\n",
       "      <td>Oleksandr Zinchenko</td>\n",
       "      <td>35</td>\n",
       "      <td>13.573355</td>\n",
       "      <td>-7.494776</td>\n",
       "    </tr>\n",
       "    <tr>\n",
       "      <th>2</th>\n",
       "      <td>4436</td>\n",
       "      <td>1.0</td>\n",
       "      <td>2</td>\n",
       "      <td>30</td>\n",
       "      <td>Gabriel Jesus</td>\n",
       "      <td>9</td>\n",
       "      <td>-3.277079</td>\n",
       "      <td>14.615077</td>\n",
       "    </tr>\n",
       "    <tr>\n",
       "      <th>3</th>\n",
       "      <td>4436</td>\n",
       "      <td>1.0</td>\n",
       "      <td>2</td>\n",
       "      <td>157</td>\n",
       "      <td>Granit Xhaka</td>\n",
       "      <td>34</td>\n",
       "      <td>7.887703</td>\n",
       "      <td>0.839211</td>\n",
       "    </tr>\n",
       "    <tr>\n",
       "      <th>4</th>\n",
       "      <td>4436</td>\n",
       "      <td>1.0</td>\n",
       "      <td>2</td>\n",
       "      <td>162</td>\n",
       "      <td>Gabriel Martinelli</td>\n",
       "      <td>11</td>\n",
       "      <td>-0.625160</td>\n",
       "      <td>-2.459962</td>\n",
       "    </tr>\n",
       "    <tr>\n",
       "      <th>...</th>\n",
       "      <td>...</td>\n",
       "      <td>...</td>\n",
       "      <td>...</td>\n",
       "      <td>...</td>\n",
       "      <td>...</td>\n",
       "      <td>...</td>\n",
       "      <td>...</td>\n",
       "      <td>...</td>\n",
       "    </tr>\n",
       "    <tr>\n",
       "      <th>10610</th>\n",
       "      <td>4446</td>\n",
       "      <td>51.0</td>\n",
       "      <td>9</td>\n",
       "      <td>226</td>\n",
       "      <td>Kelechi Iheanacho</td>\n",
       "      <td>14</td>\n",
       "      <td>-25.892583</td>\n",
       "      <td>6.703000</td>\n",
       "    </tr>\n",
       "    <tr>\n",
       "      <th>10611</th>\n",
       "      <td>4446</td>\n",
       "      <td>51.0</td>\n",
       "      <td>9</td>\n",
       "      <td>1960</td>\n",
       "      <td>Timothy Castagne</td>\n",
       "      <td>27</td>\n",
       "      <td>3.158194</td>\n",
       "      <td>13.366986</td>\n",
       "    </tr>\n",
       "    <tr>\n",
       "      <th>10612</th>\n",
       "      <td>4446</td>\n",
       "      <td>51.0</td>\n",
       "      <td>9</td>\n",
       "      <td>2069</td>\n",
       "      <td>Wesley Fofana</td>\n",
       "      <td>3</td>\n",
       "      <td>9.033496</td>\n",
       "      <td>0.745741</td>\n",
       "    </tr>\n",
       "    <tr>\n",
       "      <th>10613</th>\n",
       "      <td>4446</td>\n",
       "      <td>51.0</td>\n",
       "      <td>9</td>\n",
       "      <td>5096</td>\n",
       "      <td>Patson Daka</td>\n",
       "      <td>20</td>\n",
       "      <td>-17.482180</td>\n",
       "      <td>4.933504</td>\n",
       "    </tr>\n",
       "    <tr>\n",
       "      <th>10614</th>\n",
       "      <td>4446</td>\n",
       "      <td>51.0</td>\n",
       "      <td>9</td>\n",
       "      <td>5155</td>\n",
       "      <td>Kiernan Dewsbury-Hall</td>\n",
       "      <td>22</td>\n",
       "      <td>-0.765252</td>\n",
       "      <td>4.566619</td>\n",
       "    </tr>\n",
       "  </tbody>\n",
       "</table>\n",
       "<p>10615 rows × 8 columns</p>\n",
       "</div>"
      ],
      "text/plain": [
       "       match_id  interval_id  team_id  player_id               nickname  \\\n",
       "0          4436          1.0        2         -1                   Goal   \n",
       "1          4436          1.0        2         15    Oleksandr Zinchenko   \n",
       "2          4436          1.0        2         30          Gabriel Jesus   \n",
       "3          4436          1.0        2        157           Granit Xhaka   \n",
       "4          4436          1.0        2        162     Gabriel Martinelli   \n",
       "...         ...          ...      ...        ...                    ...   \n",
       "10610      4446         51.0        9        226      Kelechi Iheanacho   \n",
       "10611      4446         51.0        9       1960       Timothy Castagne   \n",
       "10612      4446         51.0        9       2069          Wesley Fofana   \n",
       "10613      4446         51.0        9       5096            Patson Daka   \n",
       "10614      4446         51.0        9       5155  Kiernan Dewsbury-Hall   \n",
       "\n",
       "       shirt          x          y  \n",
       "0         -1 -52.000000   0.000000  \n",
       "1         35  13.573355  -7.494776  \n",
       "2          9  -3.277079  14.615077  \n",
       "3         34   7.887703   0.839211  \n",
       "4         11  -0.625160  -2.459962  \n",
       "...      ...        ...        ...  \n",
       "10610     14 -25.892583   6.703000  \n",
       "10611     27   3.158194  13.366986  \n",
       "10612      3   9.033496   0.745741  \n",
       "10613     20 -17.482180   4.933504  \n",
       "10614     22  -0.765252   4.566619  \n",
       "\n",
       "[10615 rows x 8 columns]"
      ]
     },
     "execution_count": 42,
     "metadata": {},
     "output_type": "execute_result"
    }
   ],
   "source": [
    "data = [{\n",
    "    'match_id':row['match_id'],\n",
    "    'interval_id':row['interval_id'],\n",
    "    'team_id': row['team_id'],\n",
    "    'player_id': -1,\n",
    "    'nickname': 'Goal',\n",
    "    'shirt': -1,\n",
    "    'x': 52 if row['team']=='home' else -52,\n",
    "    'y': 0\n",
    "} for _,row in match_intervals.iterrows()]\n",
    "\n",
    "data = pd.DataFrame(data)\n",
    "\n",
    "players_interval_df = pd.concat([players_interval_df, data], ignore_index=True).sort_values(['match_id','interval_id','team_id','player_id']).reset_index(drop=True)\n",
    "players_interval_df"
   ]
  },
  {
   "cell_type": "code",
   "execution_count": 43,
   "metadata": {},
   "outputs": [
    {
     "data": {
      "text/html": [
       "<div>\n",
       "<style scoped>\n",
       "    .dataframe tbody tr th:only-of-type {\n",
       "        vertical-align: middle;\n",
       "    }\n",
       "\n",
       "    .dataframe tbody tr th {\n",
       "        vertical-align: top;\n",
       "    }\n",
       "\n",
       "    .dataframe thead th {\n",
       "        text-align: right;\n",
       "    }\n",
       "</style>\n",
       "<table border=\"1\" class=\"dataframe\">\n",
       "  <thead>\n",
       "    <tr style=\"text-align: right;\">\n",
       "      <th></th>\n",
       "      <th>match_id</th>\n",
       "      <th>interval_id</th>\n",
       "      <th>team_id</th>\n",
       "      <th>player_id</th>\n",
       "      <th>nickname</th>\n",
       "      <th>shirt</th>\n",
       "      <th>x</th>\n",
       "      <th>y</th>\n",
       "    </tr>\n",
       "  </thead>\n",
       "  <tbody>\n",
       "    <tr>\n",
       "      <th>0</th>\n",
       "      <td>4436</td>\n",
       "      <td>1.0</td>\n",
       "      <td>2</td>\n",
       "      <td>-1</td>\n",
       "      <td>Goal</td>\n",
       "      <td>-1</td>\n",
       "      <td>-52.000000</td>\n",
       "      <td>0.000000</td>\n",
       "    </tr>\n",
       "    <tr>\n",
       "      <th>1</th>\n",
       "      <td>4436</td>\n",
       "      <td>1.0</td>\n",
       "      <td>2</td>\n",
       "      <td>15</td>\n",
       "      <td>Oleksandr Zinchenko</td>\n",
       "      <td>35</td>\n",
       "      <td>13.573355</td>\n",
       "      <td>-7.494776</td>\n",
       "    </tr>\n",
       "    <tr>\n",
       "      <th>2</th>\n",
       "      <td>4436</td>\n",
       "      <td>1.0</td>\n",
       "      <td>2</td>\n",
       "      <td>30</td>\n",
       "      <td>Gabriel Jesus</td>\n",
       "      <td>9</td>\n",
       "      <td>-3.277079</td>\n",
       "      <td>14.615077</td>\n",
       "    </tr>\n",
       "    <tr>\n",
       "      <th>3</th>\n",
       "      <td>4436</td>\n",
       "      <td>1.0</td>\n",
       "      <td>2</td>\n",
       "      <td>157</td>\n",
       "      <td>Granit Xhaka</td>\n",
       "      <td>34</td>\n",
       "      <td>7.887703</td>\n",
       "      <td>0.839211</td>\n",
       "    </tr>\n",
       "    <tr>\n",
       "      <th>4</th>\n",
       "      <td>4436</td>\n",
       "      <td>1.0</td>\n",
       "      <td>2</td>\n",
       "      <td>162</td>\n",
       "      <td>Gabriel Martinelli</td>\n",
       "      <td>11</td>\n",
       "      <td>-0.625160</td>\n",
       "      <td>-2.459962</td>\n",
       "    </tr>\n",
       "    <tr>\n",
       "      <th>...</th>\n",
       "      <td>...</td>\n",
       "      <td>...</td>\n",
       "      <td>...</td>\n",
       "      <td>...</td>\n",
       "      <td>...</td>\n",
       "      <td>...</td>\n",
       "      <td>...</td>\n",
       "      <td>...</td>\n",
       "    </tr>\n",
       "    <tr>\n",
       "      <th>10610</th>\n",
       "      <td>4446</td>\n",
       "      <td>51.0</td>\n",
       "      <td>9</td>\n",
       "      <td>226</td>\n",
       "      <td>Kelechi Iheanacho</td>\n",
       "      <td>14</td>\n",
       "      <td>-25.892583</td>\n",
       "      <td>6.703000</td>\n",
       "    </tr>\n",
       "    <tr>\n",
       "      <th>10611</th>\n",
       "      <td>4446</td>\n",
       "      <td>51.0</td>\n",
       "      <td>9</td>\n",
       "      <td>1960</td>\n",
       "      <td>Timothy Castagne</td>\n",
       "      <td>27</td>\n",
       "      <td>3.158194</td>\n",
       "      <td>13.366986</td>\n",
       "    </tr>\n",
       "    <tr>\n",
       "      <th>10612</th>\n",
       "      <td>4446</td>\n",
       "      <td>51.0</td>\n",
       "      <td>9</td>\n",
       "      <td>2069</td>\n",
       "      <td>Wesley Fofana</td>\n",
       "      <td>3</td>\n",
       "      <td>9.033496</td>\n",
       "      <td>0.745741</td>\n",
       "    </tr>\n",
       "    <tr>\n",
       "      <th>10613</th>\n",
       "      <td>4446</td>\n",
       "      <td>51.0</td>\n",
       "      <td>9</td>\n",
       "      <td>5096</td>\n",
       "      <td>Patson Daka</td>\n",
       "      <td>20</td>\n",
       "      <td>-17.482180</td>\n",
       "      <td>4.933504</td>\n",
       "    </tr>\n",
       "    <tr>\n",
       "      <th>10614</th>\n",
       "      <td>4446</td>\n",
       "      <td>51.0</td>\n",
       "      <td>9</td>\n",
       "      <td>5155</td>\n",
       "      <td>Kiernan Dewsbury-Hall</td>\n",
       "      <td>22</td>\n",
       "      <td>-0.765252</td>\n",
       "      <td>4.566619</td>\n",
       "    </tr>\n",
       "  </tbody>\n",
       "</table>\n",
       "<p>10615 rows × 8 columns</p>\n",
       "</div>"
      ],
      "text/plain": [
       "       match_id  interval_id  team_id  player_id               nickname  \\\n",
       "0          4436          1.0        2         -1                   Goal   \n",
       "1          4436          1.0        2         15    Oleksandr Zinchenko   \n",
       "2          4436          1.0        2         30          Gabriel Jesus   \n",
       "3          4436          1.0        2        157           Granit Xhaka   \n",
       "4          4436          1.0        2        162     Gabriel Martinelli   \n",
       "...         ...          ...      ...        ...                    ...   \n",
       "10610      4446         51.0        9        226      Kelechi Iheanacho   \n",
       "10611      4446         51.0        9       1960       Timothy Castagne   \n",
       "10612      4446         51.0        9       2069          Wesley Fofana   \n",
       "10613      4446         51.0        9       5096            Patson Daka   \n",
       "10614      4446         51.0        9       5155  Kiernan Dewsbury-Hall   \n",
       "\n",
       "       shirt          x          y  \n",
       "0         -1 -52.000000   0.000000  \n",
       "1         35  13.573355  -7.494776  \n",
       "2          9  -3.277079  14.615077  \n",
       "3         34   7.887703   0.839211  \n",
       "4         11  -0.625160  -2.459962  \n",
       "...      ...        ...        ...  \n",
       "10610     14 -25.892583   6.703000  \n",
       "10611     27   3.158194  13.366986  \n",
       "10612      3   9.033496   0.745741  \n",
       "10613     20 -17.482180   4.933504  \n",
       "10614     22  -0.765252   4.566619  \n",
       "\n",
       "[10615 rows x 8 columns]"
      ]
     },
     "execution_count": 43,
     "metadata": {},
     "output_type": "execute_result"
    }
   ],
   "source": [
    "players_interval_df = players_interval_df[players_interval_df['interval_id'].notna()].reset_index(drop=True)\n",
    "players_interval_df"
   ]
  },
  {
   "cell_type": "markdown",
   "metadata": {},
   "source": [
    "### Events"
   ]
  },
  {
   "cell_type": "code",
   "execution_count": 44,
   "metadata": {},
   "outputs": [
    {
     "data": {
      "text/html": [
       "<div>\n",
       "<style scoped>\n",
       "    .dataframe tbody tr th:only-of-type {\n",
       "        vertical-align: middle;\n",
       "    }\n",
       "\n",
       "    .dataframe tbody tr th {\n",
       "        vertical-align: top;\n",
       "    }\n",
       "\n",
       "    .dataframe thead th {\n",
       "        text-align: right;\n",
       "    }\n",
       "</style>\n",
       "<table border=\"1\" class=\"dataframe\">\n",
       "  <thead>\n",
       "    <tr style=\"text-align: right;\">\n",
       "      <th></th>\n",
       "      <th>match_id</th>\n",
       "      <th>player_id</th>\n",
       "      <th>receiver_id</th>\n",
       "      <th>event_id</th>\n",
       "      <th>possession_id</th>\n",
       "      <th>team_id</th>\n",
       "    </tr>\n",
       "  </thead>\n",
       "  <tbody>\n",
       "    <tr>\n",
       "      <th>0</th>\n",
       "      <td>4436</td>\n",
       "      <td>1940</td>\n",
       "      <td>2073.0</td>\n",
       "      <td>4427560</td>\n",
       "      <td>4245025</td>\n",
       "      <td>7</td>\n",
       "    </tr>\n",
       "    <tr>\n",
       "      <th>1</th>\n",
       "      <td>4436</td>\n",
       "      <td>2073</td>\n",
       "      <td>5090.0</td>\n",
       "      <td>4427697</td>\n",
       "      <td>4245173</td>\n",
       "      <td>7</td>\n",
       "    </tr>\n",
       "    <tr>\n",
       "      <th>2</th>\n",
       "      <td>4436</td>\n",
       "      <td>5090</td>\n",
       "      <td>4213.0</td>\n",
       "      <td>4427699</td>\n",
       "      <td>4245175</td>\n",
       "      <td>7</td>\n",
       "    </tr>\n",
       "    <tr>\n",
       "      <th>3</th>\n",
       "      <td>4436</td>\n",
       "      <td>4213</td>\n",
       "      <td>2073.0</td>\n",
       "      <td>4427701</td>\n",
       "      <td>4245177</td>\n",
       "      <td>7</td>\n",
       "    </tr>\n",
       "    <tr>\n",
       "      <th>4</th>\n",
       "      <td>4436</td>\n",
       "      <td>2073</td>\n",
       "      <td>5090.0</td>\n",
       "      <td>4427705</td>\n",
       "      <td>4245181</td>\n",
       "      <td>7</td>\n",
       "    </tr>\n",
       "  </tbody>\n",
       "</table>\n",
       "</div>"
      ],
      "text/plain": [
       "  match_id player_id receiver_id event_id possession_id team_id\n",
       "0     4436      1940      2073.0  4427560       4245025       7\n",
       "1     4436      2073      5090.0  4427697       4245173       7\n",
       "2     4436      5090      4213.0  4427699       4245175       7\n",
       "3     4436      4213      2073.0  4427701       4245177       7\n",
       "4     4436      2073      5090.0  4427705       4245181       7"
      ]
     },
     "execution_count": 44,
     "metadata": {},
     "output_type": "execute_result"
    }
   ],
   "source": [
    "pass_df = events_df[(events_df['possession_type']=='PASS') & (events_df['outcome']=='C')][['match_id','player_id','receiver_id','event_id','possession_id','team_id']]\n",
    "pass_df.head()"
   ]
  },
  {
   "cell_type": "code",
   "execution_count": 45,
   "metadata": {},
   "outputs": [
    {
     "data": {
      "text/html": [
       "<div>\n",
       "<style scoped>\n",
       "    .dataframe tbody tr th:only-of-type {\n",
       "        vertical-align: middle;\n",
       "    }\n",
       "\n",
       "    .dataframe tbody tr th {\n",
       "        vertical-align: top;\n",
       "    }\n",
       "\n",
       "    .dataframe thead th {\n",
       "        text-align: right;\n",
       "    }\n",
       "</style>\n",
       "<table border=\"1\" class=\"dataframe\">\n",
       "  <thead>\n",
       "    <tr style=\"text-align: right;\">\n",
       "      <th></th>\n",
       "      <th>match_id</th>\n",
       "      <th>player_id</th>\n",
       "      <th>receiver_id</th>\n",
       "      <th>event_id</th>\n",
       "      <th>possession_id</th>\n",
       "      <th>team_id</th>\n",
       "    </tr>\n",
       "  </thead>\n",
       "  <tbody>\n",
       "    <tr>\n",
       "      <th>22</th>\n",
       "      <td>4436</td>\n",
       "      <td>1688</td>\n",
       "      <td>1688.0</td>\n",
       "      <td>4427757</td>\n",
       "      <td>4521767</td>\n",
       "      <td>2</td>\n",
       "    </tr>\n",
       "    <tr>\n",
       "      <th>24</th>\n",
       "      <td>4436</td>\n",
       "      <td>30</td>\n",
       "      <td>30.0</td>\n",
       "      <td>4427766</td>\n",
       "      <td>4250669</td>\n",
       "      <td>2</td>\n",
       "    </tr>\n",
       "    <tr>\n",
       "      <th>45</th>\n",
       "      <td>4436</td>\n",
       "      <td>6016</td>\n",
       "      <td>6016.0</td>\n",
       "      <td>4427834</td>\n",
       "      <td>4250178</td>\n",
       "      <td>7</td>\n",
       "    </tr>\n",
       "    <tr>\n",
       "      <th>91</th>\n",
       "      <td>4436</td>\n",
       "      <td>15</td>\n",
       "      <td>15.0</td>\n",
       "      <td>4427963</td>\n",
       "      <td>4245440</td>\n",
       "      <td>2</td>\n",
       "    </tr>\n",
       "    <tr>\n",
       "      <th>132</th>\n",
       "      <td>4436</td>\n",
       "      <td>15</td>\n",
       "      <td>15.0</td>\n",
       "      <td>4428086</td>\n",
       "      <td>4245561</td>\n",
       "      <td>2</td>\n",
       "    </tr>\n",
       "  </tbody>\n",
       "</table>\n",
       "</div>"
      ],
      "text/plain": [
       "    match_id player_id receiver_id event_id possession_id team_id\n",
       "22      4436      1688      1688.0  4427757       4521767       2\n",
       "24      4436        30        30.0  4427766       4250669       2\n",
       "45      4436      6016      6016.0  4427834       4250178       7\n",
       "91      4436        15        15.0  4427963       4245440       2\n",
       "132     4436        15        15.0  4428086       4245561       2"
      ]
     },
     "execution_count": 45,
     "metadata": {},
     "output_type": "execute_result"
    }
   ],
   "source": [
    "carry_df = events_df[(events_df['possession_type']=='CARRY') & ((events_df['carry_type'].isin(['T','C'])) | ((events_df['carry_type']=='D')&(events_df['outcome'].isin(['K','B']))))][['match_id','player_id','receiver_id','event_id','possession_id','team_id']]\n",
    "carry_df.head()"
   ]
  },
  {
   "cell_type": "code",
   "execution_count": 46,
   "metadata": {},
   "outputs": [
    {
     "data": {
      "text/html": [
       "<div>\n",
       "<style scoped>\n",
       "    .dataframe tbody tr th:only-of-type {\n",
       "        vertical-align: middle;\n",
       "    }\n",
       "\n",
       "    .dataframe tbody tr th {\n",
       "        vertical-align: top;\n",
       "    }\n",
       "\n",
       "    .dataframe thead th {\n",
       "        text-align: right;\n",
       "    }\n",
       "</style>\n",
       "<table border=\"1\" class=\"dataframe\">\n",
       "  <thead>\n",
       "    <tr style=\"text-align: right;\">\n",
       "      <th></th>\n",
       "      <th>match_id</th>\n",
       "      <th>player_id</th>\n",
       "      <th>receiver_id</th>\n",
       "      <th>event_id</th>\n",
       "      <th>possession_id</th>\n",
       "      <th>team_id</th>\n",
       "    </tr>\n",
       "  </thead>\n",
       "  <tbody>\n",
       "    <tr>\n",
       "      <th>62</th>\n",
       "      <td>4436</td>\n",
       "      <td>162</td>\n",
       "      <td>-1.0</td>\n",
       "      <td>4427873</td>\n",
       "      <td>4245343</td>\n",
       "      <td>2</td>\n",
       "    </tr>\n",
       "    <tr>\n",
       "      <th>63</th>\n",
       "      <td>4436</td>\n",
       "      <td>30</td>\n",
       "      <td>-1.0</td>\n",
       "      <td>4427881</td>\n",
       "      <td>4245353</td>\n",
       "      <td>2</td>\n",
       "    </tr>\n",
       "    <tr>\n",
       "      <th>114</th>\n",
       "      <td>4436</td>\n",
       "      <td>15</td>\n",
       "      <td>-1.0</td>\n",
       "      <td>4428024</td>\n",
       "      <td>4245498</td>\n",
       "      <td>2</td>\n",
       "    </tr>\n",
       "    <tr>\n",
       "      <th>118</th>\n",
       "      <td>4436</td>\n",
       "      <td>1380</td>\n",
       "      <td>-1.0</td>\n",
       "      <td>4428045</td>\n",
       "      <td>4245519</td>\n",
       "      <td>2</td>\n",
       "    </tr>\n",
       "    <tr>\n",
       "      <th>253</th>\n",
       "      <td>4436</td>\n",
       "      <td>162</td>\n",
       "      <td>-1.0</td>\n",
       "      <td>4428502</td>\n",
       "      <td>4245951</td>\n",
       "      <td>2</td>\n",
       "    </tr>\n",
       "  </tbody>\n",
       "</table>\n",
       "</div>"
      ],
      "text/plain": [
       "    match_id player_id receiver_id event_id possession_id team_id\n",
       "62      4436       162        -1.0  4427873       4245343       2\n",
       "63      4436        30        -1.0  4427881       4245353       2\n",
       "114     4436        15        -1.0  4428024       4245498       2\n",
       "118     4436      1380        -1.0  4428045       4245519       2\n",
       "253     4436       162        -1.0  4428502       4245951       2"
      ]
     },
     "execution_count": 46,
     "metadata": {},
     "output_type": "execute_result"
    }
   ],
   "source": [
    "shots_df = events_df[(events_df['possession_type']=='SHOT')][['match_id','player_id','receiver_id','event_id','possession_id','team_id']]\n",
    "shots_df.head()"
   ]
  },
  {
   "cell_type": "code",
   "execution_count": 47,
   "metadata": {},
   "outputs": [
    {
     "data": {
      "text/html": [
       "<div>\n",
       "<style scoped>\n",
       "    .dataframe tbody tr th:only-of-type {\n",
       "        vertical-align: middle;\n",
       "    }\n",
       "\n",
       "    .dataframe tbody tr th {\n",
       "        vertical-align: top;\n",
       "    }\n",
       "\n",
       "    .dataframe thead th {\n",
       "        text-align: right;\n",
       "    }\n",
       "</style>\n",
       "<table border=\"1\" class=\"dataframe\">\n",
       "  <thead>\n",
       "    <tr style=\"text-align: right;\">\n",
       "      <th></th>\n",
       "      <th>match_id</th>\n",
       "      <th>player_id</th>\n",
       "      <th>receiver_id</th>\n",
       "      <th>event_id</th>\n",
       "      <th>possession_id</th>\n",
       "      <th>team_id</th>\n",
       "    </tr>\n",
       "  </thead>\n",
       "  <tbody>\n",
       "    <tr>\n",
       "      <th>0</th>\n",
       "      <td>4436</td>\n",
       "      <td>1940</td>\n",
       "      <td>2073.0</td>\n",
       "      <td>4427560</td>\n",
       "      <td>4245025</td>\n",
       "      <td>7</td>\n",
       "    </tr>\n",
       "    <tr>\n",
       "      <th>1</th>\n",
       "      <td>4436</td>\n",
       "      <td>2073</td>\n",
       "      <td>5090.0</td>\n",
       "      <td>4427697</td>\n",
       "      <td>4245173</td>\n",
       "      <td>7</td>\n",
       "    </tr>\n",
       "    <tr>\n",
       "      <th>2</th>\n",
       "      <td>4436</td>\n",
       "      <td>5090</td>\n",
       "      <td>4213.0</td>\n",
       "      <td>4427699</td>\n",
       "      <td>4245175</td>\n",
       "      <td>7</td>\n",
       "    </tr>\n",
       "    <tr>\n",
       "      <th>3</th>\n",
       "      <td>4436</td>\n",
       "      <td>4213</td>\n",
       "      <td>2073.0</td>\n",
       "      <td>4427701</td>\n",
       "      <td>4245177</td>\n",
       "      <td>7</td>\n",
       "    </tr>\n",
       "    <tr>\n",
       "      <th>4</th>\n",
       "      <td>4436</td>\n",
       "      <td>2073</td>\n",
       "      <td>5090.0</td>\n",
       "      <td>4427705</td>\n",
       "      <td>4245181</td>\n",
       "      <td>7</td>\n",
       "    </tr>\n",
       "  </tbody>\n",
       "</table>\n",
       "</div>"
      ],
      "text/plain": [
       "  match_id player_id receiver_id event_id possession_id team_id\n",
       "0     4436      1940      2073.0  4427560       4245025       7\n",
       "1     4436      2073      5090.0  4427697       4245173       7\n",
       "2     4436      5090      4213.0  4427699       4245175       7\n",
       "3     4436      4213      2073.0  4427701       4245177       7\n",
       "4     4436      2073      5090.0  4427705       4245181       7"
      ]
     },
     "execution_count": 47,
     "metadata": {},
     "output_type": "execute_result"
    }
   ],
   "source": [
    "network_events_df = pd.concat([pass_df,carry_df, shots_df]).reset_index(drop=True)\n",
    "network_events_df.head()"
   ]
  },
  {
   "cell_type": "markdown",
   "metadata": {},
   "source": [
    "### Networks"
   ]
  },
  {
   "cell_type": "code",
   "execution_count": 48,
   "metadata": {},
   "outputs": [
    {
     "data": {
      "text/html": [
       "<div>\n",
       "<style scoped>\n",
       "    .dataframe tbody tr th:only-of-type {\n",
       "        vertical-align: middle;\n",
       "    }\n",
       "\n",
       "    .dataframe tbody tr th {\n",
       "        vertical-align: top;\n",
       "    }\n",
       "\n",
       "    .dataframe thead th {\n",
       "        text-align: right;\n",
       "    }\n",
       "</style>\n",
       "<table border=\"1\" class=\"dataframe\">\n",
       "  <thead>\n",
       "    <tr style=\"text-align: right;\">\n",
       "      <th></th>\n",
       "      <th>match_id</th>\n",
       "      <th>player_id</th>\n",
       "      <th>receiver_id</th>\n",
       "      <th>event_id</th>\n",
       "      <th>possession_id</th>\n",
       "      <th>team_id</th>\n",
       "      <th>interval_id</th>\n",
       "      <th>frame_id</th>\n",
       "    </tr>\n",
       "  </thead>\n",
       "  <tbody>\n",
       "    <tr>\n",
       "      <th>0</th>\n",
       "      <td>4436</td>\n",
       "      <td>1940</td>\n",
       "      <td>2073.0</td>\n",
       "      <td>4427560</td>\n",
       "      <td>4245025</td>\n",
       "      <td>7</td>\n",
       "      <td>1.0</td>\n",
       "      <td>1594.0</td>\n",
       "    </tr>\n",
       "    <tr>\n",
       "      <th>1</th>\n",
       "      <td>4436</td>\n",
       "      <td>2073</td>\n",
       "      <td>5090.0</td>\n",
       "      <td>4427697</td>\n",
       "      <td>4245173</td>\n",
       "      <td>7</td>\n",
       "      <td>1.0</td>\n",
       "      <td>1669.0</td>\n",
       "    </tr>\n",
       "    <tr>\n",
       "      <th>2</th>\n",
       "      <td>4436</td>\n",
       "      <td>5090</td>\n",
       "      <td>4213.0</td>\n",
       "      <td>4427699</td>\n",
       "      <td>4245175</td>\n",
       "      <td>7</td>\n",
       "      <td>1.0</td>\n",
       "      <td>1733.0</td>\n",
       "    </tr>\n",
       "    <tr>\n",
       "      <th>3</th>\n",
       "      <td>4436</td>\n",
       "      <td>4213</td>\n",
       "      <td>2073.0</td>\n",
       "      <td>4427701</td>\n",
       "      <td>4245177</td>\n",
       "      <td>7</td>\n",
       "      <td>1.0</td>\n",
       "      <td>1759.0</td>\n",
       "    </tr>\n",
       "    <tr>\n",
       "      <th>4</th>\n",
       "      <td>4436</td>\n",
       "      <td>2073</td>\n",
       "      <td>5090.0</td>\n",
       "      <td>4427705</td>\n",
       "      <td>4245181</td>\n",
       "      <td>7</td>\n",
       "      <td>1.0</td>\n",
       "      <td>1810.0</td>\n",
       "    </tr>\n",
       "  </tbody>\n",
       "</table>\n",
       "</div>"
      ],
      "text/plain": [
       "  match_id player_id receiver_id event_id possession_id team_id  interval_id  \\\n",
       "0     4436      1940      2073.0  4427560       4245025       7          1.0   \n",
       "1     4436      2073      5090.0  4427697       4245173       7          1.0   \n",
       "2     4436      5090      4213.0  4427699       4245175       7          1.0   \n",
       "3     4436      4213      2073.0  4427701       4245177       7          1.0   \n",
       "4     4436      2073      5090.0  4427705       4245181       7          1.0   \n",
       "\n",
       "   frame_id  \n",
       "0    1594.0  \n",
       "1    1669.0  \n",
       "2    1733.0  \n",
       "3    1759.0  \n",
       "4    1810.0  "
      ]
     },
     "execution_count": 48,
     "metadata": {},
     "output_type": "execute_result"
    }
   ],
   "source": [
    "network_frame_df = network_events_df.merge(metadata_df[['match_id','interval_id','frame_id','event_id','possession_id']], on=['match_id','event_id','possession_id'], how='left')\n",
    "network_frame_df.head()"
   ]
  },
  {
   "cell_type": "code",
   "execution_count": 49,
   "metadata": {},
   "outputs": [
    {
     "data": {
      "text/html": [
       "<div>\n",
       "<style scoped>\n",
       "    .dataframe tbody tr th:only-of-type {\n",
       "        vertical-align: middle;\n",
       "    }\n",
       "\n",
       "    .dataframe tbody tr th {\n",
       "        vertical-align: top;\n",
       "    }\n",
       "\n",
       "    .dataframe thead th {\n",
       "        text-align: right;\n",
       "    }\n",
       "</style>\n",
       "<table border=\"1\" class=\"dataframe\">\n",
       "  <thead>\n",
       "    <tr style=\"text-align: right;\">\n",
       "      <th></th>\n",
       "      <th>match_id</th>\n",
       "      <th>interval_id</th>\n",
       "      <th>team_id</th>\n",
       "      <th>player_id</th>\n",
       "      <th>receiver_id</th>\n",
       "      <th>count</th>\n",
       "    </tr>\n",
       "  </thead>\n",
       "  <tbody>\n",
       "    <tr>\n",
       "      <th>0</th>\n",
       "      <td>4436</td>\n",
       "      <td>1</td>\n",
       "      <td>2</td>\n",
       "      <td>15</td>\n",
       "      <td>1894</td>\n",
       "      <td>1</td>\n",
       "    </tr>\n",
       "    <tr>\n",
       "      <th>1</th>\n",
       "      <td>4436</td>\n",
       "      <td>1</td>\n",
       "      <td>2</td>\n",
       "      <td>30</td>\n",
       "      <td>30</td>\n",
       "      <td>1</td>\n",
       "    </tr>\n",
       "    <tr>\n",
       "      <th>2</th>\n",
       "      <td>4436</td>\n",
       "      <td>1</td>\n",
       "      <td>2</td>\n",
       "      <td>157</td>\n",
       "      <td>162</td>\n",
       "      <td>1</td>\n",
       "    </tr>\n",
       "    <tr>\n",
       "      <th>3</th>\n",
       "      <td>4436</td>\n",
       "      <td>1</td>\n",
       "      <td>2</td>\n",
       "      <td>162</td>\n",
       "      <td>163</td>\n",
       "      <td>1</td>\n",
       "    </tr>\n",
       "    <tr>\n",
       "      <th>4</th>\n",
       "      <td>4436</td>\n",
       "      <td>1</td>\n",
       "      <td>2</td>\n",
       "      <td>163</td>\n",
       "      <td>30</td>\n",
       "      <td>1</td>\n",
       "    </tr>\n",
       "  </tbody>\n",
       "</table>\n",
       "</div>"
      ],
      "text/plain": [
       "   match_id  interval_id  team_id  player_id  receiver_id  count\n",
       "0      4436            1        2         15         1894      1\n",
       "1      4436            1        2         30           30      1\n",
       "2      4436            1        2        157          162      1\n",
       "3      4436            1        2        162          163      1\n",
       "4      4436            1        2        163           30      1"
      ]
     },
     "execution_count": 49,
     "metadata": {},
     "output_type": "execute_result"
    }
   ],
   "source": [
    "# Group by match_id, interval_id, team_id, player_id, receiver_id to get the number of interactions between players\n",
    "\n",
    "grouped_df = network_frame_df.groupby(['match_id','interval_id','team_id','player_id','receiver_id']).size().reset_index(name='count')\n",
    "grouped_df['match_id']=grouped_df['match_id'].astype(int)\n",
    "grouped_df['interval_id']=grouped_df['interval_id'].astype(int)\n",
    "grouped_df['team_id']=grouped_df['team_id'].astype(int)\n",
    "grouped_df['player_id']=grouped_df['player_id'].astype(int)\n",
    "grouped_df['receiver_id']=grouped_df['receiver_id'].astype(int)\n",
    "\n",
    "grouped_df.head()"
   ]
  },
  {
   "cell_type": "code",
   "execution_count": 50,
   "metadata": {},
   "outputs": [
    {
     "data": {
      "text/html": [
       "<div>\n",
       "<style scoped>\n",
       "    .dataframe tbody tr th:only-of-type {\n",
       "        vertical-align: middle;\n",
       "    }\n",
       "\n",
       "    .dataframe tbody tr th {\n",
       "        vertical-align: top;\n",
       "    }\n",
       "\n",
       "    .dataframe thead th {\n",
       "        text-align: right;\n",
       "    }\n",
       "</style>\n",
       "<table border=\"1\" class=\"dataframe\">\n",
       "  <thead>\n",
       "    <tr style=\"text-align: right;\">\n",
       "      <th></th>\n",
       "      <th>match_id</th>\n",
       "      <th>interval_id</th>\n",
       "      <th>team_id</th>\n",
       "      <th>player_id</th>\n",
       "      <th>receiver_id</th>\n",
       "      <th>count</th>\n",
       "      <th>player_nickname</th>\n",
       "      <th>player_shirt</th>\n",
       "      <th>receiver_nickname</th>\n",
       "      <th>receiver_shirt</th>\n",
       "    </tr>\n",
       "  </thead>\n",
       "  <tbody>\n",
       "    <tr>\n",
       "      <th>0</th>\n",
       "      <td>4436</td>\n",
       "      <td>1</td>\n",
       "      <td>2</td>\n",
       "      <td>15</td>\n",
       "      <td>1894</td>\n",
       "      <td>1</td>\n",
       "      <td>Oleksandr Zinchenko</td>\n",
       "      <td>35</td>\n",
       "      <td>Gabriel</td>\n",
       "      <td>6</td>\n",
       "    </tr>\n",
       "    <tr>\n",
       "      <th>1</th>\n",
       "      <td>4436</td>\n",
       "      <td>1</td>\n",
       "      <td>2</td>\n",
       "      <td>30</td>\n",
       "      <td>30</td>\n",
       "      <td>1</td>\n",
       "      <td>Gabriel Jesus</td>\n",
       "      <td>9</td>\n",
       "      <td>Gabriel Jesus</td>\n",
       "      <td>9</td>\n",
       "    </tr>\n",
       "    <tr>\n",
       "      <th>2</th>\n",
       "      <td>4436</td>\n",
       "      <td>1</td>\n",
       "      <td>2</td>\n",
       "      <td>157</td>\n",
       "      <td>162</td>\n",
       "      <td>1</td>\n",
       "      <td>Granit Xhaka</td>\n",
       "      <td>34</td>\n",
       "      <td>Gabriel Martinelli</td>\n",
       "      <td>11</td>\n",
       "    </tr>\n",
       "    <tr>\n",
       "      <th>3</th>\n",
       "      <td>4436</td>\n",
       "      <td>1</td>\n",
       "      <td>2</td>\n",
       "      <td>162</td>\n",
       "      <td>163</td>\n",
       "      <td>1</td>\n",
       "      <td>Gabriel Martinelli</td>\n",
       "      <td>11</td>\n",
       "      <td>Bukayo Saka</td>\n",
       "      <td>7</td>\n",
       "    </tr>\n",
       "    <tr>\n",
       "      <th>4</th>\n",
       "      <td>4436</td>\n",
       "      <td>1</td>\n",
       "      <td>2</td>\n",
       "      <td>163</td>\n",
       "      <td>30</td>\n",
       "      <td>1</td>\n",
       "      <td>Bukayo Saka</td>\n",
       "      <td>7</td>\n",
       "      <td>Gabriel Jesus</td>\n",
       "      <td>9</td>\n",
       "    </tr>\n",
       "  </tbody>\n",
       "</table>\n",
       "</div>"
      ],
      "text/plain": [
       "   match_id  interval_id  team_id  player_id  receiver_id  count  \\\n",
       "0      4436            1        2         15         1894      1   \n",
       "1      4436            1        2         30           30      1   \n",
       "2      4436            1        2        157          162      1   \n",
       "3      4436            1        2        162          163      1   \n",
       "4      4436            1        2        163           30      1   \n",
       "\n",
       "       player_nickname  player_shirt   receiver_nickname  receiver_shirt  \n",
       "0  Oleksandr Zinchenko            35             Gabriel               6  \n",
       "1        Gabriel Jesus             9       Gabriel Jesus               9  \n",
       "2         Granit Xhaka            34  Gabriel Martinelli              11  \n",
       "3   Gabriel Martinelli            11         Bukayo Saka               7  \n",
       "4          Bukayo Saka             7       Gabriel Jesus               9  "
      ]
     },
     "execution_count": 50,
     "metadata": {},
     "output_type": "execute_result"
    }
   ],
   "source": [
    "grouped_df = grouped_df.merge(players_info[['match_id','player_id','nickname','shirt_number']], how='left', left_on=['match_id','player_id'], right_on=['match_id','player_id']).drop_duplicates().reset_index(drop=True)\n",
    "grouped_df = grouped_df.merge(players_info[['match_id','player_id','nickname','shirt_number']], how='left', left_on=['match_id','receiver_id'], right_on=['match_id','player_id']).drop_duplicates().reset_index(drop=True)\n",
    "\n",
    "grouped_df = grouped_df.rename(columns={'player_id_x':'player_id','nickname_x':'player_nickname','shirt_number_x':'player_shirt','nickname_y':'receiver_nickname','shirt_number_y':'receiver_shirt'})\n",
    "grouped_df = grouped_df.drop(['player_id_y'], axis=1)\n",
    "\n",
    "grouped_df['receiver_nickname'] = grouped_df['receiver_nickname'].fillna('Goal')\n",
    "grouped_df['receiver_shirt'] = grouped_df['receiver_shirt'].fillna(-1)\n",
    "grouped_df['receiver_shirt'] = grouped_df['receiver_shirt'].astype(int)\n",
    "\n",
    "grouped_df.head()"
   ]
  },
  {
   "cell_type": "markdown",
   "metadata": {},
   "source": [
    "# Graphs"
   ]
  },
  {
   "cell_type": "code",
   "execution_count": 64,
   "metadata": {},
   "outputs": [
    {
     "name": "stdout",
     "output_type": "stream",
     "text": [
      "Games to process: 9\n"
     ]
    }
   ],
   "source": [
    "graph_games = os.listdir(PROCESSED_DATA_PATH)\n",
    "graph_game_ids = [game.split('.')[0] for game in graph_games]\n",
    "print(f\"Games to process: {len(graph_game_ids)}\")"
   ]
  },
  {
   "cell_type": "code",
   "execution_count": 65,
   "metadata": {},
   "outputs": [
    {
     "name": "stdout",
     "output_type": "stream",
     "text": [
      "Games to process graphs: 0\n"
     ]
    }
   ],
   "source": [
    "pre_processed_ids = [game_id for game_id in match_ids if game_id not in graph_game_ids]\n",
    "print(f\"Games to process graphs: {len(pre_processed_ids)}\")"
   ]
  },
  {
   "cell_type": "code",
   "execution_count": 69,
   "metadata": {},
   "outputs": [
    {
     "data": {
      "application/vnd.jupyter.widget-view+json": {
       "model_id": "9604866c42174463b4cb25a18a51f2b9",
       "version_major": 2,
       "version_minor": 0
      },
      "text/plain": [
       "Loading Graphs:   0%|          | 0/9 [00:00<?, ?it/s]"
      ]
     },
     "metadata": {},
     "output_type": "display_data"
    }
   ],
   "source": [
    "#graphs = []\n",
    "\n",
    "# if len(graph_game_ids) > 0:\n",
    "\n",
    "#     for game_id in tqdm(graph_game_ids, desc=\"Loading Graphs\", total=len(graph_game_ids)):\n",
    "#         match_graphs = load_graphs(game_id, PROCESSED_DATA_PATH)\n",
    "#         graphs.append((task[1],match_graphs))\n",
    "\n",
    "if len(pre_processed_ids) > 0:\n",
    "\n",
    "    for game_id in tqdm(pre_processed_ids, desc=\"Processing Graphs\", total=len(pre_processed_ids)):\n",
    "        print(game_id)\n",
    "\n",
    "        match_grouped_df = grouped_df[grouped_df['match_id']==int(game_id)].reset_index(drop=True)\n",
    "        match_players_interval_df = players_interval_df[players_interval_df['match_id']==int(game_id)].reset_index(drop=True)\n",
    "\n",
    "        match_graphs = get_interval_graphs(match_grouped_df, match_players_interval_df)\n",
    "        save_graphs(game_id, PROCESSED_DATA_PATH, match_graphs)\n",
    "        #graphs.append((game_id,match_graphs))"
   ]
  }
 ],
 "metadata": {
  "kernelspec": {
   "display_name": ".venv",
   "language": "python",
   "name": "python3"
  },
  "language_info": {
   "codemirror_mode": {
    "name": "ipython",
    "version": 3
   },
   "file_extension": ".py",
   "mimetype": "text/x-python",
   "name": "python",
   "nbconvert_exporter": "python",
   "pygments_lexer": "ipython3",
   "version": "3.12.3"
  }
 },
 "nbformat": 4,
 "nbformat_minor": 2
}
