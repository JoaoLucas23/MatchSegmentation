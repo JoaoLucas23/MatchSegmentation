{
 "cells": [
  {
   "cell_type": "code",
   "execution_count": 1,
   "metadata": {},
   "outputs": [
    {
     "name": "stdout",
     "output_type": "stream",
     "text": [
      "The autoreload extension is already loaded. To reload it, use:"
     ]
    },
    {
     "name": "stdout",
     "output_type": "stream",
     "text": [
      "\n",
      "  %reload_ext autoreload\n"
     ]
    }
   ],
   "source": [
    "%load_ext autoreload\n",
    "%autoreload 2"
   ]
  },
  {
   "cell_type": "code",
   "execution_count": 2,
   "metadata": {},
   "outputs": [],
   "source": [
    "import os\n",
    "import sys\n",
    "from multiprocessing import Pool\n",
    "from tqdm.auto import tqdm"
   ]
  },
  {
   "cell_type": "code",
   "execution_count": 3,
   "metadata": {},
   "outputs": [],
   "source": [
    "project_root = os.path.abspath(\n",
    "    os.path.join(\"C:/Users/jllgo/OneDrive/Documentos/UFMG/MSc & MSI 2/MatchSegmentation\")\n",
    ")\n",
    "if project_root not in sys.path:\n",
    "    sys.path.append(project_root)"
   ]
  },
  {
   "cell_type": "code",
   "execution_count": 4,
   "metadata": {},
   "outputs": [],
   "source": [
    "from src.pass_networks.process_game import process_game\n",
    "from src.pass_networks.process_game import load_game\n",
    "from src.pass_networks.process_game import save_game\n",
    "\n",
    "#from src.pass_networks.process_graphs import g"
   ]
  },
  {
   "cell_type": "code",
   "execution_count": 5,
   "metadata": {},
   "outputs": [],
   "source": [
    "RAW_DATA_PATH = '../data/raw/PL-22-23'\n",
    "INTERMEDIATE_DATA_PATH = '../data/intermediate/PL-22-23'\n",
    "PROCESSED_DATA_PATH = \"../data/processed/PL-22-23\""
   ]
  },
  {
   "cell_type": "markdown",
   "metadata": {},
   "source": [
    "# 1. Get Data"
   ]
  },
  {
   "cell_type": "code",
   "execution_count": 6,
   "metadata": {},
   "outputs": [
    {
     "name": "stdout",
     "output_type": "stream",
     "text": [
      "Games to process: 5\n"
     ]
    }
   ],
   "source": [
    "games = os.listdir(RAW_DATA_PATH)\n",
    "game_ids = [game.split('.')[0] for game in games][:5]\n",
    "print(f\"Games to process: {len(game_ids)}\")"
   ]
  },
  {
   "cell_type": "code",
   "execution_count": 7,
   "metadata": {},
   "outputs": [
    {
     "name": "stdout",
     "output_type": "stream",
     "text": [
      "Games already pre-processed: 0\n"
     ]
    }
   ],
   "source": [
    "pre_processed_games = os.listdir(INTERMEDIATE_DATA_PATH)\n",
    "pre_processed_game_ids = [game.split('.')[0] for game in pre_processed_games]\n",
    "print(f\"Games already pre-processed: {len(pre_processed_game_ids)}\")"
   ]
  },
  {
   "cell_type": "code",
   "execution_count": 8,
   "metadata": {},
   "outputs": [
    {
     "name": "stdout",
     "output_type": "stream",
     "text": [
      "Games to process: 5\n"
     ]
    }
   ],
   "source": [
    "game_ids = [game_id for game_id in game_ids if game_id not in pre_processed_game_ids]\n",
    "print(f\"Games to process: {len(game_ids)}\")"
   ]
  },
  {
   "cell_type": "code",
   "execution_count": 9,
   "metadata": {},
   "outputs": [
    {
     "data": {
      "application/vnd.jupyter.widget-view+json": {
       "model_id": "33f7a6865a544032ba5f4e070f035721",
       "version_major": 2,
       "version_minor": 0
      },
      "text/plain": [
       "Processing Games:   0%|          | 0/5 [00:00<?, ?it/s]"
      ]
     },
     "metadata": {},
     "output_type": "display_data"
    },
    {
     "data": {
      "application/vnd.jupyter.widget-view+json": {
       "model_id": "f347a6ac7dc14571a6df094dcdbb3500",
       "version_major": 2,
       "version_minor": 0
      },
      "text/plain": [
       "Loading frames from match 4436: 0 frames [00:00, ? frames/s]"
      ]
     },
     "metadata": {},
     "output_type": "display_data"
    },
    {
     "data": {
      "application/vnd.jupyter.widget-view+json": {
       "model_id": "6ce49e59c0ca406681f174187f0c6062",
       "version_major": 2,
       "version_minor": 0
      },
      "text/plain": [
       "Validating frames:   0%|          | 0/170699 [00:00<?, ? frames/s]"
      ]
     },
     "metadata": {},
     "output_type": "display_data"
    },
    {
     "name": "stderr",
     "output_type": "stream",
     "text": [
      "\n",
      "  0%|          | 0/2 [00:00<?, ?it/s]\n",
      " 50%|█████     | 1/2 [00:00<00:00,  5.48it/s]\n",
      "100%|██████████| 2/2 [00:02<00:00,  1.02s/it]\n",
      "\n",
      "  0%|          | 0/51 [00:00<?, ?it/s]\n",
      "  2%|▏         | 1/51 [00:00<00:22,  2.18it/s]\n",
      " 10%|▉         | 5/51 [00:00<00:04, 10.49it/s]\n",
      " 16%|█▌        | 8/51 [00:00<00:02, 14.92it/s]\n",
      " 24%|██▎       | 12/51 [00:00<00:01, 19.79it/s]\n",
      " 31%|███▏      | 16/51 [00:00<00:01, 24.41it/s]\n",
      " 39%|███▉      | 20/51 [00:01<00:01, 28.16it/s]\n",
      " 49%|████▉     | 25/51 [00:01<00:00, 33.62it/s]\n",
      " 57%|█████▋    | 29/51 [00:01<00:00, 35.16it/s]\n",
      " 71%|███████   | 36/51 [00:01<00:00, 42.58it/s]\n",
      " 80%|████████  | 41/51 [00:01<00:00, 43.48it/s]\n",
      "100%|██████████| 51/51 [00:02<00:00, 20.00it/s]\n"
     ]
    },
    {
     "data": {
      "application/vnd.jupyter.widget-view+json": {
       "model_id": "b56fdd74bd0e49778b704834e7d8f5c8",
       "version_major": 2,
       "version_minor": 0
      },
      "text/plain": [
       "Loading frames from match 4437: 0 frames [00:00, ? frames/s]"
      ]
     },
     "metadata": {},
     "output_type": "display_data"
    },
    {
     "data": {
      "application/vnd.jupyter.widget-view+json": {
       "model_id": "e5eba10f736c407a99e467c7672aa893",
       "version_major": 2,
       "version_minor": 0
      },
      "text/plain": [
       "Validating frames:   0%|          | 0/146439 [00:00<?, ? frames/s]"
      ]
     },
     "metadata": {},
     "output_type": "display_data"
    },
    {
     "name": "stderr",
     "output_type": "stream",
     "text": [
      "\n",
      "  0%|          | 0/2 [00:00<?, ?it/s]\n",
      " 50%|█████     | 1/2 [00:00<00:00,  8.03it/s]\n",
      "100%|██████████| 2/2 [00:01<00:00,  1.38it/s]\n",
      "\n",
      "  0%|          | 0/51 [00:00<?, ?it/s]\n",
      "  2%|▏         | 1/51 [00:00<00:16,  2.98it/s]\n",
      " 12%|█▏        | 6/51 [00:00<00:02, 16.76it/s]\n",
      " 22%|██▏       | 11/51 [00:00<00:01, 26.50it/s]\n",
      " 33%|███▎      | 17/51 [00:00<00:00, 34.50it/s]\n",
      " 45%|████▌     | 23/51 [00:00<00:00, 39.96it/s]\n",
      " 61%|██████    | 31/51 [00:00<00:00, 50.45it/s]\n",
      " 73%|███████▎  | 37/51 [00:00<00:00, 51.05it/s]\n",
      " 84%|████████▍ | 43/51 [00:01<00:00, 53.01it/s]\n",
      "100%|██████████| 51/51 [00:01<00:00, 26.48it/s]\n"
     ]
    },
    {
     "name": "stdout",
     "output_type": "stream",
     "text": [
      "Error processing match_id 4437\n"
     ]
    },
    {
     "data": {
      "application/vnd.jupyter.widget-view+json": {
       "model_id": "6c7260498f6247acbdffe72c59c535e0",
       "version_major": 2,
       "version_minor": 0
      },
      "text/plain": [
       "Loading frames from match 4438: 0 frames [00:00, ? frames/s]"
      ]
     },
     "metadata": {},
     "output_type": "display_data"
    },
    {
     "data": {
      "application/vnd.jupyter.widget-view+json": {
       "model_id": "602e43e233eb46168f454341b978c682",
       "version_major": 2,
       "version_minor": 0
      },
      "text/plain": [
       "Validating frames:   0%|          | 0/178903 [00:00<?, ? frames/s]"
      ]
     },
     "metadata": {},
     "output_type": "display_data"
    },
    {
     "name": "stderr",
     "output_type": "stream",
     "text": [
      "\n",
      "  0%|          | 0/2 [00:00<?, ?it/s]\n",
      " 50%|█████     | 1/2 [00:00<00:00,  5.22it/s]\n",
      "100%|██████████| 2/2 [00:02<00:00,  1.18s/it]\n",
      "\n",
      "  0%|          | 0/50 [00:00<?, ?it/s]\n",
      "  2%|▏         | 1/50 [00:00<00:30,  1.62it/s]\n",
      " 10%|█         | 5/50 [00:00<00:05,  8.63it/s]\n",
      " 18%|█▊        | 9/50 [00:00<00:02, 15.04it/s]\n",
      " 26%|██▌       | 13/50 [00:00<00:01, 19.49it/s]\n",
      " 34%|███▍      | 17/50 [00:01<00:01, 22.43it/s]\n",
      " 42%|████▏     | 21/50 [00:01<00:01, 26.38it/s]\n",
      " 50%|█████     | 25/50 [00:01<00:00, 28.97it/s]\n",
      " 60%|██████    | 30/50 [00:01<00:00, 33.67it/s]\n",
      " 70%|███████   | 35/50 [00:01<00:00, 35.65it/s]\n",
      " 80%|████████  | 40/50 [00:01<00:00, 38.27it/s]\n",
      " 90%|█████████ | 45/50 [00:01<00:00, 38.67it/s]\n",
      "100%|██████████| 50/50 [00:02<00:00, 17.45it/s]\n"
     ]
    },
    {
     "data": {
      "application/vnd.jupyter.widget-view+json": {
       "model_id": "41d5b72a1cbc4f71aa7ef5bcb3bd4f14",
       "version_major": 2,
       "version_minor": 0
      },
      "text/plain": [
       "Loading frames from match 4439: 0 frames [00:00, ? frames/s]"
      ]
     },
     "metadata": {},
     "output_type": "display_data"
    },
    {
     "data": {
      "application/vnd.jupyter.widget-view+json": {
       "model_id": "f127752e63e649989208cc1ff1fa2ef5",
       "version_major": 2,
       "version_minor": 0
      },
      "text/plain": [
       "Validating frames:   0%|          | 0/173901 [00:00<?, ? frames/s]"
      ]
     },
     "metadata": {},
     "output_type": "display_data"
    },
    {
     "name": "stderr",
     "output_type": "stream",
     "text": [
      "\n",
      "  0%|          | 0/2 [00:00<?, ?it/s]\n",
      " 50%|█████     | 1/2 [00:00<00:00,  2.05it/s]\n",
      "100%|██████████| 2/2 [00:05<00:00,  2.76s/it]\n",
      "\n",
      "  0%|          | 0/49 [00:00<?, ?it/s]\n",
      "  2%|▏         | 1/49 [00:01<01:18,  1.63s/it]\n",
      "  4%|▍         | 2/49 [00:01<00:34,  1.35it/s]\n",
      "  6%|▌         | 3/49 [00:01<00:20,  2.21it/s]\n",
      "  8%|▊         | 4/49 [00:01<00:14,  3.15it/s]\n",
      " 10%|█         | 5/49 [00:02<00:10,  4.01it/s]\n",
      " 12%|█▏        | 6/49 [00:02<00:09,  4.72it/s]\n",
      " 14%|█▍        | 7/49 [00:02<00:07,  5.39it/s]\n",
      " 18%|█▊        | 9/49 [00:02<00:05,  7.56it/s]\n",
      " 22%|██▏       | 11/49 [00:02<00:03,  9.64it/s]\n",
      " 27%|██▋       | 13/49 [00:02<00:03, 11.30it/s]\n",
      " 31%|███       | 15/49 [00:02<00:02, 11.72it/s]\n",
      " 35%|███▍      | 17/49 [00:03<00:02, 12.81it/s]\n",
      " 39%|███▉      | 19/49 [00:03<00:02, 14.00it/s]\n",
      " 43%|████▎     | 21/49 [00:03<00:01, 14.62it/s]\n",
      " 47%|████▋     | 23/49 [00:03<00:01, 14.62it/s]\n",
      " 51%|█████     | 25/49 [00:03<00:01, 13.38it/s]\n",
      " 55%|█████▌    | 27/49 [00:03<00:01, 12.13it/s]\n",
      " 59%|█████▉    | 29/49 [00:04<00:01, 11.32it/s]\n",
      " 63%|██████▎   | 31/49 [00:04<00:01,  9.95it/s]\n",
      " 67%|██████▋   | 33/49 [00:04<00:01, 10.22it/s]\n",
      " 73%|███████▎  | 36/49 [00:04<00:01, 12.47it/s]\n",
      " 78%|███████▊  | 38/49 [00:04<00:00, 11.38it/s]\n",
      " 82%|████████▏ | 40/49 [00:04<00:00, 11.52it/s]\n",
      " 86%|████████▌ | 42/49 [00:05<00:00, 12.37it/s]\n",
      " 90%|████████▉ | 44/49 [00:05<00:00, 12.63it/s]\n",
      " 94%|█████████▍| 46/49 [00:05<00:00, 13.25it/s]\n",
      "100%|██████████| 49/49 [00:08<00:00,  5.52it/s]\n"
     ]
    },
    {
     "data": {
      "application/vnd.jupyter.widget-view+json": {
       "model_id": "7f5d467a22a247b4984508092f8e840c",
       "version_major": 2,
       "version_minor": 0
      },
      "text/plain": [
       "Loading frames from match 4440: 0 frames [00:00, ? frames/s]"
      ]
     },
     "metadata": {},
     "output_type": "display_data"
    },
    {
     "data": {
      "application/vnd.jupyter.widget-view+json": {
       "model_id": "2d1a98840bc048bba46996c850a3583f",
       "version_major": 2,
       "version_minor": 0
      },
      "text/plain": [
       "Validating frames:   0%|          | 0/170271 [00:00<?, ? frames/s]"
      ]
     },
     "metadata": {},
     "output_type": "display_data"
    },
    {
     "name": "stderr",
     "output_type": "stream",
     "text": [
      "\n",
      "  0%|          | 0/2 [00:00<?, ?it/s]\n",
      " 50%|█████     | 1/2 [00:00<00:00,  1.78it/s]\n",
      "100%|██████████| 2/2 [00:07<00:00,  3.57s/it]\n",
      "\n",
      "  0%|          | 0/50 [00:00<?, ?it/s]\n",
      "  2%|▏         | 1/50 [00:01<01:09,  1.42s/it]\n",
      "  4%|▍         | 2/50 [00:01<00:31,  1.54it/s]\n",
      "  8%|▊         | 4/50 [00:01<00:14,  3.27it/s]\n",
      " 10%|█         | 5/50 [00:01<00:11,  4.09it/s]\n",
      " 12%|█▏        | 6/50 [00:01<00:08,  4.99it/s]\n",
      " 16%|█▌        | 8/50 [00:02<00:06,  6.36it/s]\n",
      " 18%|█▊        | 9/50 [00:02<00:05,  6.84it/s]\n",
      " 20%|██        | 10/50 [00:02<00:05,  7.41it/s]\n",
      " 22%|██▏       | 11/50 [00:02<00:04,  7.83it/s]\n",
      " 24%|██▍       | 12/50 [00:02<00:04,  8.32it/s]\n",
      " 26%|██▌       | 13/50 [00:02<00:04,  8.57it/s]\n",
      " 28%|██▊       | 14/50 [00:02<00:04,  8.74it/s]\n",
      " 30%|███       | 15/50 [00:02<00:03,  9.06it/s]\n",
      " 32%|███▏      | 16/50 [00:03<00:03,  9.07it/s]\n",
      " 34%|███▍      | 17/50 [00:03<00:03,  9.20it/s]\n",
      " 36%|███▌      | 18/50 [00:03<00:03,  8.95it/s]\n",
      " 40%|████      | 20/50 [00:03<00:03,  9.98it/s]\n",
      " 42%|████▏     | 21/50 [00:03<00:02,  9.81it/s]\n",
      " 44%|████▍     | 22/50 [00:03<00:02,  9.73it/s]\n",
      " 46%|████▌     | 23/50 [00:03<00:02,  9.71it/s]\n",
      " 50%|█████     | 25/50 [00:03<00:02, 11.25it/s]\n",
      " 54%|█████▍    | 27/50 [00:04<00:01, 12.20it/s]\n",
      " 58%|█████▊    | 29/50 [00:04<00:01, 14.12it/s]\n",
      " 62%|██████▏   | 31/50 [00:04<00:01, 15.56it/s]\n",
      " 66%|██████▌   | 33/50 [00:04<00:01, 14.59it/s]\n",
      " 70%|███████   | 35/50 [00:04<00:00, 15.02it/s]\n",
      " 74%|███████▍  | 37/50 [00:04<00:00, 15.70it/s]\n",
      " 80%|████████  | 40/50 [00:04<00:00, 18.92it/s]\n",
      " 84%|████████▍ | 42/50 [00:04<00:00, 17.30it/s]\n",
      " 88%|████████▊ | 44/50 [00:05<00:00, 15.09it/s]\n",
      " 92%|█████████▏| 46/50 [00:05<00:00, 14.30it/s]\n",
      " 96%|█████████▌| 48/50 [00:05<00:00, 15.30it/s]\n",
      "100%|██████████| 50/50 [00:09<00:00,  5.54it/s]\n"
     ]
    }
   ],
   "source": [
    "frames = []\n",
    "\n",
    "# Check if the game has already been pre-processed\n",
    "if len(pre_processed_game_ids) > 0:\n",
    "    tasks = [(INTERMEDIATE_DATA_PATH,game_id) for game_id in pre_processed_game_ids]\n",
    "\n",
    "    for task in tqdm(tasks, desc=\"Loading Pre-Processed Games\", total=len(tasks)):\n",
    "        _,metadata_df, players_df, events_df = load_game(task)\n",
    "        frames.append((metadata_df, players_df, events_df))\n",
    "\n",
    "else:\n",
    "\n",
    "    tasks = [(RAW_DATA_PATH,game_id) for game_id in game_ids]\n",
    "\n",
    "    for task in tqdm(tasks, desc=\"Processing Games\", total=len(tasks)):\n",
    "        _,metadata_df, players_df, events_df = process_game(task)\n",
    "        frames.append((metadata_df, players_df, events_df))\n",
    "        save_game(metadata_df,players_df,events_df,INTERMEDIATE_DATA_PATH,task[1])"
   ]
  },
  {
   "cell_type": "markdown",
   "metadata": {},
   "source": [
    "# 2. Get Graphs"
   ]
  }
 ],
 "metadata": {
  "kernelspec": {
   "display_name": ".venv",
   "language": "python",
   "name": "python3"
  },
  "language_info": {
   "codemirror_mode": {
    "name": "ipython",
    "version": 3
   },
   "file_extension": ".py",
   "mimetype": "text/x-python",
   "name": "python",
   "nbconvert_exporter": "python",
   "pygments_lexer": "ipython3",
   "version": "3.12.3"
  }
 },
 "nbformat": 4,
 "nbformat_minor": 2
}
