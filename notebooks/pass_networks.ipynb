{
 "cells": [
  {
   "cell_type": "code",
   "execution_count": 1,
   "metadata": {},
   "outputs": [
    {
     "name": "stdout",
     "output_type": "stream",
     "text": [
      "The autoreload extension is already loaded. To reload it, use:\n",
      "  %reload_ext autoreload\n"
     ]
    }
   ],
   "source": [
    "%load_ext autoreload\n",
    "%autoreload 2"
   ]
  },
  {
   "cell_type": "code",
   "execution_count": 2,
   "metadata": {},
   "outputs": [],
   "source": [
    "import os\n",
    "import sys\n",
    "from multiprocessing import Pool, cpu_count\n",
    "from tqdm.auto import tqdm\n",
    "import pandas as pd"
   ]
  },
  {
   "cell_type": "code",
   "execution_count": 3,
   "metadata": {},
   "outputs": [],
   "source": [
    "import warnings\n",
    "warnings.filterwarnings('ignore', category=pd.errors.SettingWithCopyWarning)"
   ]
  },
  {
   "cell_type": "code",
   "execution_count": 4,
   "metadata": {},
   "outputs": [],
   "source": [
    "project_root = os.path.abspath(\n",
    "    os.path.join(\"C:/Users/jllgo/OneDrive/Documentos/UFMG/MSc & MSI 2/MatchSegmentation\")\n",
    ")\n",
    "if project_root not in sys.path:\n",
    "    sys.path.append(project_root)"
   ]
  },
  {
   "cell_type": "code",
   "execution_count": 5,
   "metadata": {},
   "outputs": [],
   "source": [
    "from src.pass_networks.process_games import process_game\n",
    "from src.pass_networks.process_games import load_game\n",
    "from src.pass_networks.process_games import save_game\n",
    "from src.pass_networks.process_match_info import get_match_info\n",
    "from src.pass_networks.process_match_info import process_players\n",
    "from src.pass_networks.process_intervals import get_interval_graphs\n",
    "from src.pass_networks.process_intervals import load_graphs\n",
    "from src.pass_networks.process_intervals import save_graphs"
   ]
  },
  {
   "cell_type": "code",
   "execution_count": 6,
   "metadata": {},
   "outputs": [],
   "source": [
    "RAW_DATA_PATH = '../data/raw/PL-22-23'\n",
    "INTERMEDIATE_DATA_PATH = '../data/intermediate/PL-22-23'\n",
    "PROCESSED_DATA_PATH = \"../data/processed/PL-22-23\"\n",
    "CSV_DATA_PATH = \"../data/csv\""
   ]
  },
  {
   "cell_type": "markdown",
   "metadata": {},
   "source": [
    "# 1. Get Data"
   ]
  },
  {
   "cell_type": "code",
   "execution_count": 7,
   "metadata": {},
   "outputs": [
    {
     "name": "stdout",
     "output_type": "stream",
     "text": [
      "Games to process: 190\n"
     ]
    }
   ],
   "source": [
    "games = os.listdir(RAW_DATA_PATH)\n",
    "raw_game_ids = [game.split('.')[0] for game in games]\n",
    "print(f\"Games to process: {len(raw_game_ids)}\")"
   ]
  },
  {
   "cell_type": "code",
   "execution_count": 8,
   "metadata": {},
   "outputs": [
    {
     "name": "stdout",
     "output_type": "stream",
     "text": [
      "Games already pre-processed: 121\n"
     ]
    }
   ],
   "source": [
    "pre_processed_games = os.listdir(INTERMEDIATE_DATA_PATH)\n",
    "pre_processed_game_ids = [game.split('.')[0] for game in pre_processed_games]\n",
    "print(f\"Games already pre-processed: {len(pre_processed_game_ids)}\")"
   ]
  },
  {
   "cell_type": "code",
   "execution_count": 9,
   "metadata": {},
   "outputs": [
    {
     "name": "stdout",
     "output_type": "stream",
     "text": [
      "Games already processed: 111\n"
     ]
    }
   ],
   "source": [
    "processed = os.listdir(PROCESSED_DATA_PATH)\n",
    "processed_game_ids = [game.split('.')[0] for game in processed]\n",
    "print(f\"Games already processed: {len(processed_game_ids)}\")"
   ]
  },
  {
   "cell_type": "code",
   "execution_count": 10,
   "metadata": {},
   "outputs": [
    {
     "data": {
      "text/plain": [
       "['4437',\n",
       " '4445',\n",
       " '4448',\n",
       " '4458',\n",
       " '4446',\n",
       " '4493',\n",
       " '4499',\n",
       " '4502',\n",
       " '4509',\n",
       " '4510',\n",
       " '4524',\n",
       " '4527',\n",
       " '4528',\n",
       " '4529',\n",
       " '4530',\n",
       " '4531',\n",
       " '4532',\n",
       " '4533',\n",
       " '4534',\n",
       " '4535',\n",
       " '4536',\n",
       " '4537',\n",
       " '4538',\n",
       " '4539',\n",
       " '4540',\n",
       " '4541',\n",
       " '4542',\n",
       " '4543',\n",
       " '4544',\n",
       " '4545',\n",
       " '4546',\n",
       " '4547',\n",
       " '4548',\n",
       " '4549',\n",
       " '4550',\n",
       " '4551',\n",
       " '4552',\n",
       " '4553',\n",
       " '4554',\n",
       " '4555',\n",
       " '4556',\n",
       " '4566',\n",
       " '4567',\n",
       " '4570',\n",
       " '4572',\n",
       " '4574',\n",
       " '4578',\n",
       " '4579',\n",
       " '4580',\n",
       " '4596',\n",
       " '4600']"
      ]
     },
     "execution_count": 10,
     "metadata": {},
     "output_type": "execute_result"
    }
   ],
   "source": [
    "failed_ids = pd.read_csv(f\"{CSV_DATA_PATH}/failed_matches.csv\", header=None).values.astype(str).flatten().tolist()\n",
    "failed_ids"
   ]
  },
  {
   "cell_type": "code",
   "execution_count": 11,
   "metadata": {},
   "outputs": [
    {
     "name": "stdout",
     "output_type": "stream",
     "text": [
      "Pre Processed Games to Process: 120\n"
     ]
    }
   ],
   "source": [
    "pre_processed_games = [game_id for game_id in pre_processed_game_ids if game_id not in failed_ids]\n",
    "print(f\"Pre Processed Games to Process: {len(pre_processed_games)}\")"
   ]
  },
  {
   "cell_type": "code",
   "execution_count": 12,
   "metadata": {},
   "outputs": [
    {
     "name": "stdout",
     "output_type": "stream",
     "text": [
      "Games to process: 19\n"
     ]
    }
   ],
   "source": [
    "matches_to_process = [game_id for game_id in raw_game_ids if game_id not in pre_processed_game_ids and game_id not in failed_ids][:30]\n",
    "print(f\"Games to process: {len(matches_to_process)}\")"
   ]
  },
  {
   "cell_type": "code",
   "execution_count": 13,
   "metadata": {},
   "outputs": [
    {
     "data": {
      "application/vnd.jupyter.widget-view+json": {
       "model_id": "549a9707786f484d91e85fde22bb7ade",
       "version_major": 2,
       "version_minor": 0
      },
      "text/plain": [
       "Processing Games:   0%|          | 0/19 [00:00<?, ?it/s]"
      ]
     },
     "metadata": {},
     "output_type": "display_data"
    },
    {
     "data": {
      "application/vnd.jupyter.widget-view+json": {
       "model_id": "ba49eae92c634f31ad75ef8f42292b87",
       "version_major": 2,
       "version_minor": 0
      },
      "text/plain": [
       "Loading frames from match 4607: 0 frames [00:00, ? frames/s]"
      ]
     },
     "metadata": {},
     "output_type": "display_data"
    },
    {
     "data": {
      "application/vnd.jupyter.widget-view+json": {
       "model_id": "895ec4e1a0294f86b5c96685524d5bf9",
       "version_major": 2,
       "version_minor": 0
      },
      "text/plain": [
       "Validating frames:   0%|          | 0/178576 [00:00<?, ? frames/s]"
      ]
     },
     "metadata": {},
     "output_type": "display_data"
    },
    {
     "data": {
      "application/vnd.jupyter.widget-view+json": {
       "model_id": "af16337f6bd64cd6b493dba073bdae49",
       "version_major": 2,
       "version_minor": 0
      },
      "text/plain": [
       "Loading frames from match 4608: 0 frames [00:00, ? frames/s]"
      ]
     },
     "metadata": {},
     "output_type": "display_data"
    },
    {
     "data": {
      "application/vnd.jupyter.widget-view+json": {
       "model_id": "8c9262070ddc4e25a9f0dd4e1d2961d5",
       "version_major": 2,
       "version_minor": 0
      },
      "text/plain": [
       "Validating frames:   0%|          | 0/180545 [00:00<?, ? frames/s]"
      ]
     },
     "metadata": {},
     "output_type": "display_data"
    },
    {
     "data": {
      "application/vnd.jupyter.widget-view+json": {
       "model_id": "3b2dd3c121994ae59b541aec50104f16",
       "version_major": 2,
       "version_minor": 0
      },
      "text/plain": [
       "Loading frames from match 4609: 0 frames [00:00, ? frames/s]"
      ]
     },
     "metadata": {},
     "output_type": "display_data"
    },
    {
     "data": {
      "application/vnd.jupyter.widget-view+json": {
       "model_id": "cbce11cb2659489f82ca349c77ce54ec",
       "version_major": 2,
       "version_minor": 0
      },
      "text/plain": [
       "Validating frames:   0%|          | 0/175477 [00:00<?, ? frames/s]"
      ]
     },
     "metadata": {},
     "output_type": "display_data"
    },
    {
     "data": {
      "application/vnd.jupyter.widget-view+json": {
       "model_id": "f330dc79940246e4a17b0f8d4999dc19",
       "version_major": 2,
       "version_minor": 0
      },
      "text/plain": [
       "Loading frames from match 4610: 0 frames [00:00, ? frames/s]"
      ]
     },
     "metadata": {},
     "output_type": "display_data"
    },
    {
     "data": {
      "application/vnd.jupyter.widget-view+json": {
       "model_id": "f7dd627e66794243a903830438b993d6",
       "version_major": 2,
       "version_minor": 0
      },
      "text/plain": [
       "Validating frames:   0%|          | 0/189116 [00:00<?, ? frames/s]"
      ]
     },
     "metadata": {},
     "output_type": "display_data"
    },
    {
     "data": {
      "application/vnd.jupyter.widget-view+json": {
       "model_id": "06e29f2e4d41499aa80486cb39b7d93a",
       "version_major": 2,
       "version_minor": 0
      },
      "text/plain": [
       "Loading frames from match 4611: 0 frames [00:00, ? frames/s]"
      ]
     },
     "metadata": {},
     "output_type": "display_data"
    },
    {
     "data": {
      "application/vnd.jupyter.widget-view+json": {
       "model_id": "b1d2bb0269b7471f9adb75d1167fa4bb",
       "version_major": 2,
       "version_minor": 0
      },
      "text/plain": [
       "Validating frames:   0%|          | 0/176891 [00:00<?, ? frames/s]"
      ]
     },
     "metadata": {},
     "output_type": "display_data"
    },
    {
     "data": {
      "application/vnd.jupyter.widget-view+json": {
       "model_id": "3c99a26dcb2b479991f52fb71e77c4de",
       "version_major": 2,
       "version_minor": 0
      },
      "text/plain": [
       "Loading frames from match 4612: 0 frames [00:00, ? frames/s]"
      ]
     },
     "metadata": {},
     "output_type": "display_data"
    },
    {
     "data": {
      "application/vnd.jupyter.widget-view+json": {
       "model_id": "41a6f082dca94d1cb1ffa2cf0e0935b1",
       "version_major": 2,
       "version_minor": 0
      },
      "text/plain": [
       "Validating frames:   0%|          | 0/169702 [00:00<?, ? frames/s]"
      ]
     },
     "metadata": {},
     "output_type": "display_data"
    },
    {
     "data": {
      "application/vnd.jupyter.widget-view+json": {
       "model_id": "101cc6d402a74a49ac432623f1e683d5",
       "version_major": 2,
       "version_minor": 0
      },
      "text/plain": [
       "Loading frames from match 4613: 0 frames [00:00, ? frames/s]"
      ]
     },
     "metadata": {},
     "output_type": "display_data"
    },
    {
     "data": {
      "application/vnd.jupyter.widget-view+json": {
       "model_id": "72a5819ac3ee40e9af07172d286e5d31",
       "version_major": 2,
       "version_minor": 0
      },
      "text/plain": [
       "Validating frames:   0%|          | 0/178382 [00:00<?, ? frames/s]"
      ]
     },
     "metadata": {},
     "output_type": "display_data"
    },
    {
     "data": {
      "application/vnd.jupyter.widget-view+json": {
       "model_id": "9bc237f0485045ea95d158b201b701b2",
       "version_major": 2,
       "version_minor": 0
      },
      "text/plain": [
       "Loading frames from match 4614: 0 frames [00:00, ? frames/s]"
      ]
     },
     "metadata": {},
     "output_type": "display_data"
    },
    {
     "data": {
      "application/vnd.jupyter.widget-view+json": {
       "model_id": "f98ed5253d854a8893187289528a515d",
       "version_major": 2,
       "version_minor": 0
      },
      "text/plain": [
       "Validating frames:   0%|          | 0/182387 [00:00<?, ? frames/s]"
      ]
     },
     "metadata": {},
     "output_type": "display_data"
    },
    {
     "data": {
      "application/vnd.jupyter.widget-view+json": {
       "model_id": "a0c9d553d0414228b6f073162f923af5",
       "version_major": 2,
       "version_minor": 0
      },
      "text/plain": [
       "Loading frames from match 4615: 0 frames [00:00, ? frames/s]"
      ]
     },
     "metadata": {},
     "output_type": "display_data"
    },
    {
     "data": {
      "application/vnd.jupyter.widget-view+json": {
       "model_id": "114bc97716004652be7dbf24f935df2b",
       "version_major": 2,
       "version_minor": 0
      },
      "text/plain": [
       "Validating frames:   0%|          | 0/173340 [00:00<?, ? frames/s]"
      ]
     },
     "metadata": {},
     "output_type": "display_data"
    },
    {
     "data": {
      "application/vnd.jupyter.widget-view+json": {
       "model_id": "50b479cf9f0f4bf3b6cf72142e99c651",
       "version_major": 2,
       "version_minor": 0
      },
      "text/plain": [
       "Loading frames from match 4616: 0 frames [00:00, ? frames/s]"
      ]
     },
     "metadata": {},
     "output_type": "display_data"
    },
    {
     "data": {
      "application/vnd.jupyter.widget-view+json": {
       "model_id": "52c2e844129842168c6765573cd0931f",
       "version_major": 2,
       "version_minor": 0
      },
      "text/plain": [
       "Validating frames:   0%|          | 0/177930 [00:00<?, ? frames/s]"
      ]
     },
     "metadata": {},
     "output_type": "display_data"
    },
    {
     "data": {
      "application/vnd.jupyter.widget-view+json": {
       "model_id": "36aab9e1deee4243a0f6c56dfb9bc8be",
       "version_major": 2,
       "version_minor": 0
      },
      "text/plain": [
       "Loading frames from match 4617: 0 frames [00:00, ? frames/s]"
      ]
     },
     "metadata": {},
     "output_type": "display_data"
    },
    {
     "data": {
      "application/vnd.jupyter.widget-view+json": {
       "model_id": "2f4ea526266549589b8b37b80d9ae11d",
       "version_major": 2,
       "version_minor": 0
      },
      "text/plain": [
       "Validating frames:   0%|          | 0/172670 [00:00<?, ? frames/s]"
      ]
     },
     "metadata": {},
     "output_type": "display_data"
    },
    {
     "data": {
      "application/vnd.jupyter.widget-view+json": {
       "model_id": "a6c1cb2c6ad54d3eb07996d222f4207c",
       "version_major": 2,
       "version_minor": 0
      },
      "text/plain": [
       "Loading frames from match 4618: 0 frames [00:00, ? frames/s]"
      ]
     },
     "metadata": {},
     "output_type": "display_data"
    },
    {
     "data": {
      "application/vnd.jupyter.widget-view+json": {
       "model_id": "3c64b1d2efc34db591cf82c7c811f6c9",
       "version_major": 2,
       "version_minor": 0
      },
      "text/plain": [
       "Validating frames:   0%|          | 0/180002 [00:00<?, ? frames/s]"
      ]
     },
     "metadata": {},
     "output_type": "display_data"
    },
    {
     "name": "stdout",
     "output_type": "stream",
     "text": [
      "Error processing match_id 4618: cannot access local variable 'row' where it is not associated with a value\n"
     ]
    },
    {
     "data": {
      "application/vnd.jupyter.widget-view+json": {
       "model_id": "61b297ae4cbd4c41b457fb857bc5cec3",
       "version_major": 2,
       "version_minor": 0
      },
      "text/plain": [
       "Loading frames from match 4619: 0 frames [00:00, ? frames/s]"
      ]
     },
     "metadata": {},
     "output_type": "display_data"
    },
    {
     "data": {
      "application/vnd.jupyter.widget-view+json": {
       "model_id": "1c499db32024407baf1af214ecf80043",
       "version_major": 2,
       "version_minor": 0
      },
      "text/plain": [
       "Validating frames:   0%|          | 0/172551 [00:00<?, ? frames/s]"
      ]
     },
     "metadata": {},
     "output_type": "display_data"
    },
    {
     "name": "stdout",
     "output_type": "stream",
     "text": [
      "Error processing match_id 4619: cannot access local variable 'row' where it is not associated with a value\n"
     ]
    },
    {
     "data": {
      "application/vnd.jupyter.widget-view+json": {
       "model_id": "fb227c4666d047bda26f98509c9006b0",
       "version_major": 2,
       "version_minor": 0
      },
      "text/plain": [
       "Loading frames from match 4620: 0 frames [00:00, ? frames/s]"
      ]
     },
     "metadata": {},
     "output_type": "display_data"
    },
    {
     "data": {
      "application/vnd.jupyter.widget-view+json": {
       "model_id": "647243b9c95f4979a71226b086f13c8f",
       "version_major": 2,
       "version_minor": 0
      },
      "text/plain": [
       "Validating frames:   0%|          | 0/169964 [00:00<?, ? frames/s]"
      ]
     },
     "metadata": {},
     "output_type": "display_data"
    },
    {
     "data": {
      "application/vnd.jupyter.widget-view+json": {
       "model_id": "7a349d167802454eb005036657071ea9",
       "version_major": 2,
       "version_minor": 0
      },
      "text/plain": [
       "Loading frames from match 4621: 0 frames [00:00, ? frames/s]"
      ]
     },
     "metadata": {},
     "output_type": "display_data"
    },
    {
     "data": {
      "application/vnd.jupyter.widget-view+json": {
       "model_id": "c397653980c14fe8a68e9ab55f7e1445",
       "version_major": 2,
       "version_minor": 0
      },
      "text/plain": [
       "Validating frames:   0%|          | 0/171701 [00:00<?, ? frames/s]"
      ]
     },
     "metadata": {},
     "output_type": "display_data"
    },
    {
     "data": {
      "application/vnd.jupyter.widget-view+json": {
       "model_id": "e0cecaffc08b42e19a7c87ff3a72c51c",
       "version_major": 2,
       "version_minor": 0
      },
      "text/plain": [
       "Loading frames from match 4622: 0 frames [00:00, ? frames/s]"
      ]
     },
     "metadata": {},
     "output_type": "display_data"
    },
    {
     "data": {
      "application/vnd.jupyter.widget-view+json": {
       "model_id": "543296b996d94b59bfd157d432972afc",
       "version_major": 2,
       "version_minor": 0
      },
      "text/plain": [
       "Validating frames:   0%|          | 0/179624 [00:00<?, ? frames/s]"
      ]
     },
     "metadata": {},
     "output_type": "display_data"
    },
    {
     "data": {
      "application/vnd.jupyter.widget-view+json": {
       "model_id": "cd0f02ee2fd8475e8cf4e6280ab88406",
       "version_major": 2,
       "version_minor": 0
      },
      "text/plain": [
       "Loading frames from match 4623: 0 frames [00:00, ? frames/s]"
      ]
     },
     "metadata": {},
     "output_type": "display_data"
    },
    {
     "data": {
      "application/vnd.jupyter.widget-view+json": {
       "model_id": "47752717ed444287bde4756067c00f8c",
       "version_major": 2,
       "version_minor": 0
      },
      "text/plain": [
       "Validating frames:   0%|          | 0/181526 [00:00<?, ? frames/s]"
      ]
     },
     "metadata": {},
     "output_type": "display_data"
    },
    {
     "data": {
      "application/vnd.jupyter.widget-view+json": {
       "model_id": "97ce6ad6f8ba4b8aa94375b00a71dd54",
       "version_major": 2,
       "version_minor": 0
      },
      "text/plain": [
       "Loading frames from match 4624: 0 frames [00:00, ? frames/s]"
      ]
     },
     "metadata": {},
     "output_type": "display_data"
    },
    {
     "data": {
      "application/vnd.jupyter.widget-view+json": {
       "model_id": "4c1d80e5edaa46ef852d5b154b707267",
       "version_major": 2,
       "version_minor": 0
      },
      "text/plain": [
       "Validating frames:   0%|          | 0/170624 [00:00<?, ? frames/s]"
      ]
     },
     "metadata": {},
     "output_type": "display_data"
    },
    {
     "data": {
      "application/vnd.jupyter.widget-view+json": {
       "model_id": "5a7206a36ae54944b95752211c2ae65d",
       "version_major": 2,
       "version_minor": 0
      },
      "text/plain": [
       "Loading frames from match 4625: 0 frames [00:00, ? frames/s]"
      ]
     },
     "metadata": {},
     "output_type": "display_data"
    },
    {
     "data": {
      "application/vnd.jupyter.widget-view+json": {
       "model_id": "5d624be0aa874dab8ff973ffc9fd4054",
       "version_major": 2,
       "version_minor": 0
      },
      "text/plain": [
       "Validating frames:   0%|          | 0/176875 [00:00<?, ? frames/s]"
      ]
     },
     "metadata": {},
     "output_type": "display_data"
    }
   ],
   "source": [
    "matches = []\n",
    "\n",
    "failed_matches = []\n",
    "\n",
    "# #Check if the game has already been pre-processed\n",
    "# if len(pre_processed_game_ids) > 0:\n",
    "#     tasks = [(INTERMEDIATE_DATA_PATH,game_id) for game_id in pre_processed_game_ids]\n",
    "\n",
    "#     for task in tqdm(tasks, desc=\"Loading Pre-Processed Games\", total=len(tasks)):\n",
    "#         metadata_df, players_df, events_df = load_game(task)\n",
    "#         matches.append((task[1],metadata_df, players_df, events_df))\n",
    "\n",
    "if len(matches_to_process) > 0:\n",
    "\n",
    "    for game_id in tqdm(matches_to_process, desc=\"Processing Games\", total=len(matches_to_process)):\n",
    "        metadata_df, players_df, events_df = process_game((RAW_DATA_PATH, game_id))\n",
    "        if metadata_df.empty or players_df.empty or events_df.empty:\n",
    "            failed_matches.append(game_id)\n",
    "            continue\n",
    "        else:\n",
    "            matches.append((game_id,metadata_df, players_df, events_df))\n",
    "            save_game(metadata_df,players_df,events_df,INTERMEDIATE_DATA_PATH,game_id)\n",
    "\n"
   ]
  },
  {
   "cell_type": "code",
   "execution_count": 14,
   "metadata": {},
   "outputs": [],
   "source": [
    "failed_matches = pd.DataFrame(failed_matches, columns=[\"game_id\"])\n",
    "failed_matches.to_csv(f\"{CSV_DATA_PATH}/failed_matches.csv\", index=False, header=False, mode='a')"
   ]
  },
  {
   "cell_type": "code",
   "execution_count": 15,
   "metadata": {},
   "outputs": [],
   "source": [
    "players_info, teams_info, games_info = get_match_info(CSV_DATA_PATH)"
   ]
  },
  {
   "cell_type": "markdown",
   "metadata": {},
   "source": [
    "# 2. Data Treatment"
   ]
  },
  {
   "cell_type": "code",
   "execution_count": 16,
   "metadata": {},
   "outputs": [
    {
     "data": {
      "application/vnd.jupyter.widget-view+json": {
       "model_id": "3add4e02259641ad9e906994353f0ddd",
       "version_major": 2,
       "version_minor": 0
      },
      "text/plain": [
       "Data Processing:   0%|          | 0/17 [00:00<?, ?it/s]"
      ]
     },
     "metadata": {},
     "output_type": "display_data"
    }
   ],
   "source": [
    "players_dfs = []\n",
    "events_dfs = []\n",
    "metadata_dfs = []\n",
    "match_ids = []\n",
    "\n",
    "for match_dfs in tqdm(matches, desc=\"Data Processing\"):\n",
    "    match_id, metadata_df, players_df, events_df = match_dfs\n",
    "    players_match_info = players_info[players_info['match_id'] == int(match_id)].reset_index(drop=True)\n",
    "    match_info = games_info[games_info['match_id'] == int(match_id)].reset_index(drop=True)\n",
    "\n",
    "    players_df = process_players(players_df, match_info, players_match_info, metadata_df)\n",
    "\n",
    "    players_dfs.append(players_df)\n",
    "    events_dfs.append(events_df)\n",
    "    metadata_dfs.append(metadata_df)\n",
    "    match_ids.append(match_id)\n",
    "\n",
    "players_df = pd.concat(players_dfs)\n",
    "events_df = pd.concat(events_dfs)\n",
    "metadata_df = pd.concat(metadata_dfs)"
   ]
  },
  {
   "cell_type": "code",
   "execution_count": 17,
   "metadata": {},
   "outputs": [
    {
     "data": {
      "text/html": [
       "<div>\n",
       "<style scoped>\n",
       "    .dataframe tbody tr th:only-of-type {\n",
       "        vertical-align: middle;\n",
       "    }\n",
       "\n",
       "    .dataframe tbody tr th {\n",
       "        vertical-align: top;\n",
       "    }\n",
       "\n",
       "    .dataframe thead th {\n",
       "        text-align: right;\n",
       "    }\n",
       "</style>\n",
       "<table border=\"1\" class=\"dataframe\">\n",
       "  <thead>\n",
       "    <tr style=\"text-align: right;\">\n",
       "      <th></th>\n",
       "      <th>match_id</th>\n",
       "      <th>interval_id</th>\n",
       "      <th>team_id</th>\n",
       "      <th>player_id</th>\n",
       "      <th>nickname</th>\n",
       "      <th>shirt</th>\n",
       "      <th>x</th>\n",
       "      <th>y</th>\n",
       "    </tr>\n",
       "  </thead>\n",
       "  <tbody>\n",
       "    <tr>\n",
       "      <th>0</th>\n",
       "      <td>4607</td>\n",
       "      <td>1</td>\n",
       "      <td>2</td>\n",
       "      <td>15</td>\n",
       "      <td>Oleksandr Zinchenko</td>\n",
       "      <td>35</td>\n",
       "      <td>-10.682805</td>\n",
       "      <td>-2.506488</td>\n",
       "    </tr>\n",
       "    <tr>\n",
       "      <th>1</th>\n",
       "      <td>4607</td>\n",
       "      <td>1</td>\n",
       "      <td>2</td>\n",
       "      <td>157</td>\n",
       "      <td>Granit Xhaka</td>\n",
       "      <td>34</td>\n",
       "      <td>-19.559488</td>\n",
       "      <td>-4.419419</td>\n",
       "    </tr>\n",
       "    <tr>\n",
       "      <th>2</th>\n",
       "      <td>4607</td>\n",
       "      <td>1</td>\n",
       "      <td>2</td>\n",
       "      <td>162</td>\n",
       "      <td>Gabriel Martinelli</td>\n",
       "      <td>11</td>\n",
       "      <td>-26.416603</td>\n",
       "      <td>-9.751404</td>\n",
       "    </tr>\n",
       "    <tr>\n",
       "      <th>3</th>\n",
       "      <td>4607</td>\n",
       "      <td>1</td>\n",
       "      <td>2</td>\n",
       "      <td>163</td>\n",
       "      <td>Bukayo Saka</td>\n",
       "      <td>7</td>\n",
       "      <td>-27.695700</td>\n",
       "      <td>23.349119</td>\n",
       "    </tr>\n",
       "    <tr>\n",
       "      <th>4</th>\n",
       "      <td>4607</td>\n",
       "      <td>1</td>\n",
       "      <td>2</td>\n",
       "      <td>168</td>\n",
       "      <td>Eddie Nketiah</td>\n",
       "      <td>14</td>\n",
       "      <td>-30.841474</td>\n",
       "      <td>10.988271</td>\n",
       "    </tr>\n",
       "    <tr>\n",
       "      <th>...</th>\n",
       "      <td>...</td>\n",
       "      <td>...</td>\n",
       "      <td>...</td>\n",
       "      <td>...</td>\n",
       "      <td>...</td>\n",
       "      <td>...</td>\n",
       "      <td>...</td>\n",
       "      <td>...</td>\n",
       "    </tr>\n",
       "    <tr>\n",
       "      <th>17397</th>\n",
       "      <td>4625</td>\n",
       "      <td>1</td>\n",
       "      <td>221</td>\n",
       "      <td>4927</td>\n",
       "      <td>Orel Mangala</td>\n",
       "      <td>5</td>\n",
       "      <td>9.510799</td>\n",
       "      <td>-8.695618</td>\n",
       "    </tr>\n",
       "    <tr>\n",
       "      <th>17398</th>\n",
       "      <td>4625</td>\n",
       "      <td>1</td>\n",
       "      <td>221</td>\n",
       "      <td>7001</td>\n",
       "      <td>Ryan Yates</td>\n",
       "      <td>22</td>\n",
       "      <td>12.710857</td>\n",
       "      <td>4.304767</td>\n",
       "    </tr>\n",
       "    <tr>\n",
       "      <th>17399</th>\n",
       "      <td>4625</td>\n",
       "      <td>1</td>\n",
       "      <td>221</td>\n",
       "      <td>7003</td>\n",
       "      <td>Joe Worrall</td>\n",
       "      <td>4</td>\n",
       "      <td>25.182561</td>\n",
       "      <td>0.965496</td>\n",
       "    </tr>\n",
       "    <tr>\n",
       "      <th>17400</th>\n",
       "      <td>4625</td>\n",
       "      <td>1</td>\n",
       "      <td>221</td>\n",
       "      <td>7008</td>\n",
       "      <td>Brennan Johnson</td>\n",
       "      <td>20</td>\n",
       "      <td>2.527308</td>\n",
       "      <td>7.636240</td>\n",
       "    </tr>\n",
       "    <tr>\n",
       "      <th>17401</th>\n",
       "      <td>4625</td>\n",
       "      <td>1</td>\n",
       "      <td>221</td>\n",
       "      <td>8328</td>\n",
       "      <td>Remo Freuler</td>\n",
       "      <td>23</td>\n",
       "      <td>18.515083</td>\n",
       "      <td>-4.953210</td>\n",
       "    </tr>\n",
       "  </tbody>\n",
       "</table>\n",
       "<p>374 rows × 8 columns</p>\n",
       "</div>"
      ],
      "text/plain": [
       "       match_id  interval_id  team_id  player_id             nickname  shirt  \\\n",
       "0          4607            1        2         15  Oleksandr Zinchenko     35   \n",
       "1          4607            1        2        157         Granit Xhaka     34   \n",
       "2          4607            1        2        162   Gabriel Martinelli     11   \n",
       "3          4607            1        2        163          Bukayo Saka      7   \n",
       "4          4607            1        2        168        Eddie Nketiah     14   \n",
       "...         ...          ...      ...        ...                  ...    ...   \n",
       "17397      4625            1      221       4927         Orel Mangala      5   \n",
       "17398      4625            1      221       7001           Ryan Yates     22   \n",
       "17399      4625            1      221       7003          Joe Worrall      4   \n",
       "17400      4625            1      221       7008      Brennan Johnson     20   \n",
       "17401      4625            1      221       8328         Remo Freuler     23   \n",
       "\n",
       "               x          y  \n",
       "0     -10.682805  -2.506488  \n",
       "1     -19.559488  -4.419419  \n",
       "2     -26.416603  -9.751404  \n",
       "3     -27.695700  23.349119  \n",
       "4     -30.841474  10.988271  \n",
       "...          ...        ...  \n",
       "17397   9.510799  -8.695618  \n",
       "17398  12.710857   4.304767  \n",
       "17399  25.182561   0.965496  \n",
       "17400   2.527308   7.636240  \n",
       "17401  18.515083  -4.953210  \n",
       "\n",
       "[374 rows x 8 columns]"
      ]
     },
     "execution_count": 17,
     "metadata": {},
     "output_type": "execute_result"
    }
   ],
   "source": [
    "players_interval_df = players_df.groupby(['match_id','interval_id','team_id','player_id','nickname','shirt']).agg(\n",
    "    x=('x', 'mean'),\n",
    "    y=('y', 'mean')\n",
    ").reset_index()\n",
    "\n",
    "players_interval_df['player_id'] = players_interval_df['player_id'].astype(int)\n",
    "players_interval_df['match_id'] = players_interval_df['match_id'].astype(int)\n",
    "players_interval_df['interval_id'] = players_interval_df['interval_id'].astype(int)\n",
    "players_interval_df['team_id'] = players_interval_df['team_id'].astype(int)\n",
    "players_interval_df['shirt'] = players_interval_df['shirt'].astype(int)\n",
    "\n",
    "players_interval_df[players_interval_df['interval_id']==1]"
   ]
  },
  {
   "cell_type": "code",
   "execution_count": 18,
   "metadata": {},
   "outputs": [
    {
     "data": {
      "text/html": [
       "<div>\n",
       "<style scoped>\n",
       "    .dataframe tbody tr th:only-of-type {\n",
       "        vertical-align: middle;\n",
       "    }\n",
       "\n",
       "    .dataframe tbody tr th {\n",
       "        vertical-align: top;\n",
       "    }\n",
       "\n",
       "    .dataframe thead th {\n",
       "        text-align: right;\n",
       "    }\n",
       "</style>\n",
       "<table border=\"1\" class=\"dataframe\">\n",
       "  <thead>\n",
       "    <tr style=\"text-align: right;\">\n",
       "      <th></th>\n",
       "      <th>match_id</th>\n",
       "      <th>interval_id</th>\n",
       "      <th>team_id</th>\n",
       "      <th>team</th>\n",
       "    </tr>\n",
       "  </thead>\n",
       "  <tbody>\n",
       "    <tr>\n",
       "      <th>0</th>\n",
       "      <td>4607</td>\n",
       "      <td>1.0</td>\n",
       "      <td>4</td>\n",
       "      <td>home</td>\n",
       "    </tr>\n",
       "    <tr>\n",
       "      <th>1</th>\n",
       "      <td>4607</td>\n",
       "      <td>1.0</td>\n",
       "      <td>2</td>\n",
       "      <td>away</td>\n",
       "    </tr>\n",
       "    <tr>\n",
       "      <th>2</th>\n",
       "      <td>4607</td>\n",
       "      <td>2.0</td>\n",
       "      <td>4</td>\n",
       "      <td>home</td>\n",
       "    </tr>\n",
       "    <tr>\n",
       "      <th>3</th>\n",
       "      <td>4607</td>\n",
       "      <td>2.0</td>\n",
       "      <td>2</td>\n",
       "      <td>away</td>\n",
       "    </tr>\n",
       "    <tr>\n",
       "      <th>4</th>\n",
       "      <td>4607</td>\n",
       "      <td>3.0</td>\n",
       "      <td>4</td>\n",
       "      <td>home</td>\n",
       "    </tr>\n",
       "    <tr>\n",
       "      <th>...</th>\n",
       "      <td>...</td>\n",
       "      <td>...</td>\n",
       "      <td>...</td>\n",
       "      <td>...</td>\n",
       "    </tr>\n",
       "    <tr>\n",
       "      <th>1669</th>\n",
       "      <td>4625</td>\n",
       "      <td>48.0</td>\n",
       "      <td>221</td>\n",
       "      <td>away</td>\n",
       "    </tr>\n",
       "    <tr>\n",
       "      <th>1670</th>\n",
       "      <td>4625</td>\n",
       "      <td>49.0</td>\n",
       "      <td>16</td>\n",
       "      <td>home</td>\n",
       "    </tr>\n",
       "    <tr>\n",
       "      <th>1671</th>\n",
       "      <td>4625</td>\n",
       "      <td>49.0</td>\n",
       "      <td>221</td>\n",
       "      <td>away</td>\n",
       "    </tr>\n",
       "    <tr>\n",
       "      <th>1672</th>\n",
       "      <td>4625</td>\n",
       "      <td>50.0</td>\n",
       "      <td>16</td>\n",
       "      <td>home</td>\n",
       "    </tr>\n",
       "    <tr>\n",
       "      <th>1673</th>\n",
       "      <td>4625</td>\n",
       "      <td>50.0</td>\n",
       "      <td>221</td>\n",
       "      <td>away</td>\n",
       "    </tr>\n",
       "  </tbody>\n",
       "</table>\n",
       "<p>1674 rows × 4 columns</p>\n",
       "</div>"
      ],
      "text/plain": [
       "      match_id  interval_id  team_id  team\n",
       "0         4607          1.0        4  home\n",
       "1         4607          1.0        2  away\n",
       "2         4607          2.0        4  home\n",
       "3         4607          2.0        2  away\n",
       "4         4607          3.0        4  home\n",
       "...        ...          ...      ...   ...\n",
       "1669      4625         48.0      221  away\n",
       "1670      4625         49.0       16  home\n",
       "1671      4625         49.0      221  away\n",
       "1672      4625         50.0       16  home\n",
       "1673      4625         50.0      221  away\n",
       "\n",
       "[1674 rows x 4 columns]"
      ]
     },
     "execution_count": 18,
     "metadata": {},
     "output_type": "execute_result"
    }
   ],
   "source": [
    "match_intervals = players_df[['match_id','interval_id','team_id','team']].drop_duplicates().reset_index(drop=True)\n",
    "match_intervals = match_intervals[match_intervals['interval_id'].notna()].reset_index(drop=True)\n",
    "match_intervals"
   ]
  },
  {
   "cell_type": "code",
   "execution_count": 19,
   "metadata": {},
   "outputs": [
    {
     "data": {
      "text/html": [
       "<div>\n",
       "<style scoped>\n",
       "    .dataframe tbody tr th:only-of-type {\n",
       "        vertical-align: middle;\n",
       "    }\n",
       "\n",
       "    .dataframe tbody tr th {\n",
       "        vertical-align: top;\n",
       "    }\n",
       "\n",
       "    .dataframe thead th {\n",
       "        text-align: right;\n",
       "    }\n",
       "</style>\n",
       "<table border=\"1\" class=\"dataframe\">\n",
       "  <thead>\n",
       "    <tr style=\"text-align: right;\">\n",
       "      <th></th>\n",
       "      <th>match_id</th>\n",
       "      <th>interval_id</th>\n",
       "      <th>team_id</th>\n",
       "      <th>player_id</th>\n",
       "      <th>nickname</th>\n",
       "      <th>shirt</th>\n",
       "      <th>x</th>\n",
       "      <th>y</th>\n",
       "    </tr>\n",
       "  </thead>\n",
       "  <tbody>\n",
       "    <tr>\n",
       "      <th>0</th>\n",
       "      <td>4607</td>\n",
       "      <td>1.0</td>\n",
       "      <td>2</td>\n",
       "      <td>-1</td>\n",
       "      <td>Goal</td>\n",
       "      <td>-1</td>\n",
       "      <td>-52.000000</td>\n",
       "      <td>0.000000</td>\n",
       "    </tr>\n",
       "    <tr>\n",
       "      <th>1</th>\n",
       "      <td>4607</td>\n",
       "      <td>1.0</td>\n",
       "      <td>2</td>\n",
       "      <td>15</td>\n",
       "      <td>Oleksandr Zinchenko</td>\n",
       "      <td>35</td>\n",
       "      <td>-10.682805</td>\n",
       "      <td>-2.506488</td>\n",
       "    </tr>\n",
       "    <tr>\n",
       "      <th>2</th>\n",
       "      <td>4607</td>\n",
       "      <td>1.0</td>\n",
       "      <td>2</td>\n",
       "      <td>157</td>\n",
       "      <td>Granit Xhaka</td>\n",
       "      <td>34</td>\n",
       "      <td>-19.559488</td>\n",
       "      <td>-4.419419</td>\n",
       "    </tr>\n",
       "    <tr>\n",
       "      <th>3</th>\n",
       "      <td>4607</td>\n",
       "      <td>1.0</td>\n",
       "      <td>2</td>\n",
       "      <td>162</td>\n",
       "      <td>Gabriel Martinelli</td>\n",
       "      <td>11</td>\n",
       "      <td>-26.416603</td>\n",
       "      <td>-9.751404</td>\n",
       "    </tr>\n",
       "    <tr>\n",
       "      <th>4</th>\n",
       "      <td>4607</td>\n",
       "      <td>1.0</td>\n",
       "      <td>2</td>\n",
       "      <td>163</td>\n",
       "      <td>Bukayo Saka</td>\n",
       "      <td>7</td>\n",
       "      <td>-27.695700</td>\n",
       "      <td>23.349119</td>\n",
       "    </tr>\n",
       "    <tr>\n",
       "      <th>...</th>\n",
       "      <td>...</td>\n",
       "      <td>...</td>\n",
       "      <td>...</td>\n",
       "      <td>...</td>\n",
       "      <td>...</td>\n",
       "      <td>...</td>\n",
       "      <td>...</td>\n",
       "      <td>...</td>\n",
       "    </tr>\n",
       "    <tr>\n",
       "      <th>20156</th>\n",
       "      <td>4625</td>\n",
       "      <td>50.0</td>\n",
       "      <td>221</td>\n",
       "      <td>7001</td>\n",
       "      <td>Ryan Yates</td>\n",
       "      <td>22</td>\n",
       "      <td>33.416878</td>\n",
       "      <td>-7.597024</td>\n",
       "    </tr>\n",
       "    <tr>\n",
       "      <th>20157</th>\n",
       "      <td>4625</td>\n",
       "      <td>50.0</td>\n",
       "      <td>221</td>\n",
       "      <td>7003</td>\n",
       "      <td>Joe Worrall</td>\n",
       "      <td>4</td>\n",
       "      <td>37.149726</td>\n",
       "      <td>-5.613308</td>\n",
       "    </tr>\n",
       "    <tr>\n",
       "      <th>20158</th>\n",
       "      <td>4625</td>\n",
       "      <td>50.0</td>\n",
       "      <td>221</td>\n",
       "      <td>7174</td>\n",
       "      <td>Harry Toffolo</td>\n",
       "      <td>15</td>\n",
       "      <td>37.490454</td>\n",
       "      <td>-12.709700</td>\n",
       "    </tr>\n",
       "    <tr>\n",
       "      <th>20159</th>\n",
       "      <td>4625</td>\n",
       "      <td>50.0</td>\n",
       "      <td>221</td>\n",
       "      <td>8328</td>\n",
       "      <td>Remo Freuler</td>\n",
       "      <td>23</td>\n",
       "      <td>36.696732</td>\n",
       "      <td>-8.007278</td>\n",
       "    </tr>\n",
       "    <tr>\n",
       "      <th>20160</th>\n",
       "      <td>4625</td>\n",
       "      <td>50.0</td>\n",
       "      <td>221</td>\n",
       "      <td>14116</td>\n",
       "      <td>Gustavo Scarpa</td>\n",
       "      <td>31</td>\n",
       "      <td>29.281976</td>\n",
       "      <td>9.126990</td>\n",
       "    </tr>\n",
       "  </tbody>\n",
       "</table>\n",
       "<p>20161 rows × 8 columns</p>\n",
       "</div>"
      ],
      "text/plain": [
       "       match_id  interval_id  team_id  player_id             nickname  shirt  \\\n",
       "0          4607          1.0        2         -1                 Goal     -1   \n",
       "1          4607          1.0        2         15  Oleksandr Zinchenko     35   \n",
       "2          4607          1.0        2        157         Granit Xhaka     34   \n",
       "3          4607          1.0        2        162   Gabriel Martinelli     11   \n",
       "4          4607          1.0        2        163          Bukayo Saka      7   \n",
       "...         ...          ...      ...        ...                  ...    ...   \n",
       "20156      4625         50.0      221       7001           Ryan Yates     22   \n",
       "20157      4625         50.0      221       7003          Joe Worrall      4   \n",
       "20158      4625         50.0      221       7174        Harry Toffolo     15   \n",
       "20159      4625         50.0      221       8328         Remo Freuler     23   \n",
       "20160      4625         50.0      221      14116       Gustavo Scarpa     31   \n",
       "\n",
       "               x          y  \n",
       "0     -52.000000   0.000000  \n",
       "1     -10.682805  -2.506488  \n",
       "2     -19.559488  -4.419419  \n",
       "3     -26.416603  -9.751404  \n",
       "4     -27.695700  23.349119  \n",
       "...          ...        ...  \n",
       "20156  33.416878  -7.597024  \n",
       "20157  37.149726  -5.613308  \n",
       "20158  37.490454 -12.709700  \n",
       "20159  36.696732  -8.007278  \n",
       "20160  29.281976   9.126990  \n",
       "\n",
       "[20161 rows x 8 columns]"
      ]
     },
     "execution_count": 19,
     "metadata": {},
     "output_type": "execute_result"
    }
   ],
   "source": [
    "data = [{\n",
    "    'match_id':row['match_id'],\n",
    "    'interval_id':row['interval_id'],\n",
    "    'team_id': row['team_id'],\n",
    "    'player_id': -1,\n",
    "    'nickname': 'Goal',\n",
    "    'shirt': -1,\n",
    "    'x': 52 if row['team']=='home' else -52,\n",
    "    'y': 0\n",
    "} for _,row in match_intervals.iterrows()]\n",
    "\n",
    "data = pd.DataFrame(data)\n",
    "\n",
    "players_interval_df = pd.concat([players_interval_df, data], ignore_index=True).sort_values(['match_id','interval_id','team_id','player_id']).reset_index(drop=True)\n",
    "players_interval_df"
   ]
  },
  {
   "cell_type": "code",
   "execution_count": 20,
   "metadata": {},
   "outputs": [
    {
     "data": {
      "text/html": [
       "<div>\n",
       "<style scoped>\n",
       "    .dataframe tbody tr th:only-of-type {\n",
       "        vertical-align: middle;\n",
       "    }\n",
       "\n",
       "    .dataframe tbody tr th {\n",
       "        vertical-align: top;\n",
       "    }\n",
       "\n",
       "    .dataframe thead th {\n",
       "        text-align: right;\n",
       "    }\n",
       "</style>\n",
       "<table border=\"1\" class=\"dataframe\">\n",
       "  <thead>\n",
       "    <tr style=\"text-align: right;\">\n",
       "      <th></th>\n",
       "      <th>match_id</th>\n",
       "      <th>interval_id</th>\n",
       "      <th>team_id</th>\n",
       "      <th>player_id</th>\n",
       "      <th>nickname</th>\n",
       "      <th>shirt</th>\n",
       "      <th>x</th>\n",
       "      <th>y</th>\n",
       "    </tr>\n",
       "  </thead>\n",
       "  <tbody>\n",
       "    <tr>\n",
       "      <th>0</th>\n",
       "      <td>4607</td>\n",
       "      <td>1.0</td>\n",
       "      <td>2</td>\n",
       "      <td>-1</td>\n",
       "      <td>Goal</td>\n",
       "      <td>-1</td>\n",
       "      <td>-52.000000</td>\n",
       "      <td>0.000000</td>\n",
       "    </tr>\n",
       "    <tr>\n",
       "      <th>1</th>\n",
       "      <td>4607</td>\n",
       "      <td>1.0</td>\n",
       "      <td>2</td>\n",
       "      <td>15</td>\n",
       "      <td>Oleksandr Zinchenko</td>\n",
       "      <td>35</td>\n",
       "      <td>-10.682805</td>\n",
       "      <td>-2.506488</td>\n",
       "    </tr>\n",
       "    <tr>\n",
       "      <th>2</th>\n",
       "      <td>4607</td>\n",
       "      <td>1.0</td>\n",
       "      <td>2</td>\n",
       "      <td>157</td>\n",
       "      <td>Granit Xhaka</td>\n",
       "      <td>34</td>\n",
       "      <td>-19.559488</td>\n",
       "      <td>-4.419419</td>\n",
       "    </tr>\n",
       "    <tr>\n",
       "      <th>3</th>\n",
       "      <td>4607</td>\n",
       "      <td>1.0</td>\n",
       "      <td>2</td>\n",
       "      <td>162</td>\n",
       "      <td>Gabriel Martinelli</td>\n",
       "      <td>11</td>\n",
       "      <td>-26.416603</td>\n",
       "      <td>-9.751404</td>\n",
       "    </tr>\n",
       "    <tr>\n",
       "      <th>4</th>\n",
       "      <td>4607</td>\n",
       "      <td>1.0</td>\n",
       "      <td>2</td>\n",
       "      <td>163</td>\n",
       "      <td>Bukayo Saka</td>\n",
       "      <td>7</td>\n",
       "      <td>-27.695700</td>\n",
       "      <td>23.349119</td>\n",
       "    </tr>\n",
       "    <tr>\n",
       "      <th>...</th>\n",
       "      <td>...</td>\n",
       "      <td>...</td>\n",
       "      <td>...</td>\n",
       "      <td>...</td>\n",
       "      <td>...</td>\n",
       "      <td>...</td>\n",
       "      <td>...</td>\n",
       "      <td>...</td>\n",
       "    </tr>\n",
       "    <tr>\n",
       "      <th>20156</th>\n",
       "      <td>4625</td>\n",
       "      <td>50.0</td>\n",
       "      <td>221</td>\n",
       "      <td>7001</td>\n",
       "      <td>Ryan Yates</td>\n",
       "      <td>22</td>\n",
       "      <td>33.416878</td>\n",
       "      <td>-7.597024</td>\n",
       "    </tr>\n",
       "    <tr>\n",
       "      <th>20157</th>\n",
       "      <td>4625</td>\n",
       "      <td>50.0</td>\n",
       "      <td>221</td>\n",
       "      <td>7003</td>\n",
       "      <td>Joe Worrall</td>\n",
       "      <td>4</td>\n",
       "      <td>37.149726</td>\n",
       "      <td>-5.613308</td>\n",
       "    </tr>\n",
       "    <tr>\n",
       "      <th>20158</th>\n",
       "      <td>4625</td>\n",
       "      <td>50.0</td>\n",
       "      <td>221</td>\n",
       "      <td>7174</td>\n",
       "      <td>Harry Toffolo</td>\n",
       "      <td>15</td>\n",
       "      <td>37.490454</td>\n",
       "      <td>-12.709700</td>\n",
       "    </tr>\n",
       "    <tr>\n",
       "      <th>20159</th>\n",
       "      <td>4625</td>\n",
       "      <td>50.0</td>\n",
       "      <td>221</td>\n",
       "      <td>8328</td>\n",
       "      <td>Remo Freuler</td>\n",
       "      <td>23</td>\n",
       "      <td>36.696732</td>\n",
       "      <td>-8.007278</td>\n",
       "    </tr>\n",
       "    <tr>\n",
       "      <th>20160</th>\n",
       "      <td>4625</td>\n",
       "      <td>50.0</td>\n",
       "      <td>221</td>\n",
       "      <td>14116</td>\n",
       "      <td>Gustavo Scarpa</td>\n",
       "      <td>31</td>\n",
       "      <td>29.281976</td>\n",
       "      <td>9.126990</td>\n",
       "    </tr>\n",
       "  </tbody>\n",
       "</table>\n",
       "<p>20161 rows × 8 columns</p>\n",
       "</div>"
      ],
      "text/plain": [
       "       match_id  interval_id  team_id  player_id             nickname  shirt  \\\n",
       "0          4607          1.0        2         -1                 Goal     -1   \n",
       "1          4607          1.0        2         15  Oleksandr Zinchenko     35   \n",
       "2          4607          1.0        2        157         Granit Xhaka     34   \n",
       "3          4607          1.0        2        162   Gabriel Martinelli     11   \n",
       "4          4607          1.0        2        163          Bukayo Saka      7   \n",
       "...         ...          ...      ...        ...                  ...    ...   \n",
       "20156      4625         50.0      221       7001           Ryan Yates     22   \n",
       "20157      4625         50.0      221       7003          Joe Worrall      4   \n",
       "20158      4625         50.0      221       7174        Harry Toffolo     15   \n",
       "20159      4625         50.0      221       8328         Remo Freuler     23   \n",
       "20160      4625         50.0      221      14116       Gustavo Scarpa     31   \n",
       "\n",
       "               x          y  \n",
       "0     -52.000000   0.000000  \n",
       "1     -10.682805  -2.506488  \n",
       "2     -19.559488  -4.419419  \n",
       "3     -26.416603  -9.751404  \n",
       "4     -27.695700  23.349119  \n",
       "...          ...        ...  \n",
       "20156  33.416878  -7.597024  \n",
       "20157  37.149726  -5.613308  \n",
       "20158  37.490454 -12.709700  \n",
       "20159  36.696732  -8.007278  \n",
       "20160  29.281976   9.126990  \n",
       "\n",
       "[20161 rows x 8 columns]"
      ]
     },
     "execution_count": 20,
     "metadata": {},
     "output_type": "execute_result"
    }
   ],
   "source": [
    "players_interval_df = players_interval_df[players_interval_df['interval_id'].notna()].reset_index(drop=True)\n",
    "players_interval_df"
   ]
  },
  {
   "cell_type": "markdown",
   "metadata": {},
   "source": [
    "### Events"
   ]
  },
  {
   "cell_type": "code",
   "execution_count": 21,
   "metadata": {},
   "outputs": [
    {
     "data": {
      "text/html": [
       "<div>\n",
       "<style scoped>\n",
       "    .dataframe tbody tr th:only-of-type {\n",
       "        vertical-align: middle;\n",
       "    }\n",
       "\n",
       "    .dataframe tbody tr th {\n",
       "        vertical-align: top;\n",
       "    }\n",
       "\n",
       "    .dataframe thead th {\n",
       "        text-align: right;\n",
       "    }\n",
       "</style>\n",
       "<table border=\"1\" class=\"dataframe\">\n",
       "  <thead>\n",
       "    <tr style=\"text-align: right;\">\n",
       "      <th></th>\n",
       "      <th>match_id</th>\n",
       "      <th>player_id</th>\n",
       "      <th>receiver_id</th>\n",
       "      <th>event_id</th>\n",
       "      <th>possession_id</th>\n",
       "      <th>team_id</th>\n",
       "    </tr>\n",
       "  </thead>\n",
       "  <tbody>\n",
       "    <tr>\n",
       "      <th>0</th>\n",
       "      <td>4607</td>\n",
       "      <td>168</td>\n",
       "      <td>281</td>\n",
       "      <td>6855360</td>\n",
       "      <td>6743516</td>\n",
       "      <td>2</td>\n",
       "    </tr>\n",
       "    <tr>\n",
       "      <th>2</th>\n",
       "      <td>4607</td>\n",
       "      <td>7170</td>\n",
       "      <td>1406</td>\n",
       "      <td>6855410</td>\n",
       "      <td>6743560</td>\n",
       "      <td>4</td>\n",
       "    </tr>\n",
       "    <tr>\n",
       "      <th>3</th>\n",
       "      <td>4607</td>\n",
       "      <td>1406</td>\n",
       "      <td>448</td>\n",
       "      <td>6855413</td>\n",
       "      <td>6743563</td>\n",
       "      <td>4</td>\n",
       "    </tr>\n",
       "    <tr>\n",
       "      <th>5</th>\n",
       "      <td>4607</td>\n",
       "      <td>103</td>\n",
       "      <td>10704</td>\n",
       "      <td>6855427</td>\n",
       "      <td>6743577</td>\n",
       "      <td>4</td>\n",
       "    </tr>\n",
       "    <tr>\n",
       "      <th>7</th>\n",
       "      <td>4607</td>\n",
       "      <td>1894</td>\n",
       "      <td>15</td>\n",
       "      <td>6855441</td>\n",
       "      <td>6743590</td>\n",
       "      <td>2</td>\n",
       "    </tr>\n",
       "  </tbody>\n",
       "</table>\n",
       "</div>"
      ],
      "text/plain": [
       "  match_id player_id receiver_id event_id possession_id team_id\n",
       "0     4607       168         281  6855360       6743516       2\n",
       "2     4607      7170        1406  6855410       6743560       4\n",
       "3     4607      1406         448  6855413       6743563       4\n",
       "5     4607       103       10704  6855427       6743577       4\n",
       "7     4607      1894          15  6855441       6743590       2"
      ]
     },
     "execution_count": 21,
     "metadata": {},
     "output_type": "execute_result"
    }
   ],
   "source": [
    "pass_df = events_df[(events_df['possession_type']=='PASS') & (events_df['outcome']=='C')][['match_id','player_id','receiver_id','event_id','possession_id','team_id']]\n",
    "pass_df.head()"
   ]
  },
  {
   "cell_type": "code",
   "execution_count": 22,
   "metadata": {},
   "outputs": [
    {
     "data": {
      "text/html": [
       "<div>\n",
       "<style scoped>\n",
       "    .dataframe tbody tr th:only-of-type {\n",
       "        vertical-align: middle;\n",
       "    }\n",
       "\n",
       "    .dataframe tbody tr th {\n",
       "        vertical-align: top;\n",
       "    }\n",
       "\n",
       "    .dataframe thead th {\n",
       "        text-align: right;\n",
       "    }\n",
       "</style>\n",
       "<table border=\"1\" class=\"dataframe\">\n",
       "  <thead>\n",
       "    <tr style=\"text-align: right;\">\n",
       "      <th></th>\n",
       "      <th>match_id</th>\n",
       "      <th>player_id</th>\n",
       "      <th>receiver_id</th>\n",
       "      <th>event_id</th>\n",
       "      <th>possession_id</th>\n",
       "      <th>team_id</th>\n",
       "    </tr>\n",
       "  </thead>\n",
       "  <tbody>\n",
       "    <tr>\n",
       "      <th>4</th>\n",
       "      <td>4607</td>\n",
       "      <td>448</td>\n",
       "      <td>448</td>\n",
       "      <td>6855423</td>\n",
       "      <td>6743573</td>\n",
       "      <td>4</td>\n",
       "    </tr>\n",
       "    <tr>\n",
       "      <th>16</th>\n",
       "      <td>4607</td>\n",
       "      <td>1688</td>\n",
       "      <td>1688</td>\n",
       "      <td>6855527</td>\n",
       "      <td>6752907</td>\n",
       "      <td>2</td>\n",
       "    </tr>\n",
       "    <tr>\n",
       "      <th>88</th>\n",
       "      <td>4607</td>\n",
       "      <td>10704</td>\n",
       "      <td>10704</td>\n",
       "      <td>6856314</td>\n",
       "      <td>6744427</td>\n",
       "      <td>4</td>\n",
       "    </tr>\n",
       "    <tr>\n",
       "      <th>122</th>\n",
       "      <td>4607</td>\n",
       "      <td>163</td>\n",
       "      <td>163</td>\n",
       "      <td>6856555</td>\n",
       "      <td>6744644</td>\n",
       "      <td>2</td>\n",
       "    </tr>\n",
       "    <tr>\n",
       "      <th>141</th>\n",
       "      <td>4607</td>\n",
       "      <td>52</td>\n",
       "      <td>52</td>\n",
       "      <td>6856752</td>\n",
       "      <td>6744845</td>\n",
       "      <td>4</td>\n",
       "    </tr>\n",
       "  </tbody>\n",
       "</table>\n",
       "</div>"
      ],
      "text/plain": [
       "    match_id player_id receiver_id event_id possession_id team_id\n",
       "4       4607       448         448  6855423       6743573       4\n",
       "16      4607      1688        1688  6855527       6752907       2\n",
       "88      4607     10704       10704  6856314       6744427       4\n",
       "122     4607       163         163  6856555       6744644       2\n",
       "141     4607        52          52  6856752       6744845       4"
      ]
     },
     "execution_count": 22,
     "metadata": {},
     "output_type": "execute_result"
    }
   ],
   "source": [
    "carry_df = events_df[(events_df['possession_type']=='CARRY') & ((events_df['carry_type'].isin(['T','C'])) | ((events_df['carry_type']=='D')&(events_df['outcome'].isin(['K','B']))))][['match_id','player_id','receiver_id','event_id','possession_id','team_id']]\n",
    "carry_df.head()"
   ]
  },
  {
   "cell_type": "code",
   "execution_count": 23,
   "metadata": {},
   "outputs": [
    {
     "data": {
      "text/html": [
       "<div>\n",
       "<style scoped>\n",
       "    .dataframe tbody tr th:only-of-type {\n",
       "        vertical-align: middle;\n",
       "    }\n",
       "\n",
       "    .dataframe tbody tr th {\n",
       "        vertical-align: top;\n",
       "    }\n",
       "\n",
       "    .dataframe thead th {\n",
       "        text-align: right;\n",
       "    }\n",
       "</style>\n",
       "<table border=\"1\" class=\"dataframe\">\n",
       "  <thead>\n",
       "    <tr style=\"text-align: right;\">\n",
       "      <th></th>\n",
       "      <th>match_id</th>\n",
       "      <th>player_id</th>\n",
       "      <th>receiver_id</th>\n",
       "      <th>event_id</th>\n",
       "      <th>possession_id</th>\n",
       "      <th>team_id</th>\n",
       "    </tr>\n",
       "  </thead>\n",
       "  <tbody>\n",
       "    <tr>\n",
       "      <th>18</th>\n",
       "      <td>4607</td>\n",
       "      <td>162</td>\n",
       "      <td>-1</td>\n",
       "      <td>6855549</td>\n",
       "      <td>6743695</td>\n",
       "      <td>2</td>\n",
       "    </tr>\n",
       "    <tr>\n",
       "      <th>19</th>\n",
       "      <td>4607</td>\n",
       "      <td>163</td>\n",
       "      <td>-1</td>\n",
       "      <td>6855572</td>\n",
       "      <td>6743717</td>\n",
       "      <td>2</td>\n",
       "    </tr>\n",
       "    <tr>\n",
       "      <th>44</th>\n",
       "      <td>4607</td>\n",
       "      <td>15</td>\n",
       "      <td>-1</td>\n",
       "      <td>6855829</td>\n",
       "      <td>6743958</td>\n",
       "      <td>2</td>\n",
       "    </tr>\n",
       "    <tr>\n",
       "      <th>75</th>\n",
       "      <td>4607</td>\n",
       "      <td>162</td>\n",
       "      <td>-1</td>\n",
       "      <td>6856228</td>\n",
       "      <td>6744341</td>\n",
       "      <td>2</td>\n",
       "    </tr>\n",
       "    <tr>\n",
       "      <th>95</th>\n",
       "      <td>4607</td>\n",
       "      <td>168</td>\n",
       "      <td>-1</td>\n",
       "      <td>6856356</td>\n",
       "      <td>6744468</td>\n",
       "      <td>2</td>\n",
       "    </tr>\n",
       "  </tbody>\n",
       "</table>\n",
       "</div>"
      ],
      "text/plain": [
       "   match_id player_id receiver_id event_id possession_id team_id\n",
       "18     4607       162          -1  6855549       6743695       2\n",
       "19     4607       163          -1  6855572       6743717       2\n",
       "44     4607        15          -1  6855829       6743958       2\n",
       "75     4607       162          -1  6856228       6744341       2\n",
       "95     4607       168          -1  6856356       6744468       2"
      ]
     },
     "execution_count": 23,
     "metadata": {},
     "output_type": "execute_result"
    }
   ],
   "source": [
    "shots_df = events_df[(events_df['possession_type']=='SHOT')][['match_id','player_id','receiver_id','event_id','possession_id','team_id']]\n",
    "shots_df.head()"
   ]
  },
  {
   "cell_type": "code",
   "execution_count": 24,
   "metadata": {},
   "outputs": [
    {
     "data": {
      "text/html": [
       "<div>\n",
       "<style scoped>\n",
       "    .dataframe tbody tr th:only-of-type {\n",
       "        vertical-align: middle;\n",
       "    }\n",
       "\n",
       "    .dataframe tbody tr th {\n",
       "        vertical-align: top;\n",
       "    }\n",
       "\n",
       "    .dataframe thead th {\n",
       "        text-align: right;\n",
       "    }\n",
       "</style>\n",
       "<table border=\"1\" class=\"dataframe\">\n",
       "  <thead>\n",
       "    <tr style=\"text-align: right;\">\n",
       "      <th></th>\n",
       "      <th>match_id</th>\n",
       "      <th>player_id</th>\n",
       "      <th>receiver_id</th>\n",
       "      <th>event_id</th>\n",
       "      <th>possession_id</th>\n",
       "      <th>team_id</th>\n",
       "    </tr>\n",
       "  </thead>\n",
       "  <tbody>\n",
       "    <tr>\n",
       "      <th>0</th>\n",
       "      <td>4607</td>\n",
       "      <td>168</td>\n",
       "      <td>281</td>\n",
       "      <td>6855360</td>\n",
       "      <td>6743516</td>\n",
       "      <td>2</td>\n",
       "    </tr>\n",
       "    <tr>\n",
       "      <th>1</th>\n",
       "      <td>4607</td>\n",
       "      <td>7170</td>\n",
       "      <td>1406</td>\n",
       "      <td>6855410</td>\n",
       "      <td>6743560</td>\n",
       "      <td>4</td>\n",
       "    </tr>\n",
       "    <tr>\n",
       "      <th>2</th>\n",
       "      <td>4607</td>\n",
       "      <td>1406</td>\n",
       "      <td>448</td>\n",
       "      <td>6855413</td>\n",
       "      <td>6743563</td>\n",
       "      <td>4</td>\n",
       "    </tr>\n",
       "    <tr>\n",
       "      <th>3</th>\n",
       "      <td>4607</td>\n",
       "      <td>103</td>\n",
       "      <td>10704</td>\n",
       "      <td>6855427</td>\n",
       "      <td>6743577</td>\n",
       "      <td>4</td>\n",
       "    </tr>\n",
       "    <tr>\n",
       "      <th>4</th>\n",
       "      <td>4607</td>\n",
       "      <td>1894</td>\n",
       "      <td>15</td>\n",
       "      <td>6855441</td>\n",
       "      <td>6743590</td>\n",
       "      <td>2</td>\n",
       "    </tr>\n",
       "  </tbody>\n",
       "</table>\n",
       "</div>"
      ],
      "text/plain": [
       "  match_id player_id receiver_id event_id possession_id team_id\n",
       "0     4607       168         281  6855360       6743516       2\n",
       "1     4607      7170        1406  6855410       6743560       4\n",
       "2     4607      1406         448  6855413       6743563       4\n",
       "3     4607       103       10704  6855427       6743577       4\n",
       "4     4607      1894          15  6855441       6743590       2"
      ]
     },
     "execution_count": 24,
     "metadata": {},
     "output_type": "execute_result"
    }
   ],
   "source": [
    "network_events_df = pd.concat([pass_df,carry_df, shots_df]).reset_index(drop=True)\n",
    "network_events_df.head()"
   ]
  },
  {
   "cell_type": "markdown",
   "metadata": {},
   "source": [
    "### Networks"
   ]
  },
  {
   "cell_type": "code",
   "execution_count": 25,
   "metadata": {},
   "outputs": [
    {
     "data": {
      "text/html": [
       "<div>\n",
       "<style scoped>\n",
       "    .dataframe tbody tr th:only-of-type {\n",
       "        vertical-align: middle;\n",
       "    }\n",
       "\n",
       "    .dataframe tbody tr th {\n",
       "        vertical-align: top;\n",
       "    }\n",
       "\n",
       "    .dataframe thead th {\n",
       "        text-align: right;\n",
       "    }\n",
       "</style>\n",
       "<table border=\"1\" class=\"dataframe\">\n",
       "  <thead>\n",
       "    <tr style=\"text-align: right;\">\n",
       "      <th></th>\n",
       "      <th>match_id</th>\n",
       "      <th>player_id</th>\n",
       "      <th>receiver_id</th>\n",
       "      <th>event_id</th>\n",
       "      <th>possession_id</th>\n",
       "      <th>team_id</th>\n",
       "      <th>interval_id</th>\n",
       "      <th>frame_id</th>\n",
       "    </tr>\n",
       "  </thead>\n",
       "  <tbody>\n",
       "    <tr>\n",
       "      <th>0</th>\n",
       "      <td>4607.0</td>\n",
       "      <td>168</td>\n",
       "      <td>281</td>\n",
       "      <td>6855360.0</td>\n",
       "      <td>6743516.0</td>\n",
       "      <td>2</td>\n",
       "      <td>1.0</td>\n",
       "      <td>8410.0</td>\n",
       "    </tr>\n",
       "    <tr>\n",
       "      <th>1</th>\n",
       "      <td>4607.0</td>\n",
       "      <td>7170</td>\n",
       "      <td>1406</td>\n",
       "      <td>6855410.0</td>\n",
       "      <td>6743560.0</td>\n",
       "      <td>4</td>\n",
       "      <td>1.0</td>\n",
       "      <td>8624.0</td>\n",
       "    </tr>\n",
       "    <tr>\n",
       "      <th>2</th>\n",
       "      <td>4607.0</td>\n",
       "      <td>1406</td>\n",
       "      <td>448</td>\n",
       "      <td>6855413.0</td>\n",
       "      <td>6743563.0</td>\n",
       "      <td>4</td>\n",
       "      <td>1.0</td>\n",
       "      <td>8691.0</td>\n",
       "    </tr>\n",
       "    <tr>\n",
       "      <th>3</th>\n",
       "      <td>4607.0</td>\n",
       "      <td>103</td>\n",
       "      <td>10704</td>\n",
       "      <td>6855427.0</td>\n",
       "      <td>6743577.0</td>\n",
       "      <td>4</td>\n",
       "      <td>1.0</td>\n",
       "      <td>8737.0</td>\n",
       "    </tr>\n",
       "    <tr>\n",
       "      <th>4</th>\n",
       "      <td>4607.0</td>\n",
       "      <td>1894</td>\n",
       "      <td>15</td>\n",
       "      <td>6855441.0</td>\n",
       "      <td>6743590.0</td>\n",
       "      <td>2</td>\n",
       "      <td>1.0</td>\n",
       "      <td>8877.0</td>\n",
       "    </tr>\n",
       "  </tbody>\n",
       "</table>\n",
       "</div>"
      ],
      "text/plain": [
       "   match_id player_id receiver_id   event_id  possession_id team_id  \\\n",
       "0    4607.0       168         281  6855360.0      6743516.0       2   \n",
       "1    4607.0      7170        1406  6855410.0      6743560.0       4   \n",
       "2    4607.0      1406         448  6855413.0      6743563.0       4   \n",
       "3    4607.0       103       10704  6855427.0      6743577.0       4   \n",
       "4    4607.0      1894          15  6855441.0      6743590.0       2   \n",
       "\n",
       "   interval_id  frame_id  \n",
       "0          1.0    8410.0  \n",
       "1          1.0    8624.0  \n",
       "2          1.0    8691.0  \n",
       "3          1.0    8737.0  \n",
       "4          1.0    8877.0  "
      ]
     },
     "execution_count": 25,
     "metadata": {},
     "output_type": "execute_result"
    }
   ],
   "source": [
    "network_events_df['match_id'] = network_events_df['match_id'].astype(float)\n",
    "network_events_df['event_id'] = network_events_df['event_id'].astype(float)\n",
    "network_events_df['possession_id'] = network_events_df['possession_id'].astype(float)\n",
    "metadata_df['match_id'] = metadata_df['match_id'].astype(float)\n",
    "metadata_df['event_id'] = metadata_df['event_id'].astype(float)\n",
    "metadata_df['possession_id'] = metadata_df['possession_id'].astype(float)\n",
    "\n",
    "network_frame_df = network_events_df.merge(metadata_df[['match_id','interval_id','frame_id','event_id','possession_id']], on=['match_id','event_id','possession_id'], how='left')\n",
    "network_frame_df.head()"
   ]
  },
  {
   "cell_type": "code",
   "execution_count": 26,
   "metadata": {},
   "outputs": [
    {
     "data": {
      "text/html": [
       "<div>\n",
       "<style scoped>\n",
       "    .dataframe tbody tr th:only-of-type {\n",
       "        vertical-align: middle;\n",
       "    }\n",
       "\n",
       "    .dataframe tbody tr th {\n",
       "        vertical-align: top;\n",
       "    }\n",
       "\n",
       "    .dataframe thead th {\n",
       "        text-align: right;\n",
       "    }\n",
       "</style>\n",
       "<table border=\"1\" class=\"dataframe\">\n",
       "  <thead>\n",
       "    <tr style=\"text-align: right;\">\n",
       "      <th></th>\n",
       "      <th>match_id</th>\n",
       "      <th>interval_id</th>\n",
       "      <th>team_id</th>\n",
       "      <th>player_id</th>\n",
       "      <th>receiver_id</th>\n",
       "      <th>count</th>\n",
       "    </tr>\n",
       "  </thead>\n",
       "  <tbody>\n",
       "    <tr>\n",
       "      <th>0</th>\n",
       "      <td>4607</td>\n",
       "      <td>1</td>\n",
       "      <td>2</td>\n",
       "      <td>15</td>\n",
       "      <td>162</td>\n",
       "      <td>1</td>\n",
       "    </tr>\n",
       "    <tr>\n",
       "      <th>1</th>\n",
       "      <td>4607</td>\n",
       "      <td>1</td>\n",
       "      <td>2</td>\n",
       "      <td>15</td>\n",
       "      <td>1895</td>\n",
       "      <td>1</td>\n",
       "    </tr>\n",
       "    <tr>\n",
       "      <th>2</th>\n",
       "      <td>4607</td>\n",
       "      <td>1</td>\n",
       "      <td>2</td>\n",
       "      <td>162</td>\n",
       "      <td>-1</td>\n",
       "      <td>1</td>\n",
       "    </tr>\n",
       "    <tr>\n",
       "      <th>3</th>\n",
       "      <td>4607</td>\n",
       "      <td>1</td>\n",
       "      <td>2</td>\n",
       "      <td>163</td>\n",
       "      <td>-1</td>\n",
       "      <td>1</td>\n",
       "    </tr>\n",
       "    <tr>\n",
       "      <th>4</th>\n",
       "      <td>4607</td>\n",
       "      <td>1</td>\n",
       "      <td>2</td>\n",
       "      <td>168</td>\n",
       "      <td>281</td>\n",
       "      <td>1</td>\n",
       "    </tr>\n",
       "  </tbody>\n",
       "</table>\n",
       "</div>"
      ],
      "text/plain": [
       "   match_id  interval_id  team_id  player_id  receiver_id  count\n",
       "0      4607            1        2         15          162      1\n",
       "1      4607            1        2         15         1895      1\n",
       "2      4607            1        2        162           -1      1\n",
       "3      4607            1        2        163           -1      1\n",
       "4      4607            1        2        168          281      1"
      ]
     },
     "execution_count": 26,
     "metadata": {},
     "output_type": "execute_result"
    }
   ],
   "source": [
    "# Group by match_id, interval_id, team_id, player_id, receiver_id to get the number of interactions between players\n",
    "\n",
    "grouped_df = network_frame_df.groupby(['match_id','interval_id','team_id','player_id','receiver_id']).size().reset_index(name='count')\n",
    "grouped_df['match_id']=grouped_df['match_id'].astype(int)\n",
    "grouped_df['interval_id']=grouped_df['interval_id'].astype(int)\n",
    "grouped_df['team_id']=grouped_df['team_id'].astype(int)\n",
    "grouped_df['player_id']=grouped_df['player_id'].astype(int)\n",
    "grouped_df['receiver_id']=grouped_df['receiver_id'].astype(int)\n",
    "\n",
    "grouped_df.head()"
   ]
  },
  {
   "cell_type": "code",
   "execution_count": 27,
   "metadata": {},
   "outputs": [
    {
     "data": {
      "text/html": [
       "<div>\n",
       "<style scoped>\n",
       "    .dataframe tbody tr th:only-of-type {\n",
       "        vertical-align: middle;\n",
       "    }\n",
       "\n",
       "    .dataframe tbody tr th {\n",
       "        vertical-align: top;\n",
       "    }\n",
       "\n",
       "    .dataframe thead th {\n",
       "        text-align: right;\n",
       "    }\n",
       "</style>\n",
       "<table border=\"1\" class=\"dataframe\">\n",
       "  <thead>\n",
       "    <tr style=\"text-align: right;\">\n",
       "      <th></th>\n",
       "      <th>match_id</th>\n",
       "      <th>interval_id</th>\n",
       "      <th>team_id</th>\n",
       "      <th>player_id</th>\n",
       "      <th>receiver_id</th>\n",
       "      <th>count</th>\n",
       "      <th>player_nickname</th>\n",
       "      <th>player_shirt</th>\n",
       "      <th>receiver_nickname</th>\n",
       "      <th>receiver_shirt</th>\n",
       "    </tr>\n",
       "  </thead>\n",
       "  <tbody>\n",
       "    <tr>\n",
       "      <th>0</th>\n",
       "      <td>4607</td>\n",
       "      <td>1</td>\n",
       "      <td>2</td>\n",
       "      <td>15</td>\n",
       "      <td>162</td>\n",
       "      <td>1</td>\n",
       "      <td>Oleksandr Zinchenko</td>\n",
       "      <td>35</td>\n",
       "      <td>Gabriel Martinelli</td>\n",
       "      <td>11</td>\n",
       "    </tr>\n",
       "    <tr>\n",
       "      <th>1</th>\n",
       "      <td>4607</td>\n",
       "      <td>1</td>\n",
       "      <td>2</td>\n",
       "      <td>15</td>\n",
       "      <td>1895</td>\n",
       "      <td>1</td>\n",
       "      <td>Oleksandr Zinchenko</td>\n",
       "      <td>35</td>\n",
       "      <td>William Saliba</td>\n",
       "      <td>12</td>\n",
       "    </tr>\n",
       "    <tr>\n",
       "      <th>2</th>\n",
       "      <td>4607</td>\n",
       "      <td>1</td>\n",
       "      <td>2</td>\n",
       "      <td>162</td>\n",
       "      <td>-1</td>\n",
       "      <td>1</td>\n",
       "      <td>Gabriel Martinelli</td>\n",
       "      <td>11</td>\n",
       "      <td>Goal</td>\n",
       "      <td>-1</td>\n",
       "    </tr>\n",
       "    <tr>\n",
       "      <th>3</th>\n",
       "      <td>4607</td>\n",
       "      <td>1</td>\n",
       "      <td>2</td>\n",
       "      <td>163</td>\n",
       "      <td>-1</td>\n",
       "      <td>1</td>\n",
       "      <td>Bukayo Saka</td>\n",
       "      <td>7</td>\n",
       "      <td>Goal</td>\n",
       "      <td>-1</td>\n",
       "    </tr>\n",
       "    <tr>\n",
       "      <th>4</th>\n",
       "      <td>4607</td>\n",
       "      <td>1</td>\n",
       "      <td>2</td>\n",
       "      <td>168</td>\n",
       "      <td>281</td>\n",
       "      <td>1</td>\n",
       "      <td>Eddie Nketiah</td>\n",
       "      <td>14</td>\n",
       "      <td>Aaron Ramsdale</td>\n",
       "      <td>1</td>\n",
       "    </tr>\n",
       "  </tbody>\n",
       "</table>\n",
       "</div>"
      ],
      "text/plain": [
       "   match_id  interval_id  team_id  player_id  receiver_id  count  \\\n",
       "0      4607            1        2         15          162      1   \n",
       "1      4607            1        2         15         1895      1   \n",
       "2      4607            1        2        162           -1      1   \n",
       "3      4607            1        2        163           -1      1   \n",
       "4      4607            1        2        168          281      1   \n",
       "\n",
       "       player_nickname  player_shirt   receiver_nickname  receiver_shirt  \n",
       "0  Oleksandr Zinchenko            35  Gabriel Martinelli              11  \n",
       "1  Oleksandr Zinchenko            35      William Saliba              12  \n",
       "2   Gabriel Martinelli            11                Goal              -1  \n",
       "3          Bukayo Saka             7                Goal              -1  \n",
       "4        Eddie Nketiah            14      Aaron Ramsdale               1  "
      ]
     },
     "execution_count": 27,
     "metadata": {},
     "output_type": "execute_result"
    }
   ],
   "source": [
    "grouped_df = grouped_df.merge(players_info[['match_id','player_id','nickname','shirt_number']], how='left', left_on=['match_id','player_id'], right_on=['match_id','player_id']).drop_duplicates().reset_index(drop=True)\n",
    "grouped_df = grouped_df.merge(players_info[['match_id','player_id','nickname','shirt_number']], how='left', left_on=['match_id','receiver_id'], right_on=['match_id','player_id']).drop_duplicates().reset_index(drop=True)\n",
    "\n",
    "grouped_df = grouped_df.rename(columns={'player_id_x':'player_id','nickname_x':'player_nickname','shirt_number_x':'player_shirt','nickname_y':'receiver_nickname','shirt_number_y':'receiver_shirt'})\n",
    "grouped_df = grouped_df.drop(['player_id_y'], axis=1)\n",
    "\n",
    "grouped_df['receiver_nickname'] = grouped_df['receiver_nickname'].fillna('Goal')\n",
    "grouped_df['receiver_shirt'] = grouped_df['receiver_shirt'].fillna(-1)\n",
    "grouped_df['receiver_shirt'] = grouped_df['receiver_shirt'].astype(int)\n",
    "\n",
    "grouped_df.head()"
   ]
  },
  {
   "cell_type": "markdown",
   "metadata": {},
   "source": [
    "# Graphs"
   ]
  },
  {
   "cell_type": "code",
   "execution_count": 28,
   "metadata": {},
   "outputs": [
    {
     "name": "stdout",
     "output_type": "stream",
     "text": [
      "Games to process: 111\n"
     ]
    }
   ],
   "source": [
    "graph_games = os.listdir(PROCESSED_DATA_PATH)\n",
    "graph_game_ids = [game.split('.')[0] for game in graph_games]\n",
    "print(f\"Games to process: {len(graph_game_ids)}\")"
   ]
  },
  {
   "cell_type": "code",
   "execution_count": 29,
   "metadata": {},
   "outputs": [
    {
     "name": "stdout",
     "output_type": "stream",
     "text": [
      "Games to process graphs: 17\n"
     ]
    }
   ],
   "source": [
    "pre_processed_ids = [game_id for game_id in match_ids if game_id not in graph_game_ids]\n",
    "print(f\"Games to process graphs: {len(pre_processed_ids)}\")"
   ]
  },
  {
   "cell_type": "code",
   "execution_count": 30,
   "metadata": {},
   "outputs": [
    {
     "data": {
      "application/vnd.jupyter.widget-view+json": {
       "model_id": "0cd53c5bf20945a1baa48a400b4f0e00",
       "version_major": 2,
       "version_minor": 0
      },
      "text/plain": [
       "Processing Graphs:   0%|          | 0/17 [00:00<?, ?it/s]"
      ]
     },
     "metadata": {},
     "output_type": "display_data"
    },
    {
     "data": {
      "application/vnd.jupyter.widget-view+json": {
       "model_id": "348766b2e25e4f2db6c24504415aae48",
       "version_major": 2,
       "version_minor": 0
      },
      "text/plain": [
       "Processing intervals:   0%|          | 0/50 [00:00<?, ?it/s]"
      ]
     },
     "metadata": {},
     "output_type": "display_data"
    },
    {
     "data": {
      "application/vnd.jupyter.widget-view+json": {
       "model_id": "20649bb464214980a5badda0b88e9591",
       "version_major": 2,
       "version_minor": 0
      },
      "text/plain": [
       "Processing intervals:   0%|          | 0/50 [00:00<?, ?it/s]"
      ]
     },
     "metadata": {},
     "output_type": "display_data"
    },
    {
     "data": {
      "application/vnd.jupyter.widget-view+json": {
       "model_id": "f144c5e7947e4ac5a5b175318a559fa2",
       "version_major": 2,
       "version_minor": 0
      },
      "text/plain": [
       "Processing intervals:   0%|          | 0/49 [00:00<?, ?it/s]"
      ]
     },
     "metadata": {},
     "output_type": "display_data"
    },
    {
     "data": {
      "application/vnd.jupyter.widget-view+json": {
       "model_id": "73dbedbb6b6e49e4a91d75211a7fc7e9",
       "version_major": 2,
       "version_minor": 0
      },
      "text/plain": [
       "Processing intervals:   0%|          | 0/50 [00:00<?, ?it/s]"
      ]
     },
     "metadata": {},
     "output_type": "display_data"
    },
    {
     "data": {
      "application/vnd.jupyter.widget-view+json": {
       "model_id": "e782d136b6974f86b142755b2a7f9bbb",
       "version_major": 2,
       "version_minor": 0
      },
      "text/plain": [
       "Processing intervals:   0%|          | 0/50 [00:00<?, ?it/s]"
      ]
     },
     "metadata": {},
     "output_type": "display_data"
    },
    {
     "data": {
      "application/vnd.jupyter.widget-view+json": {
       "model_id": "5acdc796cdb749b79998bfeb69cb772a",
       "version_major": 2,
       "version_minor": 0
      },
      "text/plain": [
       "Processing intervals:   0%|          | 0/48 [00:00<?, ?it/s]"
      ]
     },
     "metadata": {},
     "output_type": "display_data"
    },
    {
     "data": {
      "application/vnd.jupyter.widget-view+json": {
       "model_id": "0b16b858cd4d4f329bc0bcda2dbb056b",
       "version_major": 2,
       "version_minor": 0
      },
      "text/plain": [
       "Processing intervals:   0%|          | 0/49 [00:00<?, ?it/s]"
      ]
     },
     "metadata": {},
     "output_type": "display_data"
    },
    {
     "data": {
      "application/vnd.jupyter.widget-view+json": {
       "model_id": "a355b7a937df42a488131122c516d86a",
       "version_major": 2,
       "version_minor": 0
      },
      "text/plain": [
       "Processing intervals:   0%|          | 0/49 [00:00<?, ?it/s]"
      ]
     },
     "metadata": {},
     "output_type": "display_data"
    },
    {
     "data": {
      "application/vnd.jupyter.widget-view+json": {
       "model_id": "675f6b40cbda4190a0e0623569dbe765",
       "version_major": 2,
       "version_minor": 0
      },
      "text/plain": [
       "Processing intervals:   0%|          | 0/49 [00:00<?, ?it/s]"
      ]
     },
     "metadata": {},
     "output_type": "display_data"
    },
    {
     "data": {
      "application/vnd.jupyter.widget-view+json": {
       "model_id": "5538d53b8bc84e5f93c3eb0f08805fff",
       "version_major": 2,
       "version_minor": 0
      },
      "text/plain": [
       "Processing intervals:   0%|          | 0/50 [00:00<?, ?it/s]"
      ]
     },
     "metadata": {},
     "output_type": "display_data"
    },
    {
     "data": {
      "application/vnd.jupyter.widget-view+json": {
       "model_id": "3e6ec2e6581149ac82d42e6e8e4fa187",
       "version_major": 2,
       "version_minor": 0
      },
      "text/plain": [
       "Processing intervals:   0%|          | 0/48 [00:00<?, ?it/s]"
      ]
     },
     "metadata": {},
     "output_type": "display_data"
    },
    {
     "data": {
      "application/vnd.jupyter.widget-view+json": {
       "model_id": "349c29cfe4964da9980faecd4aaaca3b",
       "version_major": 2,
       "version_minor": 0
      },
      "text/plain": [
       "Processing intervals:   0%|          | 0/48 [00:00<?, ?it/s]"
      ]
     },
     "metadata": {},
     "output_type": "display_data"
    },
    {
     "data": {
      "application/vnd.jupyter.widget-view+json": {
       "model_id": "81b9a747494a46a78c37bbc83d3ff9b8",
       "version_major": 2,
       "version_minor": 0
      },
      "text/plain": [
       "Processing intervals:   0%|          | 0/48 [00:00<?, ?it/s]"
      ]
     },
     "metadata": {},
     "output_type": "display_data"
    },
    {
     "data": {
      "application/vnd.jupyter.widget-view+json": {
       "model_id": "6e2818935d4846d8a5511bee7f2f1593",
       "version_major": 2,
       "version_minor": 0
      },
      "text/plain": [
       "Processing intervals:   0%|          | 0/50 [00:00<?, ?it/s]"
      ]
     },
     "metadata": {},
     "output_type": "display_data"
    },
    {
     "data": {
      "application/vnd.jupyter.widget-view+json": {
       "model_id": "3b23157c3de44f4ca65c912ce91e76e0",
       "version_major": 2,
       "version_minor": 0
      },
      "text/plain": [
       "Processing intervals:   0%|          | 0/51 [00:00<?, ?it/s]"
      ]
     },
     "metadata": {},
     "output_type": "display_data"
    },
    {
     "data": {
      "application/vnd.jupyter.widget-view+json": {
       "model_id": "a7786101b1e540149844f36ac7682f4c",
       "version_major": 2,
       "version_minor": 0
      },
      "text/plain": [
       "Processing intervals:   0%|          | 0/48 [00:00<?, ?it/s]"
      ]
     },
     "metadata": {},
     "output_type": "display_data"
    },
    {
     "data": {
      "application/vnd.jupyter.widget-view+json": {
       "model_id": "831077f9c0c74c6c8d7b540f8f8cfda8",
       "version_major": 2,
       "version_minor": 0
      },
      "text/plain": [
       "Processing intervals:   0%|          | 0/50 [00:00<?, ?it/s]"
      ]
     },
     "metadata": {},
     "output_type": "display_data"
    }
   ],
   "source": [
    "#graphs = []\n",
    "\n",
    "# if len(graph_game_ids) > 0:\n",
    "\n",
    "#     for game_id in tqdm(graph_game_ids, desc=\"Loading Graphs\", total=len(graph_game_ids)):\n",
    "#         match_graphs = load_graphs(game_id, PROCESSED_DATA_PATH)\n",
    "#         graphs.append((task[1],match_graphs))\n",
    "\n",
    "if len(pre_processed_ids) > 0:\n",
    "\n",
    "    for game_id in tqdm(pre_processed_ids, desc=\"Processing Graphs\", total=len(pre_processed_ids)):\n",
    "\n",
    "        match_grouped_df = grouped_df[grouped_df['match_id']==int(game_id)].reset_index(drop=True)\n",
    "        match_players_interval_df = players_interval_df[players_interval_df['match_id']==int(game_id)].reset_index(drop=True)\n",
    "\n",
    "        match_graphs = get_interval_graphs(match_grouped_df, match_players_interval_df)\n",
    "        save_graphs(game_id, PROCESSED_DATA_PATH, match_graphs)\n",
    "        #graphs.append((game_id,match_graphs))"
   ]
  }
 ],
 "metadata": {
  "kernelspec": {
   "display_name": ".venv",
   "language": "python",
   "name": "python3"
  },
  "language_info": {
   "codemirror_mode": {
    "name": "ipython",
    "version": 3
   },
   "file_extension": ".py",
   "mimetype": "text/x-python",
   "name": "python",
   "nbconvert_exporter": "python",
   "pygments_lexer": "ipython3",
   "version": "3.12.3"
  }
 },
 "nbformat": 4,
 "nbformat_minor": 2
}
