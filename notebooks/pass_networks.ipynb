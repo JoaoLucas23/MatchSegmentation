{
 "cells": [
  {
   "cell_type": "code",
   "execution_count": 1,
   "metadata": {},
   "outputs": [
    {
     "name": "stdout",
     "output_type": "stream",
     "text": [
      "The autoreload extension is already loaded. To reload it, use:\n",
      "  %reload_ext autoreload\n"
     ]
    }
   ],
   "source": [
    "%load_ext autoreload\n",
    "%autoreload 2"
   ]
  },
  {
   "cell_type": "code",
   "execution_count": 2,
   "metadata": {},
   "outputs": [],
   "source": [
    "import os\n",
    "import sys\n",
    "from multiprocessing import Pool, cpu_count\n",
    "from tqdm.auto import tqdm\n",
    "import pandas as pd"
   ]
  },
  {
   "cell_type": "code",
   "execution_count": 3,
   "metadata": {},
   "outputs": [],
   "source": [
    "import warnings\n",
    "warnings.filterwarnings('ignore', category=pd.errors.SettingWithCopyWarning)"
   ]
  },
  {
   "cell_type": "code",
   "execution_count": 4,
   "metadata": {},
   "outputs": [],
   "source": [
    "project_root = os.path.abspath(\n",
    "    os.path.join(\"C:/Users/jllgo/OneDrive/Documentos/UFMG/MSc & MSI 2/MatchSegmentation\")\n",
    ")\n",
    "if project_root not in sys.path:\n",
    "    sys.path.append(project_root)"
   ]
  },
  {
   "cell_type": "code",
   "execution_count": 5,
   "metadata": {},
   "outputs": [],
   "source": [
    "from src.pass_networks.process_games import process_game\n",
    "from src.pass_networks.process_games import load_game\n",
    "from src.pass_networks.process_games import save_game\n",
    "from src.pass_networks.process_match_info import get_match_info\n",
    "from src.pass_networks.process_match_info import process_players\n",
    "from src.pass_networks.process_intervals import get_interval_graphs\n",
    "from src.pass_networks.process_intervals import load_graphs\n",
    "from src.pass_networks.process_intervals import save_graphs"
   ]
  },
  {
   "cell_type": "code",
   "execution_count": 6,
   "metadata": {},
   "outputs": [],
   "source": [
    "RAW_DATA_PATH = '../data/raw/PL-22-23'\n",
    "INTERMEDIATE_DATA_PATH = '../data/intermediate/PL-22-23'\n",
    "PROCESSED_DATA_PATH = \"../data/processed/PL-22-23\"\n",
    "CSV_DATA_PATH = \"../data/csv\""
   ]
  },
  {
   "cell_type": "markdown",
   "metadata": {},
   "source": [
    "# 1. Get Data"
   ]
  },
  {
   "cell_type": "code",
   "execution_count": 7,
   "metadata": {},
   "outputs": [
    {
     "name": "stdout",
     "output_type": "stream",
     "text": [
      "Games to process: 190\n"
     ]
    }
   ],
   "source": [
    "games = os.listdir(RAW_DATA_PATH)\n",
    "raw_game_ids = [game.split('.')[0] for game in games]\n",
    "print(f\"Games to process: {len(raw_game_ids)}\")"
   ]
  },
  {
   "cell_type": "code",
   "execution_count": 8,
   "metadata": {},
   "outputs": [
    {
     "name": "stdout",
     "output_type": "stream",
     "text": [
      "Games already pre-processed: 81\n"
     ]
    }
   ],
   "source": [
    "pre_processed_games = os.listdir(INTERMEDIATE_DATA_PATH)\n",
    "pre_processed_game_ids = [game.split('.')[0] for game in pre_processed_games]\n",
    "print(f\"Games already pre-processed: {len(pre_processed_game_ids)}\")"
   ]
  },
  {
   "cell_type": "code",
   "execution_count": 9,
   "metadata": {},
   "outputs": [
    {
     "name": "stdout",
     "output_type": "stream",
     "text": [
      "Games already processed: 80\n"
     ]
    }
   ],
   "source": [
    "processed = os.listdir(PROCESSED_DATA_PATH)\n",
    "processed_game_ids = [game.split('.')[0] for game in processed]\n",
    "print(f\"Games already processed: {len(processed_game_ids)}\")"
   ]
  },
  {
   "cell_type": "code",
   "execution_count": 10,
   "metadata": {},
   "outputs": [
    {
     "data": {
      "text/plain": [
       "['4437',\n",
       " '4445',\n",
       " '4448',\n",
       " '4458',\n",
       " '4446',\n",
       " '4493',\n",
       " '4499',\n",
       " '4502',\n",
       " '4509',\n",
       " '4510',\n",
       " '4524',\n",
       " '4527',\n",
       " '4528',\n",
       " '4529',\n",
       " '4530',\n",
       " '4531',\n",
       " '4532',\n",
       " '4533',\n",
       " '4534',\n",
       " '4535',\n",
       " '4536',\n",
       " '4537',\n",
       " '4538',\n",
       " '4539',\n",
       " '4540',\n",
       " '4541',\n",
       " '4542',\n",
       " '4543',\n",
       " '4544',\n",
       " '4545',\n",
       " '4546',\n",
       " '4547',\n",
       " '4548',\n",
       " '4549',\n",
       " '4550',\n",
       " '4551',\n",
       " '4552',\n",
       " '4553',\n",
       " '4554',\n",
       " '4555',\n",
       " '4556']"
      ]
     },
     "execution_count": 10,
     "metadata": {},
     "output_type": "execute_result"
    }
   ],
   "source": [
    "failed_ids = pd.read_csv(f\"{CSV_DATA_PATH}/failed_matches.csv\", header=None).values.astype(str).flatten().tolist()\n",
    "failed_ids"
   ]
  },
  {
   "cell_type": "code",
   "execution_count": 11,
   "metadata": {},
   "outputs": [
    {
     "name": "stdout",
     "output_type": "stream",
     "text": [
      "Pre Processed Games to Process: 80\n"
     ]
    }
   ],
   "source": [
    "pre_processed_games = [game_id for game_id in pre_processed_game_ids if game_id not in failed_ids]\n",
    "print(f\"Pre Processed Games to Process: {len(pre_processed_games)}\")"
   ]
  },
  {
   "cell_type": "code",
   "execution_count": 12,
   "metadata": {},
   "outputs": [
    {
     "name": "stdout",
     "output_type": "stream",
     "text": [
      "Games to process: 20\n"
     ]
    }
   ],
   "source": [
    "matches_to_process = [game_id for game_id in raw_game_ids if game_id not in pre_processed_game_ids and game_id not in failed_ids][:20]\n",
    "print(f\"Games to process: {len(matches_to_process)}\")"
   ]
  },
  {
   "cell_type": "code",
   "execution_count": 13,
   "metadata": {},
   "outputs": [
    {
     "data": {
      "application/vnd.jupyter.widget-view+json": {
       "model_id": "b8f767ceb0334710a3f344f5986d89a2",
       "version_major": 2,
       "version_minor": 0
      },
      "text/plain": [
       "Processing Games:   0%|          | 0/20 [00:00<?, ?it/s]"
      ]
     },
     "metadata": {},
     "output_type": "display_data"
    },
    {
     "data": {
      "application/vnd.jupyter.widget-view+json": {
       "model_id": "2b6e6aa40e7d4cc8bf83478a4e9854e3",
       "version_major": 2,
       "version_minor": 0
      },
      "text/plain": [
       "Loading frames from match 4557: 0 frames [00:00, ? frames/s]"
      ]
     },
     "metadata": {},
     "output_type": "display_data"
    },
    {
     "data": {
      "application/vnd.jupyter.widget-view+json": {
       "model_id": "03ffc50736294f8d8983f48ca53e19d3",
       "version_major": 2,
       "version_minor": 0
      },
      "text/plain": [
       "Validating frames:   0%|          | 0/174886 [00:00<?, ? frames/s]"
      ]
     },
     "metadata": {},
     "output_type": "display_data"
    },
    {
     "data": {
      "application/vnd.jupyter.widget-view+json": {
       "model_id": "4b1f42bb3dbe48c5a2199ea03ca277ef",
       "version_major": 2,
       "version_minor": 0
      },
      "text/plain": [
       "Loading frames from match 4558: 0 frames [00:00, ? frames/s]"
      ]
     },
     "metadata": {},
     "output_type": "display_data"
    },
    {
     "data": {
      "application/vnd.jupyter.widget-view+json": {
       "model_id": "88afe7f5de1c446c8ad771cdb2fa5e40",
       "version_major": 2,
       "version_minor": 0
      },
      "text/plain": [
       "Validating frames:   0%|          | 0/174139 [00:00<?, ? frames/s]"
      ]
     },
     "metadata": {},
     "output_type": "display_data"
    },
    {
     "data": {
      "application/vnd.jupyter.widget-view+json": {
       "model_id": "db29e466936544b58056a4dc768dfd9e",
       "version_major": 2,
       "version_minor": 0
      },
      "text/plain": [
       "Loading frames from match 4559: 0 frames [00:00, ? frames/s]"
      ]
     },
     "metadata": {},
     "output_type": "display_data"
    },
    {
     "data": {
      "application/vnd.jupyter.widget-view+json": {
       "model_id": "b2e05abee88a46e48623060ae5c55237",
       "version_major": 2,
       "version_minor": 0
      },
      "text/plain": [
       "Validating frames:   0%|          | 0/175265 [00:00<?, ? frames/s]"
      ]
     },
     "metadata": {},
     "output_type": "display_data"
    },
    {
     "data": {
      "application/vnd.jupyter.widget-view+json": {
       "model_id": "2b180dad47504169825ad75367db301b",
       "version_major": 2,
       "version_minor": 0
      },
      "text/plain": [
       "Loading frames from match 4560: 0 frames [00:00, ? frames/s]"
      ]
     },
     "metadata": {},
     "output_type": "display_data"
    },
    {
     "data": {
      "application/vnd.jupyter.widget-view+json": {
       "model_id": "37fa0bda45f44eaa97acd2ce6c7cf50e",
       "version_major": 2,
       "version_minor": 0
      },
      "text/plain": [
       "Validating frames:   0%|          | 0/147961 [00:00<?, ? frames/s]"
      ]
     },
     "metadata": {},
     "output_type": "display_data"
    },
    {
     "data": {
      "application/vnd.jupyter.widget-view+json": {
       "model_id": "36a7910d9ffe449c9864c52901b4c000",
       "version_major": 2,
       "version_minor": 0
      },
      "text/plain": [
       "Loading frames from match 4561: 0 frames [00:00, ? frames/s]"
      ]
     },
     "metadata": {},
     "output_type": "display_data"
    },
    {
     "data": {
      "application/vnd.jupyter.widget-view+json": {
       "model_id": "b9dd1faed0ce4bceb8f4cb6b17439de0",
       "version_major": 2,
       "version_minor": 0
      },
      "text/plain": [
       "Validating frames:   0%|          | 0/173478 [00:00<?, ? frames/s]"
      ]
     },
     "metadata": {},
     "output_type": "display_data"
    },
    {
     "data": {
      "application/vnd.jupyter.widget-view+json": {
       "model_id": "0808422d604c4c1b88545f5ced70f063",
       "version_major": 2,
       "version_minor": 0
      },
      "text/plain": [
       "Loading frames from match 4562: 0 frames [00:00, ? frames/s]"
      ]
     },
     "metadata": {},
     "output_type": "display_data"
    },
    {
     "data": {
      "application/vnd.jupyter.widget-view+json": {
       "model_id": "78b81a1853814b7bac148ed1acac9ca1",
       "version_major": 2,
       "version_minor": 0
      },
      "text/plain": [
       "Validating frames:   0%|          | 0/174733 [00:00<?, ? frames/s]"
      ]
     },
     "metadata": {},
     "output_type": "display_data"
    },
    {
     "data": {
      "application/vnd.jupyter.widget-view+json": {
       "model_id": "5017763c248e472f916df2ffca5003a2",
       "version_major": 2,
       "version_minor": 0
      },
      "text/plain": [
       "Loading frames from match 4563: 0 frames [00:00, ? frames/s]"
      ]
     },
     "metadata": {},
     "output_type": "display_data"
    },
    {
     "data": {
      "application/vnd.jupyter.widget-view+json": {
       "model_id": "212ca149152e41e3a4de8252a35356df",
       "version_major": 2,
       "version_minor": 0
      },
      "text/plain": [
       "Validating frames:   0%|          | 0/177293 [00:00<?, ? frames/s]"
      ]
     },
     "metadata": {},
     "output_type": "display_data"
    },
    {
     "data": {
      "application/vnd.jupyter.widget-view+json": {
       "model_id": "8508e28023084b9ca090ef08ab81614f",
       "version_major": 2,
       "version_minor": 0
      },
      "text/plain": [
       "Loading frames from match 4564: 0 frames [00:00, ? frames/s]"
      ]
     },
     "metadata": {},
     "output_type": "display_data"
    },
    {
     "data": {
      "application/vnd.jupyter.widget-view+json": {
       "model_id": "99e921307da84d17a610df925bbb0ac7",
       "version_major": 2,
       "version_minor": 0
      },
      "text/plain": [
       "Validating frames:   0%|          | 0/178952 [00:00<?, ? frames/s]"
      ]
     },
     "metadata": {},
     "output_type": "display_data"
    },
    {
     "data": {
      "application/vnd.jupyter.widget-view+json": {
       "model_id": "aeac32d72cc34d8cb9a756543ad07794",
       "version_major": 2,
       "version_minor": 0
      },
      "text/plain": [
       "Loading frames from match 4565: 0 frames [00:00, ? frames/s]"
      ]
     },
     "metadata": {},
     "output_type": "display_data"
    },
    {
     "data": {
      "application/vnd.jupyter.widget-view+json": {
       "model_id": "5cb3bca965114051ab8fe87480924e8c",
       "version_major": 2,
       "version_minor": 0
      },
      "text/plain": [
       "Validating frames:   0%|          | 0/169057 [00:00<?, ? frames/s]"
      ]
     },
     "metadata": {},
     "output_type": "display_data"
    },
    {
     "data": {
      "application/vnd.jupyter.widget-view+json": {
       "model_id": "1190807b7cba4c8083ea7dd538f08591",
       "version_major": 2,
       "version_minor": 0
      },
      "text/plain": [
       "Loading frames from match 4566: 0 frames [00:00, ? frames/s]"
      ]
     },
     "metadata": {},
     "output_type": "display_data"
    },
    {
     "data": {
      "application/vnd.jupyter.widget-view+json": {
       "model_id": "50744853769145f1b747102effe8c7c3",
       "version_major": 2,
       "version_minor": 0
      },
      "text/plain": [
       "Validating frames:   0%|          | 0/176451 [00:00<?, ? frames/s]"
      ]
     },
     "metadata": {},
     "output_type": "display_data"
    },
    {
     "name": "stdout",
     "output_type": "stream",
     "text": [
      "Error processing match_id 4566: cannot access local variable 'row' where it is not associated with a value\n"
     ]
    },
    {
     "data": {
      "application/vnd.jupyter.widget-view+json": {
       "model_id": "c16a5aa564f6491684b095c496da137f",
       "version_major": 2,
       "version_minor": 0
      },
      "text/plain": [
       "Loading frames from match 4567: 0 frames [00:00, ? frames/s]"
      ]
     },
     "metadata": {},
     "output_type": "display_data"
    },
    {
     "data": {
      "application/vnd.jupyter.widget-view+json": {
       "model_id": "3b05db7bd7954cb0bdfc017f633d0108",
       "version_major": 2,
       "version_minor": 0
      },
      "text/plain": [
       "Validating frames:   0%|          | 0/172259 [00:00<?, ? frames/s]"
      ]
     },
     "metadata": {},
     "output_type": "display_data"
    },
    {
     "name": "stdout",
     "output_type": "stream",
     "text": [
      "Error processing match_id 4567: cannot access local variable 'row' where it is not associated with a value\n"
     ]
    },
    {
     "data": {
      "application/vnd.jupyter.widget-view+json": {
       "model_id": "fb55dd5c684e4b4da9c053a2c985c340",
       "version_major": 2,
       "version_minor": 0
      },
      "text/plain": [
       "Loading frames from match 4568: 0 frames [00:00, ? frames/s]"
      ]
     },
     "metadata": {},
     "output_type": "display_data"
    },
    {
     "data": {
      "application/vnd.jupyter.widget-view+json": {
       "model_id": "4b068c9697924aef882fc9b70f3a9b0e",
       "version_major": 2,
       "version_minor": 0
      },
      "text/plain": [
       "Validating frames:   0%|          | 0/191283 [00:00<?, ? frames/s]"
      ]
     },
     "metadata": {},
     "output_type": "display_data"
    },
    {
     "data": {
      "application/vnd.jupyter.widget-view+json": {
       "model_id": "b73f088756154dada80fbc045f86e58b",
       "version_major": 2,
       "version_minor": 0
      },
      "text/plain": [
       "Loading frames from match 4569: 0 frames [00:00, ? frames/s]"
      ]
     },
     "metadata": {},
     "output_type": "display_data"
    },
    {
     "data": {
      "application/vnd.jupyter.widget-view+json": {
       "model_id": "b626155a542d4ed69e9950e7ee114328",
       "version_major": 2,
       "version_minor": 0
      },
      "text/plain": [
       "Validating frames:   0%|          | 0/173033 [00:00<?, ? frames/s]"
      ]
     },
     "metadata": {},
     "output_type": "display_data"
    },
    {
     "data": {
      "application/vnd.jupyter.widget-view+json": {
       "model_id": "fa9501f19e6b456bbe27e63f743d38dc",
       "version_major": 2,
       "version_minor": 0
      },
      "text/plain": [
       "Loading frames from match 4570: 0 frames [00:00, ? frames/s]"
      ]
     },
     "metadata": {},
     "output_type": "display_data"
    },
    {
     "data": {
      "application/vnd.jupyter.widget-view+json": {
       "model_id": "8d170376c706424e9c1e2ebe91a66ab7",
       "version_major": 2,
       "version_minor": 0
      },
      "text/plain": [
       "Validating frames:   0%|          | 0/176512 [00:00<?, ? frames/s]"
      ]
     },
     "metadata": {},
     "output_type": "display_data"
    },
    {
     "name": "stdout",
     "output_type": "stream",
     "text": [
      "Error processing match_id 4570: cannot access local variable 'row' where it is not associated with a value\n"
     ]
    },
    {
     "data": {
      "application/vnd.jupyter.widget-view+json": {
       "model_id": "2864249a014247639203627c3d218067",
       "version_major": 2,
       "version_minor": 0
      },
      "text/plain": [
       "Loading frames from match 4571: 0 frames [00:00, ? frames/s]"
      ]
     },
     "metadata": {},
     "output_type": "display_data"
    },
    {
     "data": {
      "application/vnd.jupyter.widget-view+json": {
       "model_id": "0a70be79ca6045138ef3c4dbfbaa79ff",
       "version_major": 2,
       "version_minor": 0
      },
      "text/plain": [
       "Validating frames:   0%|          | 0/169178 [00:00<?, ? frames/s]"
      ]
     },
     "metadata": {},
     "output_type": "display_data"
    },
    {
     "data": {
      "application/vnd.jupyter.widget-view+json": {
       "model_id": "8b6c3fe394404686a4d1d3c2751e4507",
       "version_major": 2,
       "version_minor": 0
      },
      "text/plain": [
       "Loading frames from match 4572: 0 frames [00:00, ? frames/s]"
      ]
     },
     "metadata": {},
     "output_type": "display_data"
    },
    {
     "data": {
      "application/vnd.jupyter.widget-view+json": {
       "model_id": "42186f2edb084a82bc348c5538d259fa",
       "version_major": 2,
       "version_minor": 0
      },
      "text/plain": [
       "Validating frames:   0%|          | 0/169741 [00:00<?, ? frames/s]"
      ]
     },
     "metadata": {},
     "output_type": "display_data"
    },
    {
     "name": "stdout",
     "output_type": "stream",
     "text": [
      "Error processing match_id 4572: cannot access local variable 'row' where it is not associated with a value\n"
     ]
    },
    {
     "data": {
      "application/vnd.jupyter.widget-view+json": {
       "model_id": "f3885bbf8c394a8fb7ea11a771d85afd",
       "version_major": 2,
       "version_minor": 0
      },
      "text/plain": [
       "Loading frames from match 4573: 0 frames [00:00, ? frames/s]"
      ]
     },
     "metadata": {},
     "output_type": "display_data"
    },
    {
     "data": {
      "application/vnd.jupyter.widget-view+json": {
       "model_id": "917230866368435dafaf2a85afbbfa2d",
       "version_major": 2,
       "version_minor": 0
      },
      "text/plain": [
       "Validating frames:   0%|          | 0/177995 [00:00<?, ? frames/s]"
      ]
     },
     "metadata": {},
     "output_type": "display_data"
    },
    {
     "data": {
      "application/vnd.jupyter.widget-view+json": {
       "model_id": "8b5a9b9fb3fb42678f141804114e1697",
       "version_major": 2,
       "version_minor": 0
      },
      "text/plain": [
       "Loading frames from match 4574: 0 frames [00:00, ? frames/s]"
      ]
     },
     "metadata": {},
     "output_type": "display_data"
    },
    {
     "data": {
      "application/vnd.jupyter.widget-view+json": {
       "model_id": "c088ab48a613459499d65e668bfd7f4c",
       "version_major": 2,
       "version_minor": 0
      },
      "text/plain": [
       "Validating frames:   0%|          | 0/169110 [00:00<?, ? frames/s]"
      ]
     },
     "metadata": {},
     "output_type": "display_data"
    },
    {
     "name": "stdout",
     "output_type": "stream",
     "text": [
      "Error processing match_id 4574: cannot access local variable 'row' where it is not associated with a value\n"
     ]
    },
    {
     "data": {
      "application/vnd.jupyter.widget-view+json": {
       "model_id": "3a854850ac974a9e846184be74c13ff5",
       "version_major": 2,
       "version_minor": 0
      },
      "text/plain": [
       "Loading frames from match 4575: 0 frames [00:00, ? frames/s]"
      ]
     },
     "metadata": {},
     "output_type": "display_data"
    },
    {
     "data": {
      "application/vnd.jupyter.widget-view+json": {
       "model_id": "9a7dda28aeb4407c8b69fb37e41c4604",
       "version_major": 2,
       "version_minor": 0
      },
      "text/plain": [
       "Validating frames:   0%|          | 0/155080 [00:00<?, ? frames/s]"
      ]
     },
     "metadata": {},
     "output_type": "display_data"
    },
    {
     "data": {
      "application/vnd.jupyter.widget-view+json": {
       "model_id": "ef602063bb13408f950afbe241b96ac4",
       "version_major": 2,
       "version_minor": 0
      },
      "text/plain": [
       "Loading frames from match 4576: 0 frames [00:00, ? frames/s]"
      ]
     },
     "metadata": {},
     "output_type": "display_data"
    },
    {
     "data": {
      "application/vnd.jupyter.widget-view+json": {
       "model_id": "b7e8ae1dd5024720a9a1b15de359937f",
       "version_major": 2,
       "version_minor": 0
      },
      "text/plain": [
       "Validating frames:   0%|          | 0/177235 [00:00<?, ? frames/s]"
      ]
     },
     "metadata": {},
     "output_type": "display_data"
    }
   ],
   "source": [
    "matches = []\n",
    "\n",
    "failed_matches = []\n",
    "\n",
    "# #Check if the game has already been pre-processed\n",
    "# if len(pre_processed_game_ids) > 0:\n",
    "#     tasks = [(INTERMEDIATE_DATA_PATH,game_id) for game_id in pre_processed_game_ids]\n",
    "\n",
    "#     for task in tqdm(tasks, desc=\"Loading Pre-Processed Games\", total=len(tasks)):\n",
    "#         metadata_df, players_df, events_df = load_game(task)\n",
    "#         matches.append((task[1],metadata_df, players_df, events_df))\n",
    "\n",
    "if len(matches_to_process) > 0:\n",
    "\n",
    "    for game_id in tqdm(matches_to_process, desc=\"Processing Games\", total=len(matches_to_process)):\n",
    "        metadata_df, players_df, events_df = process_game((RAW_DATA_PATH, game_id))\n",
    "        if metadata_df.empty or players_df.empty or events_df.empty:\n",
    "            failed_matches.append(game_id)\n",
    "            continue\n",
    "        else:\n",
    "            matches.append((game_id,metadata_df, players_df, events_df))\n",
    "            save_game(metadata_df,players_df,events_df,INTERMEDIATE_DATA_PATH,game_id)\n",
    "\n"
   ]
  },
  {
   "cell_type": "code",
   "execution_count": 14,
   "metadata": {},
   "outputs": [],
   "source": [
    "failed_matches = pd.DataFrame(failed_matches, columns=[\"game_id\"])\n",
    "failed_matches.to_csv(f\"{CSV_DATA_PATH}/failed_matches.csv\", index=False, header=False, mode='a')"
   ]
  },
  {
   "cell_type": "code",
   "execution_count": 15,
   "metadata": {},
   "outputs": [],
   "source": [
    "players_info, teams_info, games_info = get_match_info(CSV_DATA_PATH)"
   ]
  },
  {
   "cell_type": "markdown",
   "metadata": {},
   "source": [
    "# 2. Data Treatment"
   ]
  },
  {
   "cell_type": "code",
   "execution_count": 16,
   "metadata": {},
   "outputs": [
    {
     "data": {
      "application/vnd.jupyter.widget-view+json": {
       "model_id": "4bf8a10b48944e6884796230d2d8cdc9",
       "version_major": 2,
       "version_minor": 0
      },
      "text/plain": [
       "Data Processing:   0%|          | 0/15 [00:00<?, ?it/s]"
      ]
     },
     "metadata": {},
     "output_type": "display_data"
    }
   ],
   "source": [
    "players_dfs = []\n",
    "events_dfs = []\n",
    "metadata_dfs = []\n",
    "match_ids = []\n",
    "\n",
    "for match_dfs in tqdm(matches, desc=\"Data Processing\"):\n",
    "    match_id, metadata_df, players_df, events_df = match_dfs\n",
    "    players_match_info = players_info[players_info['match_id'] == int(match_id)].reset_index(drop=True)\n",
    "    match_info = games_info[games_info['match_id'] == int(match_id)].reset_index(drop=True)\n",
    "\n",
    "    players_df = process_players(players_df, match_info, players_match_info, metadata_df)\n",
    "\n",
    "    players_dfs.append(players_df)\n",
    "    events_dfs.append(events_df)\n",
    "    metadata_dfs.append(metadata_df)\n",
    "    match_ids.append(match_id)\n",
    "\n",
    "players_df = pd.concat(players_dfs)\n",
    "events_df = pd.concat(events_dfs)\n",
    "metadata_df = pd.concat(metadata_dfs)"
   ]
  },
  {
   "cell_type": "code",
   "execution_count": 17,
   "metadata": {},
   "outputs": [
    {
     "data": {
      "text/html": [
       "<div>\n",
       "<style scoped>\n",
       "    .dataframe tbody tr th:only-of-type {\n",
       "        vertical-align: middle;\n",
       "    }\n",
       "\n",
       "    .dataframe tbody tr th {\n",
       "        vertical-align: top;\n",
       "    }\n",
       "\n",
       "    .dataframe thead th {\n",
       "        text-align: right;\n",
       "    }\n",
       "</style>\n",
       "<table border=\"1\" class=\"dataframe\">\n",
       "  <thead>\n",
       "    <tr style=\"text-align: right;\">\n",
       "      <th></th>\n",
       "      <th>match_id</th>\n",
       "      <th>interval_id</th>\n",
       "      <th>team_id</th>\n",
       "      <th>player_id</th>\n",
       "      <th>nickname</th>\n",
       "      <th>shirt</th>\n",
       "      <th>x</th>\n",
       "      <th>y</th>\n",
       "    </tr>\n",
       "  </thead>\n",
       "  <tbody>\n",
       "    <tr>\n",
       "      <th>0</th>\n",
       "      <td>4557</td>\n",
       "      <td>1</td>\n",
       "      <td>6</td>\n",
       "      <td>25</td>\n",
       "      <td>Raheem Sterling</td>\n",
       "      <td>17</td>\n",
       "      <td>7.028867</td>\n",
       "      <td>19.076528</td>\n",
       "    </tr>\n",
       "    <tr>\n",
       "      <th>1</th>\n",
       "      <td>4557</td>\n",
       "      <td>1</td>\n",
       "      <td>6</td>\n",
       "      <td>88</td>\n",
       "      <td>Kepa</td>\n",
       "      <td>1</td>\n",
       "      <td>-37.909179</td>\n",
       "      <td>2.180471</td>\n",
       "    </tr>\n",
       "    <tr>\n",
       "      <th>2</th>\n",
       "      <td>4557</td>\n",
       "      <td>1</td>\n",
       "      <td>6</td>\n",
       "      <td>96</td>\n",
       "      <td>César Azpilicueta</td>\n",
       "      <td>28</td>\n",
       "      <td>-5.929470</td>\n",
       "      <td>-16.629494</td>\n",
       "    </tr>\n",
       "    <tr>\n",
       "      <th>3</th>\n",
       "      <td>4557</td>\n",
       "      <td>1</td>\n",
       "      <td>6</td>\n",
       "      <td>98</td>\n",
       "      <td>Jorginho</td>\n",
       "      <td>5</td>\n",
       "      <td>-3.976327</td>\n",
       "      <td>2.191415</td>\n",
       "    </tr>\n",
       "    <tr>\n",
       "      <th>4</th>\n",
       "      <td>4557</td>\n",
       "      <td>1</td>\n",
       "      <td>6</td>\n",
       "      <td>101</td>\n",
       "      <td>Ruben Loftus-Cheek</td>\n",
       "      <td>12</td>\n",
       "      <td>-3.226055</td>\n",
       "      <td>13.204679</td>\n",
       "    </tr>\n",
       "    <tr>\n",
       "      <th>...</th>\n",
       "      <td>...</td>\n",
       "      <td>...</td>\n",
       "      <td>...</td>\n",
       "      <td>...</td>\n",
       "      <td>...</td>\n",
       "      <td>...</td>\n",
       "      <td>...</td>\n",
       "      <td>...</td>\n",
       "    </tr>\n",
       "    <tr>\n",
       "      <th>15266</th>\n",
       "      <td>4576</td>\n",
       "      <td>1</td>\n",
       "      <td>12</td>\n",
       "      <td>1947</td>\n",
       "      <td>Donny van de Beek</td>\n",
       "      <td>34</td>\n",
       "      <td>-17.649229</td>\n",
       "      <td>-1.406180</td>\n",
       "    </tr>\n",
       "    <tr>\n",
       "      <th>15267</th>\n",
       "      <td>4576</td>\n",
       "      <td>1</td>\n",
       "      <td>12</td>\n",
       "      <td>6020</td>\n",
       "      <td>Cristiano Ronaldo</td>\n",
       "      <td>7</td>\n",
       "      <td>-26.218487</td>\n",
       "      <td>3.445821</td>\n",
       "    </tr>\n",
       "    <tr>\n",
       "      <th>15268</th>\n",
       "      <td>4576</td>\n",
       "      <td>1</td>\n",
       "      <td>12</td>\n",
       "      <td>7443</td>\n",
       "      <td>Christian Eriksen</td>\n",
       "      <td>14</td>\n",
       "      <td>-7.186674</td>\n",
       "      <td>-6.382556</td>\n",
       "    </tr>\n",
       "    <tr>\n",
       "      <th>15269</th>\n",
       "      <td>4576</td>\n",
       "      <td>1</td>\n",
       "      <td>12</td>\n",
       "      <td>7832</td>\n",
       "      <td>Alejandro Garnacho</td>\n",
       "      <td>49</td>\n",
       "      <td>-17.719599</td>\n",
       "      <td>-16.179115</td>\n",
       "    </tr>\n",
       "    <tr>\n",
       "      <th>15270</th>\n",
       "      <td>4576</td>\n",
       "      <td>1</td>\n",
       "      <td>12</td>\n",
       "      <td>8023</td>\n",
       "      <td>Lisandro Martinez</td>\n",
       "      <td>6</td>\n",
       "      <td>6.207914</td>\n",
       "      <td>3.818722</td>\n",
       "    </tr>\n",
       "  </tbody>\n",
       "</table>\n",
       "<p>330 rows × 8 columns</p>\n",
       "</div>"
      ],
      "text/plain": [
       "       match_id  interval_id  team_id  player_id            nickname  shirt  \\\n",
       "0          4557            1        6         25     Raheem Sterling     17   \n",
       "1          4557            1        6         88                Kepa      1   \n",
       "2          4557            1        6         96   César Azpilicueta     28   \n",
       "3          4557            1        6         98            Jorginho      5   \n",
       "4          4557            1        6        101  Ruben Loftus-Cheek     12   \n",
       "...         ...          ...      ...        ...                 ...    ...   \n",
       "15266      4576            1       12       1947   Donny van de Beek     34   \n",
       "15267      4576            1       12       6020   Cristiano Ronaldo      7   \n",
       "15268      4576            1       12       7443   Christian Eriksen     14   \n",
       "15269      4576            1       12       7832  Alejandro Garnacho     49   \n",
       "15270      4576            1       12       8023   Lisandro Martinez      6   \n",
       "\n",
       "               x          y  \n",
       "0       7.028867  19.076528  \n",
       "1     -37.909179   2.180471  \n",
       "2      -5.929470 -16.629494  \n",
       "3      -3.976327   2.191415  \n",
       "4      -3.226055  13.204679  \n",
       "...          ...        ...  \n",
       "15266 -17.649229  -1.406180  \n",
       "15267 -26.218487   3.445821  \n",
       "15268  -7.186674  -6.382556  \n",
       "15269 -17.719599 -16.179115  \n",
       "15270   6.207914   3.818722  \n",
       "\n",
       "[330 rows x 8 columns]"
      ]
     },
     "execution_count": 17,
     "metadata": {},
     "output_type": "execute_result"
    }
   ],
   "source": [
    "players_interval_df = players_df.groupby(['match_id','interval_id','team_id','player_id','nickname','shirt']).agg(\n",
    "    x=('x', 'mean'),\n",
    "    y=('y', 'mean')\n",
    ").reset_index()\n",
    "\n",
    "players_interval_df['player_id'] = players_interval_df['player_id'].astype(int)\n",
    "players_interval_df['match_id'] = players_interval_df['match_id'].astype(int)\n",
    "players_interval_df['interval_id'] = players_interval_df['interval_id'].astype(int)\n",
    "players_interval_df['team_id'] = players_interval_df['team_id'].astype(int)\n",
    "players_interval_df['shirt'] = players_interval_df['shirt'].astype(int)\n",
    "\n",
    "players_interval_df[players_interval_df['interval_id']==1]"
   ]
  },
  {
   "cell_type": "code",
   "execution_count": 18,
   "metadata": {},
   "outputs": [
    {
     "data": {
      "text/html": [
       "<div>\n",
       "<style scoped>\n",
       "    .dataframe tbody tr th:only-of-type {\n",
       "        vertical-align: middle;\n",
       "    }\n",
       "\n",
       "    .dataframe tbody tr th {\n",
       "        vertical-align: top;\n",
       "    }\n",
       "\n",
       "    .dataframe thead th {\n",
       "        text-align: right;\n",
       "    }\n",
       "</style>\n",
       "<table border=\"1\" class=\"dataframe\">\n",
       "  <thead>\n",
       "    <tr style=\"text-align: right;\">\n",
       "      <th></th>\n",
       "      <th>match_id</th>\n",
       "      <th>interval_id</th>\n",
       "      <th>team_id</th>\n",
       "      <th>team</th>\n",
       "    </tr>\n",
       "  </thead>\n",
       "  <tbody>\n",
       "    <tr>\n",
       "      <th>0</th>\n",
       "      <td>4557</td>\n",
       "      <td>1.0</td>\n",
       "      <td>6</td>\n",
       "      <td>home</td>\n",
       "    </tr>\n",
       "    <tr>\n",
       "      <th>1</th>\n",
       "      <td>4557</td>\n",
       "      <td>1.0</td>\n",
       "      <td>12</td>\n",
       "      <td>away</td>\n",
       "    </tr>\n",
       "    <tr>\n",
       "      <th>2</th>\n",
       "      <td>4557</td>\n",
       "      <td>2.0</td>\n",
       "      <td>6</td>\n",
       "      <td>home</td>\n",
       "    </tr>\n",
       "    <tr>\n",
       "      <th>3</th>\n",
       "      <td>4557</td>\n",
       "      <td>2.0</td>\n",
       "      <td>12</td>\n",
       "      <td>away</td>\n",
       "    </tr>\n",
       "    <tr>\n",
       "      <th>4</th>\n",
       "      <td>4557</td>\n",
       "      <td>3.0</td>\n",
       "      <td>6</td>\n",
       "      <td>home</td>\n",
       "    </tr>\n",
       "    <tr>\n",
       "      <th>...</th>\n",
       "      <td>...</td>\n",
       "      <td>...</td>\n",
       "      <td>...</td>\n",
       "      <td>...</td>\n",
       "    </tr>\n",
       "    <tr>\n",
       "      <th>1477</th>\n",
       "      <td>4576</td>\n",
       "      <td>48.0</td>\n",
       "      <td>12</td>\n",
       "      <td>away</td>\n",
       "    </tr>\n",
       "    <tr>\n",
       "      <th>1478</th>\n",
       "      <td>4576</td>\n",
       "      <td>49.0</td>\n",
       "      <td>3</td>\n",
       "      <td>home</td>\n",
       "    </tr>\n",
       "    <tr>\n",
       "      <th>1479</th>\n",
       "      <td>4576</td>\n",
       "      <td>49.0</td>\n",
       "      <td>12</td>\n",
       "      <td>away</td>\n",
       "    </tr>\n",
       "    <tr>\n",
       "      <th>1480</th>\n",
       "      <td>4576</td>\n",
       "      <td>50.0</td>\n",
       "      <td>3</td>\n",
       "      <td>home</td>\n",
       "    </tr>\n",
       "    <tr>\n",
       "      <th>1481</th>\n",
       "      <td>4576</td>\n",
       "      <td>50.0</td>\n",
       "      <td>12</td>\n",
       "      <td>away</td>\n",
       "    </tr>\n",
       "  </tbody>\n",
       "</table>\n",
       "<p>1482 rows × 4 columns</p>\n",
       "</div>"
      ],
      "text/plain": [
       "      match_id  interval_id  team_id  team\n",
       "0         4557          1.0        6  home\n",
       "1         4557          1.0       12  away\n",
       "2         4557          2.0        6  home\n",
       "3         4557          2.0       12  away\n",
       "4         4557          3.0        6  home\n",
       "...        ...          ...      ...   ...\n",
       "1477      4576         48.0       12  away\n",
       "1478      4576         49.0        3  home\n",
       "1479      4576         49.0       12  away\n",
       "1480      4576         50.0        3  home\n",
       "1481      4576         50.0       12  away\n",
       "\n",
       "[1482 rows x 4 columns]"
      ]
     },
     "execution_count": 18,
     "metadata": {},
     "output_type": "execute_result"
    }
   ],
   "source": [
    "match_intervals = players_df[['match_id','interval_id','team_id','team']].drop_duplicates().reset_index(drop=True)\n",
    "match_intervals = match_intervals[match_intervals['interval_id'].notna()].reset_index(drop=True)\n",
    "match_intervals"
   ]
  },
  {
   "cell_type": "code",
   "execution_count": 19,
   "metadata": {},
   "outputs": [
    {
     "data": {
      "text/html": [
       "<div>\n",
       "<style scoped>\n",
       "    .dataframe tbody tr th:only-of-type {\n",
       "        vertical-align: middle;\n",
       "    }\n",
       "\n",
       "    .dataframe tbody tr th {\n",
       "        vertical-align: top;\n",
       "    }\n",
       "\n",
       "    .dataframe thead th {\n",
       "        text-align: right;\n",
       "    }\n",
       "</style>\n",
       "<table border=\"1\" class=\"dataframe\">\n",
       "  <thead>\n",
       "    <tr style=\"text-align: right;\">\n",
       "      <th></th>\n",
       "      <th>match_id</th>\n",
       "      <th>interval_id</th>\n",
       "      <th>team_id</th>\n",
       "      <th>player_id</th>\n",
       "      <th>nickname</th>\n",
       "      <th>shirt</th>\n",
       "      <th>x</th>\n",
       "      <th>y</th>\n",
       "    </tr>\n",
       "  </thead>\n",
       "  <tbody>\n",
       "    <tr>\n",
       "      <th>0</th>\n",
       "      <td>4557</td>\n",
       "      <td>1.0</td>\n",
       "      <td>6</td>\n",
       "      <td>-1</td>\n",
       "      <td>Goal</td>\n",
       "      <td>-1</td>\n",
       "      <td>52.000000</td>\n",
       "      <td>0.000000</td>\n",
       "    </tr>\n",
       "    <tr>\n",
       "      <th>1</th>\n",
       "      <td>4557</td>\n",
       "      <td>1.0</td>\n",
       "      <td>6</td>\n",
       "      <td>25</td>\n",
       "      <td>Raheem Sterling</td>\n",
       "      <td>17</td>\n",
       "      <td>7.028867</td>\n",
       "      <td>19.076528</td>\n",
       "    </tr>\n",
       "    <tr>\n",
       "      <th>2</th>\n",
       "      <td>4557</td>\n",
       "      <td>1.0</td>\n",
       "      <td>6</td>\n",
       "      <td>88</td>\n",
       "      <td>Kepa</td>\n",
       "      <td>1</td>\n",
       "      <td>-37.909179</td>\n",
       "      <td>2.180471</td>\n",
       "    </tr>\n",
       "    <tr>\n",
       "      <th>3</th>\n",
       "      <td>4557</td>\n",
       "      <td>1.0</td>\n",
       "      <td>6</td>\n",
       "      <td>96</td>\n",
       "      <td>César Azpilicueta</td>\n",
       "      <td>28</td>\n",
       "      <td>-5.929470</td>\n",
       "      <td>-16.629494</td>\n",
       "    </tr>\n",
       "    <tr>\n",
       "      <th>4</th>\n",
       "      <td>4557</td>\n",
       "      <td>1.0</td>\n",
       "      <td>6</td>\n",
       "      <td>98</td>\n",
       "      <td>Jorginho</td>\n",
       "      <td>5</td>\n",
       "      <td>-3.976327</td>\n",
       "      <td>2.191415</td>\n",
       "    </tr>\n",
       "    <tr>\n",
       "      <th>...</th>\n",
       "      <td>...</td>\n",
       "      <td>...</td>\n",
       "      <td>...</td>\n",
       "      <td>...</td>\n",
       "      <td>...</td>\n",
       "      <td>...</td>\n",
       "      <td>...</td>\n",
       "      <td>...</td>\n",
       "    </tr>\n",
       "    <tr>\n",
       "      <th>17830</th>\n",
       "      <td>4576</td>\n",
       "      <td>50.0</td>\n",
       "      <td>12</td>\n",
       "      <td>3112</td>\n",
       "      <td>Anthony Elanga</td>\n",
       "      <td>36</td>\n",
       "      <td>-46.793533</td>\n",
       "      <td>12.937347</td>\n",
       "    </tr>\n",
       "    <tr>\n",
       "      <th>17831</th>\n",
       "      <td>4576</td>\n",
       "      <td>50.0</td>\n",
       "      <td>12</td>\n",
       "      <td>6020</td>\n",
       "      <td>Cristiano Ronaldo</td>\n",
       "      <td>7</td>\n",
       "      <td>-44.349994</td>\n",
       "      <td>1.708914</td>\n",
       "    </tr>\n",
       "    <tr>\n",
       "      <th>17832</th>\n",
       "      <td>4576</td>\n",
       "      <td>50.0</td>\n",
       "      <td>12</td>\n",
       "      <td>7443</td>\n",
       "      <td>Christian Eriksen</td>\n",
       "      <td>14</td>\n",
       "      <td>-38.159522</td>\n",
       "      <td>10.114210</td>\n",
       "    </tr>\n",
       "    <tr>\n",
       "      <th>17833</th>\n",
       "      <td>4576</td>\n",
       "      <td>50.0</td>\n",
       "      <td>12</td>\n",
       "      <td>8023</td>\n",
       "      <td>Lisandro Martinez</td>\n",
       "      <td>6</td>\n",
       "      <td>-22.225844</td>\n",
       "      <td>-4.234964</td>\n",
       "    </tr>\n",
       "    <tr>\n",
       "      <th>17834</th>\n",
       "      <td>4576</td>\n",
       "      <td>50.0</td>\n",
       "      <td>12</td>\n",
       "      <td>10703</td>\n",
       "      <td>Tyrell Malacia</td>\n",
       "      <td>12</td>\n",
       "      <td>-26.021850</td>\n",
       "      <td>-4.590303</td>\n",
       "    </tr>\n",
       "  </tbody>\n",
       "</table>\n",
       "<p>17835 rows × 8 columns</p>\n",
       "</div>"
      ],
      "text/plain": [
       "       match_id  interval_id  team_id  player_id           nickname  shirt  \\\n",
       "0          4557          1.0        6         -1               Goal     -1   \n",
       "1          4557          1.0        6         25    Raheem Sterling     17   \n",
       "2          4557          1.0        6         88               Kepa      1   \n",
       "3          4557          1.0        6         96  César Azpilicueta     28   \n",
       "4          4557          1.0        6         98           Jorginho      5   \n",
       "...         ...          ...      ...        ...                ...    ...   \n",
       "17830      4576         50.0       12       3112     Anthony Elanga     36   \n",
       "17831      4576         50.0       12       6020  Cristiano Ronaldo      7   \n",
       "17832      4576         50.0       12       7443  Christian Eriksen     14   \n",
       "17833      4576         50.0       12       8023  Lisandro Martinez      6   \n",
       "17834      4576         50.0       12      10703     Tyrell Malacia     12   \n",
       "\n",
       "               x          y  \n",
       "0      52.000000   0.000000  \n",
       "1       7.028867  19.076528  \n",
       "2     -37.909179   2.180471  \n",
       "3      -5.929470 -16.629494  \n",
       "4      -3.976327   2.191415  \n",
       "...          ...        ...  \n",
       "17830 -46.793533  12.937347  \n",
       "17831 -44.349994   1.708914  \n",
       "17832 -38.159522  10.114210  \n",
       "17833 -22.225844  -4.234964  \n",
       "17834 -26.021850  -4.590303  \n",
       "\n",
       "[17835 rows x 8 columns]"
      ]
     },
     "execution_count": 19,
     "metadata": {},
     "output_type": "execute_result"
    }
   ],
   "source": [
    "data = [{\n",
    "    'match_id':row['match_id'],\n",
    "    'interval_id':row['interval_id'],\n",
    "    'team_id': row['team_id'],\n",
    "    'player_id': -1,\n",
    "    'nickname': 'Goal',\n",
    "    'shirt': -1,\n",
    "    'x': 52 if row['team']=='home' else -52,\n",
    "    'y': 0\n",
    "} for _,row in match_intervals.iterrows()]\n",
    "\n",
    "data = pd.DataFrame(data)\n",
    "\n",
    "players_interval_df = pd.concat([players_interval_df, data], ignore_index=True).sort_values(['match_id','interval_id','team_id','player_id']).reset_index(drop=True)\n",
    "players_interval_df"
   ]
  },
  {
   "cell_type": "code",
   "execution_count": 20,
   "metadata": {},
   "outputs": [
    {
     "data": {
      "text/html": [
       "<div>\n",
       "<style scoped>\n",
       "    .dataframe tbody tr th:only-of-type {\n",
       "        vertical-align: middle;\n",
       "    }\n",
       "\n",
       "    .dataframe tbody tr th {\n",
       "        vertical-align: top;\n",
       "    }\n",
       "\n",
       "    .dataframe thead th {\n",
       "        text-align: right;\n",
       "    }\n",
       "</style>\n",
       "<table border=\"1\" class=\"dataframe\">\n",
       "  <thead>\n",
       "    <tr style=\"text-align: right;\">\n",
       "      <th></th>\n",
       "      <th>match_id</th>\n",
       "      <th>interval_id</th>\n",
       "      <th>team_id</th>\n",
       "      <th>player_id</th>\n",
       "      <th>nickname</th>\n",
       "      <th>shirt</th>\n",
       "      <th>x</th>\n",
       "      <th>y</th>\n",
       "    </tr>\n",
       "  </thead>\n",
       "  <tbody>\n",
       "    <tr>\n",
       "      <th>0</th>\n",
       "      <td>4557</td>\n",
       "      <td>1.0</td>\n",
       "      <td>6</td>\n",
       "      <td>-1</td>\n",
       "      <td>Goal</td>\n",
       "      <td>-1</td>\n",
       "      <td>52.000000</td>\n",
       "      <td>0.000000</td>\n",
       "    </tr>\n",
       "    <tr>\n",
       "      <th>1</th>\n",
       "      <td>4557</td>\n",
       "      <td>1.0</td>\n",
       "      <td>6</td>\n",
       "      <td>25</td>\n",
       "      <td>Raheem Sterling</td>\n",
       "      <td>17</td>\n",
       "      <td>7.028867</td>\n",
       "      <td>19.076528</td>\n",
       "    </tr>\n",
       "    <tr>\n",
       "      <th>2</th>\n",
       "      <td>4557</td>\n",
       "      <td>1.0</td>\n",
       "      <td>6</td>\n",
       "      <td>88</td>\n",
       "      <td>Kepa</td>\n",
       "      <td>1</td>\n",
       "      <td>-37.909179</td>\n",
       "      <td>2.180471</td>\n",
       "    </tr>\n",
       "    <tr>\n",
       "      <th>3</th>\n",
       "      <td>4557</td>\n",
       "      <td>1.0</td>\n",
       "      <td>6</td>\n",
       "      <td>96</td>\n",
       "      <td>César Azpilicueta</td>\n",
       "      <td>28</td>\n",
       "      <td>-5.929470</td>\n",
       "      <td>-16.629494</td>\n",
       "    </tr>\n",
       "    <tr>\n",
       "      <th>4</th>\n",
       "      <td>4557</td>\n",
       "      <td>1.0</td>\n",
       "      <td>6</td>\n",
       "      <td>98</td>\n",
       "      <td>Jorginho</td>\n",
       "      <td>5</td>\n",
       "      <td>-3.976327</td>\n",
       "      <td>2.191415</td>\n",
       "    </tr>\n",
       "    <tr>\n",
       "      <th>...</th>\n",
       "      <td>...</td>\n",
       "      <td>...</td>\n",
       "      <td>...</td>\n",
       "      <td>...</td>\n",
       "      <td>...</td>\n",
       "      <td>...</td>\n",
       "      <td>...</td>\n",
       "      <td>...</td>\n",
       "    </tr>\n",
       "    <tr>\n",
       "      <th>17830</th>\n",
       "      <td>4576</td>\n",
       "      <td>50.0</td>\n",
       "      <td>12</td>\n",
       "      <td>3112</td>\n",
       "      <td>Anthony Elanga</td>\n",
       "      <td>36</td>\n",
       "      <td>-46.793533</td>\n",
       "      <td>12.937347</td>\n",
       "    </tr>\n",
       "    <tr>\n",
       "      <th>17831</th>\n",
       "      <td>4576</td>\n",
       "      <td>50.0</td>\n",
       "      <td>12</td>\n",
       "      <td>6020</td>\n",
       "      <td>Cristiano Ronaldo</td>\n",
       "      <td>7</td>\n",
       "      <td>-44.349994</td>\n",
       "      <td>1.708914</td>\n",
       "    </tr>\n",
       "    <tr>\n",
       "      <th>17832</th>\n",
       "      <td>4576</td>\n",
       "      <td>50.0</td>\n",
       "      <td>12</td>\n",
       "      <td>7443</td>\n",
       "      <td>Christian Eriksen</td>\n",
       "      <td>14</td>\n",
       "      <td>-38.159522</td>\n",
       "      <td>10.114210</td>\n",
       "    </tr>\n",
       "    <tr>\n",
       "      <th>17833</th>\n",
       "      <td>4576</td>\n",
       "      <td>50.0</td>\n",
       "      <td>12</td>\n",
       "      <td>8023</td>\n",
       "      <td>Lisandro Martinez</td>\n",
       "      <td>6</td>\n",
       "      <td>-22.225844</td>\n",
       "      <td>-4.234964</td>\n",
       "    </tr>\n",
       "    <tr>\n",
       "      <th>17834</th>\n",
       "      <td>4576</td>\n",
       "      <td>50.0</td>\n",
       "      <td>12</td>\n",
       "      <td>10703</td>\n",
       "      <td>Tyrell Malacia</td>\n",
       "      <td>12</td>\n",
       "      <td>-26.021850</td>\n",
       "      <td>-4.590303</td>\n",
       "    </tr>\n",
       "  </tbody>\n",
       "</table>\n",
       "<p>17835 rows × 8 columns</p>\n",
       "</div>"
      ],
      "text/plain": [
       "       match_id  interval_id  team_id  player_id           nickname  shirt  \\\n",
       "0          4557          1.0        6         -1               Goal     -1   \n",
       "1          4557          1.0        6         25    Raheem Sterling     17   \n",
       "2          4557          1.0        6         88               Kepa      1   \n",
       "3          4557          1.0        6         96  César Azpilicueta     28   \n",
       "4          4557          1.0        6         98           Jorginho      5   \n",
       "...         ...          ...      ...        ...                ...    ...   \n",
       "17830      4576         50.0       12       3112     Anthony Elanga     36   \n",
       "17831      4576         50.0       12       6020  Cristiano Ronaldo      7   \n",
       "17832      4576         50.0       12       7443  Christian Eriksen     14   \n",
       "17833      4576         50.0       12       8023  Lisandro Martinez      6   \n",
       "17834      4576         50.0       12      10703     Tyrell Malacia     12   \n",
       "\n",
       "               x          y  \n",
       "0      52.000000   0.000000  \n",
       "1       7.028867  19.076528  \n",
       "2     -37.909179   2.180471  \n",
       "3      -5.929470 -16.629494  \n",
       "4      -3.976327   2.191415  \n",
       "...          ...        ...  \n",
       "17830 -46.793533  12.937347  \n",
       "17831 -44.349994   1.708914  \n",
       "17832 -38.159522  10.114210  \n",
       "17833 -22.225844  -4.234964  \n",
       "17834 -26.021850  -4.590303  \n",
       "\n",
       "[17835 rows x 8 columns]"
      ]
     },
     "execution_count": 20,
     "metadata": {},
     "output_type": "execute_result"
    }
   ],
   "source": [
    "players_interval_df = players_interval_df[players_interval_df['interval_id'].notna()].reset_index(drop=True)\n",
    "players_interval_df"
   ]
  },
  {
   "cell_type": "markdown",
   "metadata": {},
   "source": [
    "### Events"
   ]
  },
  {
   "cell_type": "code",
   "execution_count": 21,
   "metadata": {},
   "outputs": [
    {
     "data": {
      "text/html": [
       "<div>\n",
       "<style scoped>\n",
       "    .dataframe tbody tr th:only-of-type {\n",
       "        vertical-align: middle;\n",
       "    }\n",
       "\n",
       "    .dataframe tbody tr th {\n",
       "        vertical-align: top;\n",
       "    }\n",
       "\n",
       "    .dataframe thead th {\n",
       "        text-align: right;\n",
       "    }\n",
       "</style>\n",
       "<table border=\"1\" class=\"dataframe\">\n",
       "  <thead>\n",
       "    <tr style=\"text-align: right;\">\n",
       "      <th></th>\n",
       "      <th>match_id</th>\n",
       "      <th>player_id</th>\n",
       "      <th>receiver_id</th>\n",
       "      <th>event_id</th>\n",
       "      <th>possession_id</th>\n",
       "      <th>team_id</th>\n",
       "    </tr>\n",
       "  </thead>\n",
       "  <tbody>\n",
       "    <tr>\n",
       "      <th>0</th>\n",
       "      <td>4557</td>\n",
       "      <td>133</td>\n",
       "      <td>1683</td>\n",
       "      <td>5962679</td>\n",
       "      <td>5821803</td>\n",
       "      <td>12</td>\n",
       "    </tr>\n",
       "    <tr>\n",
       "      <th>1</th>\n",
       "      <td>4557</td>\n",
       "      <td>1683</td>\n",
       "      <td>8023</td>\n",
       "      <td>5962682</td>\n",
       "      <td>5821806</td>\n",
       "      <td>12</td>\n",
       "    </tr>\n",
       "    <tr>\n",
       "      <th>2</th>\n",
       "      <td>4557</td>\n",
       "      <td>8023</td>\n",
       "      <td>1675</td>\n",
       "      <td>5962688</td>\n",
       "      <td>5821812</td>\n",
       "      <td>12</td>\n",
       "    </tr>\n",
       "    <tr>\n",
       "      <th>3</th>\n",
       "      <td>4557</td>\n",
       "      <td>1675</td>\n",
       "      <td>8023</td>\n",
       "      <td>5962693</td>\n",
       "      <td>5821816</td>\n",
       "      <td>12</td>\n",
       "    </tr>\n",
       "    <tr>\n",
       "      <th>4</th>\n",
       "      <td>4557</td>\n",
       "      <td>8023</td>\n",
       "      <td>1675</td>\n",
       "      <td>5962697</td>\n",
       "      <td>5821820</td>\n",
       "      <td>12</td>\n",
       "    </tr>\n",
       "  </tbody>\n",
       "</table>\n",
       "</div>"
      ],
      "text/plain": [
       "  match_id player_id receiver_id event_id possession_id team_id\n",
       "0     4557       133        1683  5962679       5821803      12\n",
       "1     4557      1683        8023  5962682       5821806      12\n",
       "2     4557      8023        1675  5962688       5821812      12\n",
       "3     4557      1675        8023  5962693       5821816      12\n",
       "4     4557      8023        1675  5962697       5821820      12"
      ]
     },
     "execution_count": 21,
     "metadata": {},
     "output_type": "execute_result"
    }
   ],
   "source": [
    "pass_df = events_df[(events_df['possession_type']=='PASS') & (events_df['outcome']=='C')][['match_id','player_id','receiver_id','event_id','possession_id','team_id']]\n",
    "pass_df.head()"
   ]
  },
  {
   "cell_type": "code",
   "execution_count": 22,
   "metadata": {},
   "outputs": [
    {
     "data": {
      "text/html": [
       "<div>\n",
       "<style scoped>\n",
       "    .dataframe tbody tr th:only-of-type {\n",
       "        vertical-align: middle;\n",
       "    }\n",
       "\n",
       "    .dataframe tbody tr th {\n",
       "        vertical-align: top;\n",
       "    }\n",
       "\n",
       "    .dataframe thead th {\n",
       "        text-align: right;\n",
       "    }\n",
       "</style>\n",
       "<table border=\"1\" class=\"dataframe\">\n",
       "  <thead>\n",
       "    <tr style=\"text-align: right;\">\n",
       "      <th></th>\n",
       "      <th>match_id</th>\n",
       "      <th>player_id</th>\n",
       "      <th>receiver_id</th>\n",
       "      <th>event_id</th>\n",
       "      <th>possession_id</th>\n",
       "      <th>team_id</th>\n",
       "    </tr>\n",
       "  </thead>\n",
       "  <tbody>\n",
       "    <tr>\n",
       "      <th>50</th>\n",
       "      <td>4557</td>\n",
       "      <td>25</td>\n",
       "      <td>25</td>\n",
       "      <td>5962983</td>\n",
       "      <td>5822083</td>\n",
       "      <td>6</td>\n",
       "    </tr>\n",
       "    <tr>\n",
       "      <th>111</th>\n",
       "      <td>4557</td>\n",
       "      <td>96</td>\n",
       "      <td>96</td>\n",
       "      <td>5963264</td>\n",
       "      <td>5833872</td>\n",
       "      <td>6</td>\n",
       "    </tr>\n",
       "    <tr>\n",
       "      <th>156</th>\n",
       "      <td>4557</td>\n",
       "      <td>1675</td>\n",
       "      <td>1675</td>\n",
       "      <td>5963459</td>\n",
       "      <td>5822548</td>\n",
       "      <td>12</td>\n",
       "    </tr>\n",
       "    <tr>\n",
       "      <th>199</th>\n",
       "      <td>4557</td>\n",
       "      <td>101</td>\n",
       "      <td>101</td>\n",
       "      <td>5963643</td>\n",
       "      <td>5822723</td>\n",
       "      <td>6</td>\n",
       "    </tr>\n",
       "    <tr>\n",
       "      <th>242</th>\n",
       "      <td>4557</td>\n",
       "      <td>1331</td>\n",
       "      <td>1331</td>\n",
       "      <td>5963767</td>\n",
       "      <td>5822849</td>\n",
       "      <td>12</td>\n",
       "    </tr>\n",
       "  </tbody>\n",
       "</table>\n",
       "</div>"
      ],
      "text/plain": [
       "    match_id player_id receiver_id event_id possession_id team_id\n",
       "50      4557        25          25  5962983       5822083       6\n",
       "111     4557        96          96  5963264       5833872       6\n",
       "156     4557      1675        1675  5963459       5822548      12\n",
       "199     4557       101         101  5963643       5822723       6\n",
       "242     4557      1331        1331  5963767       5822849      12"
      ]
     },
     "execution_count": 22,
     "metadata": {},
     "output_type": "execute_result"
    }
   ],
   "source": [
    "carry_df = events_df[(events_df['possession_type']=='CARRY') & ((events_df['carry_type'].isin(['T','C'])) | ((events_df['carry_type']=='D')&(events_df['outcome'].isin(['K','B']))))][['match_id','player_id','receiver_id','event_id','possession_id','team_id']]\n",
    "carry_df.head()"
   ]
  },
  {
   "cell_type": "code",
   "execution_count": 23,
   "metadata": {},
   "outputs": [
    {
     "data": {
      "text/html": [
       "<div>\n",
       "<style scoped>\n",
       "    .dataframe tbody tr th:only-of-type {\n",
       "        vertical-align: middle;\n",
       "    }\n",
       "\n",
       "    .dataframe tbody tr th {\n",
       "        vertical-align: top;\n",
       "    }\n",
       "\n",
       "    .dataframe thead th {\n",
       "        text-align: right;\n",
       "    }\n",
       "</style>\n",
       "<table border=\"1\" class=\"dataframe\">\n",
       "  <thead>\n",
       "    <tr style=\"text-align: right;\">\n",
       "      <th></th>\n",
       "      <th>match_id</th>\n",
       "      <th>player_id</th>\n",
       "      <th>receiver_id</th>\n",
       "      <th>event_id</th>\n",
       "      <th>possession_id</th>\n",
       "      <th>team_id</th>\n",
       "    </tr>\n",
       "  </thead>\n",
       "  <tbody>\n",
       "    <tr>\n",
       "      <th>94</th>\n",
       "      <td>4557</td>\n",
       "      <td>123</td>\n",
       "      <td>-1</td>\n",
       "      <td>5963195</td>\n",
       "      <td>5822284</td>\n",
       "      <td>12</td>\n",
       "    </tr>\n",
       "    <tr>\n",
       "      <th>138</th>\n",
       "      <td>4557</td>\n",
       "      <td>8039</td>\n",
       "      <td>-1</td>\n",
       "      <td>5963337</td>\n",
       "      <td>5822424</td>\n",
       "      <td>12</td>\n",
       "    </tr>\n",
       "    <tr>\n",
       "      <th>144</th>\n",
       "      <td>4557</td>\n",
       "      <td>5154</td>\n",
       "      <td>-1</td>\n",
       "      <td>5963421</td>\n",
       "      <td>5822507</td>\n",
       "      <td>6</td>\n",
       "    </tr>\n",
       "    <tr>\n",
       "      <th>256</th>\n",
       "      <td>4557</td>\n",
       "      <td>136</td>\n",
       "      <td>-1</td>\n",
       "      <td>5963845</td>\n",
       "      <td>5822923</td>\n",
       "      <td>12</td>\n",
       "    </tr>\n",
       "    <tr>\n",
       "      <th>295</th>\n",
       "      <td>4557</td>\n",
       "      <td>136</td>\n",
       "      <td>-1</td>\n",
       "      <td>5964096</td>\n",
       "      <td>5823161</td>\n",
       "      <td>12</td>\n",
       "    </tr>\n",
       "  </tbody>\n",
       "</table>\n",
       "</div>"
      ],
      "text/plain": [
       "    match_id player_id receiver_id event_id possession_id team_id\n",
       "94      4557       123          -1  5963195       5822284      12\n",
       "138     4557      8039          -1  5963337       5822424      12\n",
       "144     4557      5154          -1  5963421       5822507       6\n",
       "256     4557       136          -1  5963845       5822923      12\n",
       "295     4557       136          -1  5964096       5823161      12"
      ]
     },
     "execution_count": 23,
     "metadata": {},
     "output_type": "execute_result"
    }
   ],
   "source": [
    "shots_df = events_df[(events_df['possession_type']=='SHOT')][['match_id','player_id','receiver_id','event_id','possession_id','team_id']]\n",
    "shots_df.head()"
   ]
  },
  {
   "cell_type": "code",
   "execution_count": 24,
   "metadata": {},
   "outputs": [
    {
     "data": {
      "text/html": [
       "<div>\n",
       "<style scoped>\n",
       "    .dataframe tbody tr th:only-of-type {\n",
       "        vertical-align: middle;\n",
       "    }\n",
       "\n",
       "    .dataframe tbody tr th {\n",
       "        vertical-align: top;\n",
       "    }\n",
       "\n",
       "    .dataframe thead th {\n",
       "        text-align: right;\n",
       "    }\n",
       "</style>\n",
       "<table border=\"1\" class=\"dataframe\">\n",
       "  <thead>\n",
       "    <tr style=\"text-align: right;\">\n",
       "      <th></th>\n",
       "      <th>match_id</th>\n",
       "      <th>player_id</th>\n",
       "      <th>receiver_id</th>\n",
       "      <th>event_id</th>\n",
       "      <th>possession_id</th>\n",
       "      <th>team_id</th>\n",
       "    </tr>\n",
       "  </thead>\n",
       "  <tbody>\n",
       "    <tr>\n",
       "      <th>0</th>\n",
       "      <td>4557</td>\n",
       "      <td>133</td>\n",
       "      <td>1683</td>\n",
       "      <td>5962679</td>\n",
       "      <td>5821803</td>\n",
       "      <td>12</td>\n",
       "    </tr>\n",
       "    <tr>\n",
       "      <th>1</th>\n",
       "      <td>4557</td>\n",
       "      <td>1683</td>\n",
       "      <td>8023</td>\n",
       "      <td>5962682</td>\n",
       "      <td>5821806</td>\n",
       "      <td>12</td>\n",
       "    </tr>\n",
       "    <tr>\n",
       "      <th>2</th>\n",
       "      <td>4557</td>\n",
       "      <td>8023</td>\n",
       "      <td>1675</td>\n",
       "      <td>5962688</td>\n",
       "      <td>5821812</td>\n",
       "      <td>12</td>\n",
       "    </tr>\n",
       "    <tr>\n",
       "      <th>3</th>\n",
       "      <td>4557</td>\n",
       "      <td>1675</td>\n",
       "      <td>8023</td>\n",
       "      <td>5962693</td>\n",
       "      <td>5821816</td>\n",
       "      <td>12</td>\n",
       "    </tr>\n",
       "    <tr>\n",
       "      <th>4</th>\n",
       "      <td>4557</td>\n",
       "      <td>8023</td>\n",
       "      <td>1675</td>\n",
       "      <td>5962697</td>\n",
       "      <td>5821820</td>\n",
       "      <td>12</td>\n",
       "    </tr>\n",
       "  </tbody>\n",
       "</table>\n",
       "</div>"
      ],
      "text/plain": [
       "  match_id player_id receiver_id event_id possession_id team_id\n",
       "0     4557       133        1683  5962679       5821803      12\n",
       "1     4557      1683        8023  5962682       5821806      12\n",
       "2     4557      8023        1675  5962688       5821812      12\n",
       "3     4557      1675        8023  5962693       5821816      12\n",
       "4     4557      8023        1675  5962697       5821820      12"
      ]
     },
     "execution_count": 24,
     "metadata": {},
     "output_type": "execute_result"
    }
   ],
   "source": [
    "network_events_df = pd.concat([pass_df,carry_df, shots_df]).reset_index(drop=True)\n",
    "network_events_df.head()"
   ]
  },
  {
   "cell_type": "markdown",
   "metadata": {},
   "source": [
    "### Networks"
   ]
  },
  {
   "cell_type": "code",
   "execution_count": 25,
   "metadata": {},
   "outputs": [
    {
     "data": {
      "text/html": [
       "<div>\n",
       "<style scoped>\n",
       "    .dataframe tbody tr th:only-of-type {\n",
       "        vertical-align: middle;\n",
       "    }\n",
       "\n",
       "    .dataframe tbody tr th {\n",
       "        vertical-align: top;\n",
       "    }\n",
       "\n",
       "    .dataframe thead th {\n",
       "        text-align: right;\n",
       "    }\n",
       "</style>\n",
       "<table border=\"1\" class=\"dataframe\">\n",
       "  <thead>\n",
       "    <tr style=\"text-align: right;\">\n",
       "      <th></th>\n",
       "      <th>match_id</th>\n",
       "      <th>player_id</th>\n",
       "      <th>receiver_id</th>\n",
       "      <th>event_id</th>\n",
       "      <th>possession_id</th>\n",
       "      <th>team_id</th>\n",
       "      <th>interval_id</th>\n",
       "      <th>frame_id</th>\n",
       "    </tr>\n",
       "  </thead>\n",
       "  <tbody>\n",
       "    <tr>\n",
       "      <th>0</th>\n",
       "      <td>4557.0</td>\n",
       "      <td>133</td>\n",
       "      <td>1683</td>\n",
       "      <td>5962679.0</td>\n",
       "      <td>5821803.0</td>\n",
       "      <td>12</td>\n",
       "      <td>1.0</td>\n",
       "      <td>417.0</td>\n",
       "    </tr>\n",
       "    <tr>\n",
       "      <th>1</th>\n",
       "      <td>4557.0</td>\n",
       "      <td>1683</td>\n",
       "      <td>8023</td>\n",
       "      <td>5962682.0</td>\n",
       "      <td>5821806.0</td>\n",
       "      <td>12</td>\n",
       "      <td>1.0</td>\n",
       "      <td>460.0</td>\n",
       "    </tr>\n",
       "    <tr>\n",
       "      <th>2</th>\n",
       "      <td>4557.0</td>\n",
       "      <td>8023</td>\n",
       "      <td>1675</td>\n",
       "      <td>5962688.0</td>\n",
       "      <td>5821812.0</td>\n",
       "      <td>12</td>\n",
       "      <td>1.0</td>\n",
       "      <td>534.0</td>\n",
       "    </tr>\n",
       "    <tr>\n",
       "      <th>3</th>\n",
       "      <td>4557.0</td>\n",
       "      <td>1675</td>\n",
       "      <td>8023</td>\n",
       "      <td>5962693.0</td>\n",
       "      <td>5821816.0</td>\n",
       "      <td>12</td>\n",
       "      <td>1.0</td>\n",
       "      <td>627.0</td>\n",
       "    </tr>\n",
       "    <tr>\n",
       "      <th>4</th>\n",
       "      <td>4557.0</td>\n",
       "      <td>8023</td>\n",
       "      <td>1675</td>\n",
       "      <td>5962697.0</td>\n",
       "      <td>5821820.0</td>\n",
       "      <td>12</td>\n",
       "      <td>1.0</td>\n",
       "      <td>717.0</td>\n",
       "    </tr>\n",
       "  </tbody>\n",
       "</table>\n",
       "</div>"
      ],
      "text/plain": [
       "   match_id player_id receiver_id   event_id  possession_id team_id  \\\n",
       "0    4557.0       133        1683  5962679.0      5821803.0      12   \n",
       "1    4557.0      1683        8023  5962682.0      5821806.0      12   \n",
       "2    4557.0      8023        1675  5962688.0      5821812.0      12   \n",
       "3    4557.0      1675        8023  5962693.0      5821816.0      12   \n",
       "4    4557.0      8023        1675  5962697.0      5821820.0      12   \n",
       "\n",
       "   interval_id  frame_id  \n",
       "0          1.0     417.0  \n",
       "1          1.0     460.0  \n",
       "2          1.0     534.0  \n",
       "3          1.0     627.0  \n",
       "4          1.0     717.0  "
      ]
     },
     "execution_count": 25,
     "metadata": {},
     "output_type": "execute_result"
    }
   ],
   "source": [
    "network_events_df['match_id'] = network_events_df['match_id'].astype(float)\n",
    "network_events_df['event_id'] = network_events_df['event_id'].astype(float)\n",
    "network_events_df['possession_id'] = network_events_df['possession_id'].astype(float)\n",
    "metadata_df['match_id'] = metadata_df['match_id'].astype(float)\n",
    "metadata_df['event_id'] = metadata_df['event_id'].astype(float)\n",
    "metadata_df['possession_id'] = metadata_df['possession_id'].astype(float)\n",
    "\n",
    "network_frame_df = network_events_df.merge(metadata_df[['match_id','interval_id','frame_id','event_id','possession_id']], on=['match_id','event_id','possession_id'], how='left')\n",
    "network_frame_df.head()"
   ]
  },
  {
   "cell_type": "code",
   "execution_count": 26,
   "metadata": {},
   "outputs": [
    {
     "data": {
      "text/html": [
       "<div>\n",
       "<style scoped>\n",
       "    .dataframe tbody tr th:only-of-type {\n",
       "        vertical-align: middle;\n",
       "    }\n",
       "\n",
       "    .dataframe tbody tr th {\n",
       "        vertical-align: top;\n",
       "    }\n",
       "\n",
       "    .dataframe thead th {\n",
       "        text-align: right;\n",
       "    }\n",
       "</style>\n",
       "<table border=\"1\" class=\"dataframe\">\n",
       "  <thead>\n",
       "    <tr style=\"text-align: right;\">\n",
       "      <th></th>\n",
       "      <th>match_id</th>\n",
       "      <th>interval_id</th>\n",
       "      <th>team_id</th>\n",
       "      <th>player_id</th>\n",
       "      <th>receiver_id</th>\n",
       "      <th>count</th>\n",
       "    </tr>\n",
       "  </thead>\n",
       "  <tbody>\n",
       "    <tr>\n",
       "      <th>0</th>\n",
       "      <td>4557</td>\n",
       "      <td>1</td>\n",
       "      <td>12</td>\n",
       "      <td>114</td>\n",
       "      <td>8023</td>\n",
       "      <td>1</td>\n",
       "    </tr>\n",
       "    <tr>\n",
       "      <th>1</th>\n",
       "      <td>4557</td>\n",
       "      <td>1</td>\n",
       "      <td>12</td>\n",
       "      <td>123</td>\n",
       "      <td>1331</td>\n",
       "      <td>1</td>\n",
       "    </tr>\n",
       "    <tr>\n",
       "      <th>2</th>\n",
       "      <td>4557</td>\n",
       "      <td>1</td>\n",
       "      <td>12</td>\n",
       "      <td>123</td>\n",
       "      <td>8023</td>\n",
       "      <td>1</td>\n",
       "    </tr>\n",
       "    <tr>\n",
       "      <th>3</th>\n",
       "      <td>4557</td>\n",
       "      <td>1</td>\n",
       "      <td>12</td>\n",
       "      <td>133</td>\n",
       "      <td>114</td>\n",
       "      <td>1</td>\n",
       "    </tr>\n",
       "    <tr>\n",
       "      <th>4</th>\n",
       "      <td>4557</td>\n",
       "      <td>1</td>\n",
       "      <td>12</td>\n",
       "      <td>133</td>\n",
       "      <td>1683</td>\n",
       "      <td>1</td>\n",
       "    </tr>\n",
       "  </tbody>\n",
       "</table>\n",
       "</div>"
      ],
      "text/plain": [
       "   match_id  interval_id  team_id  player_id  receiver_id  count\n",
       "0      4557            1       12        114         8023      1\n",
       "1      4557            1       12        123         1331      1\n",
       "2      4557            1       12        123         8023      1\n",
       "3      4557            1       12        133          114      1\n",
       "4      4557            1       12        133         1683      1"
      ]
     },
     "execution_count": 26,
     "metadata": {},
     "output_type": "execute_result"
    }
   ],
   "source": [
    "# Group by match_id, interval_id, team_id, player_id, receiver_id to get the number of interactions between players\n",
    "\n",
    "grouped_df = network_frame_df.groupby(['match_id','interval_id','team_id','player_id','receiver_id']).size().reset_index(name='count')\n",
    "grouped_df['match_id']=grouped_df['match_id'].astype(int)\n",
    "grouped_df['interval_id']=grouped_df['interval_id'].astype(int)\n",
    "grouped_df['team_id']=grouped_df['team_id'].astype(int)\n",
    "grouped_df['player_id']=grouped_df['player_id'].astype(int)\n",
    "grouped_df['receiver_id']=grouped_df['receiver_id'].astype(int)\n",
    "\n",
    "grouped_df.head()"
   ]
  },
  {
   "cell_type": "code",
   "execution_count": 27,
   "metadata": {},
   "outputs": [
    {
     "data": {
      "text/html": [
       "<div>\n",
       "<style scoped>\n",
       "    .dataframe tbody tr th:only-of-type {\n",
       "        vertical-align: middle;\n",
       "    }\n",
       "\n",
       "    .dataframe tbody tr th {\n",
       "        vertical-align: top;\n",
       "    }\n",
       "\n",
       "    .dataframe thead th {\n",
       "        text-align: right;\n",
       "    }\n",
       "</style>\n",
       "<table border=\"1\" class=\"dataframe\">\n",
       "  <thead>\n",
       "    <tr style=\"text-align: right;\">\n",
       "      <th></th>\n",
       "      <th>match_id</th>\n",
       "      <th>interval_id</th>\n",
       "      <th>team_id</th>\n",
       "      <th>player_id</th>\n",
       "      <th>receiver_id</th>\n",
       "      <th>count</th>\n",
       "      <th>player_nickname</th>\n",
       "      <th>player_shirt</th>\n",
       "      <th>receiver_nickname</th>\n",
       "      <th>receiver_shirt</th>\n",
       "    </tr>\n",
       "  </thead>\n",
       "  <tbody>\n",
       "    <tr>\n",
       "      <th>0</th>\n",
       "      <td>4557</td>\n",
       "      <td>1</td>\n",
       "      <td>12</td>\n",
       "      <td>114</td>\n",
       "      <td>8023</td>\n",
       "      <td>1</td>\n",
       "      <td>David de Gea</td>\n",
       "      <td>1</td>\n",
       "      <td>Lisandro Martinez</td>\n",
       "      <td>6</td>\n",
       "    </tr>\n",
       "    <tr>\n",
       "      <th>1</th>\n",
       "      <td>4557</td>\n",
       "      <td>1</td>\n",
       "      <td>12</td>\n",
       "      <td>123</td>\n",
       "      <td>1331</td>\n",
       "      <td>1</td>\n",
       "      <td>Luke Shaw</td>\n",
       "      <td>23</td>\n",
       "      <td>Jadon Sancho</td>\n",
       "      <td>25</td>\n",
       "    </tr>\n",
       "    <tr>\n",
       "      <th>2</th>\n",
       "      <td>4557</td>\n",
       "      <td>1</td>\n",
       "      <td>12</td>\n",
       "      <td>123</td>\n",
       "      <td>8023</td>\n",
       "      <td>1</td>\n",
       "      <td>Luke Shaw</td>\n",
       "      <td>23</td>\n",
       "      <td>Lisandro Martinez</td>\n",
       "      <td>6</td>\n",
       "    </tr>\n",
       "    <tr>\n",
       "      <th>3</th>\n",
       "      <td>4557</td>\n",
       "      <td>1</td>\n",
       "      <td>12</td>\n",
       "      <td>133</td>\n",
       "      <td>114</td>\n",
       "      <td>1</td>\n",
       "      <td>Bruno Fernandes</td>\n",
       "      <td>8</td>\n",
       "      <td>David de Gea</td>\n",
       "      <td>1</td>\n",
       "    </tr>\n",
       "    <tr>\n",
       "      <th>4</th>\n",
       "      <td>4557</td>\n",
       "      <td>1</td>\n",
       "      <td>12</td>\n",
       "      <td>133</td>\n",
       "      <td>1683</td>\n",
       "      <td>1</td>\n",
       "      <td>Bruno Fernandes</td>\n",
       "      <td>8</td>\n",
       "      <td>Casemiro</td>\n",
       "      <td>18</td>\n",
       "    </tr>\n",
       "  </tbody>\n",
       "</table>\n",
       "</div>"
      ],
      "text/plain": [
       "   match_id  interval_id  team_id  player_id  receiver_id  count  \\\n",
       "0      4557            1       12        114         8023      1   \n",
       "1      4557            1       12        123         1331      1   \n",
       "2      4557            1       12        123         8023      1   \n",
       "3      4557            1       12        133          114      1   \n",
       "4      4557            1       12        133         1683      1   \n",
       "\n",
       "   player_nickname  player_shirt  receiver_nickname  receiver_shirt  \n",
       "0     David de Gea             1  Lisandro Martinez               6  \n",
       "1        Luke Shaw            23       Jadon Sancho              25  \n",
       "2        Luke Shaw            23  Lisandro Martinez               6  \n",
       "3  Bruno Fernandes             8       David de Gea               1  \n",
       "4  Bruno Fernandes             8           Casemiro              18  "
      ]
     },
     "execution_count": 27,
     "metadata": {},
     "output_type": "execute_result"
    }
   ],
   "source": [
    "grouped_df = grouped_df.merge(players_info[['match_id','player_id','nickname','shirt_number']], how='left', left_on=['match_id','player_id'], right_on=['match_id','player_id']).drop_duplicates().reset_index(drop=True)\n",
    "grouped_df = grouped_df.merge(players_info[['match_id','player_id','nickname','shirt_number']], how='left', left_on=['match_id','receiver_id'], right_on=['match_id','player_id']).drop_duplicates().reset_index(drop=True)\n",
    "\n",
    "grouped_df = grouped_df.rename(columns={'player_id_x':'player_id','nickname_x':'player_nickname','shirt_number_x':'player_shirt','nickname_y':'receiver_nickname','shirt_number_y':'receiver_shirt'})\n",
    "grouped_df = grouped_df.drop(['player_id_y'], axis=1)\n",
    "\n",
    "grouped_df['receiver_nickname'] = grouped_df['receiver_nickname'].fillna('Goal')\n",
    "grouped_df['receiver_shirt'] = grouped_df['receiver_shirt'].fillna(-1)\n",
    "grouped_df['receiver_shirt'] = grouped_df['receiver_shirt'].astype(int)\n",
    "\n",
    "grouped_df.head()"
   ]
  },
  {
   "cell_type": "markdown",
   "metadata": {},
   "source": [
    "# Graphs"
   ]
  },
  {
   "cell_type": "code",
   "execution_count": 28,
   "metadata": {},
   "outputs": [
    {
     "name": "stdout",
     "output_type": "stream",
     "text": [
      "Games to process: 80\n"
     ]
    }
   ],
   "source": [
    "graph_games = os.listdir(PROCESSED_DATA_PATH)\n",
    "graph_game_ids = [game.split('.')[0] for game in graph_games]\n",
    "print(f\"Games to process: {len(graph_game_ids)}\")"
   ]
  },
  {
   "cell_type": "code",
   "execution_count": 29,
   "metadata": {},
   "outputs": [
    {
     "name": "stdout",
     "output_type": "stream",
     "text": [
      "Games to process graphs: 15\n"
     ]
    }
   ],
   "source": [
    "pre_processed_ids = [game_id for game_id in match_ids if game_id not in graph_game_ids]\n",
    "print(f\"Games to process graphs: {len(pre_processed_ids)}\")"
   ]
  },
  {
   "cell_type": "code",
   "execution_count": 30,
   "metadata": {},
   "outputs": [
    {
     "data": {
      "application/vnd.jupyter.widget-view+json": {
       "model_id": "5063bcdef6e646daa00e3c6541b60e73",
       "version_major": 2,
       "version_minor": 0
      },
      "text/plain": [
       "Processing Graphs:   0%|          | 0/15 [00:00<?, ?it/s]"
      ]
     },
     "metadata": {},
     "output_type": "display_data"
    },
    {
     "data": {
      "application/vnd.jupyter.widget-view+json": {
       "model_id": "28ed36ca9a074f0ab248ad4b4ebf00bf",
       "version_major": 2,
       "version_minor": 0
      },
      "text/plain": [
       "Processing intervals:   0%|          | 0/48 [00:00<?, ?it/s]"
      ]
     },
     "metadata": {},
     "output_type": "display_data"
    },
    {
     "data": {
      "application/vnd.jupyter.widget-view+json": {
       "model_id": "13338af11ccf438994f8d2345a844888",
       "version_major": 2,
       "version_minor": 0
      },
      "text/plain": [
       "Processing intervals:   0%|          | 0/48 [00:00<?, ?it/s]"
      ]
     },
     "metadata": {},
     "output_type": "display_data"
    },
    {
     "data": {
      "application/vnd.jupyter.widget-view+json": {
       "model_id": "cf0c17beec244f7c85e7fcae4badebd2",
       "version_major": 2,
       "version_minor": 0
      },
      "text/plain": [
       "Processing intervals:   0%|          | 0/49 [00:00<?, ?it/s]"
      ]
     },
     "metadata": {},
     "output_type": "display_data"
    },
    {
     "data": {
      "application/vnd.jupyter.widget-view+json": {
       "model_id": "719ba2f3ba634a2a9bbf6bc7538cb5da",
       "version_major": 2,
       "version_minor": 0
      },
      "text/plain": [
       "Processing intervals:   0%|          | 0/50 [00:00<?, ?it/s]"
      ]
     },
     "metadata": {},
     "output_type": "display_data"
    },
    {
     "data": {
      "application/vnd.jupyter.widget-view+json": {
       "model_id": "22f5bc4dc71e48928485b375e8d04af0",
       "version_major": 2,
       "version_minor": 0
      },
      "text/plain": [
       "Processing intervals:   0%|          | 0/49 [00:00<?, ?it/s]"
      ]
     },
     "metadata": {},
     "output_type": "display_data"
    },
    {
     "data": {
      "application/vnd.jupyter.widget-view+json": {
       "model_id": "19c1721a7cf64a11b4b905fad7a41797",
       "version_major": 2,
       "version_minor": 0
      },
      "text/plain": [
       "Processing intervals:   0%|          | 0/49 [00:00<?, ?it/s]"
      ]
     },
     "metadata": {},
     "output_type": "display_data"
    },
    {
     "data": {
      "application/vnd.jupyter.widget-view+json": {
       "model_id": "a7d5a19a28e5447d9b8544c6c1dbb35f",
       "version_major": 2,
       "version_minor": 0
      },
      "text/plain": [
       "Processing intervals:   0%|          | 0/50 [00:00<?, ?it/s]"
      ]
     },
     "metadata": {},
     "output_type": "display_data"
    },
    {
     "data": {
      "application/vnd.jupyter.widget-view+json": {
       "model_id": "83dc2d71eaed4f3aa6288f4fabfa0c0e",
       "version_major": 2,
       "version_minor": 0
      },
      "text/plain": [
       "Processing intervals:   0%|          | 0/50 [00:00<?, ?it/s]"
      ]
     },
     "metadata": {},
     "output_type": "display_data"
    },
    {
     "data": {
      "application/vnd.jupyter.widget-view+json": {
       "model_id": "5790156937b94ba5816059cf06ac7180",
       "version_major": 2,
       "version_minor": 0
      },
      "text/plain": [
       "Processing intervals:   0%|          | 0/47 [00:00<?, ?it/s]"
      ]
     },
     "metadata": {},
     "output_type": "display_data"
    },
    {
     "data": {
      "application/vnd.jupyter.widget-view+json": {
       "model_id": "c8809e885fea418b913f30ca277004d4",
       "version_major": 2,
       "version_minor": 0
      },
      "text/plain": [
       "Processing intervals:   0%|          | 0/54 [00:00<?, ?it/s]"
      ]
     },
     "metadata": {},
     "output_type": "display_data"
    },
    {
     "data": {
      "application/vnd.jupyter.widget-view+json": {
       "model_id": "b8eadaa200674e7f977f78d56833ea9f",
       "version_major": 2,
       "version_minor": 0
      },
      "text/plain": [
       "Processing intervals:   0%|          | 0/49 [00:00<?, ?it/s]"
      ]
     },
     "metadata": {},
     "output_type": "display_data"
    },
    {
     "data": {
      "application/vnd.jupyter.widget-view+json": {
       "model_id": "1a80a3bbbf9d4278a1af53042fef9ac7",
       "version_major": 2,
       "version_minor": 0
      },
      "text/plain": [
       "Processing intervals:   0%|          | 0/48 [00:00<?, ?it/s]"
      ]
     },
     "metadata": {},
     "output_type": "display_data"
    },
    {
     "data": {
      "application/vnd.jupyter.widget-view+json": {
       "model_id": "2cdafadc5dd745ef95aa12aba91c1692",
       "version_major": 2,
       "version_minor": 0
      },
      "text/plain": [
       "Processing intervals:   0%|          | 0/50 [00:00<?, ?it/s]"
      ]
     },
     "metadata": {},
     "output_type": "display_data"
    },
    {
     "data": {
      "application/vnd.jupyter.widget-view+json": {
       "model_id": "e2497b7f59154a7197f5f556b2d277d1",
       "version_major": 2,
       "version_minor": 0
      },
      "text/plain": [
       "Processing intervals:   0%|          | 0/50 [00:00<?, ?it/s]"
      ]
     },
     "metadata": {},
     "output_type": "display_data"
    },
    {
     "data": {
      "application/vnd.jupyter.widget-view+json": {
       "model_id": "a69e0be68a6241aeafa02004f9f145e1",
       "version_major": 2,
       "version_minor": 0
      },
      "text/plain": [
       "Processing intervals:   0%|          | 0/50 [00:00<?, ?it/s]"
      ]
     },
     "metadata": {},
     "output_type": "display_data"
    }
   ],
   "source": [
    "#graphs = []\n",
    "\n",
    "# if len(graph_game_ids) > 0:\n",
    "\n",
    "#     for game_id in tqdm(graph_game_ids, desc=\"Loading Graphs\", total=len(graph_game_ids)):\n",
    "#         match_graphs = load_graphs(game_id, PROCESSED_DATA_PATH)\n",
    "#         graphs.append((task[1],match_graphs))\n",
    "\n",
    "if len(pre_processed_ids) > 0:\n",
    "\n",
    "    for game_id in tqdm(pre_processed_ids, desc=\"Processing Graphs\", total=len(pre_processed_ids)):\n",
    "\n",
    "        match_grouped_df = grouped_df[grouped_df['match_id']==int(game_id)].reset_index(drop=True)\n",
    "        match_players_interval_df = players_interval_df[players_interval_df['match_id']==int(game_id)].reset_index(drop=True)\n",
    "\n",
    "        match_graphs = get_interval_graphs(match_grouped_df, match_players_interval_df)\n",
    "        save_graphs(game_id, PROCESSED_DATA_PATH, match_graphs)\n",
    "        #graphs.append((game_id,match_graphs))"
   ]
  }
 ],
 "metadata": {
  "kernelspec": {
   "display_name": ".venv",
   "language": "python",
   "name": "python3"
  },
  "language_info": {
   "codemirror_mode": {
    "name": "ipython",
    "version": 3
   },
   "file_extension": ".py",
   "mimetype": "text/x-python",
   "name": "python",
   "nbconvert_exporter": "python",
   "pygments_lexer": "ipython3",
   "version": "3.12.3"
  }
 },
 "nbformat": 4,
 "nbformat_minor": 2
}
