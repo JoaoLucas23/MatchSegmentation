{
 "cells": [
  {
   "cell_type": "code",
   "execution_count": 1,
   "metadata": {},
   "outputs": [],
   "source": [
    "import gandula\n",
    "from tqdm.auto import tqdm\n",
    "import os\n",
    "import sys"
   ]
  },
  {
   "cell_type": "code",
   "execution_count": 2,
   "metadata": {},
   "outputs": [
    {
     "name": "stdout",
     "output_type": "stream",
     "text": [
      "The autoreload extension is already loaded. To reload it, use:\n",
      "  %reload_ext autoreload\n"
     ]
    }
   ],
   "source": [
    "%load_ext autoreload\n",
    "%autoreload 2"
   ]
  },
  {
   "cell_type": "code",
   "execution_count": 3,
   "metadata": {},
   "outputs": [],
   "source": [
    "project_root = os.path.abspath(\n",
    "    os.path.join(\"C:/Users/jllgo/OneDrive/Documentos/UFMG/MSc & MSI 2/MatchSegmentation\")\n",
    ")\n",
    "if project_root not in sys.path:\n",
    "    sys.path.append(project_root)"
   ]
  },
  {
   "cell_type": "code",
   "execution_count": 4,
   "metadata": {},
   "outputs": [],
   "source": [
    "from src.data.loader import FramesLoader"
   ]
  },
  {
   "cell_type": "code",
   "execution_count": 5,
   "metadata": {},
   "outputs": [],
   "source": [
    "DATA_PATH = '../data/raw/PL-22-23'\n",
    "output_path = \"../data/intermediate/PL-22-23\""
   ]
  },
  {
   "cell_type": "code",
   "execution_count": 6,
   "metadata": {},
   "outputs": [],
   "source": [
    "games = os.listdir(DATA_PATH)\n",
    "game_ids = [game.split('.')[0] for game in games]"
   ]
  },
  {
   "cell_type": "code",
   "execution_count": 7,
   "metadata": {},
   "outputs": [
    {
     "data": {
      "application/vnd.jupyter.widget-view+json": {
       "model_id": "b301639963594398878f5eb0d14458c0",
       "version_major": 2,
       "version_minor": 0
      },
      "text/plain": [
       "Loading frames:   0%|          | 0/30 [00:00<?, ?it/s]"
      ]
     },
     "metadata": {},
     "output_type": "display_data"
    },
    {
     "data": {
      "application/vnd.jupyter.widget-view+json": {
       "model_id": "c3e3a2bd2dd84b58a9e66d7f01fbc123",
       "version_major": 2,
       "version_minor": 0
      },
      "text/plain": [
       "Loading frames from match 4596: 0 frames [00:00, ? frames/s]"
      ]
     },
     "metadata": {},
     "output_type": "display_data"
    },
    {
     "data": {
      "application/vnd.jupyter.widget-view+json": {
       "model_id": "c73f6ac9073a4e64a5ee67098499cb57",
       "version_major": 2,
       "version_minor": 0
      },
      "text/plain": [
       "Validating frames:   0%|          | 0/180777 [00:00<?, ? frames/s]"
      ]
     },
     "metadata": {},
     "output_type": "display_data"
    },
    {
     "name": "stderr",
     "output_type": "stream",
     "text": [
      "\n",
      "Adding ball speed, velocity, and acceleration in each frame:   0%|          | 0/2 [00:00<?, ?it/s]\n",
      "Adding ball speed, velocity, and acceleration in each frame:  50%|█████     | 1/2 [00:00<00:00,  6.40it/s]\n",
      "Adding ball speed, velocity, and acceleration in each frame: 100%|██████████| 2/2 [00:01<00:00,  1.34it/s]\n",
      "\n",
      "Adding player speed, velocity, and acceleration in each frame:   0%|          | 0/49 [00:00<?, ?it/s]\n",
      "Adding player speed, velocity, and acceleration in each frame:   2%|▏         | 1/49 [00:00<00:21,  2.25it/s]\n",
      "Adding player speed, velocity, and acceleration in each frame:  12%|█▏        | 6/49 [00:00<00:03, 13.42it/s]\n",
      "Adding player speed, velocity, and acceleration in each frame:  22%|██▏       | 11/49 [00:00<00:01, 21.50it/s]\n",
      "Adding player speed, velocity, and acceleration in each frame:  33%|███▎      | 16/49 [00:00<00:01, 27.98it/s]\n",
      "Adding player speed, velocity, and acceleration in each frame:  43%|████▎     | 21/49 [00:00<00:00, 32.45it/s]\n",
      "Adding player speed, velocity, and acceleration in each frame:  53%|█████▎    | 26/49 [00:01<00:00, 36.38it/s]\n",
      "Adding player speed, velocity, and acceleration in each frame:  65%|██████▌   | 32/49 [00:01<00:00, 41.37it/s]\n",
      "Adding player speed, velocity, and acceleration in each frame:  78%|███████▊  | 38/49 [00:01<00:00, 45.38it/s]\n",
      "Adding player speed, velocity, and acceleration in each frame: 100%|██████████| 49/49 [00:02<00:00, 22.18it/s]\n"
     ]
    },
    {
     "data": {
      "application/vnd.jupyter.widget-view+json": {
       "model_id": "899828764c014ea5bb6006ac6e40bced",
       "version_major": 2,
       "version_minor": 0
      },
      "text/plain": [
       "Loading frames from match 4597: 0 frames [00:00, ? frames/s]"
      ]
     },
     "metadata": {},
     "output_type": "display_data"
    },
    {
     "data": {
      "application/vnd.jupyter.widget-view+json": {
       "model_id": "64f5b625f9df47e6bb480f22ada522a3",
       "version_major": 2,
       "version_minor": 0
      },
      "text/plain": [
       "Validating frames:   0%|          | 0/175995 [00:00<?, ? frames/s]"
      ]
     },
     "metadata": {},
     "output_type": "display_data"
    },
    {
     "name": "stderr",
     "output_type": "stream",
     "text": [
      "\n",
      "Adding ball speed, velocity, and acceleration in each frame:   0%|          | 0/2 [00:00<?, ?it/s]\n",
      "Adding ball speed, velocity, and acceleration in each frame:  50%|█████     | 1/2 [00:00<00:00,  6.77it/s]\n",
      "Adding ball speed, velocity, and acceleration in each frame: 100%|██████████| 2/2 [00:01<00:00,  1.40it/s]\n",
      "\n",
      "Adding player speed, velocity, and acceleration in each frame:   0%|          | 0/52 [00:00<?, ?it/s]\n",
      "Adding player speed, velocity, and acceleration in each frame:   2%|▏         | 1/52 [00:00<00:17,  2.86it/s]\n",
      "Adding player speed, velocity, and acceleration in each frame:  13%|█▎        | 7/52 [00:00<00:02, 18.65it/s]\n",
      "Adding player speed, velocity, and acceleration in each frame:  25%|██▌       | 13/52 [00:00<00:01, 29.75it/s]\n",
      "Adding player speed, velocity, and acceleration in each frame:  37%|███▋      | 19/52 [00:00<00:00, 38.01it/s]\n",
      "Adding player speed, velocity, and acceleration in each frame:  48%|████▊     | 25/52 [00:00<00:00, 42.16it/s]\n",
      "Adding player speed, velocity, and acceleration in each frame:  63%|██████▎   | 33/52 [00:00<00:00, 51.36it/s]\n",
      "Adding player speed, velocity, and acceleration in each frame:  79%|███████▉  | 41/52 [00:01<00:00, 56.01it/s]\n",
      "Adding player speed, velocity, and acceleration in each frame: 100%|██████████| 52/52 [00:01<00:00, 28.17it/s]\n"
     ]
    },
    {
     "data": {
      "application/vnd.jupyter.widget-view+json": {
       "model_id": "933bb5a88f1449038006a3b65a206882",
       "version_major": 2,
       "version_minor": 0
      },
      "text/plain": [
       "Loading frames from match 4598: 0 frames [00:00, ? frames/s]"
      ]
     },
     "metadata": {},
     "output_type": "display_data"
    },
    {
     "data": {
      "application/vnd.jupyter.widget-view+json": {
       "model_id": "2fff225857c64b91b540f2e0689cc558",
       "version_major": 2,
       "version_minor": 0
      },
      "text/plain": [
       "Validating frames:   0%|          | 0/180924 [00:00<?, ? frames/s]"
      ]
     },
     "metadata": {},
     "output_type": "display_data"
    },
    {
     "name": "stderr",
     "output_type": "stream",
     "text": [
      "\n",
      "Adding ball speed, velocity, and acceleration in each frame:   0%|          | 0/2 [00:00<?, ?it/s]\n",
      "Adding ball speed, velocity, and acceleration in each frame:  50%|█████     | 1/2 [00:00<00:00,  7.08it/s]\n",
      "Adding ball speed, velocity, and acceleration in each frame: 100%|██████████| 2/2 [00:01<00:00,  1.44it/s]\n",
      "\n",
      "Adding player speed, velocity, and acceleration in each frame:   0%|          | 0/49 [00:00<?, ?it/s]\n",
      "Adding player speed, velocity, and acceleration in each frame:   2%|▏         | 1/49 [00:00<00:17,  2.81it/s]\n",
      "Adding player speed, velocity, and acceleration in each frame:  14%|█▍        | 7/49 [00:00<00:02, 18.49it/s]\n",
      "Adding player speed, velocity, and acceleration in each frame:  27%|██▋       | 13/49 [00:00<00:01, 29.58it/s]\n",
      "Adding player speed, velocity, and acceleration in each frame:  37%|███▋      | 18/49 [00:00<00:00, 35.33it/s]\n",
      "Adding player speed, velocity, and acceleration in each frame:  49%|████▉     | 24/49 [00:00<00:00, 41.44it/s]\n",
      "Adding player speed, velocity, and acceleration in each frame:  63%|██████▎   | 31/49 [00:00<00:00, 47.51it/s]\n",
      "Adding player speed, velocity, and acceleration in each frame:  78%|███████▊  | 38/49 [00:01<00:00, 52.41it/s]\n",
      "Adding player speed, velocity, and acceleration in each frame: 100%|██████████| 49/49 [00:01<00:00, 26.80it/s]\n"
     ]
    },
    {
     "data": {
      "application/vnd.jupyter.widget-view+json": {
       "model_id": "a9533f85927e47eb8a243808a46bbf0b",
       "version_major": 2,
       "version_minor": 0
      },
      "text/plain": [
       "Loading frames from match 4599: 0 frames [00:00, ? frames/s]"
      ]
     },
     "metadata": {},
     "output_type": "display_data"
    },
    {
     "data": {
      "application/vnd.jupyter.widget-view+json": {
       "model_id": "3c2e5b3e7d9547188a2a229509f894f5",
       "version_major": 2,
       "version_minor": 0
      },
      "text/plain": [
       "Validating frames:   0%|          | 0/178304 [00:00<?, ? frames/s]"
      ]
     },
     "metadata": {},
     "output_type": "display_data"
    },
    {
     "name": "stderr",
     "output_type": "stream",
     "text": [
      "\n",
      "Adding ball speed, velocity, and acceleration in each frame:   0%|          | 0/2 [00:00<?, ?it/s]\n",
      "Adding ball speed, velocity, and acceleration in each frame:  50%|█████     | 1/2 [00:00<00:00,  7.66it/s]\n",
      "Adding ball speed, velocity, and acceleration in each frame: 100%|██████████| 2/2 [00:01<00:00,  1.49it/s]\n",
      "\n",
      "Adding player speed, velocity, and acceleration in each frame:   0%|          | 0/50 [00:00<?, ?it/s]\n",
      "Adding player speed, velocity, and acceleration in each frame:   2%|▏         | 1/50 [00:00<00:17,  2.79it/s]\n",
      "Adding player speed, velocity, and acceleration in each frame:  14%|█▍        | 7/50 [00:00<00:02, 18.63it/s]\n",
      "Adding player speed, velocity, and acceleration in each frame:  26%|██▌       | 13/50 [00:00<00:01, 29.69it/s]\n",
      "Adding player speed, velocity, and acceleration in each frame:  38%|███▊      | 19/50 [00:00<00:00, 37.39it/s]\n",
      "Adding player speed, velocity, and acceleration in each frame:  50%|█████     | 25/50 [00:00<00:00, 42.84it/s]\n",
      "Adding player speed, velocity, and acceleration in each frame:  64%|██████▍   | 32/50 [00:00<00:00, 49.33it/s]\n",
      "Adding player speed, velocity, and acceleration in each frame:  78%|███████▊  | 39/50 [00:01<00:00, 52.29it/s]\n",
      "Adding player speed, velocity, and acceleration in each frame: 100%|██████████| 50/50 [00:01<00:00, 27.52it/s]\n"
     ]
    },
    {
     "data": {
      "application/vnd.jupyter.widget-view+json": {
       "model_id": "5f0404f08b764ad3a544637197599fdd",
       "version_major": 2,
       "version_minor": 0
      },
      "text/plain": [
       "Loading frames from match 4600: 0 frames [00:00, ? frames/s]"
      ]
     },
     "metadata": {},
     "output_type": "display_data"
    },
    {
     "data": {
      "application/vnd.jupyter.widget-view+json": {
       "model_id": "253aa0b86f2544f98a806dacc98cb234",
       "version_major": 2,
       "version_minor": 0
      },
      "text/plain": [
       "Validating frames:   0%|          | 0/174181 [00:00<?, ? frames/s]"
      ]
     },
     "metadata": {},
     "output_type": "display_data"
    },
    {
     "name": "stderr",
     "output_type": "stream",
     "text": [
      "\n",
      "Adding ball speed, velocity, and acceleration in each frame:   0%|          | 0/2 [00:00<?, ?it/s]\n",
      "Adding ball speed, velocity, and acceleration in each frame:  50%|█████     | 1/2 [00:00<00:00,  7.80it/s]\n",
      "Adding ball speed, velocity, and acceleration in each frame: 100%|██████████| 2/2 [00:01<00:00,  1.40it/s]\n",
      "\n",
      "Adding player speed, velocity, and acceleration in each frame:   0%|          | 0/54 [00:00<?, ?it/s]\n",
      "Adding player speed, velocity, and acceleration in each frame:   2%|▏         | 1/54 [00:00<00:20,  2.59it/s]\n",
      "Adding player speed, velocity, and acceleration in each frame:  13%|█▎        | 7/54 [00:00<00:02, 17.42it/s]\n",
      "Adding player speed, velocity, and acceleration in each frame:  22%|██▏       | 12/54 [00:00<00:01, 25.79it/s]\n",
      "Adding player speed, velocity, and acceleration in each frame:  33%|███▎      | 18/54 [00:00<00:01, 33.70it/s]\n",
      "Adding player speed, velocity, and acceleration in each frame:  44%|████▍     | 24/54 [00:00<00:00, 39.31it/s]\n",
      "Adding player speed, velocity, and acceleration in each frame:  57%|█████▋    | 31/54 [00:00<00:00, 46.58it/s]\n",
      "Adding player speed, velocity, and acceleration in each frame:  70%|███████   | 38/54 [00:01<00:00, 52.64it/s]\n",
      "Adding player speed, velocity, and acceleration in each frame: 100%|██████████| 54/54 [00:01<00:00, 28.02it/s]\n"
     ]
    },
    {
     "data": {
      "application/vnd.jupyter.widget-view+json": {
       "model_id": "5ae21319b1c14017a0f990597c7524ce",
       "version_major": 2,
       "version_minor": 0
      },
      "text/plain": [
       "Loading frames from match 4601: 0 frames [00:00, ? frames/s]"
      ]
     },
     "metadata": {},
     "output_type": "display_data"
    },
    {
     "data": {
      "application/vnd.jupyter.widget-view+json": {
       "model_id": "57494fc2d49e429c87bfa946c9a23a34",
       "version_major": 2,
       "version_minor": 0
      },
      "text/plain": [
       "Validating frames:   0%|          | 0/174833 [00:00<?, ? frames/s]"
      ]
     },
     "metadata": {},
     "output_type": "display_data"
    },
    {
     "name": "stderr",
     "output_type": "stream",
     "text": [
      "\n",
      "Adding ball speed, velocity, and acceleration in each frame:   0%|          | 0/2 [00:00<?, ?it/s]\n",
      "Adding ball speed, velocity, and acceleration in each frame:  50%|█████     | 1/2 [00:00<00:00,  7.77it/s]\n",
      "Adding ball speed, velocity, and acceleration in each frame: 100%|██████████| 2/2 [00:01<00:00,  1.57it/s]\n",
      "\n",
      "Adding player speed, velocity, and acceleration in each frame:   0%|          | 0/53 [00:00<?, ?it/s]\n",
      "Adding player speed, velocity, and acceleration in each frame:   2%|▏         | 1/53 [00:00<00:15,  3.45it/s]\n",
      "Adding player speed, velocity, and acceleration in each frame:  13%|█▎        | 7/53 [00:00<00:02, 20.96it/s]\n",
      "Adding player speed, velocity, and acceleration in each frame:  26%|██▋       | 14/53 [00:00<00:01, 34.49it/s]\n",
      "Adding player speed, velocity, and acceleration in each frame:  38%|███▊      | 20/53 [00:00<00:00, 41.07it/s]\n",
      "Adding player speed, velocity, and acceleration in each frame:  51%|█████     | 27/53 [00:00<00:00, 48.46it/s]\n",
      "Adding player speed, velocity, and acceleration in each frame:  68%|██████▊   | 36/53 [00:00<00:00, 59.02it/s]\n",
      "Adding player speed, velocity, and acceleration in each frame:  83%|████████▎ | 44/53 [00:00<00:00, 63.62it/s]\n",
      "Adding player speed, velocity, and acceleration in each frame: 100%|██████████| 53/53 [00:01<00:00, 32.17it/s]\n"
     ]
    },
    {
     "data": {
      "application/vnd.jupyter.widget-view+json": {
       "model_id": "d9c1555773c748e8ba0147439c6731e3",
       "version_major": 2,
       "version_minor": 0
      },
      "text/plain": [
       "Loading frames from match 4602: 0 frames [00:00, ? frames/s]"
      ]
     },
     "metadata": {},
     "output_type": "display_data"
    },
    {
     "data": {
      "application/vnd.jupyter.widget-view+json": {
       "model_id": "393ba587e3db4d8aa8fd471c22088895",
       "version_major": 2,
       "version_minor": 0
      },
      "text/plain": [
       "Validating frames:   0%|          | 0/174579 [00:00<?, ? frames/s]"
      ]
     },
     "metadata": {},
     "output_type": "display_data"
    },
    {
     "name": "stderr",
     "output_type": "stream",
     "text": [
      "\n",
      "Adding ball speed, velocity, and acceleration in each frame:   0%|          | 0/2 [00:00<?, ?it/s]\n",
      "Adding ball speed, velocity, and acceleration in each frame:  50%|█████     | 1/2 [00:00<00:00,  6.95it/s]\n",
      "Adding ball speed, velocity, and acceleration in each frame: 100%|██████████| 2/2 [00:01<00:00,  1.37it/s]\n",
      "\n",
      "Adding player speed, velocity, and acceleration in each frame:   0%|          | 0/52 [00:00<?, ?it/s]\n",
      "Adding player speed, velocity, and acceleration in each frame:   2%|▏         | 1/52 [00:00<00:18,  2.76it/s]\n",
      "Adding player speed, velocity, and acceleration in each frame:  13%|█▎        | 7/52 [00:00<00:02, 18.63it/s]\n",
      "Adding player speed, velocity, and acceleration in each frame:  23%|██▎       | 12/52 [00:00<00:01, 26.86it/s]\n",
      "Adding player speed, velocity, and acceleration in each frame:  33%|███▎      | 17/52 [00:00<00:01, 32.85it/s]\n",
      "Adding player speed, velocity, and acceleration in each frame:  44%|████▍     | 23/52 [00:00<00:00, 39.76it/s]\n",
      "Adding player speed, velocity, and acceleration in each frame:  56%|█████▌    | 29/52 [00:00<00:00, 44.40it/s]\n",
      "Adding player speed, velocity, and acceleration in each frame:  69%|██████▉   | 36/52 [00:01<00:00, 50.44it/s]\n",
      "Adding player speed, velocity, and acceleration in each frame:  85%|████████▍ | 44/52 [00:01<00:00, 54.93it/s]\n",
      "Adding player speed, velocity, and acceleration in each frame: 100%|██████████| 52/52 [00:01<00:00, 27.09it/s]\n"
     ]
    },
    {
     "data": {
      "application/vnd.jupyter.widget-view+json": {
       "model_id": "ef236f797985496b945729f0da3f9818",
       "version_major": 2,
       "version_minor": 0
      },
      "text/plain": [
       "Loading frames from match 4603: 0 frames [00:00, ? frames/s]"
      ]
     },
     "metadata": {},
     "output_type": "display_data"
    },
    {
     "data": {
      "application/vnd.jupyter.widget-view+json": {
       "model_id": "8e73ae5cce1e411ea7eb6aa05f122171",
       "version_major": 2,
       "version_minor": 0
      },
      "text/plain": [
       "Validating frames:   0%|          | 0/173403 [00:00<?, ? frames/s]"
      ]
     },
     "metadata": {},
     "output_type": "display_data"
    },
    {
     "name": "stderr",
     "output_type": "stream",
     "text": [
      "\n",
      "Adding ball speed, velocity, and acceleration in each frame:   0%|          | 0/2 [00:00<?, ?it/s]\n",
      "Adding ball speed, velocity, and acceleration in each frame:  50%|█████     | 1/2 [00:00<00:00,  8.66it/s]\n",
      "Adding ball speed, velocity, and acceleration in each frame: 100%|██████████| 2/2 [00:01<00:00,  1.42it/s]\n",
      "\n",
      "Adding player speed, velocity, and acceleration in each frame:   0%|          | 0/51 [00:00<?, ?it/s]\n",
      "Adding player speed, velocity, and acceleration in each frame:   2%|▏         | 1/51 [00:00<00:17,  2.84it/s]\n",
      "Adding player speed, velocity, and acceleration in each frame:  14%|█▎        | 7/51 [00:00<00:02, 19.03it/s]\n",
      "Adding player speed, velocity, and acceleration in each frame:  24%|██▎       | 12/51 [00:00<00:01, 27.27it/s]\n",
      "Adding player speed, velocity, and acceleration in each frame:  35%|███▌      | 18/51 [00:00<00:00, 35.07it/s]\n",
      "Adding player speed, velocity, and acceleration in each frame:  47%|████▋     | 24/51 [00:00<00:00, 41.96it/s]\n",
      "Adding player speed, velocity, and acceleration in each frame:  61%|██████    | 31/51 [00:00<00:00, 48.10it/s]\n",
      "Adding player speed, velocity, and acceleration in each frame:  76%|███████▋  | 39/51 [00:01<00:00, 54.74it/s]\n",
      "Adding player speed, velocity, and acceleration in each frame:  88%|████████▊ | 45/51 [00:01<00:00, 53.78it/s]\n",
      "Adding player speed, velocity, and acceleration in each frame: 100%|██████████| 51/51 [00:01<00:00, 27.04it/s]\n"
     ]
    },
    {
     "data": {
      "application/vnd.jupyter.widget-view+json": {
       "model_id": "ec8425f0611e4b19915882a817f4184d",
       "version_major": 2,
       "version_minor": 0
      },
      "text/plain": [
       "Loading frames from match 4604: 0 frames [00:00, ? frames/s]"
      ]
     },
     "metadata": {},
     "output_type": "display_data"
    },
    {
     "data": {
      "application/vnd.jupyter.widget-view+json": {
       "model_id": "5be644bd95574e10834f4e3b53020f73",
       "version_major": 2,
       "version_minor": 0
      },
      "text/plain": [
       "Validating frames:   0%|          | 0/176436 [00:00<?, ? frames/s]"
      ]
     },
     "metadata": {},
     "output_type": "display_data"
    },
    {
     "name": "stderr",
     "output_type": "stream",
     "text": [
      "\n",
      "Adding ball speed, velocity, and acceleration in each frame:   0%|          | 0/2 [00:00<?, ?it/s]\n",
      "Adding ball speed, velocity, and acceleration in each frame:  50%|█████     | 1/2 [00:00<00:00,  7.46it/s]\n",
      "Adding ball speed, velocity, and acceleration in each frame: 100%|██████████| 2/2 [00:01<00:00,  1.48it/s]\n",
      "\n",
      "Adding player speed, velocity, and acceleration in each frame:   0%|          | 0/54 [00:00<?, ?it/s]\n",
      "Adding player speed, velocity, and acceleration in each frame:   2%|▏         | 1/54 [00:00<00:17,  3.01it/s]\n",
      "Adding player speed, velocity, and acceleration in each frame:  13%|█▎        | 7/54 [00:00<00:02, 19.77it/s]\n",
      "Adding player speed, velocity, and acceleration in each frame:  22%|██▏       | 12/54 [00:00<00:01, 28.27it/s]\n",
      "Adding player speed, velocity, and acceleration in each frame:  33%|███▎      | 18/54 [00:00<00:00, 36.52it/s]\n",
      "Adding player speed, velocity, and acceleration in each frame:  43%|████▎     | 23/54 [00:00<00:00, 39.79it/s]\n",
      "Adding player speed, velocity, and acceleration in each frame:  59%|█████▉    | 32/54 [00:00<00:00, 52.70it/s]\n",
      "Adding player speed, velocity, and acceleration in each frame:  70%|███████   | 38/54 [00:00<00:00, 53.41it/s]\n",
      "Adding player speed, velocity, and acceleration in each frame:  85%|████████▌ | 46/54 [00:01<00:00, 59.10it/s]\n",
      "Adding player speed, velocity, and acceleration in each frame: 100%|██████████| 54/54 [00:01<00:00, 29.15it/s]\n"
     ]
    },
    {
     "data": {
      "application/vnd.jupyter.widget-view+json": {
       "model_id": "c3abd2309d3042119468ce9f90e7d0f1",
       "version_major": 2,
       "version_minor": 0
      },
      "text/plain": [
       "Loading frames from match 4605: 0 frames [00:00, ? frames/s]"
      ]
     },
     "metadata": {},
     "output_type": "display_data"
    },
    {
     "data": {
      "application/vnd.jupyter.widget-view+json": {
       "model_id": "aad45018f7f34358b71f727a4f6d5cdc",
       "version_major": 2,
       "version_minor": 0
      },
      "text/plain": [
       "Validating frames:   0%|          | 0/171095 [00:00<?, ? frames/s]"
      ]
     },
     "metadata": {},
     "output_type": "display_data"
    },
    {
     "name": "stderr",
     "output_type": "stream",
     "text": [
      "\n",
      "Adding ball speed, velocity, and acceleration in each frame:   0%|          | 0/2 [00:00<?, ?it/s]\n",
      "Adding ball speed, velocity, and acceleration in each frame:  50%|█████     | 1/2 [00:00<00:00,  7.73it/s]\n",
      "Adding ball speed, velocity, and acceleration in each frame: 100%|██████████| 2/2 [00:01<00:00,  1.44it/s]\n",
      "\n",
      "Adding player speed, velocity, and acceleration in each frame:   0%|          | 0/51 [00:00<?, ?it/s]\n",
      "Adding player speed, velocity, and acceleration in each frame:   2%|▏         | 1/51 [00:00<00:19,  2.63it/s]\n",
      "Adding player speed, velocity, and acceleration in each frame:  14%|█▎        | 7/51 [00:00<00:02, 17.70it/s]\n",
      "Adding player speed, velocity, and acceleration in each frame:  25%|██▌       | 13/51 [00:00<00:01, 27.97it/s]\n",
      "Adding player speed, velocity, and acceleration in each frame:  37%|███▋      | 19/51 [00:00<00:00, 35.28it/s]\n",
      "Adding player speed, velocity, and acceleration in each frame:  51%|█████     | 26/51 [00:00<00:00, 43.72it/s]\n",
      "Adding player speed, velocity, and acceleration in each frame:  63%|██████▎   | 32/51 [00:00<00:00, 47.16it/s]\n",
      "Adding player speed, velocity, and acceleration in each frame:  76%|███████▋  | 39/51 [00:01<00:00, 52.88it/s]\n",
      "Adding player speed, velocity, and acceleration in each frame: 100%|██████████| 51/51 [00:01<00:00, 27.29it/s]\n"
     ]
    },
    {
     "data": {
      "application/vnd.jupyter.widget-view+json": {
       "model_id": "3aa3a588398342f6864a999b57d91a75",
       "version_major": 2,
       "version_minor": 0
      },
      "text/plain": [
       "Loading frames from match 4606: 0 frames [00:00, ? frames/s]"
      ]
     },
     "metadata": {},
     "output_type": "display_data"
    },
    {
     "data": {
      "application/vnd.jupyter.widget-view+json": {
       "model_id": "099fc08cf6784f949a19ca070c5f66b1",
       "version_major": 2,
       "version_minor": 0
      },
      "text/plain": [
       "Validating frames:   0%|          | 0/173616 [00:00<?, ? frames/s]"
      ]
     },
     "metadata": {},
     "output_type": "display_data"
    },
    {
     "name": "stderr",
     "output_type": "stream",
     "text": [
      "\n",
      "Adding ball speed, velocity, and acceleration in each frame:   0%|          | 0/2 [00:00<?, ?it/s]\n",
      "Adding ball speed, velocity, and acceleration in each frame:  50%|█████     | 1/2 [00:00<00:00,  7.14it/s]\n",
      "Adding ball speed, velocity, and acceleration in each frame: 100%|██████████| 2/2 [00:01<00:00,  1.41it/s]\n",
      "\n",
      "Adding player speed, velocity, and acceleration in each frame:   0%|          | 0/51 [00:00<?, ?it/s]\n",
      "Adding player speed, velocity, and acceleration in each frame:   2%|▏         | 1/51 [00:00<00:18,  2.74it/s]\n",
      "Adding player speed, velocity, and acceleration in each frame:  12%|█▏        | 6/51 [00:00<00:02, 15.87it/s]\n",
      "Adding player speed, velocity, and acceleration in each frame:  22%|██▏       | 11/51 [00:00<00:01, 25.54it/s]\n",
      "Adding player speed, velocity, and acceleration in each frame:  33%|███▎      | 17/51 [00:00<00:00, 34.11it/s]\n",
      "Adding player speed, velocity, and acceleration in each frame:  47%|████▋     | 24/51 [00:00<00:00, 42.37it/s]\n",
      "Adding player speed, velocity, and acceleration in each frame:  59%|█████▉    | 30/51 [00:00<00:00, 46.20it/s]\n",
      "Adding player speed, velocity, and acceleration in each frame:  71%|███████   | 36/51 [00:01<00:00, 49.76it/s]\n",
      "Adding player speed, velocity, and acceleration in each frame:  82%|████████▏ | 42/51 [00:01<00:00, 50.60it/s]\n",
      "Adding player speed, velocity, and acceleration in each frame: 100%|██████████| 51/51 [00:01<00:00, 26.04it/s]\n"
     ]
    },
    {
     "data": {
      "application/vnd.jupyter.widget-view+json": {
       "model_id": "791ef5059c9b45fda9d2197378e1f20a",
       "version_major": 2,
       "version_minor": 0
      },
      "text/plain": [
       "Loading frames from match 4607: 0 frames [00:00, ? frames/s]"
      ]
     },
     "metadata": {},
     "output_type": "display_data"
    },
    {
     "data": {
      "application/vnd.jupyter.widget-view+json": {
       "model_id": "3202216206f4428f80ed9c8dc319b602",
       "version_major": 2,
       "version_minor": 0
      },
      "text/plain": [
       "Validating frames:   0%|          | 0/178576 [00:00<?, ? frames/s]"
      ]
     },
     "metadata": {},
     "output_type": "display_data"
    },
    {
     "name": "stderr",
     "output_type": "stream",
     "text": [
      "\n",
      "Adding ball speed, velocity, and acceleration in each frame:   0%|          | 0/2 [00:00<?, ?it/s]\n",
      "Adding ball speed, velocity, and acceleration in each frame:  50%|█████     | 1/2 [00:00<00:00,  7.59it/s]\n",
      "Adding ball speed, velocity, and acceleration in each frame: 100%|██████████| 2/2 [00:01<00:00,  1.40it/s]\n",
      "\n",
      "Adding player speed, velocity, and acceleration in each frame:   0%|          | 0/51 [00:00<?, ?it/s]\n",
      "Adding player speed, velocity, and acceleration in each frame:   2%|▏         | 1/51 [00:00<00:18,  2.70it/s]\n",
      "Adding player speed, velocity, and acceleration in each frame:  12%|█▏        | 6/51 [00:00<00:03, 14.87it/s]\n",
      "Adding player speed, velocity, and acceleration in each frame:  22%|██▏       | 11/51 [00:00<00:01, 24.39it/s]\n",
      "Adding player speed, velocity, and acceleration in each frame:  31%|███▏      | 16/51 [00:00<00:01, 31.31it/s]\n",
      "Adding player speed, velocity, and acceleration in each frame:  41%|████      | 21/51 [00:00<00:00, 36.46it/s]\n",
      "Adding player speed, velocity, and acceleration in each frame:  51%|█████     | 26/51 [00:00<00:00, 39.77it/s]\n",
      "Adding player speed, velocity, and acceleration in each frame:  63%|██████▎   | 32/51 [00:01<00:00, 43.86it/s]\n",
      "Adding player speed, velocity, and acceleration in each frame:  76%|███████▋  | 39/51 [00:01<00:00, 50.04it/s]\n",
      "Adding player speed, velocity, and acceleration in each frame: 100%|██████████| 51/51 [00:02<00:00, 25.35it/s]\n"
     ]
    },
    {
     "data": {
      "application/vnd.jupyter.widget-view+json": {
       "model_id": "22c2e87b8f244c4f9d25f292c0a50917",
       "version_major": 2,
       "version_minor": 0
      },
      "text/plain": [
       "Loading frames from match 4608: 0 frames [00:00, ? frames/s]"
      ]
     },
     "metadata": {},
     "output_type": "display_data"
    },
    {
     "data": {
      "application/vnd.jupyter.widget-view+json": {
       "model_id": "524cdb1fc7854827a8d2261c95d05b46",
       "version_major": 2,
       "version_minor": 0
      },
      "text/plain": [
       "Validating frames:   0%|          | 0/180545 [00:00<?, ? frames/s]"
      ]
     },
     "metadata": {},
     "output_type": "display_data"
    },
    {
     "name": "stderr",
     "output_type": "stream",
     "text": [
      "\n",
      "Adding ball speed, velocity, and acceleration in each frame:   0%|          | 0/2 [00:00<?, ?it/s]\n",
      "Adding ball speed, velocity, and acceleration in each frame:  50%|█████     | 1/2 [00:00<00:00,  8.21it/s]\n",
      "Adding ball speed, velocity, and acceleration in each frame: 100%|██████████| 2/2 [00:01<00:00,  1.53it/s]\n",
      "\n",
      "Adding player speed, velocity, and acceleration in each frame:   0%|          | 0/52 [00:00<?, ?it/s]\n",
      "Adding player speed, velocity, and acceleration in each frame:   2%|▏         | 1/52 [00:00<00:19,  2.60it/s]\n",
      "Adding player speed, velocity, and acceleration in each frame:  12%|█▏        | 6/52 [00:00<00:03, 15.17it/s]\n",
      "Adding player speed, velocity, and acceleration in each frame:  21%|██        | 11/52 [00:00<00:01, 24.17it/s]\n",
      "Adding player speed, velocity, and acceleration in each frame:  31%|███       | 16/52 [00:00<00:01, 30.93it/s]\n",
      "Adding player speed, velocity, and acceleration in each frame:  40%|████      | 21/52 [00:00<00:00, 35.84it/s]\n",
      "Adding player speed, velocity, and acceleration in each frame:  52%|█████▏    | 27/52 [00:00<00:00, 41.86it/s]\n",
      "Adding player speed, velocity, and acceleration in each frame:  67%|██████▋   | 35/52 [00:01<00:00, 52.56it/s]\n",
      "Adding player speed, velocity, and acceleration in each frame:  83%|████████▎ | 43/52 [00:01<00:00, 60.43it/s]\n",
      "Adding player speed, velocity, and acceleration in each frame: 100%|██████████| 52/52 [00:01<00:00, 26.46it/s]\n"
     ]
    },
    {
     "data": {
      "application/vnd.jupyter.widget-view+json": {
       "model_id": "ece991ec2e154d9f8a112d273c63c830",
       "version_major": 2,
       "version_minor": 0
      },
      "text/plain": [
       "Loading frames from match 4609: 0 frames [00:00, ? frames/s]"
      ]
     },
     "metadata": {},
     "output_type": "display_data"
    },
    {
     "data": {
      "application/vnd.jupyter.widget-view+json": {
       "model_id": "5742214441e54b90852bfdb56d83bbb0",
       "version_major": 2,
       "version_minor": 0
      },
      "text/plain": [
       "Validating frames:   0%|          | 0/175477 [00:00<?, ? frames/s]"
      ]
     },
     "metadata": {},
     "output_type": "display_data"
    },
    {
     "name": "stderr",
     "output_type": "stream",
     "text": [
      "\n",
      "Adding ball speed, velocity, and acceleration in each frame:   0%|          | 0/2 [00:00<?, ?it/s]\n",
      "Adding ball speed, velocity, and acceleration in each frame:  50%|█████     | 1/2 [00:00<00:00,  7.37it/s]\n",
      "Adding ball speed, velocity, and acceleration in each frame: 100%|██████████| 2/2 [00:01<00:00,  1.47it/s]\n",
      "\n",
      "Adding player speed, velocity, and acceleration in each frame:   0%|          | 0/51 [00:00<?, ?it/s]\n",
      "Adding player speed, velocity, and acceleration in each frame:   2%|▏         | 1/51 [00:00<00:17,  2.90it/s]\n",
      "Adding player speed, velocity, and acceleration in each frame:  14%|█▎        | 7/51 [00:00<00:02, 19.16it/s]\n",
      "Adding player speed, velocity, and acceleration in each frame:  25%|██▌       | 13/51 [00:00<00:01, 30.29it/s]\n",
      "Adding player speed, velocity, and acceleration in each frame:  35%|███▌      | 18/51 [00:00<00:00, 35.07it/s]\n",
      "Adding player speed, velocity, and acceleration in each frame:  47%|████▋     | 24/51 [00:00<00:00, 42.18it/s]\n",
      "Adding player speed, velocity, and acceleration in each frame:  59%|█████▉    | 30/51 [00:00<00:00, 44.29it/s]\n",
      "Adding player speed, velocity, and acceleration in each frame:  73%|███████▎  | 37/51 [00:01<00:00, 50.37it/s]\n",
      "Adding player speed, velocity, and acceleration in each frame:  84%|████████▍ | 43/51 [00:01<00:00, 52.30it/s]\n",
      "Adding player speed, velocity, and acceleration in each frame: 100%|██████████| 51/51 [00:01<00:00, 27.69it/s]\n"
     ]
    },
    {
     "data": {
      "application/vnd.jupyter.widget-view+json": {
       "model_id": "0772e1b0b7cd4c3f8fb4cc082c8ab8be",
       "version_major": 2,
       "version_minor": 0
      },
      "text/plain": [
       "Loading frames from match 4610: 0 frames [00:00, ? frames/s]"
      ]
     },
     "metadata": {},
     "output_type": "display_data"
    },
    {
     "data": {
      "application/vnd.jupyter.widget-view+json": {
       "model_id": "d4079aed58e7490b92cd770cb8c81d6e",
       "version_major": 2,
       "version_minor": 0
      },
      "text/plain": [
       "Validating frames:   0%|          | 0/189116 [00:00<?, ? frames/s]"
      ]
     },
     "metadata": {},
     "output_type": "display_data"
    },
    {
     "name": "stderr",
     "output_type": "stream",
     "text": [
      "\n",
      "Adding ball speed, velocity, and acceleration in each frame:   0%|          | 0/2 [00:00<?, ?it/s]\n",
      "Adding ball speed, velocity, and acceleration in each frame:  50%|█████     | 1/2 [00:00<00:00,  7.01it/s]\n",
      "Adding ball speed, velocity, and acceleration in each frame: 100%|██████████| 2/2 [00:01<00:00,  1.49it/s]\n",
      "\n",
      "Adding player speed, velocity, and acceleration in each frame:   0%|          | 0/51 [00:00<?, ?it/s]\n",
      "Adding player speed, velocity, and acceleration in each frame:   2%|▏         | 1/51 [00:00<00:17,  2.86it/s]\n",
      "Adding player speed, velocity, and acceleration in each frame:  14%|█▎        | 7/51 [00:00<00:02, 18.95it/s]\n",
      "Adding player speed, velocity, and acceleration in each frame:  25%|██▌       | 13/51 [00:00<00:01, 30.25it/s]\n",
      "Adding player speed, velocity, and acceleration in each frame:  37%|███▋      | 19/51 [00:00<00:00, 37.85it/s]\n",
      "Adding player speed, velocity, and acceleration in each frame:  51%|█████     | 26/51 [00:00<00:00, 44.98it/s]\n",
      "Adding player speed, velocity, and acceleration in each frame:  65%|██████▍   | 33/51 [00:00<00:00, 50.82it/s]\n",
      "Adding player speed, velocity, and acceleration in each frame:  76%|███████▋  | 39/51 [00:00<00:00, 53.34it/s]\n",
      "Adding player speed, velocity, and acceleration in each frame: 100%|██████████| 51/51 [00:01<00:00, 27.73it/s]\n"
     ]
    },
    {
     "data": {
      "application/vnd.jupyter.widget-view+json": {
       "model_id": "652b98de8ec8429282e10aed427f5e5d",
       "version_major": 2,
       "version_minor": 0
      },
      "text/plain": [
       "Loading frames from match 4611: 0 frames [00:00, ? frames/s]"
      ]
     },
     "metadata": {},
     "output_type": "display_data"
    },
    {
     "data": {
      "application/vnd.jupyter.widget-view+json": {
       "model_id": "3e77948273424ebf8426d4bd18311c19",
       "version_major": 2,
       "version_minor": 0
      },
      "text/plain": [
       "Validating frames:   0%|          | 0/176891 [00:00<?, ? frames/s]"
      ]
     },
     "metadata": {},
     "output_type": "display_data"
    },
    {
     "name": "stderr",
     "output_type": "stream",
     "text": [
      "\n",
      "Adding ball speed, velocity, and acceleration in each frame:   0%|          | 0/2 [00:00<?, ?it/s]\n",
      "Adding ball speed, velocity, and acceleration in each frame:  50%|█████     | 1/2 [00:00<00:00,  8.06it/s]\n",
      "Adding ball speed, velocity, and acceleration in each frame: 100%|██████████| 2/2 [00:01<00:00,  1.56it/s]\n",
      "\n",
      "Adding player speed, velocity, and acceleration in each frame:   0%|          | 0/51 [00:00<?, ?it/s]\n",
      "Adding player speed, velocity, and acceleration in each frame:   2%|▏         | 1/51 [00:00<00:14,  3.34it/s]\n",
      "Adding player speed, velocity, and acceleration in each frame:  14%|█▎        | 7/51 [00:00<00:02, 21.03it/s]\n",
      "Adding player speed, velocity, and acceleration in each frame:  24%|██▎       | 12/51 [00:00<00:01, 29.90it/s]\n",
      "Adding player speed, velocity, and acceleration in each frame:  33%|███▎      | 17/51 [00:00<00:00, 35.82it/s]\n",
      "Adding player speed, velocity, and acceleration in each frame:  47%|████▋     | 24/51 [00:00<00:00, 44.32it/s]\n",
      "Adding player speed, velocity, and acceleration in each frame:  59%|█████▉    | 30/51 [00:00<00:00, 47.69it/s]\n",
      "Adding player speed, velocity, and acceleration in each frame:  75%|███████▍  | 38/51 [00:00<00:00, 55.78it/s]\n",
      "Adding player speed, velocity, and acceleration in each frame: 100%|██████████| 51/51 [00:01<00:00, 29.38it/s]\n"
     ]
    },
    {
     "data": {
      "application/vnd.jupyter.widget-view+json": {
       "model_id": "173b60e0e7074faa8f4a8de4fa6d8277",
       "version_major": 2,
       "version_minor": 0
      },
      "text/plain": [
       "Loading frames from match 4612: 0 frames [00:00, ? frames/s]"
      ]
     },
     "metadata": {},
     "output_type": "display_data"
    },
    {
     "data": {
      "application/vnd.jupyter.widget-view+json": {
       "model_id": "e1b1f0a3b636405eb735a92c97f8ac33",
       "version_major": 2,
       "version_minor": 0
      },
      "text/plain": [
       "Validating frames:   0%|          | 0/169702 [00:00<?, ? frames/s]"
      ]
     },
     "metadata": {},
     "output_type": "display_data"
    },
    {
     "name": "stderr",
     "output_type": "stream",
     "text": [
      "\n",
      "Adding ball speed, velocity, and acceleration in each frame:   0%|          | 0/2 [00:00<?, ?it/s]\n",
      "Adding ball speed, velocity, and acceleration in each frame:  50%|█████     | 1/2 [00:00<00:00,  8.10it/s]\n",
      "Adding ball speed, velocity, and acceleration in each frame: 100%|██████████| 2/2 [00:01<00:00,  1.47it/s]\n",
      "\n",
      "Adding player speed, velocity, and acceleration in each frame:   0%|          | 0/52 [00:00<?, ?it/s]\n",
      "Adding player speed, velocity, and acceleration in each frame:   2%|▏         | 1/52 [00:00<00:19,  2.58it/s]\n",
      "Adding player speed, velocity, and acceleration in each frame:  13%|█▎        | 7/52 [00:00<00:02, 17.30it/s]\n",
      "Adding player speed, velocity, and acceleration in each frame:  23%|██▎       | 12/52 [00:00<00:01, 25.94it/s]\n",
      "Adding player speed, velocity, and acceleration in each frame:  33%|███▎      | 17/52 [00:00<00:01, 32.37it/s]\n",
      "Adding player speed, velocity, and acceleration in each frame:  42%|████▏     | 22/52 [00:00<00:00, 36.56it/s]\n",
      "Adding player speed, velocity, and acceleration in each frame:  54%|█████▍    | 28/52 [00:00<00:00, 43.08it/s]\n",
      "Adding player speed, velocity, and acceleration in each frame:  67%|██████▋   | 35/52 [00:01<00:00, 50.78it/s]\n",
      "Adding player speed, velocity, and acceleration in each frame:  79%|███████▉  | 41/52 [00:01<00:00, 53.19it/s]\n",
      "Adding player speed, velocity, and acceleration in each frame: 100%|██████████| 52/52 [00:01<00:00, 26.14it/s]\n"
     ]
    },
    {
     "data": {
      "application/vnd.jupyter.widget-view+json": {
       "model_id": "a925e2c5fb1b4f3ca2e0203fbcd105ec",
       "version_major": 2,
       "version_minor": 0
      },
      "text/plain": [
       "Loading frames from match 4613: 0 frames [00:00, ? frames/s]"
      ]
     },
     "metadata": {},
     "output_type": "display_data"
    },
    {
     "data": {
      "application/vnd.jupyter.widget-view+json": {
       "model_id": "b0eb5d3200a540089128ac20f2a6c909",
       "version_major": 2,
       "version_minor": 0
      },
      "text/plain": [
       "Validating frames:   0%|          | 0/178382 [00:00<?, ? frames/s]"
      ]
     },
     "metadata": {},
     "output_type": "display_data"
    },
    {
     "name": "stderr",
     "output_type": "stream",
     "text": [
      "\n",
      "Adding ball speed, velocity, and acceleration in each frame:   0%|          | 0/2 [00:00<?, ?it/s]\n",
      "Adding ball speed, velocity, and acceleration in each frame:  50%|█████     | 1/2 [00:00<00:00,  7.16it/s]\n",
      "Adding ball speed, velocity, and acceleration in each frame: 100%|██████████| 2/2 [00:01<00:00,  1.37it/s]\n",
      "\n",
      "Adding player speed, velocity, and acceleration in each frame:   0%|          | 0/54 [00:00<?, ?it/s]\n",
      "Adding player speed, velocity, and acceleration in each frame:   2%|▏         | 1/54 [00:00<00:20,  2.55it/s]\n",
      "Adding player speed, velocity, and acceleration in each frame:   9%|▉         | 5/54 [00:00<00:04, 12.12it/s]\n",
      "Adding player speed, velocity, and acceleration in each frame:  17%|█▋        | 9/54 [00:00<00:02, 18.73it/s]\n",
      "Adding player speed, velocity, and acceleration in each frame:  24%|██▍       | 13/54 [00:00<00:01, 23.01it/s]\n",
      "Adding player speed, velocity, and acceleration in each frame:  33%|███▎      | 18/54 [00:00<00:01, 27.70it/s]\n",
      "Adding player speed, velocity, and acceleration in each frame:  41%|████      | 22/54 [00:00<00:01, 29.97it/s]\n",
      "Adding player speed, velocity, and acceleration in each frame:  50%|█████     | 27/54 [00:01<00:00, 34.81it/s]\n",
      "Adding player speed, velocity, and acceleration in each frame:  61%|██████    | 33/54 [00:01<00:00, 41.57it/s]\n",
      "Adding player speed, velocity, and acceleration in each frame:  72%|███████▏  | 39/54 [00:01<00:00, 44.95it/s]\n",
      "Adding player speed, velocity, and acceleration in each frame:  83%|████████▎ | 45/54 [00:01<00:00, 46.24it/s]\n",
      "Adding player speed, velocity, and acceleration in each frame: 100%|██████████| 54/54 [00:02<00:00, 23.13it/s]\n"
     ]
    },
    {
     "data": {
      "application/vnd.jupyter.widget-view+json": {
       "model_id": "39c4f3b2ac8e454dbe623ec58826986b",
       "version_major": 2,
       "version_minor": 0
      },
      "text/plain": [
       "Loading frames from match 4614: 0 frames [00:00, ? frames/s]"
      ]
     },
     "metadata": {},
     "output_type": "display_data"
    },
    {
     "data": {
      "application/vnd.jupyter.widget-view+json": {
       "model_id": "aa3948b441b34ca5bfdc7684ad2b4b99",
       "version_major": 2,
       "version_minor": 0
      },
      "text/plain": [
       "Validating frames:   0%|          | 0/182387 [00:00<?, ? frames/s]"
      ]
     },
     "metadata": {},
     "output_type": "display_data"
    },
    {
     "name": "stderr",
     "output_type": "stream",
     "text": [
      "\n",
      "Adding ball speed, velocity, and acceleration in each frame:   0%|          | 0/2 [00:00<?, ?it/s]\n",
      "Adding ball speed, velocity, and acceleration in each frame:  50%|█████     | 1/2 [00:00<00:00,  6.68it/s]\n",
      "Adding ball speed, velocity, and acceleration in each frame: 100%|██████████| 2/2 [00:01<00:00,  1.35it/s]\n",
      "\n",
      "Adding player speed, velocity, and acceleration in each frame:   0%|          | 0/50 [00:00<?, ?it/s]\n",
      "Adding player speed, velocity, and acceleration in each frame:   2%|▏         | 1/50 [00:00<00:19,  2.57it/s]\n",
      "Adding player speed, velocity, and acceleration in each frame:  12%|█▏        | 6/50 [00:00<00:02, 15.01it/s]\n",
      "Adding player speed, velocity, and acceleration in each frame:  22%|██▏       | 11/50 [00:00<00:01, 24.13it/s]\n",
      "Adding player speed, velocity, and acceleration in each frame:  32%|███▏      | 16/50 [00:00<00:01, 30.61it/s]\n",
      "Adding player speed, velocity, and acceleration in each frame:  44%|████▍     | 22/50 [00:00<00:00, 35.58it/s]\n",
      "Adding player speed, velocity, and acceleration in each frame:  54%|█████▍    | 27/50 [00:00<00:00, 37.78it/s]\n",
      "Adding player speed, velocity, and acceleration in each frame:  68%|██████▊   | 34/50 [00:01<00:00, 43.45it/s]\n",
      "Adding player speed, velocity, and acceleration in each frame:  82%|████████▏ | 41/50 [00:01<00:00, 48.00it/s]\n",
      "Adding player speed, velocity, and acceleration in each frame: 100%|██████████| 50/50 [00:02<00:00, 24.23it/s]\n"
     ]
    },
    {
     "data": {
      "application/vnd.jupyter.widget-view+json": {
       "model_id": "7f144262ca0d42b9ac4f21bc7aee9142",
       "version_major": 2,
       "version_minor": 0
      },
      "text/plain": [
       "Loading frames from match 4615: 0 frames [00:00, ? frames/s]"
      ]
     },
     "metadata": {},
     "output_type": "display_data"
    },
    {
     "data": {
      "application/vnd.jupyter.widget-view+json": {
       "model_id": "3ffdf8b0e02d419bb4e9fce2b018e5e1",
       "version_major": 2,
       "version_minor": 0
      },
      "text/plain": [
       "Validating frames:   0%|          | 0/173340 [00:00<?, ? frames/s]"
      ]
     },
     "metadata": {},
     "output_type": "display_data"
    },
    {
     "name": "stderr",
     "output_type": "stream",
     "text": [
      "\n",
      "Adding ball speed, velocity, and acceleration in each frame:   0%|          | 0/2 [00:00<?, ?it/s]\n",
      "Adding ball speed, velocity, and acceleration in each frame:  50%|█████     | 1/2 [00:00<00:00,  7.85it/s]\n",
      "Adding ball speed, velocity, and acceleration in each frame: 100%|██████████| 2/2 [00:01<00:00,  1.48it/s]\n",
      "\n",
      "Adding player speed, velocity, and acceleration in each frame:   0%|          | 0/52 [00:00<?, ?it/s]\n",
      "Adding player speed, velocity, and acceleration in each frame:   2%|▏         | 1/52 [00:00<00:18,  2.78it/s]\n",
      "Adding player speed, velocity, and acceleration in each frame:  10%|▉         | 5/52 [00:00<00:03, 13.08it/s]\n",
      "Adding player speed, velocity, and acceleration in each frame:  19%|█▉        | 10/52 [00:00<00:01, 23.02it/s]\n",
      "Adding player speed, velocity, and acceleration in each frame:  29%|██▉       | 15/52 [00:00<00:01, 29.66it/s]\n",
      "Adding player speed, velocity, and acceleration in each frame:  38%|███▊      | 20/52 [00:00<00:00, 34.70it/s]\n",
      "Adding player speed, velocity, and acceleration in each frame:  50%|█████     | 26/52 [00:00<00:00, 41.37it/s]\n",
      "Adding player speed, velocity, and acceleration in each frame:  62%|██████▏   | 32/52 [00:01<00:00, 46.23it/s]\n",
      "Adding player speed, velocity, and acceleration in each frame:  75%|███████▌  | 39/52 [00:01<00:00, 52.09it/s]\n",
      "Adding player speed, velocity, and acceleration in each frame: 100%|██████████| 52/52 [00:01<00:00, 26.13it/s]\n"
     ]
    },
    {
     "data": {
      "application/vnd.jupyter.widget-view+json": {
       "model_id": "3df9ff501039439cbd4d201f60039172",
       "version_major": 2,
       "version_minor": 0
      },
      "text/plain": [
       "Loading frames from match 4616: 0 frames [00:00, ? frames/s]"
      ]
     },
     "metadata": {},
     "output_type": "display_data"
    },
    {
     "data": {
      "application/vnd.jupyter.widget-view+json": {
       "model_id": "0ca693b3036b4eb28b1532cf1ad4dcb1",
       "version_major": 2,
       "version_minor": 0
      },
      "text/plain": [
       "Validating frames:   0%|          | 0/177930 [00:00<?, ? frames/s]"
      ]
     },
     "metadata": {},
     "output_type": "display_data"
    },
    {
     "name": "stderr",
     "output_type": "stream",
     "text": [
      "\n",
      "Adding ball speed, velocity, and acceleration in each frame:   0%|          | 0/2 [00:00<?, ?it/s]\n",
      "Adding ball speed, velocity, and acceleration in each frame:  50%|█████     | 1/2 [00:00<00:00,  8.42it/s]\n",
      "Adding ball speed, velocity, and acceleration in each frame: 100%|██████████| 2/2 [00:01<00:00,  1.46it/s]\n",
      "\n",
      "Adding player speed, velocity, and acceleration in each frame:   0%|          | 0/48 [00:00<?, ?it/s]\n",
      "Adding player speed, velocity, and acceleration in each frame:   2%|▏         | 1/48 [00:00<00:16,  2.78it/s]\n",
      "Adding player speed, velocity, and acceleration in each frame:  15%|█▍        | 7/48 [00:00<00:02, 18.17it/s]\n",
      "Adding player speed, velocity, and acceleration in each frame:  27%|██▋       | 13/48 [00:00<00:01, 29.03it/s]\n",
      "Adding player speed, velocity, and acceleration in each frame:  40%|███▉      | 19/48 [00:00<00:00, 36.85it/s]\n",
      "Adding player speed, velocity, and acceleration in each frame:  52%|█████▏    | 25/48 [00:00<00:00, 42.66it/s]\n",
      "Adding player speed, velocity, and acceleration in each frame:  67%|██████▋   | 32/48 [00:00<00:00, 49.86it/s]\n",
      "Adding player speed, velocity, and acceleration in each frame:  81%|████████▏ | 39/48 [00:01<00:00, 53.92it/s]\n",
      "Adding player speed, velocity, and acceleration in each frame: 100%|██████████| 48/48 [00:01<00:00, 26.06it/s]\n"
     ]
    },
    {
     "data": {
      "application/vnd.jupyter.widget-view+json": {
       "model_id": "e9e96a98cd864c35a01e7582bf1f0256",
       "version_major": 2,
       "version_minor": 0
      },
      "text/plain": [
       "Loading frames from match 4617: 0 frames [00:00, ? frames/s]"
      ]
     },
     "metadata": {},
     "output_type": "display_data"
    },
    {
     "data": {
      "application/vnd.jupyter.widget-view+json": {
       "model_id": "8bd573e7fb934fae836a83062d0ac8e7",
       "version_major": 2,
       "version_minor": 0
      },
      "text/plain": [
       "Validating frames:   0%|          | 0/172670 [00:00<?, ? frames/s]"
      ]
     },
     "metadata": {},
     "output_type": "display_data"
    },
    {
     "name": "stderr",
     "output_type": "stream",
     "text": [
      "\n",
      "Adding ball speed, velocity, and acceleration in each frame:   0%|          | 0/2 [00:00<?, ?it/s]\n",
      "Adding ball speed, velocity, and acceleration in each frame:  50%|█████     | 1/2 [00:00<00:00,  7.67it/s]\n",
      "Adding ball speed, velocity, and acceleration in each frame: 100%|██████████| 2/2 [00:01<00:00,  1.37it/s]\n",
      "\n",
      "Adding player speed, velocity, and acceleration in each frame:   0%|          | 0/51 [00:00<?, ?it/s]\n",
      "Adding player speed, velocity, and acceleration in each frame:   2%|▏         | 1/51 [00:00<00:18,  2.68it/s]\n",
      "Adding player speed, velocity, and acceleration in each frame:  14%|█▎        | 7/51 [00:00<00:02, 17.66it/s]\n",
      "Adding player speed, velocity, and acceleration in each frame:  25%|██▌       | 13/51 [00:00<00:01, 27.97it/s]\n",
      "Adding player speed, velocity, and acceleration in each frame:  37%|███▋      | 19/51 [00:00<00:00, 35.20it/s]\n",
      "Adding player speed, velocity, and acceleration in each frame:  49%|████▉     | 25/51 [00:00<00:00, 40.23it/s]\n",
      "Adding player speed, velocity, and acceleration in each frame:  61%|██████    | 31/51 [00:00<00:00, 43.74it/s]\n",
      "Adding player speed, velocity, and acceleration in each frame:  73%|███████▎  | 37/51 [00:01<00:00, 46.07it/s]\n",
      "Adding player speed, velocity, and acceleration in each frame:  84%|████████▍ | 43/51 [00:01<00:00, 49.03it/s]\n",
      "Adding player speed, velocity, and acceleration in each frame: 100%|██████████| 51/51 [00:02<00:00, 25.27it/s]\n"
     ]
    },
    {
     "data": {
      "application/vnd.jupyter.widget-view+json": {
       "model_id": "f172a8fcbac44562b347097be806b633",
       "version_major": 2,
       "version_minor": 0
      },
      "text/plain": [
       "Loading frames from match 4618: 0 frames [00:00, ? frames/s]"
      ]
     },
     "metadata": {},
     "output_type": "display_data"
    },
    {
     "data": {
      "application/vnd.jupyter.widget-view+json": {
       "model_id": "c0e064d60621472cae37422b7a3c6c80",
       "version_major": 2,
       "version_minor": 0
      },
      "text/plain": [
       "Validating frames:   0%|          | 0/180002 [00:00<?, ? frames/s]"
      ]
     },
     "metadata": {},
     "output_type": "display_data"
    },
    {
     "name": "stderr",
     "output_type": "stream",
     "text": [
      "\n",
      "Adding ball speed, velocity, and acceleration in each frame:   0%|          | 0/2 [00:00<?, ?it/s]\n",
      "Adding ball speed, velocity, and acceleration in each frame:  50%|█████     | 1/2 [00:00<00:00,  7.45it/s]\n",
      "Adding ball speed, velocity, and acceleration in each frame: 100%|██████████| 2/2 [00:01<00:00,  1.35it/s]\n",
      "\n",
      "Adding player speed, velocity, and acceleration in each frame:   0%|          | 0/50 [00:00<?, ?it/s]\n",
      "Adding player speed, velocity, and acceleration in each frame:   2%|▏         | 1/50 [00:00<00:18,  2.65it/s]\n",
      "Adding player speed, velocity, and acceleration in each frame:  12%|█▏        | 6/50 [00:00<00:02, 15.46it/s]\n",
      "Adding player speed, velocity, and acceleration in each frame:  22%|██▏       | 11/50 [00:00<00:01, 24.78it/s]\n",
      "Adding player speed, velocity, and acceleration in each frame:  32%|███▏      | 16/50 [00:00<00:01, 31.79it/s]\n",
      "Adding player speed, velocity, and acceleration in each frame:  42%|████▏     | 21/50 [00:00<00:00, 36.52it/s]\n",
      "Adding player speed, velocity, and acceleration in each frame:  52%|█████▏    | 26/50 [00:00<00:00, 39.14it/s]\n",
      "Adding player speed, velocity, and acceleration in each frame:  64%|██████▍   | 32/50 [00:01<00:00, 42.33it/s]\n",
      "Adding player speed, velocity, and acceleration in each frame:  74%|███████▍  | 37/50 [00:01<00:00, 44.05it/s]\n",
      "Adding player speed, velocity, and acceleration in each frame:  86%|████████▌ | 43/50 [00:01<00:00, 47.58it/s]\n",
      "Adding player speed, velocity, and acceleration in each frame: 100%|██████████| 50/50 [00:02<00:00, 24.19it/s]\n"
     ]
    },
    {
     "data": {
      "application/vnd.jupyter.widget-view+json": {
       "model_id": "1345b44d148a478ca067b622c1b013e4",
       "version_major": 2,
       "version_minor": 0
      },
      "text/plain": [
       "Loading frames from match 4619: 0 frames [00:00, ? frames/s]"
      ]
     },
     "metadata": {},
     "output_type": "display_data"
    },
    {
     "data": {
      "application/vnd.jupyter.widget-view+json": {
       "model_id": "9dfa5fc9292149a1a88eeff1e7bf81d4",
       "version_major": 2,
       "version_minor": 0
      },
      "text/plain": [
       "Validating frames:   0%|          | 0/172551 [00:00<?, ? frames/s]"
      ]
     },
     "metadata": {},
     "output_type": "display_data"
    },
    {
     "name": "stderr",
     "output_type": "stream",
     "text": [
      "\n",
      "Adding ball speed, velocity, and acceleration in each frame:   0%|          | 0/2 [00:00<?, ?it/s]\n",
      "Adding ball speed, velocity, and acceleration in each frame:  50%|█████     | 1/2 [00:00<00:00,  6.18it/s]\n",
      "Adding ball speed, velocity, and acceleration in each frame: 100%|██████████| 2/2 [00:01<00:00,  1.37it/s]\n",
      "\n",
      "Adding player speed, velocity, and acceleration in each frame:   0%|          | 0/52 [00:00<?, ?it/s]\n",
      "Adding player speed, velocity, and acceleration in each frame:   2%|▏         | 1/52 [00:00<00:20,  2.49it/s]\n",
      "Adding player speed, velocity, and acceleration in each frame:  13%|█▎        | 7/52 [00:00<00:02, 17.32it/s]\n",
      "Adding player speed, velocity, and acceleration in each frame:  23%|██▎       | 12/52 [00:00<00:01, 25.55it/s]\n",
      "Adding player speed, velocity, and acceleration in each frame:  37%|███▋      | 19/52 [00:00<00:00, 36.16it/s]\n",
      "Adding player speed, velocity, and acceleration in each frame:  48%|████▊     | 25/52 [00:00<00:00, 41.50it/s]\n",
      "Adding player speed, velocity, and acceleration in each frame:  62%|██████▏   | 32/52 [00:00<00:00, 47.96it/s]\n",
      "Adding player speed, velocity, and acceleration in each frame:  75%|███████▌  | 39/52 [00:01<00:00, 52.72it/s]\n",
      "Adding player speed, velocity, and acceleration in each frame:  87%|████████▋ | 45/52 [00:01<00:00, 53.42it/s]\n",
      "Adding player speed, velocity, and acceleration in each frame: 100%|██████████| 52/52 [00:01<00:00, 26.88it/s]\n"
     ]
    },
    {
     "data": {
      "application/vnd.jupyter.widget-view+json": {
       "model_id": "8043ee5ecd4344e1b8764fa8c3be73dd",
       "version_major": 2,
       "version_minor": 0
      },
      "text/plain": [
       "Loading frames from match 4620: 0 frames [00:00, ? frames/s]"
      ]
     },
     "metadata": {},
     "output_type": "display_data"
    },
    {
     "data": {
      "application/vnd.jupyter.widget-view+json": {
       "model_id": "4563bcb4822e4129ab237c2a20516b0f",
       "version_major": 2,
       "version_minor": 0
      },
      "text/plain": [
       "Validating frames:   0%|          | 0/169964 [00:00<?, ? frames/s]"
      ]
     },
     "metadata": {},
     "output_type": "display_data"
    },
    {
     "name": "stderr",
     "output_type": "stream",
     "text": [
      "\n",
      "Adding ball speed, velocity, and acceleration in each frame:   0%|          | 0/2 [00:00<?, ?it/s]\n",
      "Adding ball speed, velocity, and acceleration in each frame:  50%|█████     | 1/2 [00:00<00:00,  7.73it/s]\n",
      "Adding ball speed, velocity, and acceleration in each frame: 100%|██████████| 2/2 [00:01<00:00,  1.44it/s]\n",
      "\n",
      "Adding player speed, velocity, and acceleration in each frame:   0%|          | 0/52 [00:00<?, ?it/s]\n",
      "Adding player speed, velocity, and acceleration in each frame:   2%|▏         | 1/52 [00:00<00:18,  2.76it/s]\n",
      "Adding player speed, velocity, and acceleration in each frame:  12%|█▏        | 6/52 [00:00<00:02, 15.74it/s]\n",
      "Adding player speed, velocity, and acceleration in each frame:  21%|██        | 11/52 [00:00<00:01, 24.46it/s]\n",
      "Adding player speed, velocity, and acceleration in each frame:  31%|███       | 16/52 [00:00<00:01, 31.16it/s]\n",
      "Adding player speed, velocity, and acceleration in each frame:  40%|████      | 21/52 [00:00<00:00, 36.16it/s]\n",
      "Adding player speed, velocity, and acceleration in each frame:  52%|█████▏    | 27/52 [00:00<00:00, 41.33it/s]\n",
      "Adding player speed, velocity, and acceleration in each frame:  65%|██████▌   | 34/52 [00:01<00:00, 47.96it/s]\n",
      "Adding player speed, velocity, and acceleration in each frame:  83%|████████▎ | 43/52 [00:01<00:00, 56.86it/s]\n",
      "Adding player speed, velocity, and acceleration in each frame: 100%|██████████| 52/52 [00:01<00:00, 27.33it/s]\n"
     ]
    },
    {
     "data": {
      "application/vnd.jupyter.widget-view+json": {
       "model_id": "e227a6057d32451393d6c795cd1569a9",
       "version_major": 2,
       "version_minor": 0
      },
      "text/plain": [
       "Loading frames from match 4621: 0 frames [00:00, ? frames/s]"
      ]
     },
     "metadata": {},
     "output_type": "display_data"
    },
    {
     "data": {
      "application/vnd.jupyter.widget-view+json": {
       "model_id": "cb6e97b49304462fa8b368435e9ee49d",
       "version_major": 2,
       "version_minor": 0
      },
      "text/plain": [
       "Validating frames:   0%|          | 0/171701 [00:00<?, ? frames/s]"
      ]
     },
     "metadata": {},
     "output_type": "display_data"
    },
    {
     "name": "stderr",
     "output_type": "stream",
     "text": [
      "\n",
      "Adding ball speed, velocity, and acceleration in each frame:   0%|          | 0/2 [00:00<?, ?it/s]\n",
      "Adding ball speed, velocity, and acceleration in each frame:  50%|█████     | 1/2 [00:00<00:00,  7.28it/s]\n",
      "Adding ball speed, velocity, and acceleration in each frame: 100%|██████████| 2/2 [00:01<00:00,  1.44it/s]\n",
      "\n",
      "Adding player speed, velocity, and acceleration in each frame:   0%|          | 0/54 [00:00<?, ?it/s]\n",
      "Adding player speed, velocity, and acceleration in each frame:   2%|▏         | 1/54 [00:00<00:19,  2.72it/s]\n",
      "Adding player speed, velocity, and acceleration in each frame:  13%|█▎        | 7/54 [00:00<00:02, 17.96it/s]\n",
      "Adding player speed, velocity, and acceleration in each frame:  24%|██▍       | 13/54 [00:00<00:01, 28.65it/s]\n",
      "Adding player speed, velocity, and acceleration in each frame:  33%|███▎      | 18/54 [00:00<00:01, 34.14it/s]\n",
      "Adding player speed, velocity, and acceleration in each frame:  44%|████▍     | 24/54 [00:00<00:00, 39.80it/s]\n",
      "Adding player speed, velocity, and acceleration in each frame:  56%|█████▌    | 30/54 [00:00<00:00, 45.03it/s]\n",
      "Adding player speed, velocity, and acceleration in each frame:  70%|███████   | 38/54 [00:01<00:00, 53.66it/s]\n",
      "Adding player speed, velocity, and acceleration in each frame:  83%|████████▎ | 45/54 [00:01<00:00, 58.07it/s]\n",
      "Adding player speed, velocity, and acceleration in each frame: 100%|██████████| 54/54 [00:01<00:00, 27.73it/s]\n"
     ]
    },
    {
     "data": {
      "application/vnd.jupyter.widget-view+json": {
       "model_id": "3013443765bc44d08c93be831cac1a93",
       "version_major": 2,
       "version_minor": 0
      },
      "text/plain": [
       "Loading frames from match 4622: 0 frames [00:00, ? frames/s]"
      ]
     },
     "metadata": {},
     "output_type": "display_data"
    },
    {
     "data": {
      "application/vnd.jupyter.widget-view+json": {
       "model_id": "1f9cad2c652745f9b950f1d5803965ec",
       "version_major": 2,
       "version_minor": 0
      },
      "text/plain": [
       "Validating frames:   0%|          | 0/179624 [00:00<?, ? frames/s]"
      ]
     },
     "metadata": {},
     "output_type": "display_data"
    },
    {
     "name": "stderr",
     "output_type": "stream",
     "text": [
      "\n",
      "Adding ball speed, velocity, and acceleration in each frame:   0%|          | 0/2 [00:00<?, ?it/s]\n",
      "Adding ball speed, velocity, and acceleration in each frame:  50%|█████     | 1/2 [00:00<00:00,  6.14it/s]\n",
      "Adding ball speed, velocity, and acceleration in each frame: 100%|██████████| 2/2 [00:01<00:00,  1.12it/s]\n",
      "\n",
      "Adding player speed, velocity, and acceleration in each frame:   0%|          | 0/52 [00:00<?, ?it/s]\n",
      "Adding player speed, velocity, and acceleration in each frame:   2%|▏         | 1/52 [00:00<00:22,  2.27it/s]\n",
      "Adding player speed, velocity, and acceleration in each frame:  10%|▉         | 5/52 [00:00<00:04, 11.29it/s]\n",
      "Adding player speed, velocity, and acceleration in each frame:  19%|█▉        | 10/52 [00:00<00:02, 19.67it/s]\n",
      "Adding player speed, velocity, and acceleration in each frame:  29%|██▉       | 15/52 [00:00<00:01, 24.97it/s]\n",
      "Adding player speed, velocity, and acceleration in each frame:  38%|███▊      | 20/52 [00:00<00:01, 29.34it/s]\n",
      "Adding player speed, velocity, and acceleration in each frame:  46%|████▌     | 24/52 [00:01<00:00, 30.80it/s]\n",
      "Adding player speed, velocity, and acceleration in each frame:  58%|█████▊    | 30/52 [00:01<00:00, 35.58it/s]\n",
      "Adding player speed, velocity, and acceleration in each frame:  65%|██████▌   | 34/52 [00:01<00:00, 36.16it/s]\n",
      "Adding player speed, velocity, and acceleration in each frame:  73%|███████▎  | 38/52 [00:01<00:00, 33.42it/s]\n",
      "Adding player speed, velocity, and acceleration in each frame:  81%|████████  | 42/52 [00:01<00:00, 31.81it/s]\n",
      "Adding player speed, velocity, and acceleration in each frame:  90%|█████████ | 47/52 [00:01<00:00, 34.38it/s]\n",
      "Adding player speed, velocity, and acceleration in each frame: 100%|██████████| 52/52 [00:02<00:00, 19.54it/s]\n"
     ]
    },
    {
     "data": {
      "application/vnd.jupyter.widget-view+json": {
       "model_id": "41bdee38bd6746e6863bd7d0d31e2091",
       "version_major": 2,
       "version_minor": 0
      },
      "text/plain": [
       "Loading frames from match 4623: 0 frames [00:00, ? frames/s]"
      ]
     },
     "metadata": {},
     "output_type": "display_data"
    },
    {
     "data": {
      "application/vnd.jupyter.widget-view+json": {
       "model_id": "46f2f12066454bc9ac368e77b09a0447",
       "version_major": 2,
       "version_minor": 0
      },
      "text/plain": [
       "Validating frames:   0%|          | 0/181526 [00:00<?, ? frames/s]"
      ]
     },
     "metadata": {},
     "output_type": "display_data"
    },
    {
     "name": "stderr",
     "output_type": "stream",
     "text": [
      "\n",
      "Adding ball speed, velocity, and acceleration in each frame:   0%|          | 0/2 [00:00<?, ?it/s]\n",
      "Adding ball speed, velocity, and acceleration in each frame:  50%|█████     | 1/2 [00:00<00:00,  7.26it/s]\n",
      "Adding ball speed, velocity, and acceleration in each frame: 100%|██████████| 2/2 [00:01<00:00,  1.46it/s]\n",
      "\n",
      "Adding player speed, velocity, and acceleration in each frame:   0%|          | 0/50 [00:00<?, ?it/s]\n",
      "Adding player speed, velocity, and acceleration in each frame:   2%|▏         | 1/50 [00:00<00:18,  2.66it/s]\n",
      "Adding player speed, velocity, and acceleration in each frame:  12%|█▏        | 6/50 [00:00<00:02, 15.59it/s]\n",
      "Adding player speed, velocity, and acceleration in each frame:  24%|██▍       | 12/50 [00:00<00:01, 26.97it/s]\n",
      "Adding player speed, velocity, and acceleration in each frame:  34%|███▍      | 17/50 [00:00<00:00, 33.23it/s]\n",
      "Adding player speed, velocity, and acceleration in each frame:  44%|████▍     | 22/50 [00:00<00:00, 37.88it/s]\n",
      "Adding player speed, velocity, and acceleration in each frame:  56%|█████▌    | 28/50 [00:00<00:00, 43.74it/s]\n",
      "Adding player speed, velocity, and acceleration in each frame:  66%|██████▌   | 33/50 [00:01<00:00, 43.15it/s]\n",
      "Adding player speed, velocity, and acceleration in each frame:  78%|███████▊  | 39/50 [00:01<00:00, 47.56it/s]\n",
      "Adding player speed, velocity, and acceleration in each frame: 100%|██████████| 50/50 [00:02<00:00, 24.41it/s]\n"
     ]
    },
    {
     "data": {
      "application/vnd.jupyter.widget-view+json": {
       "model_id": "44fd9a83bd7743cfa639c4a7dcee5639",
       "version_major": 2,
       "version_minor": 0
      },
      "text/plain": [
       "Loading frames from match 4624: 0 frames [00:00, ? frames/s]"
      ]
     },
     "metadata": {},
     "output_type": "display_data"
    },
    {
     "data": {
      "application/vnd.jupyter.widget-view+json": {
       "model_id": "3dc0d32c550d4caca31a19c8ed4ebad6",
       "version_major": 2,
       "version_minor": 0
      },
      "text/plain": [
       "Validating frames:   0%|          | 0/170624 [00:00<?, ? frames/s]"
      ]
     },
     "metadata": {},
     "output_type": "display_data"
    },
    {
     "name": "stderr",
     "output_type": "stream",
     "text": [
      "\n",
      "Adding ball speed, velocity, and acceleration in each frame:   0%|          | 0/2 [00:00<?, ?it/s]\n",
      "Adding ball speed, velocity, and acceleration in each frame:  50%|█████     | 1/2 [00:00<00:00,  2.48it/s]\n",
      "Adding ball speed, velocity, and acceleration in each frame: 100%|██████████| 2/2 [00:04<00:00,  2.01s/it]\n",
      "\n",
      "Adding player speed, velocity, and acceleration in each frame:   0%|          | 0/53 [00:00<?, ?it/s]\n",
      "Adding player speed, velocity, and acceleration in each frame:   2%|▏         | 1/53 [00:01<01:02,  1.21s/it]\n",
      "Adding player speed, velocity, and acceleration in each frame:   6%|▌         | 3/53 [00:01<00:18,  2.66it/s]\n",
      "Adding player speed, velocity, and acceleration in each frame:   9%|▉         | 5/53 [00:01<00:10,  4.51it/s]\n",
      "Adding player speed, velocity, and acceleration in each frame:  13%|█▎        | 7/53 [00:01<00:07,  6.36it/s]\n",
      "Adding player speed, velocity, and acceleration in each frame:  17%|█▋        | 9/53 [00:01<00:05,  8.25it/s]\n",
      "Adding player speed, velocity, and acceleration in each frame:  21%|██        | 11/53 [00:01<00:04,  9.77it/s]\n",
      "Adding player speed, velocity, and acceleration in each frame:  25%|██▍       | 13/53 [00:02<00:03, 11.06it/s]\n",
      "Adding player speed, velocity, and acceleration in each frame:  28%|██▊       | 15/53 [00:02<00:03, 11.08it/s]\n",
      "Adding player speed, velocity, and acceleration in each frame:  32%|███▏      | 17/53 [00:02<00:02, 12.30it/s]\n",
      "Adding player speed, velocity, and acceleration in each frame:  36%|███▌      | 19/53 [00:02<00:02, 13.45it/s]\n",
      "Adding player speed, velocity, and acceleration in each frame:  40%|███▉      | 21/53 [00:02<00:02, 13.48it/s]\n",
      "Adding player speed, velocity, and acceleration in each frame:  43%|████▎     | 23/53 [00:02<00:02, 13.47it/s]\n",
      "Adding player speed, velocity, and acceleration in each frame:  49%|████▉     | 26/53 [00:02<00:01, 15.99it/s]\n",
      "Adding player speed, velocity, and acceleration in each frame:  53%|█████▎    | 28/53 [00:03<00:01, 14.78it/s]\n",
      "Adding player speed, velocity, and acceleration in each frame:  57%|█████▋    | 30/53 [00:03<00:01, 14.33it/s]\n",
      "Adding player speed, velocity, and acceleration in each frame:  62%|██████▏   | 33/53 [00:03<00:01, 17.38it/s]\n",
      "Adding player speed, velocity, and acceleration in each frame:  70%|██████▉   | 37/53 [00:03<00:00, 20.63it/s]\n",
      "Adding player speed, velocity, and acceleration in each frame:  75%|███████▌  | 40/53 [00:03<00:00, 20.46it/s]\n",
      "Adding player speed, velocity, and acceleration in each frame:  81%|████████  | 43/53 [00:03<00:00, 21.18it/s]\n",
      "Adding player speed, velocity, and acceleration in each frame:  87%|████████▋ | 46/53 [00:03<00:00, 20.61it/s]\n",
      "Adding player speed, velocity, and acceleration in each frame:  92%|█████████▏| 49/53 [00:04<00:00, 21.69it/s]\n",
      "Adding player speed, velocity, and acceleration in each frame: 100%|██████████| 53/53 [00:06<00:00,  7.71it/s]\n"
     ]
    },
    {
     "data": {
      "application/vnd.jupyter.widget-view+json": {
       "model_id": "a3e096431173439e8ed585b64a851951",
       "version_major": 2,
       "version_minor": 0
      },
      "text/plain": [
       "Loading frames from match 4625: 0 frames [00:00, ? frames/s]"
      ]
     },
     "metadata": {},
     "output_type": "display_data"
    },
    {
     "data": {
      "application/vnd.jupyter.widget-view+json": {
       "model_id": "dae37facdb6e42b5a6d999a30f5c0db9",
       "version_major": 2,
       "version_minor": 0
      },
      "text/plain": [
       "Validating frames:   0%|          | 0/176875 [00:00<?, ? frames/s]"
      ]
     },
     "metadata": {},
     "output_type": "display_data"
    },
    {
     "name": "stderr",
     "output_type": "stream",
     "text": [
      "\n",
      "Adding ball speed, velocity, and acceleration in each frame:   0%|          | 0/2 [00:00<?, ?it/s]\n",
      "Adding ball speed, velocity, and acceleration in each frame:  50%|█████     | 1/2 [00:00<00:00,  1.86it/s]\n",
      "Adding ball speed, velocity, and acceleration in each frame: 100%|██████████| 2/2 [00:07<00:00,  3.51s/it]\n",
      "\n",
      "Adding player speed, velocity, and acceleration in each frame:   0%|          | 0/54 [00:00<?, ?it/s]\n",
      "Adding player speed, velocity, and acceleration in each frame:   2%|▏         | 1/54 [00:01<01:08,  1.28s/it]\n",
      "Adding player speed, velocity, and acceleration in each frame:   6%|▌         | 3/54 [00:01<00:20,  2.50it/s]\n",
      "Adding player speed, velocity, and acceleration in each frame:   9%|▉         | 5/54 [00:01<00:11,  4.23it/s]\n",
      "Adding player speed, velocity, and acceleration in each frame:  13%|█▎        | 7/54 [00:01<00:08,  5.76it/s]\n",
      "Adding player speed, velocity, and acceleration in each frame:  17%|█▋        | 9/54 [00:01<00:06,  7.12it/s]\n",
      "Adding player speed, velocity, and acceleration in each frame:  20%|██        | 11/54 [00:02<00:05,  8.55it/s]\n",
      "Adding player speed, velocity, and acceleration in each frame:  24%|██▍       | 13/54 [00:02<00:04,  9.76it/s]\n",
      "Adding player speed, velocity, and acceleration in each frame:  28%|██▊       | 15/54 [00:02<00:03, 10.88it/s]\n",
      "Adding player speed, velocity, and acceleration in each frame:  31%|███▏      | 17/54 [00:02<00:03, 10.66it/s]\n",
      "Adding player speed, velocity, and acceleration in each frame:  35%|███▌      | 19/54 [00:02<00:03, 10.75it/s]\n",
      "Adding player speed, velocity, and acceleration in each frame:  39%|███▉      | 21/54 [00:02<00:03, 10.46it/s]\n",
      "Adding player speed, velocity, and acceleration in each frame:  43%|████▎     | 23/54 [00:03<00:03,  9.88it/s]\n",
      "Adding player speed, velocity, and acceleration in each frame:  46%|████▋     | 25/54 [00:03<00:03,  9.08it/s]\n",
      "Adding player speed, velocity, and acceleration in each frame:  48%|████▊     | 26/54 [00:03<00:03,  8.92it/s]\n",
      "Adding player speed, velocity, and acceleration in each frame:  52%|█████▏    | 28/54 [00:03<00:02, 10.63it/s]\n",
      "Adding player speed, velocity, and acceleration in each frame:  56%|█████▌    | 30/54 [00:03<00:02, 10.48it/s]\n",
      "Adding player speed, velocity, and acceleration in each frame:  59%|█████▉    | 32/54 [00:04<00:01, 11.58it/s]\n",
      "Adding player speed, velocity, and acceleration in each frame:  63%|██████▎   | 34/54 [00:04<00:01, 10.41it/s]\n",
      "Adding player speed, velocity, and acceleration in each frame:  67%|██████▋   | 36/54 [00:04<00:02,  7.76it/s]\n",
      "Adding player speed, velocity, and acceleration in each frame:  69%|██████▊   | 37/54 [00:04<00:02,  7.64it/s]\n",
      "Adding player speed, velocity, and acceleration in each frame:  70%|███████   | 38/54 [00:04<00:02,  7.71it/s]\n",
      "Adding player speed, velocity, and acceleration in each frame:  72%|███████▏  | 39/54 [00:05<00:01,  7.98it/s]\n",
      "Adding player speed, velocity, and acceleration in each frame:  76%|███████▌  | 41/54 [00:05<00:01,  9.00it/s]\n",
      "Adding player speed, velocity, and acceleration in each frame:  80%|███████▉  | 43/54 [00:05<00:01,  9.47it/s]\n",
      "Adding player speed, velocity, and acceleration in each frame:  83%|████████▎ | 45/54 [00:05<00:00, 10.21it/s]\n",
      "Adding player speed, velocity, and acceleration in each frame:  87%|████████▋ | 47/54 [00:05<00:00, 11.65it/s]\n",
      "Adding player speed, velocity, and acceleration in each frame:  93%|█████████▎| 50/54 [00:05<00:00, 14.13it/s]\n",
      "Adding player speed, velocity, and acceleration in each frame:  96%|█████████▋| 52/54 [00:06<00:00, 13.50it/s]\n",
      "Adding player speed, velocity, and acceleration in each frame: 100%|██████████| 54/54 [00:09<00:00,  5.64it/s]\n"
     ]
    },
    {
     "data": {
      "application/vnd.jupyter.widget-view+json": {
       "model_id": "cefa8d0f531a492ca0d45a8897e02fca",
       "version_major": 2,
       "version_minor": 0
      },
      "text/plain": [
       "Saving frames:   0%|          | 0/30 [00:00<?, ?it/s]"
      ]
     },
     "metadata": {},
     "output_type": "display_data"
    }
   ],
   "source": [
    "frames_loader = FramesLoader(game_ids[160:], DATA_PATH)\n",
    "frames_loader.load()\n",
    "frames_loader.save(output_path)"
   ]
  }
 ],
 "metadata": {
  "kernelspec": {
   "display_name": ".venv",
   "language": "python",
   "name": "python3"
  },
  "language_info": {
   "codemirror_mode": {
    "name": "ipython",
    "version": 3
   },
   "file_extension": ".py",
   "mimetype": "text/x-python",
   "name": "python",
   "nbconvert_exporter": "python",
   "pygments_lexer": "ipython3",
   "version": "3.12.3"
  }
 },
 "nbformat": 4,
 "nbformat_minor": 2
}
