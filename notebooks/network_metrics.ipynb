{
 "cells": [
  {
   "cell_type": "code",
   "execution_count": 2,
   "metadata": {},
   "outputs": [
    {
     "name": "stdout",
     "output_type": "stream",
     "text": [
      "The autoreload extension is already loaded. To reload it, use:\n",
      "  %reload_ext autoreload\n"
     ]
    }
   ],
   "source": [
    "%load_ext autoreload\n",
    "%autoreload 2"
   ]
  },
  {
   "cell_type": "code",
   "execution_count": 14,
   "metadata": {},
   "outputs": [],
   "source": [
    "import os\n",
    "import sys\n",
    "from tqdm.auto import tqdm\n",
    "import pandas as pd\n",
    "import networkx as nx"
   ]
  },
  {
   "cell_type": "code",
   "execution_count": 4,
   "metadata": {},
   "outputs": [],
   "source": [
    "project_root = os.path.abspath(\n",
    "    os.path.join(\"C:/Users/jllgo/OneDrive/Documentos/UFMG/MSc & MSI 2/MatchSegmentation\")\n",
    ")\n",
    "if project_root not in sys.path:\n",
    "    sys.path.append(project_root)"
   ]
  },
  {
   "cell_type": "code",
   "execution_count": 5,
   "metadata": {},
   "outputs": [],
   "source": [
    "from src.pass_networks.process_intervals import load_graphs"
   ]
  },
  {
   "cell_type": "markdown",
   "metadata": {},
   "source": [
    "# Get Graphs"
   ]
  },
  {
   "cell_type": "code",
   "execution_count": 6,
   "metadata": {},
   "outputs": [],
   "source": [
    "PROCESSED_DATA_PATH = \"../data/processed/PL-22-23\"\n",
    "CSV_DATA_PATH = \"../data/csv\""
   ]
  },
  {
   "cell_type": "code",
   "execution_count": 7,
   "metadata": {},
   "outputs": [
    {
     "name": "stdout",
     "output_type": "stream",
     "text": [
      "Games to process: 30\n"
     ]
    }
   ],
   "source": [
    "games = os.listdir(PROCESSED_DATA_PATH)\n",
    "game_ids = [game.split('.')[0] for game in games]\n",
    "print(f\"Games to process: {len(game_ids)}\")"
   ]
  },
  {
   "cell_type": "code",
   "execution_count": 9,
   "metadata": {},
   "outputs": [
    {
     "data": {
      "application/vnd.jupyter.widget-view+json": {
       "model_id": "8354d461ecdb42019cc391e694c24494",
       "version_major": 2,
       "version_minor": 0
      },
      "text/plain": [
       "Loading Pre-Processed Graphs:   0%|          | 0/30 [00:00<?, ?it/s]"
      ]
     },
     "metadata": {},
     "output_type": "display_data"
    }
   ],
   "source": [
    "matches = []\n",
    "\n",
    "for match_id in tqdm(game_ids, desc=\"Loading Pre-Processed Graphs\", total=len(game_ids)):\n",
    "    match_graphs = load_graphs(match_id, PROCESSED_DATA_PATH)\n",
    "    matches.append((match_id,match_graphs))"
   ]
  },
  {
   "cell_type": "code",
   "execution_count": 48,
   "metadata": {},
   "outputs": [
    {
     "data": {
      "image/png": "[encoded data removed]",
      "text/plain": [
       "<Figure size 640x480 with 1 Axes>"
      ]
     },
     "metadata": {},
     "output_type": "display_data"
    }
   ],
   "source": [
    "G = matches[0][1][0]['2']\n",
    "G1 = matches[0][1][1]['7']\n",
    "nx.draw(G)"
   ]
  },
  {
   "cell_type": "markdown",
   "metadata": {},
   "source": [
    "# Calculate Metrics"
   ]
  },
  {
   "cell_type": "markdown",
   "metadata": {},
   "source": [
    "Betweenness centrality"
   ]
  },
  {
   "cell_type": "code",
   "execution_count": 30,
   "metadata": {},
   "outputs": [
    {
     "name": "stdout",
     "output_type": "stream",
     "text": [
      "Betweenness Centrality:\n",
      "{35: 0.17777777777777778, 9: 0.0, 34: 0.3111111111111111, 11: 0.3111111111111111, 7: 0.3111111111111111, 1: 0.0, 5: 0.0, 8: 0.07777777777777778, 6: 0.34444444444444444, 12: 0.07777777777777778, 4: 0.3111111111111111}\n"
     ]
    }
   ],
   "source": [
    "betweenness = nx.betweenness_centrality(G)\n",
    "print(betweenness)"
   ]
  },
  {
   "cell_type": "markdown",
   "metadata": {},
   "source": [
    "Closeness centrality"
   ]
  },
  {
   "cell_type": "code",
   "execution_count": 32,
   "metadata": {},
   "outputs": [
    {
     "name": "stdout",
     "output_type": "stream",
     "text": [
      "{35: 0.35555555555555557, 9: 0.2076923076923077, 34: 0.26666666666666666, 11: 0.23703703703703705, 7: 0.21333333333333335, 1: 0.0, 5: 0.0, 8: 0.2206896551724138, 6: 0.3047619047619048, 12: 0.2064516129032258, 4: 0.23703703703703705}\n"
     ]
    }
   ],
   "source": [
    "closeness = nx.closeness_centrality(G)\n",
    "print(closeness)"
   ]
  },
  {
   "cell_type": "markdown",
   "metadata": {},
   "source": [
    "Network density"
   ]
  },
  {
   "cell_type": "code",
   "execution_count": 33,
   "metadata": {},
   "outputs": [
    {
     "name": "stdout",
     "output_type": "stream",
     "text": [
      "\n",
      "Network Density:\n",
      "0.12727272727272726\n"
     ]
    }
   ],
   "source": [
    "density = nx.density(G)\n",
    "print(density)"
   ]
  },
  {
   "cell_type": "markdown",
   "metadata": {},
   "source": [
    "Average path length "
   ]
  },
  {
   "cell_type": "code",
   "execution_count": 38,
   "metadata": {},
   "outputs": [
    {
     "name": "stdout",
     "output_type": "stream",
     "text": [
      "Caminho médio para o nó 12: 3.4444444444444446\n"
     ]
    }
   ],
   "source": [
    "# Definir o nó-alvo\n",
    "target = 12\n",
    "\n",
    "# Calcular o caminho mais curto de todos os nós para o nó-alvo\n",
    "shortest_paths = []\n",
    "for node in G.nodes:\n",
    "    try:\n",
    "        path_length = nx.shortest_path_length(G, source=node, target=target)\n",
    "        shortest_paths.append(path_length)\n",
    "    except nx.NetworkXNoPath:\n",
    "        # Caso não haja caminho, ignore (ou use um valor especial, como float('inf'))\n",
    "        continue\n",
    "\n",
    "# Calcular a média dos caminhos (ignorar os sem caminho)\n",
    "if shortest_paths:\n",
    "    average_path_to_target = sum(shortest_paths) / len(shortest_paths)\n",
    "    print(f\"Caminho médio para o nó {target}: {average_path_to_target}\")\n",
    "else:\n",
    "    print(f\"Não há caminhos para o nó {target}.\")"
   ]
  },
  {
   "cell_type": "markdown",
   "metadata": {},
   "source": [
    "Feed-forward loop (FFL) metric"
   ]
  },
  {
   "cell_type": "code",
   "execution_count": 34,
   "metadata": {},
   "outputs": [
    {
     "name": "stdout",
     "output_type": "stream",
     "text": [
      "Feed-Forward Loops (FFL): 5\n"
     ]
    }
   ],
   "source": [
    "def count_ffl(graph):\n",
    "    ffl_count = 0\n",
    "    for node in graph.nodes:\n",
    "        # Encontrar sucessores e predecessores\n",
    "        successors = set(graph.successors(node))\n",
    "        for succ in successors:\n",
    "            second_order_succ = set(graph.successors(succ))\n",
    "            # Contar casos onde o terceiro nó fecha o FFL\n",
    "            ffl_count += len(second_order_succ & successors)\n",
    "    return ffl_count\n",
    "\n",
    "ffl = count_ffl(G)\n",
    "print(\"Feed-Forward Loops (FFL):\", ffl)"
   ]
  },
  {
   "cell_type": "markdown",
   "metadata": {},
   "source": [
    "Assortatividade"
   ]
  },
  {
   "cell_type": "code",
   "execution_count": null,
   "metadata": {},
   "outputs": [
    {
     "name": "stdout",
     "output_type": "stream",
     "text": [
      "Assortativity Coefficient: 0.0912870929175294\n"
     ]
    }
   ],
   "source": [
    "print(\"Assortativity Coefficient:\", nx.degree_assortativity_coefficient(G))"
   ]
  },
  {
   "cell_type": "markdown",
   "metadata": {},
   "source": [
    "Modularity"
   ]
  },
  {
   "cell_type": "code",
   "execution_count": 41,
   "metadata": {},
   "outputs": [
    {
     "name": "stdout",
     "output_type": "stream",
     "text": [
      "Modularity: 0.4\n"
     ]
    }
   ],
   "source": [
    "from networkx.algorithms.community import modularity, greedy_modularity_communities\n",
    "\n",
    "communities = list(greedy_modularity_communities(G))\n",
    "modularity_score = modularity(G, communities)\n",
    "print(\"Modularity:\", modularity_score)"
   ]
  },
  {
   "cell_type": "markdown",
   "metadata": {},
   "source": [
    "Número de Componentes Fortemente Conectados"
   ]
  },
  {
   "cell_type": "code",
   "execution_count": 42,
   "metadata": {},
   "outputs": [
    {
     "name": "stdout",
     "output_type": "stream",
     "text": [
      "Number of Strongly Connected Components: 4\n"
     ]
    }
   ],
   "source": [
    "strongly_connected_components = list(nx.strongly_connected_components(G))\n",
    "print(\"Number of Strongly Connected Components:\", len(strongly_connected_components))"
   ]
  },
  {
   "cell_type": "markdown",
   "metadata": {},
   "source": [
    "Conectividade "
   ]
  },
  {
   "cell_type": "code",
   "execution_count": 43,
   "metadata": {},
   "outputs": [
    {
     "name": "stdout",
     "output_type": "stream",
     "text": [
      "Node Connectivity: 0\n",
      "Edge Connectivity: 0\n"
     ]
    }
   ],
   "source": [
    "node_connectivity = nx.node_connectivity(G)\n",
    "edge_connectivity = nx.edge_connectivity(G)\n",
    "print(\"Node Connectivity:\", node_connectivity)\n",
    "print(\"Edge Connectivity:\", edge_connectivity)\n"
   ]
  },
  {
   "cell_type": "markdown",
   "metadata": {},
   "source": [
    "transitividade"
   ]
  },
  {
   "cell_type": "code",
   "execution_count": 45,
   "metadata": {},
   "outputs": [
    {
     "name": "stdout",
     "output_type": "stream",
     "text": [
      "Transitivity: 0\n"
     ]
    }
   ],
   "source": [
    "transitivity = nx.transitivity(G)\n",
    "print(\"Transitivity:\", transitivity)\n"
   ]
  },
  {
   "cell_type": "markdown",
   "metadata": {},
   "source": [
    "Motivos"
   ]
  },
  {
   "cell_type": "code",
   "execution_count": 46,
   "metadata": {},
   "outputs": [
    {
     "ename": "ImportError",
     "evalue": "cannot import name 'motifs' from 'networkx.algorithms' (c:\\Users\\jllgo\\OneDrive\\Documentos\\UFMG\\MSc & MSI 2\\MatchSegmentation\\.venv\\Lib\\site-packages\\networkx\\algorithms\\__init__.py)",
     "output_type": "error",
     "traceback": [
      "\u001b[1;31m---------------------------------------------------------------------------\u001b[0m",
      "\u001b[1;31mImportError\u001b[0m                               Traceback (most recent call last)",
      "Cell \u001b[1;32mIn[46], line 1\u001b[0m\n\u001b[1;32m----> 1\u001b[0m \u001b[38;5;28;01mfrom\u001b[39;00m \u001b[38;5;21;01mnetworkx\u001b[39;00m\u001b[38;5;21;01m.\u001b[39;00m\u001b[38;5;21;01malgorithms\u001b[39;00m \u001b[38;5;28;01mimport\u001b[39;00m motifs\n\u001b[0;32m      3\u001b[0m \u001b[38;5;66;03m# Detectar motivos simples\u001b[39;00m\n\u001b[0;32m      4\u001b[0m triadic_census \u001b[38;5;241m=\u001b[39m nx\u001b[38;5;241m.\u001b[39mtriadic_census(G)\n",
      "\u001b[1;31mImportError\u001b[0m: cannot import name 'motifs' from 'networkx.algorithms' (c:\\Users\\jllgo\\OneDrive\\Documentos\\UFMG\\MSc & MSI 2\\MatchSegmentation\\.venv\\Lib\\site-packages\\networkx\\algorithms\\__init__.py)"
     ]
    }
   ],
   "source": [
    "from networkx.algorithms import motifs\n",
    "\n",
    "# Detectar motivos simples\n",
    "triadic_census = nx.triadic_census(G)\n",
    "print(\"Triadic Census:\", triadic_census)\n"
   ]
  },
  {
   "cell_type": "markdown",
   "metadata": {},
   "source": [
    "# Graph Distance"
   ]
  },
  {
   "cell_type": "code",
   "execution_count": 49,
   "metadata": {},
   "outputs": [
    {
     "name": "stdout",
     "output_type": "stream",
     "text": [
      "Graph Edit Distance: 6.0\n"
     ]
    }
   ],
   "source": [
    "ged = nx.graph_edit_distance(G, G1)\n",
    "print(\"Graph Edit Distance:\", ged)"
   ]
  },
  {
   "cell_type": "code",
   "execution_count": 50,
   "metadata": {},
   "outputs": [
    {
     "name": "stdout",
     "output_type": "stream",
     "text": [
      "Degree Distribution Similarity (Wasserstein Distance): 0.36363636363636365\n"
     ]
    }
   ],
   "source": [
    "from scipy.stats import wasserstein_distance\n",
    "\n",
    "# Obter distribuições de grau\n",
    "degrees_G1 = [deg for _, deg in G.degree()]\n",
    "degrees_G2 = [deg for _, deg in G1.degree()]\n",
    "\n",
    "# Calcular similaridade com a distância de Wasserstein (Earth Mover's Distance)\n",
    "degree_similarity = wasserstein_distance(degrees_G1, degrees_G2)\n",
    "print(\"Degree Distribution Similarity (Wasserstein Distance):\", degree_similarity)\n"
   ]
  },
  {
   "cell_type": "code",
   "execution_count": 51,
   "metadata": {},
   "outputs": [
    {
     "name": "stdout",
     "output_type": "stream",
     "text": [
      "Shortest Path Distribution G1: Counter({2: 14, 3: 14, 1: 12, 4: 12, 5: 12, 0: 11, 6: 7, 7: 2})\n",
      "Shortest Path Distribution G2: Counter({2: 13, 0: 11, 1: 11, 3: 9, 4: 5, 5: 2})\n"
     ]
    }
   ],
   "source": [
    "from collections import Counter\n",
    "\n",
    "# Calcular distribuições de comprimento de caminhos mais curtos\n",
    "def shortest_path_distribution(graph):\n",
    "    lengths = []\n",
    "    for node in graph.nodes:\n",
    "        paths = nx.single_source_shortest_path_length(graph, node)\n",
    "        lengths.extend(paths.values())\n",
    "    return Counter(lengths)\n",
    "\n",
    "dist_G1 = shortest_path_distribution(G)\n",
    "dist_G2 = shortest_path_distribution(G1)\n",
    "\n",
    "print(\"Shortest Path Distribution G1:\", dist_G1)\n",
    "print(\"Shortest Path Distribution G2:\", dist_G2)\n"
   ]
  },
  {
   "cell_type": "code",
   "execution_count": 52,
   "metadata": {},
   "outputs": [
    {
     "name": "stdout",
     "output_type": "stream",
     "text": [
      "Delta-Convergence: 112\n"
     ]
    }
   ],
   "source": [
    "from numpy import cumsum\n",
    "\n",
    "# Função para calcular Delta-Convergence\n",
    "def delta_convergence(dist1, dist2):\n",
    "    keys = set(dist1.keys()).union(dist2.keys())\n",
    "    cdf1 = cumsum([dist1.get(k, 0) for k in sorted(keys)])\n",
    "    cdf2 = cumsum([dist2.get(k, 0) for k in sorted(keys)])\n",
    "    return sum(abs(cdf1 - cdf2))\n",
    "\n",
    "delta = delta_convergence(dist_G1, dist_G2)\n",
    "print(\"Delta-Convergence:\", delta)\n"
   ]
  },
  {
   "cell_type": "code",
   "execution_count": 53,
   "metadata": {},
   "outputs": [
    {
     "name": "stdout",
     "output_type": "stream",
     "text": [
      "Density G1: 0.12727272727272726\n",
      "Density G2: 0.10909090909090909\n",
      "Density Similarity (Absolute Difference): 0.018181818181818174\n"
     ]
    }
   ],
   "source": [
    "density_G1 = nx.density(G)\n",
    "density_G2 = nx.density(G1)\n",
    "\n",
    "print(\"Density G1:\", density_G1)\n",
    "print(\"Density G2:\", density_G2)\n",
    "print(\"Density Similarity (Absolute Difference):\", abs(density_G1 - density_G2))\n"
   ]
  },
  {
   "cell_type": "code",
   "execution_count": 54,
   "metadata": {},
   "outputs": [
    {
     "name": "stdout",
     "output_type": "stream",
     "text": [
      "Clustering Coefficient G1: 0.13787878787878788\n",
      "Clustering Coefficient G2: 0.0\n",
      "Clustering Coefficient Similarity (Absolute Difference): 0.13787878787878788\n"
     ]
    }
   ],
   "source": [
    "clustering_G1 = nx.average_clustering(G1)\n",
    "clustering_G2 = nx.average_clustering(G)\n",
    "\n",
    "print(\"Clustering Coefficient G1:\", clustering_G1)\n",
    "print(\"Clustering Coefficient G2:\", clustering_G2)\n",
    "print(\"Clustering Coefficient Similarity (Absolute Difference):\", abs(clustering_G1 - clustering_G2))\n"
   ]
  },
  {
   "cell_type": "code",
   "execution_count": 55,
   "metadata": {},
   "outputs": [
    {
     "name": "stdout",
     "output_type": "stream",
     "text": [
      "Modularity G1: 0.4186851211072664\n",
      "Modularity G2: 0.4\n",
      "Modularity Similarity (Absolute Difference): 0.01868512110726639\n"
     ]
    }
   ],
   "source": [
    "from networkx.algorithms.community import greedy_modularity_communities, modularity\n",
    "\n",
    "# Detectar comunidades\n",
    "communities_G1 = list(greedy_modularity_communities(G1))\n",
    "communities_G2 = list(greedy_modularity_communities(G))\n",
    "\n",
    "# Calcular modularidade\n",
    "modularity_G1 = modularity(G1, communities_G1)\n",
    "modularity_G2 = modularity(G, communities_G2)\n",
    "\n",
    "print(\"Modularity G1:\", modularity_G1)\n",
    "print(\"Modularity G2:\", modularity_G2)\n",
    "print(\"Modularity Similarity (Absolute Difference):\", abs(modularity_G1 - modularity_G2))\n"
   ]
  }
 ],
 "metadata": {
  "kernelspec": {
   "display_name": ".venv",
   "language": "python",
   "name": "python3"
  },
  "language_info": {
   "codemirror_mode": {
    "name": "ipython",
    "version": 3
   },
   "file_extension": ".py",
   "mimetype": "text/x-python",
   "name": "python",
   "nbconvert_exporter": "python",
   "pygments_lexer": "ipython3",
   "version": "3.12.3"
  }
 },
 "nbformat": 4,
 "nbformat_minor": 2
}
