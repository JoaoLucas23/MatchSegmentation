{
 "cells": [
  {
   "cell_type": "code",
   "execution_count": 1,
   "metadata": {},
   "outputs": [
    {
     "name": "stdout",
     "output_type": "stream",
     "text": [
      "The autoreload extension is already loaded. To reload it, use:\n",
      "  %reload_ext autoreload\n"
     ]
    }
   ],
   "source": [
    "%load_ext autoreload\n",
    "%autoreload 2"
   ]
  },
  {
   "cell_type": "code",
   "execution_count": 2,
   "metadata": {},
   "outputs": [],
   "source": [
    "import os\n",
    "import sys\n",
    "from tqdm.auto import tqdm\n",
    "import pandas as pd\n",
    "import networkx as nx"
   ]
  },
  {
   "cell_type": "code",
   "execution_count": 3,
   "metadata": {},
   "outputs": [],
   "source": [
    "project_root = os.path.abspath(\n",
    "    os.path.join(\"C:/Users/jllgo/OneDrive/Documentos/UFMG/MSc & MSI 2/MatchSegmentation\")\n",
    ")\n",
    "if project_root not in sys.path:\n",
    "    sys.path.append(project_root)"
   ]
  },
  {
   "cell_type": "code",
   "execution_count": 4,
   "metadata": {},
   "outputs": [],
   "source": [
    "from src.pass_networks.process_intervals import load_graphs\n",
    "from src.pass_networks.pass_network import calculate_metrics \n",
    "from src.pass_networks.custom_metrics import calculate_average_path_legth_target\n",
    "from src.pass_networks.custom_metrics import calculate_ffl\n",
    "from src.pass_networks.custom_metrics import calculate_simrank\n",
    "from src.pass_networks.custom_metrics import calculate_wasserstein_distance\n",
    "from src.pass_networks.custom_metrics import calculate_modularity\n",
    "from src.pass_networks.custom_metrics import calculate_graph_distance_stream"
   ]
  },
  {
   "cell_type": "markdown",
   "metadata": {},
   "source": [
    "# Get Graphs"
   ]
  },
  {
   "cell_type": "code",
   "execution_count": 5,
   "metadata": {},
   "outputs": [],
   "source": [
    "PROCESSED_DATA_PATH = \"../data/processed/PL-22-23\"\n",
    "CSV_DATA_PATH = \"../data/csv\""
   ]
  },
  {
   "cell_type": "code",
   "execution_count": 6,
   "metadata": {},
   "outputs": [
    {
     "name": "stdout",
     "output_type": "stream",
     "text": [
      "Games to process: 9\n"
     ]
    }
   ],
   "source": [
    "games = os.listdir(PROCESSED_DATA_PATH)\n",
    "game_ids = [game.split('.')[0] for game in games]\n",
    "print(f\"Games to process: {len(game_ids)}\")"
   ]
  },
  {
   "cell_type": "code",
   "execution_count": 17,
   "metadata": {},
   "outputs": [
    {
     "data": {
      "application/vnd.jupyter.widget-view+json": {
       "model_id": "fc4d009276224512adf0ef9de7e28d3f",
       "version_major": 2,
       "version_minor": 0
      },
      "text/plain": [
       "Loading Graphs:   0%|          | 0/9 [00:00<?, ?it/s]"
      ]
     },
     "metadata": {},
     "output_type": "display_data"
    }
   ],
   "source": [
    "matches = []\n",
    "\n",
    "for match_id in tqdm(game_ids, desc=\"Loading Graphs\", total=len(game_ids)):\n",
    "    match_graphs = load_graphs(match_id, PROCESSED_DATA_PATH)\n",
    "    matches += match_graphs"
   ]
  },
  {
   "cell_type": "code",
   "execution_count": 19,
   "metadata": {},
   "outputs": [
    {
     "data": {
      "text/html": [
       "<div>\n",
       "<style scoped>\n",
       "    .dataframe tbody tr th:only-of-type {\n",
       "        vertical-align: middle;\n",
       "    }\n",
       "\n",
       "    .dataframe tbody tr th {\n",
       "        vertical-align: top;\n",
       "    }\n",
       "\n",
       "    .dataframe thead th {\n",
       "        text-align: right;\n",
       "    }\n",
       "</style>\n",
       "<table border=\"1\" class=\"dataframe\">\n",
       "  <thead>\n",
       "    <tr style=\"text-align: right;\">\n",
       "      <th></th>\n",
       "      <th>match_id</th>\n",
       "      <th>interval_id</th>\n",
       "      <th>team_id</th>\n",
       "      <th>graph</th>\n",
       "    </tr>\n",
       "  </thead>\n",
       "  <tbody>\n",
       "    <tr>\n",
       "      <th>0</th>\n",
       "      <td>4436</td>\n",
       "      <td>1.0</td>\n",
       "      <td>2</td>\n",
       "      <td>(-1, 35, 9, 34, 11, 7, 1, 5, 8, 6, 12, 4)</td>\n",
       "    </tr>\n",
       "    <tr>\n",
       "      <th>1</th>\n",
       "      <td>4436</td>\n",
       "      <td>1.0</td>\n",
       "      <td>7</td>\n",
       "      <td>(-1, 17, 13, 15, 11, 9, 3, 10, 16, 28, 6, 22)</td>\n",
       "    </tr>\n",
       "    <tr>\n",
       "      <th>2</th>\n",
       "      <td>4436</td>\n",
       "      <td>2.0</td>\n",
       "      <td>2</td>\n",
       "      <td>(-1, 35, 9, 34, 11, 7, 1, 5, 8, 6, 12, 4)</td>\n",
       "    </tr>\n",
       "    <tr>\n",
       "      <th>3</th>\n",
       "      <td>4436</td>\n",
       "      <td>2.0</td>\n",
       "      <td>7</td>\n",
       "      <td>(-1, 17, 13, 15, 11, 9, 3, 10, 16, 28, 6, 22)</td>\n",
       "    </tr>\n",
       "    <tr>\n",
       "      <th>4</th>\n",
       "      <td>4436</td>\n",
       "      <td>3.0</td>\n",
       "      <td>2</td>\n",
       "      <td>(-1, 35, 9, 34, 11, 7, 1, 5, 8, 6, 12, 4)</td>\n",
       "    </tr>\n",
       "    <tr>\n",
       "      <th>...</th>\n",
       "      <td>...</td>\n",
       "      <td>...</td>\n",
       "      <td>...</td>\n",
       "      <td>...</td>\n",
       "    </tr>\n",
       "    <tr>\n",
       "      <th>877</th>\n",
       "      <td>4446</td>\n",
       "      <td>49.0</td>\n",
       "      <td>9</td>\n",
       "      <td>(-1, 1, 6, 2, 25, 26, 10, 14, 27, 3, 20, 22)</td>\n",
       "    </tr>\n",
       "    <tr>\n",
       "      <th>878</th>\n",
       "      <td>4446</td>\n",
       "      <td>50.0</td>\n",
       "      <td>2</td>\n",
       "      <td>(-1, 3, 34, 11, 14, 1, 5, 8, 6, 12, 18, 10)</td>\n",
       "    </tr>\n",
       "    <tr>\n",
       "      <th>879</th>\n",
       "      <td>4446</td>\n",
       "      <td>50.0</td>\n",
       "      <td>9</td>\n",
       "      <td>(-1, 1, 6, 2, 25, 26, 10, 14, 27, 3, 20, 22)</td>\n",
       "    </tr>\n",
       "    <tr>\n",
       "      <th>880</th>\n",
       "      <td>4446</td>\n",
       "      <td>51.0</td>\n",
       "      <td>2</td>\n",
       "      <td>(-1, 3, 34, 11, 14, 1, 5, 8, 6, 12, 18, 10)</td>\n",
       "    </tr>\n",
       "    <tr>\n",
       "      <th>881</th>\n",
       "      <td>4446</td>\n",
       "      <td>51.0</td>\n",
       "      <td>9</td>\n",
       "      <td>(-1, 1, 6, 2, 25, 26, 10, 14, 27, 3, 20, 22)</td>\n",
       "    </tr>\n",
       "  </tbody>\n",
       "</table>\n",
       "<p>882 rows × 4 columns</p>\n",
       "</div>"
      ],
      "text/plain": [
       "     match_id  interval_id  team_id  \\\n",
       "0        4436          1.0        2   \n",
       "1        4436          1.0        7   \n",
       "2        4436          2.0        2   \n",
       "3        4436          2.0        7   \n",
       "4        4436          3.0        2   \n",
       "..        ...          ...      ...   \n",
       "877      4446         49.0        9   \n",
       "878      4446         50.0        2   \n",
       "879      4446         50.0        9   \n",
       "880      4446         51.0        2   \n",
       "881      4446         51.0        9   \n",
       "\n",
       "                                             graph  \n",
       "0        (-1, 35, 9, 34, 11, 7, 1, 5, 8, 6, 12, 4)  \n",
       "1    (-1, 17, 13, 15, 11, 9, 3, 10, 16, 28, 6, 22)  \n",
       "2        (-1, 35, 9, 34, 11, 7, 1, 5, 8, 6, 12, 4)  \n",
       "3    (-1, 17, 13, 15, 11, 9, 3, 10, 16, 28, 6, 22)  \n",
       "4        (-1, 35, 9, 34, 11, 7, 1, 5, 8, 6, 12, 4)  \n",
       "..                                             ...  \n",
       "877   (-1, 1, 6, 2, 25, 26, 10, 14, 27, 3, 20, 22)  \n",
       "878    (-1, 3, 34, 11, 14, 1, 5, 8, 6, 12, 18, 10)  \n",
       "879   (-1, 1, 6, 2, 25, 26, 10, 14, 27, 3, 20, 22)  \n",
       "880    (-1, 3, 34, 11, 14, 1, 5, 8, 6, 12, 18, 10)  \n",
       "881   (-1, 1, 6, 2, 25, 26, 10, 14, 27, 3, 20, 22)  \n",
       "\n",
       "[882 rows x 4 columns]"
      ]
     },
     "execution_count": 19,
     "metadata": {},
     "output_type": "execute_result"
    }
   ],
   "source": [
    "matches_df = pd.DataFrame(matches)\n",
    "matches_df"
   ]
  },
  {
   "cell_type": "markdown",
   "metadata": {},
   "source": [
    "# Graph Stream"
   ]
  },
  {
   "cell_type": "code",
   "execution_count": 29,
   "metadata": {},
   "outputs": [],
   "source": [
    "selected_metrics = {\n",
    "    \"Density\": nx.density,\n",
    "    \"Average Clustering\": nx.average_clustering,\n",
    "    \"Betweenness Centrality\": nx.betweenness_centrality,\n",
    "    \"Closeness Centrality\": nx.closeness_centrality,\n",
    "    \"Averge Path Length\": calculate_average_path_legth_target,\n",
    "}"
   ]
  },
  {
   "cell_type": "code",
   "execution_count": 41,
   "metadata": {},
   "outputs": [],
   "source": [
    "distance_metrics = {    \n",
    "    #\"GED\": nx.graph_edit_distance,\n",
    "    # \"SimRank\": calculate_simrank,\n",
    "    \"Wasserstein\": calculate_wasserstein_distance\n",
    "}"
   ]
  },
  {
   "cell_type": "code",
   "execution_count": 34,
   "metadata": {},
   "outputs": [
    {
     "data": {
      "text/html": [
       "<div>\n",
       "<style scoped>\n",
       "    .dataframe tbody tr th:only-of-type {\n",
       "        vertical-align: middle;\n",
       "    }\n",
       "\n",
       "    .dataframe tbody tr th {\n",
       "        vertical-align: top;\n",
       "    }\n",
       "\n",
       "    .dataframe thead th {\n",
       "        text-align: right;\n",
       "    }\n",
       "</style>\n",
       "<table border=\"1\" class=\"dataframe\">\n",
       "  <thead>\n",
       "    <tr style=\"text-align: right;\">\n",
       "      <th></th>\n",
       "      <th>match_id</th>\n",
       "      <th>interval_id</th>\n",
       "      <th>team_id</th>\n",
       "      <th>graph</th>\n",
       "      <th>Density</th>\n",
       "      <th>Average Clustering</th>\n",
       "      <th>Betweenness Centrality</th>\n",
       "      <th>Closeness Centrality</th>\n",
       "      <th>Averge Path Length</th>\n",
       "    </tr>\n",
       "  </thead>\n",
       "  <tbody>\n",
       "    <tr>\n",
       "      <th>0</th>\n",
       "      <td>4436</td>\n",
       "      <td>1.0</td>\n",
       "      <td>2</td>\n",
       "      <td>(-1, 35, 9, 34, 11, 7, 1, 5, 8, 6, 12, 4)</td>\n",
       "      <td>0.106061</td>\n",
       "      <td>0.000000</td>\n",
       "      <td>{-1: 0.0, 35: 0.14545454545454545, 9: 0.0, 34:...</td>\n",
       "      <td>{-1: 0.0, 35: 0.3232323232323232, 9: 0.1888111...</td>\n",
       "      <td>inf</td>\n",
       "    </tr>\n",
       "    <tr>\n",
       "      <th>1</th>\n",
       "      <td>4436</td>\n",
       "      <td>1.0</td>\n",
       "      <td>7</td>\n",
       "      <td>(-1, 17, 13, 15, 11, 9, 3, 10, 16, 28, 6, 22)</td>\n",
       "      <td>0.090909</td>\n",
       "      <td>0.089286</td>\n",
       "      <td>{-1: 0.0, 17: 0.09090909090909091, 13: 0.0, 15...</td>\n",
       "      <td>{-1: 0.0, 17: 0.25252525252525254, 13: 0.0, 15...</td>\n",
       "      <td>inf</td>\n",
       "    </tr>\n",
       "    <tr>\n",
       "      <th>2</th>\n",
       "      <td>4436</td>\n",
       "      <td>2.0</td>\n",
       "      <td>2</td>\n",
       "      <td>(-1, 35, 9, 34, 11, 7, 1, 5, 8, 6, 12, 4)</td>\n",
       "      <td>0.075758</td>\n",
       "      <td>0.062500</td>\n",
       "      <td>{-1: 0.0, 35: 0.09999999999999999, 9: 0.009090...</td>\n",
       "      <td>{-1: 0.2727272727272727, 35: 0.204545454545454...</td>\n",
       "      <td>1.714286</td>\n",
       "    </tr>\n",
       "    <tr>\n",
       "      <th>3</th>\n",
       "      <td>4436</td>\n",
       "      <td>2.0</td>\n",
       "      <td>7</td>\n",
       "      <td>(-1, 17, 13, 15, 11, 9, 3, 10, 16, 28, 6, 22)</td>\n",
       "      <td>0.090909</td>\n",
       "      <td>0.126389</td>\n",
       "      <td>{-1: 0.0, 17: 0.0, 13: 0.03636363636363636, 15...</td>\n",
       "      <td>{-1: 0.0, 17: 0.1818181818181818, 13: 0.192513...</td>\n",
       "      <td>inf</td>\n",
       "    </tr>\n",
       "    <tr>\n",
       "      <th>4</th>\n",
       "      <td>4436</td>\n",
       "      <td>3.0</td>\n",
       "      <td>2</td>\n",
       "      <td>(-1, 35, 9, 34, 11, 7, 1, 5, 8, 6, 12, 4)</td>\n",
       "      <td>0.174242</td>\n",
       "      <td>0.242645</td>\n",
       "      <td>{-1: 0.0, 35: 0.10454545454545452, 9: 0.081818...</td>\n",
       "      <td>{-1: 0.0, 35: 0.43315508021390375, 9: 0.409090...</td>\n",
       "      <td>inf</td>\n",
       "    </tr>\n",
       "  </tbody>\n",
       "</table>\n",
       "</div>"
      ],
      "text/plain": [
       "   match_id  interval_id  team_id  \\\n",
       "0      4436          1.0        2   \n",
       "1      4436          1.0        7   \n",
       "2      4436          2.0        2   \n",
       "3      4436          2.0        7   \n",
       "4      4436          3.0        2   \n",
       "\n",
       "                                           graph   Density  \\\n",
       "0      (-1, 35, 9, 34, 11, 7, 1, 5, 8, 6, 12, 4)  0.106061   \n",
       "1  (-1, 17, 13, 15, 11, 9, 3, 10, 16, 28, 6, 22)  0.090909   \n",
       "2      (-1, 35, 9, 34, 11, 7, 1, 5, 8, 6, 12, 4)  0.075758   \n",
       "3  (-1, 17, 13, 15, 11, 9, 3, 10, 16, 28, 6, 22)  0.090909   \n",
       "4      (-1, 35, 9, 34, 11, 7, 1, 5, 8, 6, 12, 4)  0.174242   \n",
       "\n",
       "   Average Clustering                             Betweenness Centrality  \\\n",
       "0            0.000000  {-1: 0.0, 35: 0.14545454545454545, 9: 0.0, 34:...   \n",
       "1            0.089286  {-1: 0.0, 17: 0.09090909090909091, 13: 0.0, 15...   \n",
       "2            0.062500  {-1: 0.0, 35: 0.09999999999999999, 9: 0.009090...   \n",
       "3            0.126389  {-1: 0.0, 17: 0.0, 13: 0.03636363636363636, 15...   \n",
       "4            0.242645  {-1: 0.0, 35: 0.10454545454545452, 9: 0.081818...   \n",
       "\n",
       "                                Closeness Centrality  Averge Path Length  \n",
       "0  {-1: 0.0, 35: 0.3232323232323232, 9: 0.1888111...                 inf  \n",
       "1  {-1: 0.0, 17: 0.25252525252525254, 13: 0.0, 15...                 inf  \n",
       "2  {-1: 0.2727272727272727, 35: 0.204545454545454...            1.714286  \n",
       "3  {-1: 0.0, 17: 0.1818181818181818, 13: 0.192513...                 inf  \n",
       "4  {-1: 0.0, 35: 0.43315508021390375, 9: 0.409090...                 inf  "
      ]
     },
     "execution_count": 34,
     "metadata": {},
     "output_type": "execute_result"
    }
   ],
   "source": [
    "for metric_name, metric_func in selected_metrics.items():\n",
    "    matches_df[metric_name] = matches_df[\"graph\"].apply(lambda x: metric_func(x))\n",
    "\n",
    "matches_df.head()"
   ]
  },
  {
   "cell_type": "code",
   "execution_count": 35,
   "metadata": {},
   "outputs": [
    {
     "data": {
      "text/html": [
       "<div>\n",
       "<style scoped>\n",
       "    .dataframe tbody tr th:only-of-type {\n",
       "        vertical-align: middle;\n",
       "    }\n",
       "\n",
       "    .dataframe tbody tr th {\n",
       "        vertical-align: top;\n",
       "    }\n",
       "\n",
       "    .dataframe thead th {\n",
       "        text-align: right;\n",
       "    }\n",
       "</style>\n",
       "<table border=\"1\" class=\"dataframe\">\n",
       "  <thead>\n",
       "    <tr style=\"text-align: right;\">\n",
       "      <th></th>\n",
       "      <th>match_id</th>\n",
       "      <th>interval_id</th>\n",
       "      <th>team_id</th>\n",
       "      <th>graph</th>\n",
       "      <th>Density</th>\n",
       "      <th>Average Clustering</th>\n",
       "      <th>Betweenness Centrality</th>\n",
       "      <th>Closeness Centrality</th>\n",
       "      <th>Averge Path Length</th>\n",
       "    </tr>\n",
       "  </thead>\n",
       "  <tbody>\n",
       "    <tr>\n",
       "      <th>0</th>\n",
       "      <td>4436</td>\n",
       "      <td>1.0</td>\n",
       "      <td>2</td>\n",
       "      <td>(-1, 35, 9, 34, 11, 7, 1, 5, 8, 6, 12, 4)</td>\n",
       "      <td>0.106061</td>\n",
       "      <td>0.000000</td>\n",
       "      <td>{-1: 0.0, 35: 0.14545454545454545, 9: 0.0, 34:...</td>\n",
       "      <td>{-1: 0.0, 35: 0.3232323232323232, 9: 0.1888111...</td>\n",
       "      <td>inf</td>\n",
       "    </tr>\n",
       "    <tr>\n",
       "      <th>1</th>\n",
       "      <td>4436</td>\n",
       "      <td>2.0</td>\n",
       "      <td>2</td>\n",
       "      <td>(-1, 35, 9, 34, 11, 7, 1, 5, 8, 6, 12, 4)</td>\n",
       "      <td>0.075758</td>\n",
       "      <td>0.062500</td>\n",
       "      <td>{-1: 0.0, 35: 0.09999999999999999, 9: 0.009090...</td>\n",
       "      <td>{-1: 0.2727272727272727, 35: 0.204545454545454...</td>\n",
       "      <td>1.714286</td>\n",
       "    </tr>\n",
       "    <tr>\n",
       "      <th>2</th>\n",
       "      <td>4436</td>\n",
       "      <td>3.0</td>\n",
       "      <td>2</td>\n",
       "      <td>(-1, 35, 9, 34, 11, 7, 1, 5, 8, 6, 12, 4)</td>\n",
       "      <td>0.174242</td>\n",
       "      <td>0.242645</td>\n",
       "      <td>{-1: 0.0, 35: 0.10454545454545452, 9: 0.081818...</td>\n",
       "      <td>{-1: 0.0, 35: 0.43315508021390375, 9: 0.409090...</td>\n",
       "      <td>inf</td>\n",
       "    </tr>\n",
       "    <tr>\n",
       "      <th>3</th>\n",
       "      <td>4436</td>\n",
       "      <td>4.0</td>\n",
       "      <td>2</td>\n",
       "      <td>(-1, 35, 9, 34, 11, 7, 1, 5, 8, 6, 12, 4)</td>\n",
       "      <td>0.090909</td>\n",
       "      <td>0.058532</td>\n",
       "      <td>{-1: 0.0, 35: 0.39999999999999997, 9: 0.127272...</td>\n",
       "      <td>{-1: 0.28321678321678323, 35: 0.34224598930481...</td>\n",
       "      <td>2.600000</td>\n",
       "    </tr>\n",
       "    <tr>\n",
       "      <th>4</th>\n",
       "      <td>4436</td>\n",
       "      <td>5.0</td>\n",
       "      <td>2</td>\n",
       "      <td>(-1, 35, 9, 34, 11, 7, 1, 5, 8, 6, 12, 4)</td>\n",
       "      <td>0.121212</td>\n",
       "      <td>0.129299</td>\n",
       "      <td>{-1: 0.0, 35: 0.13636363636363635, 9: 0.099999...</td>\n",
       "      <td>{-1: 0.27548209366391185, 35: 0.33471074380165...</td>\n",
       "      <td>3.000000</td>\n",
       "    </tr>\n",
       "    <tr>\n",
       "      <th>...</th>\n",
       "      <td>...</td>\n",
       "      <td>...</td>\n",
       "      <td>...</td>\n",
       "      <td>...</td>\n",
       "      <td>...</td>\n",
       "      <td>...</td>\n",
       "      <td>...</td>\n",
       "      <td>...</td>\n",
       "      <td>...</td>\n",
       "    </tr>\n",
       "    <tr>\n",
       "      <th>877</th>\n",
       "      <td>4446</td>\n",
       "      <td>47.0</td>\n",
       "      <td>9</td>\n",
       "      <td>(-1, 1, 6, 2, 25, 26, 10, 14, 27, 3, 20, 22)</td>\n",
       "      <td>0.000000</td>\n",
       "      <td>0.000000</td>\n",
       "      <td>{-1: 0.0, 1: 0.0, 6: 0.0, 2: 0.0, 25: 0.0, 26:...</td>\n",
       "      <td>{-1: 0.0, 1: 0.0, 6: 0.0, 2: 0.0, 25: 0.0, 26:...</td>\n",
       "      <td>inf</td>\n",
       "    </tr>\n",
       "    <tr>\n",
       "      <th>878</th>\n",
       "      <td>4446</td>\n",
       "      <td>48.0</td>\n",
       "      <td>9</td>\n",
       "      <td>(-1, 1, 6, 2, 25, 26, 10, 14, 27, 3, 20, 22)</td>\n",
       "      <td>0.000000</td>\n",
       "      <td>0.000000</td>\n",
       "      <td>{-1: 0.0, 1: 0.0, 6: 0.0, 2: 0.0, 25: 0.0, 26:...</td>\n",
       "      <td>{-1: 0.0, 1: 0.0, 6: 0.0, 2: 0.0, 25: 0.0, 26:...</td>\n",
       "      <td>inf</td>\n",
       "    </tr>\n",
       "    <tr>\n",
       "      <th>879</th>\n",
       "      <td>4446</td>\n",
       "      <td>49.0</td>\n",
       "      <td>9</td>\n",
       "      <td>(-1, 1, 6, 2, 25, 26, 10, 14, 27, 3, 20, 22)</td>\n",
       "      <td>0.000000</td>\n",
       "      <td>0.000000</td>\n",
       "      <td>{-1: 0.0, 1: 0.0, 6: 0.0, 2: 0.0, 25: 0.0, 26:...</td>\n",
       "      <td>{-1: 0.0, 1: 0.0, 6: 0.0, 2: 0.0, 25: 0.0, 26:...</td>\n",
       "      <td>inf</td>\n",
       "    </tr>\n",
       "    <tr>\n",
       "      <th>880</th>\n",
       "      <td>4446</td>\n",
       "      <td>50.0</td>\n",
       "      <td>9</td>\n",
       "      <td>(-1, 1, 6, 2, 25, 26, 10, 14, 27, 3, 20, 22)</td>\n",
       "      <td>0.000000</td>\n",
       "      <td>0.000000</td>\n",
       "      <td>{-1: 0.0, 1: 0.0, 6: 0.0, 2: 0.0, 25: 0.0, 26:...</td>\n",
       "      <td>{-1: 0.0, 1: 0.0, 6: 0.0, 2: 0.0, 25: 0.0, 26:...</td>\n",
       "      <td>inf</td>\n",
       "    </tr>\n",
       "    <tr>\n",
       "      <th>881</th>\n",
       "      <td>4446</td>\n",
       "      <td>51.0</td>\n",
       "      <td>9</td>\n",
       "      <td>(-1, 1, 6, 2, 25, 26, 10, 14, 27, 3, 20, 22)</td>\n",
       "      <td>0.000000</td>\n",
       "      <td>0.000000</td>\n",
       "      <td>{-1: 0.0, 1: 0.0, 6: 0.0, 2: 0.0, 25: 0.0, 26:...</td>\n",
       "      <td>{-1: 0.0, 1: 0.0, 6: 0.0, 2: 0.0, 25: 0.0, 26:...</td>\n",
       "      <td>inf</td>\n",
       "    </tr>\n",
       "  </tbody>\n",
       "</table>\n",
       "<p>882 rows × 9 columns</p>\n",
       "</div>"
      ],
      "text/plain": [
       "     match_id  interval_id  team_id  \\\n",
       "0        4436          1.0        2   \n",
       "1        4436          2.0        2   \n",
       "2        4436          3.0        2   \n",
       "3        4436          4.0        2   \n",
       "4        4436          5.0        2   \n",
       "..        ...          ...      ...   \n",
       "877      4446         47.0        9   \n",
       "878      4446         48.0        9   \n",
       "879      4446         49.0        9   \n",
       "880      4446         50.0        9   \n",
       "881      4446         51.0        9   \n",
       "\n",
       "                                            graph   Density  \\\n",
       "0       (-1, 35, 9, 34, 11, 7, 1, 5, 8, 6, 12, 4)  0.106061   \n",
       "1       (-1, 35, 9, 34, 11, 7, 1, 5, 8, 6, 12, 4)  0.075758   \n",
       "2       (-1, 35, 9, 34, 11, 7, 1, 5, 8, 6, 12, 4)  0.174242   \n",
       "3       (-1, 35, 9, 34, 11, 7, 1, 5, 8, 6, 12, 4)  0.090909   \n",
       "4       (-1, 35, 9, 34, 11, 7, 1, 5, 8, 6, 12, 4)  0.121212   \n",
       "..                                            ...       ...   \n",
       "877  (-1, 1, 6, 2, 25, 26, 10, 14, 27, 3, 20, 22)  0.000000   \n",
       "878  (-1, 1, 6, 2, 25, 26, 10, 14, 27, 3, 20, 22)  0.000000   \n",
       "879  (-1, 1, 6, 2, 25, 26, 10, 14, 27, 3, 20, 22)  0.000000   \n",
       "880  (-1, 1, 6, 2, 25, 26, 10, 14, 27, 3, 20, 22)  0.000000   \n",
       "881  (-1, 1, 6, 2, 25, 26, 10, 14, 27, 3, 20, 22)  0.000000   \n",
       "\n",
       "     Average Clustering                             Betweenness Centrality  \\\n",
       "0              0.000000  {-1: 0.0, 35: 0.14545454545454545, 9: 0.0, 34:...   \n",
       "1              0.062500  {-1: 0.0, 35: 0.09999999999999999, 9: 0.009090...   \n",
       "2              0.242645  {-1: 0.0, 35: 0.10454545454545452, 9: 0.081818...   \n",
       "3              0.058532  {-1: 0.0, 35: 0.39999999999999997, 9: 0.127272...   \n",
       "4              0.129299  {-1: 0.0, 35: 0.13636363636363635, 9: 0.099999...   \n",
       "..                  ...                                                ...   \n",
       "877            0.000000  {-1: 0.0, 1: 0.0, 6: 0.0, 2: 0.0, 25: 0.0, 26:...   \n",
       "878            0.000000  {-1: 0.0, 1: 0.0, 6: 0.0, 2: 0.0, 25: 0.0, 26:...   \n",
       "879            0.000000  {-1: 0.0, 1: 0.0, 6: 0.0, 2: 0.0, 25: 0.0, 26:...   \n",
       "880            0.000000  {-1: 0.0, 1: 0.0, 6: 0.0, 2: 0.0, 25: 0.0, 26:...   \n",
       "881            0.000000  {-1: 0.0, 1: 0.0, 6: 0.0, 2: 0.0, 25: 0.0, 26:...   \n",
       "\n",
       "                                  Closeness Centrality  Averge Path Length  \n",
       "0    {-1: 0.0, 35: 0.3232323232323232, 9: 0.1888111...                 inf  \n",
       "1    {-1: 0.2727272727272727, 35: 0.204545454545454...            1.714286  \n",
       "2    {-1: 0.0, 35: 0.43315508021390375, 9: 0.409090...                 inf  \n",
       "3    {-1: 0.28321678321678323, 35: 0.34224598930481...            2.600000  \n",
       "4    {-1: 0.27548209366391185, 35: 0.33471074380165...            3.000000  \n",
       "..                                                 ...                 ...  \n",
       "877  {-1: 0.0, 1: 0.0, 6: 0.0, 2: 0.0, 25: 0.0, 26:...                 inf  \n",
       "878  {-1: 0.0, 1: 0.0, 6: 0.0, 2: 0.0, 25: 0.0, 26:...                 inf  \n",
       "879  {-1: 0.0, 1: 0.0, 6: 0.0, 2: 0.0, 25: 0.0, 26:...                 inf  \n",
       "880  {-1: 0.0, 1: 0.0, 6: 0.0, 2: 0.0, 25: 0.0, 26:...                 inf  \n",
       "881  {-1: 0.0, 1: 0.0, 6: 0.0, 2: 0.0, 25: 0.0, 26:...                 inf  \n",
       "\n",
       "[882 rows x 9 columns]"
      ]
     },
     "execution_count": 35,
     "metadata": {},
     "output_type": "execute_result"
    }
   ],
   "source": [
    "df_sorted = matches_df.sort_values(by=['match_id', 'team_id', 'interval_id']).reset_index(drop=True)\n",
    "df_sorted"
   ]
  },
  {
   "cell_type": "code",
   "execution_count": 45,
   "metadata": {},
   "outputs": [
    {
     "data": {
      "text/plain": [
       "match_id  team_id\n",
       "4436      2          48\n",
       "          7          48\n",
       "4438      1          50\n",
       "          3          50\n",
       "4439      20         49\n",
       "          55         49\n",
       "4440      9          48\n",
       "          119        48\n",
       "4441      13         48\n",
       "          221        48\n",
       "4442      16         48\n",
       "          17         48\n",
       "4443      6          52\n",
       "          8          52\n",
       "4444      4          49\n",
       "          12         49\n",
       "4446      2          49\n",
       "          9          49\n",
       "dtype: int64"
      ]
     },
     "execution_count": 45,
     "metadata": {},
     "output_type": "execute_result"
    }
   ],
   "source": [
    "df_grouped = df_sorted.groupby(['match_id', 'team_id']).size()\n",
    "df_grouped"
   ]
  },
  {
   "cell_type": "code",
   "execution_count": 46,
   "metadata": {},
   "outputs": [
    {
     "data": {
      "application/vnd.jupyter.widget-view+json": {
       "model_id": "02e38379c2664dd19d37941d1ac7d8f5",
       "version_major": 2,
       "version_minor": 0
      },
      "text/plain": [
       "Calculating Distances:   0%|          | 0/18 [00:00<?, ?it/s]"
      ]
     },
     "metadata": {},
     "output_type": "display_data"
    },
    {
     "data": {
      "application/vnd.jupyter.widget-view+json": {
       "model_id": "db0d67a861ce4f32bd2132b2faa49a51",
       "version_major": 2,
       "version_minor": 0
      },
      "text/plain": [
       "Calculating Distances:   0%|          | 0/47 [00:00<?, ?it/s]"
      ]
     },
     "metadata": {},
     "output_type": "display_data"
    },
    {
     "data": {
      "application/vnd.jupyter.widget-view+json": {
       "model_id": "268f39a4453d4afaa2c2bd773ade7b25",
       "version_major": 2,
       "version_minor": 0
      },
      "text/plain": [
       "Calculating Distances:   0%|          | 0/47 [00:00<?, ?it/s]"
      ]
     },
     "metadata": {},
     "output_type": "display_data"
    },
    {
     "data": {
      "application/vnd.jupyter.widget-view+json": {
       "model_id": "5b95b5fa94df4b2fbb6de30b2210ca2d",
       "version_major": 2,
       "version_minor": 0
      },
      "text/plain": [
       "Calculating Distances:   0%|          | 0/49 [00:00<?, ?it/s]"
      ]
     },
     "metadata": {},
     "output_type": "display_data"
    },
    {
     "data": {
      "application/vnd.jupyter.widget-view+json": {
       "model_id": "6abc0d44bac54690ae5f58d13799fcb7",
       "version_major": 2,
       "version_minor": 0
      },
      "text/plain": [
       "Calculating Distances:   0%|          | 0/49 [00:00<?, ?it/s]"
      ]
     },
     "metadata": {},
     "output_type": "display_data"
    },
    {
     "data": {
      "application/vnd.jupyter.widget-view+json": {
       "model_id": "c92d7c5495a14d65bddce1017626bd7a",
       "version_major": 2,
       "version_minor": 0
      },
      "text/plain": [
       "Calculating Distances:   0%|          | 0/48 [00:00<?, ?it/s]"
      ]
     },
     "metadata": {},
     "output_type": "display_data"
    },
    {
     "data": {
      "application/vnd.jupyter.widget-view+json": {
       "model_id": "a6f0ce98fb9446f2a04b0360662df075",
       "version_major": 2,
       "version_minor": 0
      },
      "text/plain": [
       "Calculating Distances:   0%|          | 0/48 [00:00<?, ?it/s]"
      ]
     },
     "metadata": {},
     "output_type": "display_data"
    },
    {
     "data": {
      "application/vnd.jupyter.widget-view+json": {
       "model_id": "4ea259de7a884600bc0e4f9d0e321bb4",
       "version_major": 2,
       "version_minor": 0
      },
      "text/plain": [
       "Calculating Distances:   0%|          | 0/47 [00:00<?, ?it/s]"
      ]
     },
     "metadata": {},
     "output_type": "display_data"
    },
    {
     "data": {
      "application/vnd.jupyter.widget-view+json": {
       "model_id": "9940066cd6934c04b895f1e65b25a100",
       "version_major": 2,
       "version_minor": 0
      },
      "text/plain": [
       "Calculating Distances:   0%|          | 0/47 [00:00<?, ?it/s]"
      ]
     },
     "metadata": {},
     "output_type": "display_data"
    },
    {
     "data": {
      "application/vnd.jupyter.widget-view+json": {
       "model_id": "d5f6896bc5074bb1b9d3db5cdd5f3c8f",
       "version_major": 2,
       "version_minor": 0
      },
      "text/plain": [
       "Calculating Distances:   0%|          | 0/47 [00:00<?, ?it/s]"
      ]
     },
     "metadata": {},
     "output_type": "display_data"
    },
    {
     "data": {
      "application/vnd.jupyter.widget-view+json": {
       "model_id": "98b9fb7e3cb843349d234158feea063d",
       "version_major": 2,
       "version_minor": 0
      },
      "text/plain": [
       "Calculating Distances:   0%|          | 0/47 [00:00<?, ?it/s]"
      ]
     },
     "metadata": {},
     "output_type": "display_data"
    },
    {
     "data": {
      "application/vnd.jupyter.widget-view+json": {
       "model_id": "93e5b3ff16b94637ab16ed473eee536d",
       "version_major": 2,
       "version_minor": 0
      },
      "text/plain": [
       "Calculating Distances:   0%|          | 0/47 [00:00<?, ?it/s]"
      ]
     },
     "metadata": {},
     "output_type": "display_data"
    },
    {
     "data": {
      "application/vnd.jupyter.widget-view+json": {
       "model_id": "9481fdcf1f76432385ee20b4072dd25d",
       "version_major": 2,
       "version_minor": 0
      },
      "text/plain": [
       "Calculating Distances:   0%|          | 0/47 [00:00<?, ?it/s]"
      ]
     },
     "metadata": {},
     "output_type": "display_data"
    },
    {
     "data": {
      "application/vnd.jupyter.widget-view+json": {
       "model_id": "ba0a254128ea40018dab18732c3b8f97",
       "version_major": 2,
       "version_minor": 0
      },
      "text/plain": [
       "Calculating Distances:   0%|          | 0/51 [00:00<?, ?it/s]"
      ]
     },
     "metadata": {},
     "output_type": "display_data"
    },
    {
     "data": {
      "application/vnd.jupyter.widget-view+json": {
       "model_id": "a7a0ed9695af421390cd3598ef8702f3",
       "version_major": 2,
       "version_minor": 0
      },
      "text/plain": [
       "Calculating Distances:   0%|          | 0/51 [00:00<?, ?it/s]"
      ]
     },
     "metadata": {},
     "output_type": "display_data"
    },
    {
     "data": {
      "application/vnd.jupyter.widget-view+json": {
       "model_id": "30a772827eae4808927355931d0a07ad",
       "version_major": 2,
       "version_minor": 0
      },
      "text/plain": [
       "Calculating Distances:   0%|          | 0/48 [00:00<?, ?it/s]"
      ]
     },
     "metadata": {},
     "output_type": "display_data"
    },
    {
     "data": {
      "application/vnd.jupyter.widget-view+json": {
       "model_id": "e6ff4420c84143e7b4b9a0d60e0890d8",
       "version_major": 2,
       "version_minor": 0
      },
      "text/plain": [
       "Calculating Distances:   0%|          | 0/48 [00:00<?, ?it/s]"
      ]
     },
     "metadata": {},
     "output_type": "display_data"
    },
    {
     "data": {
      "application/vnd.jupyter.widget-view+json": {
       "model_id": "eeeb70eb37a14644a9a4546cadf3a2c1",
       "version_major": 2,
       "version_minor": 0
      },
      "text/plain": [
       "Calculating Distances:   0%|          | 0/48 [00:00<?, ?it/s]"
      ]
     },
     "metadata": {},
     "output_type": "display_data"
    },
    {
     "data": {
      "application/vnd.jupyter.widget-view+json": {
       "model_id": "a090a3696083407780ec0c00e9528226",
       "version_major": 2,
       "version_minor": 0
      },
      "text/plain": [
       "Calculating Distances:   0%|          | 0/48 [00:00<?, ?it/s]"
      ]
     },
     "metadata": {},
     "output_type": "display_data"
    },
    {
     "data": {
      "text/html": [
       "<div>\n",
       "<style scoped>\n",
       "    .dataframe tbody tr th:only-of-type {\n",
       "        vertical-align: middle;\n",
       "    }\n",
       "\n",
       "    .dataframe tbody tr th {\n",
       "        vertical-align: top;\n",
       "    }\n",
       "\n",
       "    .dataframe thead th {\n",
       "        text-align: right;\n",
       "    }\n",
       "</style>\n",
       "<table border=\"1\" class=\"dataframe\">\n",
       "  <thead>\n",
       "    <tr style=\"text-align: right;\">\n",
       "      <th></th>\n",
       "      <th>match_id</th>\n",
       "      <th>team_id</th>\n",
       "      <th>interval_id</th>\n",
       "      <th>Wasserstein</th>\n",
       "    </tr>\n",
       "  </thead>\n",
       "  <tbody>\n",
       "    <tr>\n",
       "      <th>0</th>\n",
       "      <td>4436</td>\n",
       "      <td>2</td>\n",
       "      <td>1.0</td>\n",
       "      <td>0.666667</td>\n",
       "    </tr>\n",
       "    <tr>\n",
       "      <th>1</th>\n",
       "      <td>4436</td>\n",
       "      <td>2</td>\n",
       "      <td>2.0</td>\n",
       "      <td>2.166667</td>\n",
       "    </tr>\n",
       "    <tr>\n",
       "      <th>2</th>\n",
       "      <td>4436</td>\n",
       "      <td>2</td>\n",
       "      <td>3.0</td>\n",
       "      <td>1.833333</td>\n",
       "    </tr>\n",
       "    <tr>\n",
       "      <th>3</th>\n",
       "      <td>4436</td>\n",
       "      <td>2</td>\n",
       "      <td>4.0</td>\n",
       "      <td>0.666667</td>\n",
       "    </tr>\n",
       "    <tr>\n",
       "      <th>4</th>\n",
       "      <td>4436</td>\n",
       "      <td>2</td>\n",
       "      <td>5.0</td>\n",
       "      <td>0.666667</td>\n",
       "    </tr>\n",
       "    <tr>\n",
       "      <th>...</th>\n",
       "      <td>...</td>\n",
       "      <td>...</td>\n",
       "      <td>...</td>\n",
       "      <td>...</td>\n",
       "    </tr>\n",
       "    <tr>\n",
       "      <th>859</th>\n",
       "      <td>4446</td>\n",
       "      <td>9</td>\n",
       "      <td>46.0</td>\n",
       "      <td>0.000000</td>\n",
       "    </tr>\n",
       "    <tr>\n",
       "      <th>860</th>\n",
       "      <td>4446</td>\n",
       "      <td>9</td>\n",
       "      <td>47.0</td>\n",
       "      <td>0.000000</td>\n",
       "    </tr>\n",
       "    <tr>\n",
       "      <th>861</th>\n",
       "      <td>4446</td>\n",
       "      <td>9</td>\n",
       "      <td>48.0</td>\n",
       "      <td>0.000000</td>\n",
       "    </tr>\n",
       "    <tr>\n",
       "      <th>862</th>\n",
       "      <td>4446</td>\n",
       "      <td>9</td>\n",
       "      <td>49.0</td>\n",
       "      <td>0.000000</td>\n",
       "    </tr>\n",
       "    <tr>\n",
       "      <th>863</th>\n",
       "      <td>4446</td>\n",
       "      <td>9</td>\n",
       "      <td>50.0</td>\n",
       "      <td>0.000000</td>\n",
       "    </tr>\n",
       "  </tbody>\n",
       "</table>\n",
       "<p>864 rows × 4 columns</p>\n",
       "</div>"
      ],
      "text/plain": [
       "     match_id  team_id  interval_id  Wasserstein\n",
       "0        4436        2          1.0     0.666667\n",
       "1        4436        2          2.0     2.166667\n",
       "2        4436        2          3.0     1.833333\n",
       "3        4436        2          4.0     0.666667\n",
       "4        4436        2          5.0     0.666667\n",
       "..        ...      ...          ...          ...\n",
       "859      4446        9         46.0     0.000000\n",
       "860      4446        9         47.0     0.000000\n",
       "861      4446        9         48.0     0.000000\n",
       "862      4446        9         49.0     0.000000\n",
       "863      4446        9         50.0     0.000000\n",
       "\n",
       "[864 rows x 4 columns]"
      ]
     },
     "execution_count": 46,
     "metadata": {},
     "output_type": "execute_result"
    }
   ],
   "source": [
    "# Lista para armazenar os resultados\n",
    "distance_data = []\n",
    "\n",
    "# Itera sobre os grupos de 'match_id' e 'team_id'\n",
    "for (match_id, team_id), group in tqdm(df_sorted.groupby(['match_id', 'team_id']), desc=\"Calculating Distances\", total=len(df_sorted.groupby(['match_id', 'team_id']))):\n",
    "    # Ordena o grupo por 'interval_id'\n",
    "    group = group.sort_values(by='interval_id').reset_index(drop=True)\n",
    "    # Itera sobre os pares de grafos consecutivos\n",
    "    for i in tqdm(range(len(group) - 1), desc=\"Calculating Distances\", total=len(group) - 1):\n",
    "        current_row = group.iloc[i]\n",
    "        next_row = group.iloc[i + 1]\n",
    "        # Verifica se os 'interval_id' são consecutivos\n",
    "        distances = {'match_id': match_id, 'team_id': team_id, 'interval_id': current_row['interval_id']}\n",
    "        G1 = current_row['graph']\n",
    "        G2 = next_row['graph']\n",
    "        # Calcula cada métrica de distância\n",
    "        for metric_name, metric_fn in distance_metrics.items():\n",
    "            distances[metric_name] = metric_fn(G1, G2)\n",
    "        distance_data.append(distances)\n",
    "\n",
    "# Cria o novo DataFrame com as métricas de distância\n",
    "df_distances = pd.DataFrame(distance_data)\n",
    "df_distances"
   ]
  },
  {
   "cell_type": "code",
   "execution_count": 48,
   "metadata": {},
   "outputs": [
    {
     "data": {
      "text/html": [
       "<div>\n",
       "<style scoped>\n",
       "    .dataframe tbody tr th:only-of-type {\n",
       "        vertical-align: middle;\n",
       "    }\n",
       "\n",
       "    .dataframe tbody tr th {\n",
       "        vertical-align: top;\n",
       "    }\n",
       "\n",
       "    .dataframe thead th {\n",
       "        text-align: right;\n",
       "    }\n",
       "</style>\n",
       "<table border=\"1\" class=\"dataframe\">\n",
       "  <thead>\n",
       "    <tr style=\"text-align: right;\">\n",
       "      <th></th>\n",
       "      <th>match_id</th>\n",
       "      <th>team_id</th>\n",
       "      <th>interval_id</th>\n",
       "      <th>Wasserstein</th>\n",
       "    </tr>\n",
       "  </thead>\n",
       "  <tbody>\n",
       "    <tr>\n",
       "      <th>0</th>\n",
       "      <td>4436</td>\n",
       "      <td>2</td>\n",
       "      <td>1.0</td>\n",
       "      <td>0.666667</td>\n",
       "    </tr>\n",
       "    <tr>\n",
       "      <th>1</th>\n",
       "      <td>4436</td>\n",
       "      <td>2</td>\n",
       "      <td>2.0</td>\n",
       "      <td>2.166667</td>\n",
       "    </tr>\n",
       "    <tr>\n",
       "      <th>2</th>\n",
       "      <td>4436</td>\n",
       "      <td>2</td>\n",
       "      <td>3.0</td>\n",
       "      <td>1.833333</td>\n",
       "    </tr>\n",
       "    <tr>\n",
       "      <th>3</th>\n",
       "      <td>4436</td>\n",
       "      <td>2</td>\n",
       "      <td>4.0</td>\n",
       "      <td>0.666667</td>\n",
       "    </tr>\n",
       "    <tr>\n",
       "      <th>4</th>\n",
       "      <td>4436</td>\n",
       "      <td>2</td>\n",
       "      <td>5.0</td>\n",
       "      <td>0.666667</td>\n",
       "    </tr>\n",
       "    <tr>\n",
       "      <th>5</th>\n",
       "      <td>4436</td>\n",
       "      <td>2</td>\n",
       "      <td>6.0</td>\n",
       "      <td>0.833333</td>\n",
       "    </tr>\n",
       "    <tr>\n",
       "      <th>6</th>\n",
       "      <td>4436</td>\n",
       "      <td>2</td>\n",
       "      <td>7.0</td>\n",
       "      <td>0.166667</td>\n",
       "    </tr>\n",
       "    <tr>\n",
       "      <th>7</th>\n",
       "      <td>4436</td>\n",
       "      <td>2</td>\n",
       "      <td>8.0</td>\n",
       "      <td>1.166667</td>\n",
       "    </tr>\n",
       "    <tr>\n",
       "      <th>8</th>\n",
       "      <td>4436</td>\n",
       "      <td>2</td>\n",
       "      <td>9.0</td>\n",
       "      <td>0.333333</td>\n",
       "    </tr>\n",
       "    <tr>\n",
       "      <th>9</th>\n",
       "      <td>4436</td>\n",
       "      <td>2</td>\n",
       "      <td>10.0</td>\n",
       "      <td>0.833333</td>\n",
       "    </tr>\n",
       "  </tbody>\n",
       "</table>\n",
       "</div>"
      ],
      "text/plain": [
       "   match_id  team_id  interval_id  Wasserstein\n",
       "0      4436        2          1.0     0.666667\n",
       "1      4436        2          2.0     2.166667\n",
       "2      4436        2          3.0     1.833333\n",
       "3      4436        2          4.0     0.666667\n",
       "4      4436        2          5.0     0.666667\n",
       "5      4436        2          6.0     0.833333\n",
       "6      4436        2          7.0     0.166667\n",
       "7      4436        2          8.0     1.166667\n",
       "8      4436        2          9.0     0.333333\n",
       "9      4436        2         10.0     0.833333"
      ]
     },
     "execution_count": 48,
     "metadata": {},
     "output_type": "execute_result"
    }
   ],
   "source": [
    "df_distances.iloc[:10]"
   ]
  },
  {
   "cell_type": "code",
   "execution_count": 168,
   "metadata": {},
   "outputs": [
    {
     "name": "stdout",
     "output_type": "stream",
     "text": [
      "[0.33333333 1.66666667 0.33333333 0.5        0.66666667 0.16666667\n",
      " 0.16666667 1.66666667 1.83333333 0.83333333 1.33333333 0.66666667\n",
      " 1.5        0.83333333 2.83333333 3.16666667 0.5        0.5\n",
      " 1.83333333 1.33333333 0.5        0.33333333 0.66666667 1.83333333\n",
      " 2.         0.5        2.         0.66666667 0.85897436 1.69230769\n",
      " 1.16666667 1.         1.5        1.33333333 0.66666667 0.83333333\n",
      " 2.16666667 2.83333333 1.83333333 2.83333333 2.5        0.33333333\n",
      " 0.66666667 2.66666667 1.5        1.         2.5       ]\n",
      "[0.66666667 2.16666667 1.83333333 0.66666667 0.66666667 0.83333333\n",
      " 0.16666667 1.16666667 0.33333333 0.83333333 1.5        1.5\n",
      " 1.33333333 1.83333333 0.83333333 2.16666667 0.33333333 0.5\n",
      " 1.83333333 0.5        0.66666667 0.83333333 1.33333333 0.5\n",
      " 0.16666667 0.5        1.66666667 1.83333333 0.16666667 0.\n",
      " 1.         0.66666667 0.5        1.66666667 0.66666667 0.5\n",
      " 1.         0.33333333 0.16666667 0.33333333 0.16666667 2.16666667\n",
      " 1.83333333 0.5        0.16666667 0.16666667 0.5       ]\n",
      "[1.         3.83333333 2.16666667 1.16666667 1.33333333 1.\n",
      " 0.33333333 2.83333333 2.16666667 1.66666667 2.83333333 2.16666667\n",
      " 2.83333333 2.66666667 3.66666667 5.33333333 0.83333333 1.\n",
      " 3.66666667 1.83333333 1.16666667 1.16666667 2.         2.33333333\n",
      " 2.16666667 1.         3.66666667 2.5        1.02564103 1.69230769\n",
      " 2.16666667 1.66666667 2.         3.         1.33333333 1.33333333\n",
      " 3.16666667 3.16666667 2.         3.16666667 2.66666667 2.5\n",
      " 2.5        3.16666667 1.66666667 1.16666667 3.        ]\n"
     ]
    }
   ],
   "source": [
    "from src.concept_drift.drift_points import detect_kswin_drift\n",
    "import numpy as np\n",
    "\n",
    "metric_series7 = df_distances[(df_distances['match_id']==4436) & (df_distances['team_id']==7)]['Wasserstein'].values\n",
    "print(metric_series7)\n",
    "metric_series2 = df_distances[(df_distances['match_id']==4436) & (df_distances['team_id']==2)]['Wasserstein'].values\n",
    "print(metric_series2)\n",
    "metric_series = np.sum([metric_series7,metric_series2],axis=0)\n",
    "print(metric_series)"
   ]
  },
  {
   "cell_type": "markdown",
   "metadata": {},
   "source": [
    "# Viz"
   ]
  },
  {
   "cell_type": "code",
   "execution_count": 197,
   "metadata": {},
   "outputs": [
    {
     "name": "stdout",
     "output_type": "stream",
     "text": [
      "[9, 21, 39]\n"
     ]
    }
   ],
   "source": [
    "drift_points = detect_kswin_drift(metric_series, a=0.1,ws=10,ss=3,seed=42)\n",
    "print(drift_points)"
   ]
  },
  {
   "cell_type": "code",
   "execution_count": 199,
   "metadata": {},
   "outputs": [
    {
     "data": {
      "image/png": "[encoded data removed]",
      "text/plain": [
       "<Figure size 640x480 with 1 Axes>"
      ]
     },
     "metadata": {},
     "output_type": "display_data"
    }
   ],
   "source": [
    "import matplotlib.pyplot as plt\n",
    "import numpy as np\n",
    "\n",
    "plt.plot(metric_series)\n",
    "for point in drift_points:\n",
    "    plt.axvline(x=point, color='r', linestyle='--')\n",
    "\n",
    "plt.xticks(np.arange(0, len(metric_series), step=2))\n",
    "plt.show()"
   ]
  },
  {
   "cell_type": "markdown",
   "metadata": {},
   "source": [
    "# Concept Drift"
   ]
  }
 ],
 "metadata": {
  "kernelspec": {
   "display_name": ".venv",
   "language": "python",
   "name": "python3"
  },
  "language_info": {
   "codemirror_mode": {
    "name": "ipython",
    "version": 3
   },
   "file_extension": ".py",
   "mimetype": "text/x-python",
   "name": "python",
   "nbconvert_exporter": "python",
   "pygments_lexer": "ipython3",
   "version": "3.12.3"
  }
 },
 "nbformat": 4,
 "nbformat_minor": 2
}
