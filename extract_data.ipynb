{
 "cells": [
  {
   "cell_type": "code",
   "execution_count": 2,
   "metadata": {},
   "outputs": [],
   "source": [
    "import gandula\n",
    "from tqdm.auto import tqdm\n",
    "import os"
   ]
  },
  {
   "cell_type": "code",
   "execution_count": 3,
   "metadata": {},
   "outputs": [],
   "source": [
    "from gandula.export.dataframe import pff_frames_to_dataframe\n",
    "from gandula.features.pff import add_ball_speed, add_players_speed"
   ]
  },
  {
   "cell_type": "code",
   "execution_count": 4,
   "metadata": {},
   "outputs": [],
   "source": [
    "DATA_PATH = 'data/raw/PL-22-23'"
   ]
  },
  {
   "cell_type": "code",
   "execution_count": 5,
   "metadata": {},
   "outputs": [],
   "source": [
    "games = os.listdir(DATA_PATH)\n",
    "game_ids = [game.split('.')[0] for game in games]"
   ]
  },
  {
   "cell_type": "code",
   "execution_count": 8,
   "metadata": {},
   "outputs": [
    {
     "data": {
      "application/vnd.jupyter.widget-view+json": {
       "model_id": "35cc7353b4864d679c4a5a5ff855e427",
       "version_major": 2,
       "version_minor": 0
      },
      "text/plain": [
       "  0%|          | 0/5 [00:00<?, ?it/s]"
      ]
     },
     "metadata": {},
     "output_type": "display_data"
    },
    {
     "data": {
      "application/vnd.jupyter.widget-view+json": {
       "model_id": "a011d5e14d444c0381555237c427b0e3",
       "version_major": 2,
       "version_minor": 0
      },
      "text/plain": [
       "Loading frames from match 4436: 0 frames [00:00, ? frames/s]"
      ]
     },
     "metadata": {},
     "output_type": "display_data"
    },
    {
     "data": {
      "application/vnd.jupyter.widget-view+json": {
       "model_id": "abdbd0279bcf4e53bbd2a842f9cd9ba1",
       "version_major": 2,
       "version_minor": 0
      },
      "text/plain": [
       "Validating frames:   0%|          | 0/170699 [00:00<?, ? frames/s]"
      ]
     },
     "metadata": {},
     "output_type": "display_data"
    },
    {
     "data": {
      "application/vnd.jupyter.widget-view+json": {
       "model_id": "23662f82fe574d4193995180b704c20b",
       "version_major": 2,
       "version_minor": 0
      },
      "text/plain": [
       "Loading frames from match 4437: 0 frames [00:00, ? frames/s]"
      ]
     },
     "metadata": {},
     "output_type": "display_data"
    },
    {
     "data": {
      "application/vnd.jupyter.widget-view+json": {
       "model_id": "937fb9ba9a8d4022b37e2a59b3c05fdd",
       "version_major": 2,
       "version_minor": 0
      },
      "text/plain": [
       "Validating frames:   0%|          | 0/146439 [00:00<?, ? frames/s]"
      ]
     },
     "metadata": {},
     "output_type": "display_data"
    },
    {
     "data": {
      "application/vnd.jupyter.widget-view+json": {
       "model_id": "7d10faa2bb2f4c9b8411822d0314d182",
       "version_major": 2,
       "version_minor": 0
      },
      "text/plain": [
       "Loading frames from match 4438: 0 frames [00:00, ? frames/s]"
      ]
     },
     "metadata": {},
     "output_type": "display_data"
    },
    {
     "data": {
      "application/vnd.jupyter.widget-view+json": {
       "model_id": "9c9d0e490829437e90ac9d4ad2534d7a",
       "version_major": 2,
       "version_minor": 0
      },
      "text/plain": [
       "Validating frames:   0%|          | 0/178903 [00:00<?, ? frames/s]"
      ]
     },
     "metadata": {},
     "output_type": "display_data"
    },
    {
     "data": {
      "application/vnd.jupyter.widget-view+json": {
       "model_id": "6a8b704d968b4b69907bd07385dc0694",
       "version_major": 2,
       "version_minor": 0
      },
      "text/plain": [
       "Loading frames from match 4439: 0 frames [00:00, ? frames/s]"
      ]
     },
     "metadata": {},
     "output_type": "display_data"
    },
    {
     "data": {
      "application/vnd.jupyter.widget-view+json": {
       "model_id": "2d34eeeecdfe4af6911f74ccb59d2931",
       "version_major": 2,
       "version_minor": 0
      },
      "text/plain": [
       "Validating frames:   0%|          | 0/173901 [00:00<?, ? frames/s]"
      ]
     },
     "metadata": {},
     "output_type": "display_data"
    },
    {
     "data": {
      "application/vnd.jupyter.widget-view+json": {
       "model_id": "f467d262cf514317998d7889bbc36f9b",
       "version_major": 2,
       "version_minor": 0
      },
      "text/plain": [
       "Loading frames from match 4440: 0 frames [00:00, ? frames/s]"
      ]
     },
     "metadata": {},
     "output_type": "display_data"
    },
    {
     "data": {
      "application/vnd.jupyter.widget-view+json": {
       "model_id": "fea97defaad6433298d640b7be22a6b9",
       "version_major": 2,
       "version_minor": 0
      },
      "text/plain": [
       "Validating frames:   0%|          | 0/170271 [00:00<?, ? frames/s]"
      ]
     },
     "metadata": {},
     "output_type": "display_data"
    }
   ],
   "source": [
    "frames = []\n",
    "for game_id in tqdm(game_ids[:5]):\n",
    "    metadata_df, players_df = pff_frames_to_dataframe(\n",
    "        gandula.get_frames(\n",
    "            DATA_PATH,\n",
    "            game_id,\n",
    "        )\n",
    "    )\n",
    "    # metadata_df, players_df = change_pitch_standards(\n",
    "    #     (metadata_df, players_df),\n",
    "    #     PredefinedGandulaPitchSize(type=\"meters\"),\n",
    "    #     GandulaPitchCoordinateCenter.CENTRE_SPOT,\n",
    "    # )\n",
    "\n",
    "    #players_df = _add_speed_and_acceleration(players_df)\n",
    "\n",
    "    # metadata_df, players_df = self._filter_possessions(\n",
    "    #     metadata_df, players_df\n",
    "    # )\n",
    "\n",
    "    frames.append((metadata_df, players_df))"
   ]
  },
  {
   "cell_type": "code",
   "execution_count": 11,
   "metadata": {},
   "outputs": [
    {
     "data": {
      "text/html": [
       "<div>\n",
       "<style scoped>\n",
       "    .dataframe tbody tr th:only-of-type {\n",
       "        vertical-align: middle;\n",
       "    }\n",
       "\n",
       "    .dataframe tbody tr th {\n",
       "        vertical-align: top;\n",
       "    }\n",
       "\n",
       "    .dataframe thead th {\n",
       "        text-align: right;\n",
       "    }\n",
       "</style>\n",
       "<table border=\"1\" class=\"dataframe\">\n",
       "  <thead>\n",
       "    <tr style=\"text-align: right;\">\n",
       "      <th></th>\n",
       "      <th>match_id</th>\n",
       "      <th>frame_id</th>\n",
       "      <th>period</th>\n",
       "      <th>elapsed_seconds</th>\n",
       "      <th>home_has_possession</th>\n",
       "      <th>event_id</th>\n",
       "      <th>event_type</th>\n",
       "      <th>event_setpiece_type</th>\n",
       "      <th>event_player_id</th>\n",
       "      <th>event_team_id</th>\n",
       "      <th>event_start_frame</th>\n",
       "      <th>event_end_frame</th>\n",
       "      <th>possession_id</th>\n",
       "      <th>possession_type</th>\n",
       "      <th>possession_start_frame</th>\n",
       "      <th>possession_end_frame</th>\n",
       "      <th>sequence</th>\n",
       "      <th>version</th>\n",
       "      <th>video_time_milli</th>\n",
       "    </tr>\n",
       "  </thead>\n",
       "  <tbody>\n",
       "    <tr>\n",
       "      <th>0</th>\n",
       "      <td>4436</td>\n",
       "      <td>1594</td>\n",
       "      <td>1</td>\n",
       "      <td>0.000000</td>\n",
       "      <td>1.0</td>\n",
       "      <td>4427560.0</td>\n",
       "      <td>PFF_Frame_GameEventType.FIRST_HALF_KICKOFF</td>\n",
       "      <td>SetPieceType.KICK_OFF</td>\n",
       "      <td>1940.0</td>\n",
       "      <td>7.0</td>\n",
       "      <td>1594.0</td>\n",
       "      <td>1594.0</td>\n",
       "      <td>4245025.0</td>\n",
       "      <td>Frame_PossessionEventType.PASS</td>\n",
       "      <td>1594.0</td>\n",
       "      <td>1594.0</td>\n",
       "      <td>1.0</td>\n",
       "      <td>4.1.0</td>\n",
       "      <td>53186.520</td>\n",
       "    </tr>\n",
       "    <tr>\n",
       "      <th>1</th>\n",
       "      <td>4436</td>\n",
       "      <td>1595</td>\n",
       "      <td>1</td>\n",
       "      <td>0.032887</td>\n",
       "      <td>1.0</td>\n",
       "      <td>NaN</td>\n",
       "      <td>NaN</td>\n",
       "      <td>NaN</td>\n",
       "      <td>NaN</td>\n",
       "      <td>NaN</td>\n",
       "      <td>NaN</td>\n",
       "      <td>NaN</td>\n",
       "      <td>NaN</td>\n",
       "      <td>NaN</td>\n",
       "      <td>NaN</td>\n",
       "      <td>NaN</td>\n",
       "      <td>1.0</td>\n",
       "      <td>4.1.0</td>\n",
       "      <td>53219.887</td>\n",
       "    </tr>\n",
       "    <tr>\n",
       "      <th>2</th>\n",
       "      <td>4436</td>\n",
       "      <td>1596</td>\n",
       "      <td>1</td>\n",
       "      <td>0.066253</td>\n",
       "      <td>1.0</td>\n",
       "      <td>NaN</td>\n",
       "      <td>NaN</td>\n",
       "      <td>NaN</td>\n",
       "      <td>NaN</td>\n",
       "      <td>NaN</td>\n",
       "      <td>NaN</td>\n",
       "      <td>NaN</td>\n",
       "      <td>NaN</td>\n",
       "      <td>NaN</td>\n",
       "      <td>NaN</td>\n",
       "      <td>NaN</td>\n",
       "      <td>1.0</td>\n",
       "      <td>4.1.0</td>\n",
       "      <td>53253.253</td>\n",
       "    </tr>\n",
       "    <tr>\n",
       "      <th>3</th>\n",
       "      <td>4436</td>\n",
       "      <td>1597</td>\n",
       "      <td>1</td>\n",
       "      <td>0.099620</td>\n",
       "      <td>1.0</td>\n",
       "      <td>NaN</td>\n",
       "      <td>NaN</td>\n",
       "      <td>NaN</td>\n",
       "      <td>NaN</td>\n",
       "      <td>NaN</td>\n",
       "      <td>NaN</td>\n",
       "      <td>NaN</td>\n",
       "      <td>NaN</td>\n",
       "      <td>NaN</td>\n",
       "      <td>NaN</td>\n",
       "      <td>NaN</td>\n",
       "      <td>1.0</td>\n",
       "      <td>4.1.0</td>\n",
       "      <td>53286.620</td>\n",
       "    </tr>\n",
       "    <tr>\n",
       "      <th>4</th>\n",
       "      <td>4436</td>\n",
       "      <td>1598</td>\n",
       "      <td>1</td>\n",
       "      <td>0.132987</td>\n",
       "      <td>1.0</td>\n",
       "      <td>NaN</td>\n",
       "      <td>NaN</td>\n",
       "      <td>NaN</td>\n",
       "      <td>NaN</td>\n",
       "      <td>NaN</td>\n",
       "      <td>NaN</td>\n",
       "      <td>NaN</td>\n",
       "      <td>NaN</td>\n",
       "      <td>NaN</td>\n",
       "      <td>NaN</td>\n",
       "      <td>NaN</td>\n",
       "      <td>1.0</td>\n",
       "      <td>4.1.0</td>\n",
       "      <td>53319.987</td>\n",
       "    </tr>\n",
       "    <tr>\n",
       "      <th>...</th>\n",
       "      <td>...</td>\n",
       "      <td>...</td>\n",
       "      <td>...</td>\n",
       "      <td>...</td>\n",
       "      <td>...</td>\n",
       "      <td>...</td>\n",
       "      <td>...</td>\n",
       "      <td>...</td>\n",
       "      <td>...</td>\n",
       "      <td>...</td>\n",
       "      <td>...</td>\n",
       "      <td>...</td>\n",
       "      <td>...</td>\n",
       "      <td>...</td>\n",
       "      <td>...</td>\n",
       "      <td>...</td>\n",
       "      <td>...</td>\n",
       "      <td>...</td>\n",
       "      <td>...</td>\n",
       "    </tr>\n",
       "    <tr>\n",
       "      <th>170694</th>\n",
       "      <td>4436</td>\n",
       "      <td>173880</td>\n",
       "      <td>2</td>\n",
       "      <td>2913.346802</td>\n",
       "      <td>0.0</td>\n",
       "      <td>NaN</td>\n",
       "      <td>NaN</td>\n",
       "      <td>NaN</td>\n",
       "      <td>NaN</td>\n",
       "      <td>NaN</td>\n",
       "      <td>NaN</td>\n",
       "      <td>NaN</td>\n",
       "      <td>NaN</td>\n",
       "      <td>NaN</td>\n",
       "      <td>NaN</td>\n",
       "      <td>NaN</td>\n",
       "      <td>323.0</td>\n",
       "      <td>4.1.0</td>\n",
       "      <td>5801801.802</td>\n",
       "    </tr>\n",
       "    <tr>\n",
       "      <th>170695</th>\n",
       "      <td>4436</td>\n",
       "      <td>173881</td>\n",
       "      <td>2</td>\n",
       "      <td>2913.380169</td>\n",
       "      <td>0.0</td>\n",
       "      <td>NaN</td>\n",
       "      <td>NaN</td>\n",
       "      <td>NaN</td>\n",
       "      <td>NaN</td>\n",
       "      <td>NaN</td>\n",
       "      <td>NaN</td>\n",
       "      <td>NaN</td>\n",
       "      <td>NaN</td>\n",
       "      <td>NaN</td>\n",
       "      <td>NaN</td>\n",
       "      <td>NaN</td>\n",
       "      <td>323.0</td>\n",
       "      <td>4.1.0</td>\n",
       "      <td>5801835.169</td>\n",
       "    </tr>\n",
       "    <tr>\n",
       "      <th>170696</th>\n",
       "      <td>4436</td>\n",
       "      <td>173882</td>\n",
       "      <td>2</td>\n",
       "      <td>2913.413535</td>\n",
       "      <td>0.0</td>\n",
       "      <td>NaN</td>\n",
       "      <td>NaN</td>\n",
       "      <td>NaN</td>\n",
       "      <td>NaN</td>\n",
       "      <td>NaN</td>\n",
       "      <td>NaN</td>\n",
       "      <td>NaN</td>\n",
       "      <td>NaN</td>\n",
       "      <td>NaN</td>\n",
       "      <td>NaN</td>\n",
       "      <td>NaN</td>\n",
       "      <td>323.0</td>\n",
       "      <td>4.1.0</td>\n",
       "      <td>5801868.535</td>\n",
       "    </tr>\n",
       "    <tr>\n",
       "      <th>170697</th>\n",
       "      <td>4436</td>\n",
       "      <td>173883</td>\n",
       "      <td>2</td>\n",
       "      <td>2913.446902</td>\n",
       "      <td>0.0</td>\n",
       "      <td>NaN</td>\n",
       "      <td>NaN</td>\n",
       "      <td>NaN</td>\n",
       "      <td>NaN</td>\n",
       "      <td>NaN</td>\n",
       "      <td>NaN</td>\n",
       "      <td>NaN</td>\n",
       "      <td>NaN</td>\n",
       "      <td>NaN</td>\n",
       "      <td>NaN</td>\n",
       "      <td>NaN</td>\n",
       "      <td>323.0</td>\n",
       "      <td>4.1.0</td>\n",
       "      <td>5801901.902</td>\n",
       "    </tr>\n",
       "    <tr>\n",
       "      <th>170698</th>\n",
       "      <td>4436</td>\n",
       "      <td>173884</td>\n",
       "      <td>2</td>\n",
       "      <td>2913.480269</td>\n",
       "      <td>NaN</td>\n",
       "      <td>4433337.0</td>\n",
       "      <td>PFF_Frame_GameEventType.END_OF_HALF</td>\n",
       "      <td>None</td>\n",
       "      <td>NaN</td>\n",
       "      <td>NaN</td>\n",
       "      <td>173884.0</td>\n",
       "      <td>173884.0</td>\n",
       "      <td>NaN</td>\n",
       "      <td>NaN</td>\n",
       "      <td>NaN</td>\n",
       "      <td>NaN</td>\n",
       "      <td>NaN</td>\n",
       "      <td>4.1.0</td>\n",
       "      <td>5801935.269</td>\n",
       "    </tr>\n",
       "  </tbody>\n",
       "</table>\n",
       "<p>170699 rows × 19 columns</p>\n",
       "</div>"
      ],
      "text/plain": [
       "        match_id  frame_id  period  elapsed_seconds  home_has_possession  \\\n",
       "0           4436      1594       1         0.000000                  1.0   \n",
       "1           4436      1595       1         0.032887                  1.0   \n",
       "2           4436      1596       1         0.066253                  1.0   \n",
       "3           4436      1597       1         0.099620                  1.0   \n",
       "4           4436      1598       1         0.132987                  1.0   \n",
       "...          ...       ...     ...              ...                  ...   \n",
       "170694      4436    173880       2      2913.346802                  0.0   \n",
       "170695      4436    173881       2      2913.380169                  0.0   \n",
       "170696      4436    173882       2      2913.413535                  0.0   \n",
       "170697      4436    173883       2      2913.446902                  0.0   \n",
       "170698      4436    173884       2      2913.480269                  NaN   \n",
       "\n",
       "         event_id                                  event_type  \\\n",
       "0       4427560.0  PFF_Frame_GameEventType.FIRST_HALF_KICKOFF   \n",
       "1             NaN                                         NaN   \n",
       "2             NaN                                         NaN   \n",
       "3             NaN                                         NaN   \n",
       "4             NaN                                         NaN   \n",
       "...           ...                                         ...   \n",
       "170694        NaN                                         NaN   \n",
       "170695        NaN                                         NaN   \n",
       "170696        NaN                                         NaN   \n",
       "170697        NaN                                         NaN   \n",
       "170698  4433337.0         PFF_Frame_GameEventType.END_OF_HALF   \n",
       "\n",
       "          event_setpiece_type  event_player_id  event_team_id  \\\n",
       "0       SetPieceType.KICK_OFF           1940.0            7.0   \n",
       "1                         NaN              NaN            NaN   \n",
       "2                         NaN              NaN            NaN   \n",
       "3                         NaN              NaN            NaN   \n",
       "4                         NaN              NaN            NaN   \n",
       "...                       ...              ...            ...   \n",
       "170694                    NaN              NaN            NaN   \n",
       "170695                    NaN              NaN            NaN   \n",
       "170696                    NaN              NaN            NaN   \n",
       "170697                    NaN              NaN            NaN   \n",
       "170698                   None              NaN            NaN   \n",
       "\n",
       "        event_start_frame  event_end_frame  possession_id  \\\n",
       "0                  1594.0           1594.0      4245025.0   \n",
       "1                     NaN              NaN            NaN   \n",
       "2                     NaN              NaN            NaN   \n",
       "3                     NaN              NaN            NaN   \n",
       "4                     NaN              NaN            NaN   \n",
       "...                   ...              ...            ...   \n",
       "170694                NaN              NaN            NaN   \n",
       "170695                NaN              NaN            NaN   \n",
       "170696                NaN              NaN            NaN   \n",
       "170697                NaN              NaN            NaN   \n",
       "170698           173884.0         173884.0            NaN   \n",
       "\n",
       "                       possession_type  possession_start_frame  \\\n",
       "0       Frame_PossessionEventType.PASS                  1594.0   \n",
       "1                                  NaN                     NaN   \n",
       "2                                  NaN                     NaN   \n",
       "3                                  NaN                     NaN   \n",
       "4                                  NaN                     NaN   \n",
       "...                                ...                     ...   \n",
       "170694                             NaN                     NaN   \n",
       "170695                             NaN                     NaN   \n",
       "170696                             NaN                     NaN   \n",
       "170697                             NaN                     NaN   \n",
       "170698                             NaN                     NaN   \n",
       "\n",
       "        possession_end_frame  sequence version  video_time_milli  \n",
       "0                     1594.0       1.0   4.1.0         53186.520  \n",
       "1                        NaN       1.0   4.1.0         53219.887  \n",
       "2                        NaN       1.0   4.1.0         53253.253  \n",
       "3                        NaN       1.0   4.1.0         53286.620  \n",
       "4                        NaN       1.0   4.1.0         53319.987  \n",
       "...                      ...       ...     ...               ...  \n",
       "170694                   NaN     323.0   4.1.0       5801801.802  \n",
       "170695                   NaN     323.0   4.1.0       5801835.169  \n",
       "170696                   NaN     323.0   4.1.0       5801868.535  \n",
       "170697                   NaN     323.0   4.1.0       5801901.902  \n",
       "170698                   NaN       NaN   4.1.0       5801935.269  \n",
       "\n",
       "[170699 rows x 19 columns]"
      ]
     },
     "execution_count": 11,
     "metadata": {},
     "output_type": "execute_result"
    }
   ],
   "source": [
    "frames[0][0]"
   ]
  }
 ],
 "metadata": {
  "kernelspec": {
   "display_name": ".venv",
   "language": "python",
   "name": "python3"
  },
  "language_info": {
   "codemirror_mode": {
    "name": "ipython",
    "version": 3
   },
   "file_extension": ".py",
   "mimetype": "text/x-python",
   "name": "python",
   "nbconvert_exporter": "python",
   "pygments_lexer": "ipython3",
   "version": "3.12.3"
  }
 },
 "nbformat": 4,
 "nbformat_minor": 2
}
