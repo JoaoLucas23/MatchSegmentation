{
 "cells": [
  {
   "cell_type": "code",
   "execution_count": 1,
   "metadata": {},
   "outputs": [],
   "source": [
    "import gandula\n",
    "from tqdm.auto import tqdm\n",
    "import os"
   ]
  },
  {
   "cell_type": "code",
   "execution_count": 2,
   "metadata": {},
   "outputs": [],
   "source": [
    "from src.data.loader import FramesLoader"
   ]
  },
  {
   "cell_type": "code",
   "execution_count": 3,
   "metadata": {},
   "outputs": [],
   "source": [
    "DATA_PATH = 'data/raw/PL-22-23'"
   ]
  },
  {
   "cell_type": "code",
   "execution_count": 4,
   "metadata": {},
   "outputs": [],
   "source": [
    "games = os.listdir(DATA_PATH)\n",
    "game_ids = [game.split('.')[0] for game in games]"
   ]
  },
  {
   "cell_type": "code",
   "execution_count": 5,
   "metadata": {},
   "outputs": [
    {
     "data": {
      "application/vnd.jupyter.widget-view+json": {
       "model_id": "84c2df2acfb44bf2a03af2095e351255",
       "version_major": 2,
       "version_minor": 0
      },
      "text/plain": [
       "Loading frames:   0%|          | 0/5 [00:00<?, ?it/s]"
      ]
     },
     "metadata": {},
     "output_type": "display_data"
    },
    {
     "data": {
      "application/vnd.jupyter.widget-view+json": {
       "model_id": "5f19c59ac83c4d7ea0df8cbcf6c7e516",
       "version_major": 2,
       "version_minor": 0
      },
      "text/plain": [
       "Loading frames from match 4436: 0 frames [00:00, ? frames/s]"
      ]
     },
     "metadata": {},
     "output_type": "display_data"
    },
    {
     "data": {
      "application/vnd.jupyter.widget-view+json": {
       "model_id": "cd68d2286d99490f928c9c72e8839419",
       "version_major": 2,
       "version_minor": 0
      },
      "text/plain": [
       "Validating frames:   0%|          | 0/170699 [00:00<?, ? frames/s]"
      ]
     },
     "metadata": {},
     "output_type": "display_data"
    },
    {
     "name": "stderr",
     "output_type": "stream",
     "text": [
      "\n",
      "Adding ball speed, velocity, and acceleration in each frame:   0%|          | 0/2 [00:00<?, ?it/s]\n",
      "Adding ball speed, velocity, and acceleration in each frame:  50%|█████     | 1/2 [00:00<00:00,  7.15it/s]\n",
      "Adding ball speed, velocity, and acceleration in each frame: 100%|██████████| 2/2 [00:01<00:00,  1.14it/s]\n",
      "\n",
      "Adding player speed, velocity, and acceleration in each frame:   0%|          | 0/51 [00:00<?, ?it/s]\n",
      "Adding player speed, velocity, and acceleration in each frame:   2%|▏         | 1/51 [00:00<00:23,  2.09it/s]\n",
      "Adding player speed, velocity, and acceleration in each frame:  12%|█▏        | 6/51 [00:00<00:03, 12.53it/s]\n",
      "Adding player speed, velocity, and acceleration in each frame:  22%|██▏       | 11/51 [00:00<00:01, 20.53it/s]\n",
      "Adding player speed, velocity, and acceleration in each frame:  29%|██▉       | 15/51 [00:00<00:01, 25.02it/s]\n",
      "Adding player speed, velocity, and acceleration in each frame:  37%|███▋      | 19/51 [00:00<00:01, 28.27it/s]\n",
      "Adding player speed, velocity, and acceleration in each frame:  45%|████▌     | 23/51 [00:01<00:00, 31.16it/s]\n",
      "Adding player speed, velocity, and acceleration in each frame:  55%|█████▍    | 28/51 [00:01<00:00, 34.43it/s]\n",
      "Adding player speed, velocity, and acceleration in each frame:  65%|██████▍   | 33/51 [00:01<00:00, 37.71it/s]\n",
      "Adding player speed, velocity, and acceleration in each frame:  76%|███████▋  | 39/51 [00:01<00:00, 43.68it/s]\n",
      "Adding player speed, velocity, and acceleration in each frame:  86%|████████▋ | 44/51 [00:01<00:00, 41.60it/s]\n",
      "Adding player speed, velocity, and acceleration in each frame: 100%|██████████| 51/51 [00:02<00:00, 19.52it/s]\n"
     ]
    },
    {
     "data": {
      "application/vnd.jupyter.widget-view+json": {
       "model_id": "65030df688c14e8a8b7ae7a6b4268653",
       "version_major": 2,
       "version_minor": 0
      },
      "text/plain": [
       "Loading frames from match 4437: 0 frames [00:00, ? frames/s]"
      ]
     },
     "metadata": {},
     "output_type": "display_data"
    },
    {
     "data": {
      "application/vnd.jupyter.widget-view+json": {
       "model_id": "9c2747cc102844508deafa9a9914b9be",
       "version_major": 2,
       "version_minor": 0
      },
      "text/plain": [
       "Validating frames:   0%|          | 0/146439 [00:00<?, ? frames/s]"
      ]
     },
     "metadata": {},
     "output_type": "display_data"
    },
    {
     "name": "stderr",
     "output_type": "stream",
     "text": [
      "\n",
      "Adding ball speed, velocity, and acceleration in each frame:   0%|          | 0/2 [00:00<?, ?it/s]\n",
      "Adding ball speed, velocity, and acceleration in each frame:  50%|█████     | 1/2 [00:00<00:00,  8.48it/s]\n",
      "Adding ball speed, velocity, and acceleration in each frame: 100%|██████████| 2/2 [00:01<00:00,  1.58it/s]\n",
      "\n",
      "Adding player speed, velocity, and acceleration in each frame:   0%|          | 0/51 [00:00<?, ?it/s]\n",
      "Adding player speed, velocity, and acceleration in each frame:   2%|▏         | 1/51 [00:00<00:17,  2.91it/s]\n",
      "Adding player speed, velocity, and acceleration in each frame:  14%|█▎        | 7/51 [00:00<00:02, 18.75it/s]\n",
      "Adding player speed, velocity, and acceleration in each frame:  25%|██▌       | 13/51 [00:00<00:01, 30.07it/s]\n",
      "Adding player speed, velocity, and acceleration in each frame:  37%|███▋      | 19/51 [00:00<00:00, 37.58it/s]\n",
      "Adding player speed, velocity, and acceleration in each frame:  47%|████▋     | 24/51 [00:00<00:00, 41.09it/s]\n",
      "Adding player speed, velocity, and acceleration in each frame:  63%|██████▎   | 32/51 [00:00<00:00, 52.24it/s]\n",
      "Adding player speed, velocity, and acceleration in each frame:  76%|███████▋  | 39/51 [00:00<00:00, 56.08it/s]\n",
      "Adding player speed, velocity, and acceleration in each frame: 100%|██████████| 51/51 [00:01<00:00, 27.96it/s]\n"
     ]
    },
    {
     "data": {
      "application/vnd.jupyter.widget-view+json": {
       "model_id": "2bdac52a7b0a4eee9ec72332a727af7d",
       "version_major": 2,
       "version_minor": 0
      },
      "text/plain": [
       "Loading frames from match 4438: 0 frames [00:00, ? frames/s]"
      ]
     },
     "metadata": {},
     "output_type": "display_data"
    },
    {
     "data": {
      "application/vnd.jupyter.widget-view+json": {
       "model_id": "7a7e201ae9b74f5eb3b146de3ed75514",
       "version_major": 2,
       "version_minor": 0
      },
      "text/plain": [
       "Validating frames:   0%|          | 0/178903 [00:00<?, ? frames/s]"
      ]
     },
     "metadata": {},
     "output_type": "display_data"
    },
    {
     "name": "stderr",
     "output_type": "stream",
     "text": [
      "\n",
      "Adding ball speed, velocity, and acceleration in each frame:   0%|          | 0/2 [00:00<?, ?it/s]\n",
      "Adding ball speed, velocity, and acceleration in each frame:  50%|█████     | 1/2 [00:00<00:00,  7.29it/s]\n",
      "Adding ball speed, velocity, and acceleration in each frame: 100%|██████████| 2/2 [00:01<00:00,  1.12it/s]\n",
      "\n",
      "Adding player speed, velocity, and acceleration in each frame:   0%|          | 0/50 [00:00<?, ?it/s]\n",
      "Adding player speed, velocity, and acceleration in each frame:   2%|▏         | 1/50 [00:00<00:26,  1.84it/s]\n",
      "Adding player speed, velocity, and acceleration in each frame:   8%|▊         | 4/50 [00:00<00:06,  7.53it/s]\n",
      "Adding player speed, velocity, and acceleration in each frame:  14%|█▍        | 7/50 [00:00<00:03, 12.42it/s]\n",
      "Adding player speed, velocity, and acceleration in each frame:  20%|██        | 10/50 [00:00<00:02, 16.08it/s]\n",
      "Adding player speed, velocity, and acceleration in each frame:  26%|██▌       | 13/50 [00:00<00:01, 18.86it/s]\n",
      "Adding player speed, velocity, and acceleration in each frame:  32%|███▏      | 16/50 [00:01<00:01, 21.34it/s]\n",
      "Adding player speed, velocity, and acceleration in each frame:  38%|███▊      | 19/50 [00:01<00:01, 22.93it/s]\n",
      "Adding player speed, velocity, and acceleration in each frame:  44%|████▍     | 22/50 [00:01<00:01, 23.93it/s]\n",
      "Adding player speed, velocity, and acceleration in each frame:  50%|█████     | 25/50 [00:01<00:01, 24.01it/s]\n",
      "Adding player speed, velocity, and acceleration in each frame:  58%|█████▊    | 29/50 [00:01<00:00, 26.37it/s]\n",
      "Adding player speed, velocity, and acceleration in each frame:  66%|██████▌   | 33/50 [00:01<00:00, 29.92it/s]\n",
      "Adding player speed, velocity, and acceleration in each frame:  74%|███████▍  | 37/50 [00:01<00:00, 31.94it/s]\n",
      "Adding player speed, velocity, and acceleration in each frame:  82%|████████▏ | 41/50 [00:01<00:00, 32.43it/s]\n",
      "Adding player speed, velocity, and acceleration in each frame:  90%|█████████ | 45/50 [00:02<00:00, 33.08it/s]\n",
      "Adding player speed, velocity, and acceleration in each frame: 100%|██████████| 50/50 [00:03<00:00, 16.20it/s]\n"
     ]
    },
    {
     "data": {
      "application/vnd.jupyter.widget-view+json": {
       "model_id": "60e2bbdaab3c476db43753dced0095be",
       "version_major": 2,
       "version_minor": 0
      },
      "text/plain": [
       "Loading frames from match 4439: 0 frames [00:00, ? frames/s]"
      ]
     },
     "metadata": {},
     "output_type": "display_data"
    },
    {
     "data": {
      "application/vnd.jupyter.widget-view+json": {
       "model_id": "f2ac15c5193c49d58077845b05247d83",
       "version_major": 2,
       "version_minor": 0
      },
      "text/plain": [
       "Validating frames:   0%|          | 0/173901 [00:00<?, ? frames/s]"
      ]
     },
     "metadata": {},
     "output_type": "display_data"
    },
    {
     "name": "stderr",
     "output_type": "stream",
     "text": [
      "\n",
      "Adding ball speed, velocity, and acceleration in each frame:   0%|          | 0/2 [00:00<?, ?it/s]\n",
      "Adding ball speed, velocity, and acceleration in each frame:  50%|█████     | 1/2 [00:00<00:00,  5.71it/s]\n",
      "Adding ball speed, velocity, and acceleration in each frame: 100%|██████████| 2/2 [00:01<00:00,  1.03it/s]\n",
      "\n",
      "Adding player speed, velocity, and acceleration in each frame:   0%|          | 0/49 [00:00<?, ?it/s]\n",
      "Adding player speed, velocity, and acceleration in each frame:   2%|▏         | 1/49 [00:00<00:26,  1.84it/s]\n",
      "Adding player speed, velocity, and acceleration in each frame:  10%|█         | 5/49 [00:00<00:04,  9.51it/s]\n",
      "Adding player speed, velocity, and acceleration in each frame:  18%|█▊        | 9/49 [00:00<00:02, 16.07it/s]\n",
      "Adding player speed, velocity, and acceleration in each frame:  27%|██▋       | 13/49 [00:00<00:01, 21.47it/s]\n",
      "Adding player speed, velocity, and acceleration in each frame:  35%|███▍      | 17/49 [00:00<00:01, 25.48it/s]\n",
      "Adding player speed, velocity, and acceleration in each frame:  43%|████▎     | 21/49 [00:01<00:01, 27.92it/s]\n",
      "Adding player speed, velocity, and acceleration in each frame:  51%|█████     | 25/49 [00:01<00:00, 28.31it/s]\n",
      "Adding player speed, velocity, and acceleration in each frame:  59%|█████▉    | 29/49 [00:01<00:00, 28.79it/s]\n",
      "Adding player speed, velocity, and acceleration in each frame:  67%|██████▋   | 33/49 [00:01<00:00, 29.28it/s]\n",
      "Adding player speed, velocity, and acceleration in each frame:  76%|███████▌  | 37/49 [00:01<00:00, 31.40it/s]\n",
      "Adding player speed, velocity, and acceleration in each frame:  86%|████████▌ | 42/49 [00:01<00:00, 35.09it/s]\n",
      "Adding player speed, velocity, and acceleration in each frame: 100%|██████████| 49/49 [00:02<00:00, 16.69it/s]\n"
     ]
    },
    {
     "data": {
      "application/vnd.jupyter.widget-view+json": {
       "model_id": "d6e8c84034644b659d010aa9e32b2715",
       "version_major": 2,
       "version_minor": 0
      },
      "text/plain": [
       "Loading frames from match 4440: 0 frames [00:00, ? frames/s]"
      ]
     },
     "metadata": {},
     "output_type": "display_data"
    },
    {
     "data": {
      "application/vnd.jupyter.widget-view+json": {
       "model_id": "6cde6286966b4b87beea001064ee50a3",
       "version_major": 2,
       "version_minor": 0
      },
      "text/plain": [
       "Validating frames:   0%|          | 0/170271 [00:00<?, ? frames/s]"
      ]
     },
     "metadata": {},
     "output_type": "display_data"
    },
    {
     "name": "stderr",
     "output_type": "stream",
     "text": [
      "\n",
      "Adding ball speed, velocity, and acceleration in each frame:   0%|          | 0/2 [00:00<?, ?it/s]\n",
      "Adding ball speed, velocity, and acceleration in each frame:  50%|█████     | 1/2 [00:00<00:00,  5.58it/s]\n",
      "Adding ball speed, velocity, and acceleration in each frame: 100%|██████████| 2/2 [00:01<00:00,  1.05it/s]\n",
      "\n",
      "Adding player speed, velocity, and acceleration in each frame:   0%|          | 0/50 [00:00<?, ?it/s]\n",
      "Adding player speed, velocity, and acceleration in each frame:   2%|▏         | 1/50 [00:00<00:26,  1.87it/s]\n",
      "Adding player speed, velocity, and acceleration in each frame:  10%|█         | 5/50 [00:00<00:04,  9.37it/s]\n",
      "Adding player speed, velocity, and acceleration in each frame:  18%|█▊        | 9/50 [00:00<00:02, 15.25it/s]\n",
      "Adding player speed, velocity, and acceleration in each frame:  26%|██▌       | 13/50 [00:00<00:01, 19.86it/s]\n",
      "Adding player speed, velocity, and acceleration in each frame:  34%|███▍      | 17/50 [00:01<00:01, 23.70it/s]\n",
      "Adding player speed, velocity, and acceleration in each frame:  42%|████▏     | 21/50 [00:01<00:01, 26.49it/s]\n",
      "Adding player speed, velocity, and acceleration in each frame:  50%|█████     | 25/50 [00:01<00:00, 29.38it/s]\n",
      "Adding player speed, velocity, and acceleration in each frame:  62%|██████▏   | 31/50 [00:01<00:00, 37.01it/s]\n",
      "Adding player speed, velocity, and acceleration in each frame:  72%|███████▏  | 36/50 [00:01<00:00, 38.68it/s]\n",
      "Adding player speed, velocity, and acceleration in each frame:  82%|████████▏ | 41/50 [00:01<00:00, 41.10it/s]\n",
      "Adding player speed, velocity, and acceleration in each frame: 100%|██████████| 50/50 [00:02<00:00, 17.89it/s]\n"
     ]
    }
   ],
   "source": [
    "frames_loader = FramesLoader(game_ids[:5],DATA_PATH)\n",
    "frames_loader.load()"
   ]
  },
  {
   "cell_type": "code",
   "execution_count": 10,
   "metadata": {},
   "outputs": [
    {
     "name": "stdout",
     "output_type": "stream",
     "text": [
      "Pyarrow and Fastparquet installed successfully!\n"
     ]
    }
   ],
   "source": [
    "import pyarrow\n",
    "import fastparquet\n",
    "print(\"Pyarrow and Fastparquet installed successfully!\")"
   ]
  },
  {
   "cell_type": "code",
   "execution_count": 12,
   "metadata": {},
   "outputs": [
    {
     "data": {
      "application/vnd.jupyter.widget-view+json": {
       "model_id": "6c7883fc7d4044b9b522e4195fcde075",
       "version_major": 2,
       "version_minor": 0
      },
      "text/plain": [
       "Saving frames:   0%|          | 0/5 [00:00<?, ?it/s]"
      ]
     },
     "metadata": {},
     "output_type": "display_data"
    },
    {
     "ename": "ArrowInvalid",
     "evalue": "(\"Could not convert <PFF_Frame_GameEventType.FIRST_HALF_KICKOFF: '1KO'> with type PFF_Frame_GameEventType: did not recognize Python value type when inferring an Arrow data type\", 'Conversion failed for column event_type with type object')",
     "output_type": "error",
     "traceback": [
      "\u001b[1;31m---------------------------------------------------------------------------\u001b[0m",
      "\u001b[1;31mArrowInvalid\u001b[0m                              Traceback (most recent call last)",
      "Cell \u001b[1;32mIn[12], line 1\u001b[0m\n\u001b[1;32m----> 1\u001b[0m \u001b[43mframes_loader\u001b[49m\u001b[38;5;241;43m.\u001b[39;49m\u001b[43msave\u001b[49m\u001b[43m(\u001b[49m\u001b[38;5;124;43m'\u001b[39;49m\u001b[38;5;124;43mdata/intermediate/\u001b[39;49m\u001b[38;5;124;43m'\u001b[39;49m\u001b[43m)\u001b[49m\n",
      "File \u001b[1;32mc:\\Users\\jllgo\\OneDrive\\Documentos\\UFMG\\MSc & MSI 2\\MatchSegmentation\\src\\data\\loader.py:61\u001b[0m, in \u001b[0;36mFramesLoader.save\u001b[1;34m(self, path)\u001b[0m\n\u001b[0;32m     57\u001b[0m \u001b[38;5;250m\u001b[39m\u001b[38;5;124;03m\"\"\"\u001b[39;00m\n\u001b[0;32m     58\u001b[0m \u001b[38;5;124;03m\u001b[39;00m\n\u001b[0;32m     59\u001b[0m \u001b[38;5;124;03m\"\"\"\u001b[39;00m\n\u001b[0;32m     60\u001b[0m \u001b[38;5;28;01mfor\u001b[39;00m i, (metadata_df, players_df) \u001b[38;5;129;01min\u001b[39;00m tqdm(\u001b[38;5;28menumerate\u001b[39m(\u001b[38;5;28mself\u001b[39m\u001b[38;5;241m.\u001b[39mframes), total\u001b[38;5;241m=\u001b[39m\u001b[38;5;28mlen\u001b[39m(\u001b[38;5;28mself\u001b[39m\u001b[38;5;241m.\u001b[39mframes), desc\u001b[38;5;241m=\u001b[39m\u001b[38;5;124m\"\u001b[39m\u001b[38;5;124mSaving frames\u001b[39m\u001b[38;5;124m\"\u001b[39m):\n\u001b[1;32m---> 61\u001b[0m     \u001b[43mmetadata_df\u001b[49m\u001b[38;5;241;43m.\u001b[39;49m\u001b[43mto_parquet\u001b[49m\u001b[43m(\u001b[49m\u001b[38;5;124;43mf\u001b[39;49m\u001b[38;5;124;43m\"\u001b[39;49m\u001b[38;5;132;43;01m{\u001b[39;49;00m\u001b[43mpath\u001b[49m\u001b[38;5;132;43;01m}\u001b[39;49;00m\u001b[38;5;124;43m/\u001b[39;49m\u001b[38;5;132;43;01m{\u001b[39;49;00m\u001b[38;5;28;43mself\u001b[39;49m\u001b[38;5;241;43m.\u001b[39;49m\u001b[43mgame_ids\u001b[49m\u001b[43m[\u001b[49m\u001b[43mi\u001b[49m\u001b[43m]\u001b[49m\u001b[38;5;132;43;01m}\u001b[39;49;00m\u001b[38;5;124;43m/metadata.parquet\u001b[39;49m\u001b[38;5;124;43m\"\u001b[39;49m\u001b[43m)\u001b[49m\n\u001b[0;32m     62\u001b[0m     players_df\u001b[38;5;241m.\u001b[39mto_parquet(\u001b[38;5;124mf\u001b[39m\u001b[38;5;124m\"\u001b[39m\u001b[38;5;132;01m{\u001b[39;00mpath\u001b[38;5;132;01m}\u001b[39;00m\u001b[38;5;124m/\u001b[39m\u001b[38;5;132;01m{\u001b[39;00m\u001b[38;5;28mself\u001b[39m\u001b[38;5;241m.\u001b[39mgame_ids[i]\u001b[38;5;132;01m}\u001b[39;00m\u001b[38;5;124m/players.parquet\u001b[39m\u001b[38;5;124m\"\u001b[39m)\n",
      "File \u001b[1;32mc:\\Users\\jllgo\\OneDrive\\Documentos\\UFMG\\MSc & MSI 2\\MatchSegmentation\\.venv\\Lib\\site-packages\\pandas\\util\\_decorators.py:333\u001b[0m, in \u001b[0;36mdeprecate_nonkeyword_arguments.<locals>.decorate.<locals>.wrapper\u001b[1;34m(*args, **kwargs)\u001b[0m\n\u001b[0;32m    327\u001b[0m \u001b[38;5;28;01mif\u001b[39;00m \u001b[38;5;28mlen\u001b[39m(args) \u001b[38;5;241m>\u001b[39m num_allow_args:\n\u001b[0;32m    328\u001b[0m     warnings\u001b[38;5;241m.\u001b[39mwarn(\n\u001b[0;32m    329\u001b[0m         msg\u001b[38;5;241m.\u001b[39mformat(arguments\u001b[38;5;241m=\u001b[39m_format_argument_list(allow_args)),\n\u001b[0;32m    330\u001b[0m         \u001b[38;5;167;01mFutureWarning\u001b[39;00m,\n\u001b[0;32m    331\u001b[0m         stacklevel\u001b[38;5;241m=\u001b[39mfind_stack_level(),\n\u001b[0;32m    332\u001b[0m     )\n\u001b[1;32m--> 333\u001b[0m \u001b[38;5;28;01mreturn\u001b[39;00m \u001b[43mfunc\u001b[49m\u001b[43m(\u001b[49m\u001b[38;5;241;43m*\u001b[39;49m\u001b[43margs\u001b[49m\u001b[43m,\u001b[49m\u001b[43m \u001b[49m\u001b[38;5;241;43m*\u001b[39;49m\u001b[38;5;241;43m*\u001b[39;49m\u001b[43mkwargs\u001b[49m\u001b[43m)\u001b[49m\n",
      "File \u001b[1;32mc:\\Users\\jllgo\\OneDrive\\Documentos\\UFMG\\MSc & MSI 2\\MatchSegmentation\\.venv\\Lib\\site-packages\\pandas\\core\\frame.py:3113\u001b[0m, in \u001b[0;36mDataFrame.to_parquet\u001b[1;34m(self, path, engine, compression, index, partition_cols, storage_options, **kwargs)\u001b[0m\n\u001b[0;32m   3032\u001b[0m \u001b[38;5;250m\u001b[39m\u001b[38;5;124;03m\"\"\"\u001b[39;00m\n\u001b[0;32m   3033\u001b[0m \u001b[38;5;124;03mWrite a DataFrame to the binary parquet format.\u001b[39;00m\n\u001b[0;32m   3034\u001b[0m \n\u001b[1;32m   (...)\u001b[0m\n\u001b[0;32m   3109\u001b[0m \u001b[38;5;124;03m>>> content = f.read()\u001b[39;00m\n\u001b[0;32m   3110\u001b[0m \u001b[38;5;124;03m\"\"\"\u001b[39;00m\n\u001b[0;32m   3111\u001b[0m \u001b[38;5;28;01mfrom\u001b[39;00m \u001b[38;5;21;01mpandas\u001b[39;00m\u001b[38;5;21;01m.\u001b[39;00m\u001b[38;5;21;01mio\u001b[39;00m\u001b[38;5;21;01m.\u001b[39;00m\u001b[38;5;21;01mparquet\u001b[39;00m \u001b[38;5;28;01mimport\u001b[39;00m to_parquet\n\u001b[1;32m-> 3113\u001b[0m \u001b[38;5;28;01mreturn\u001b[39;00m \u001b[43mto_parquet\u001b[49m\u001b[43m(\u001b[49m\n\u001b[0;32m   3114\u001b[0m \u001b[43m    \u001b[49m\u001b[38;5;28;43mself\u001b[39;49m\u001b[43m,\u001b[49m\n\u001b[0;32m   3115\u001b[0m \u001b[43m    \u001b[49m\u001b[43mpath\u001b[49m\u001b[43m,\u001b[49m\n\u001b[0;32m   3116\u001b[0m \u001b[43m    \u001b[49m\u001b[43mengine\u001b[49m\u001b[43m,\u001b[49m\n\u001b[0;32m   3117\u001b[0m \u001b[43m    \u001b[49m\u001b[43mcompression\u001b[49m\u001b[38;5;241;43m=\u001b[39;49m\u001b[43mcompression\u001b[49m\u001b[43m,\u001b[49m\n\u001b[0;32m   3118\u001b[0m \u001b[43m    \u001b[49m\u001b[43mindex\u001b[49m\u001b[38;5;241;43m=\u001b[39;49m\u001b[43mindex\u001b[49m\u001b[43m,\u001b[49m\n\u001b[0;32m   3119\u001b[0m \u001b[43m    \u001b[49m\u001b[43mpartition_cols\u001b[49m\u001b[38;5;241;43m=\u001b[39;49m\u001b[43mpartition_cols\u001b[49m\u001b[43m,\u001b[49m\n\u001b[0;32m   3120\u001b[0m \u001b[43m    \u001b[49m\u001b[43mstorage_options\u001b[49m\u001b[38;5;241;43m=\u001b[39;49m\u001b[43mstorage_options\u001b[49m\u001b[43m,\u001b[49m\n\u001b[0;32m   3121\u001b[0m \u001b[43m    \u001b[49m\u001b[38;5;241;43m*\u001b[39;49m\u001b[38;5;241;43m*\u001b[39;49m\u001b[43mkwargs\u001b[49m\u001b[43m,\u001b[49m\n\u001b[0;32m   3122\u001b[0m \u001b[43m\u001b[49m\u001b[43m)\u001b[49m\n",
      "File \u001b[1;32mc:\\Users\\jllgo\\OneDrive\\Documentos\\UFMG\\MSc & MSI 2\\MatchSegmentation\\.venv\\Lib\\site-packages\\pandas\\io\\parquet.py:480\u001b[0m, in \u001b[0;36mto_parquet\u001b[1;34m(df, path, engine, compression, index, storage_options, partition_cols, filesystem, **kwargs)\u001b[0m\n\u001b[0;32m    476\u001b[0m impl \u001b[38;5;241m=\u001b[39m get_engine(engine)\n\u001b[0;32m    478\u001b[0m path_or_buf: FilePath \u001b[38;5;241m|\u001b[39m WriteBuffer[\u001b[38;5;28mbytes\u001b[39m] \u001b[38;5;241m=\u001b[39m io\u001b[38;5;241m.\u001b[39mBytesIO() \u001b[38;5;28;01mif\u001b[39;00m path \u001b[38;5;129;01mis\u001b[39;00m \u001b[38;5;28;01mNone\u001b[39;00m \u001b[38;5;28;01melse\u001b[39;00m path\n\u001b[1;32m--> 480\u001b[0m \u001b[43mimpl\u001b[49m\u001b[38;5;241;43m.\u001b[39;49m\u001b[43mwrite\u001b[49m\u001b[43m(\u001b[49m\n\u001b[0;32m    481\u001b[0m \u001b[43m    \u001b[49m\u001b[43mdf\u001b[49m\u001b[43m,\u001b[49m\n\u001b[0;32m    482\u001b[0m \u001b[43m    \u001b[49m\u001b[43mpath_or_buf\u001b[49m\u001b[43m,\u001b[49m\n\u001b[0;32m    483\u001b[0m \u001b[43m    \u001b[49m\u001b[43mcompression\u001b[49m\u001b[38;5;241;43m=\u001b[39;49m\u001b[43mcompression\u001b[49m\u001b[43m,\u001b[49m\n\u001b[0;32m    484\u001b[0m \u001b[43m    \u001b[49m\u001b[43mindex\u001b[49m\u001b[38;5;241;43m=\u001b[39;49m\u001b[43mindex\u001b[49m\u001b[43m,\u001b[49m\n\u001b[0;32m    485\u001b[0m \u001b[43m    \u001b[49m\u001b[43mpartition_cols\u001b[49m\u001b[38;5;241;43m=\u001b[39;49m\u001b[43mpartition_cols\u001b[49m\u001b[43m,\u001b[49m\n\u001b[0;32m    486\u001b[0m \u001b[43m    \u001b[49m\u001b[43mstorage_options\u001b[49m\u001b[38;5;241;43m=\u001b[39;49m\u001b[43mstorage_options\u001b[49m\u001b[43m,\u001b[49m\n\u001b[0;32m    487\u001b[0m \u001b[43m    \u001b[49m\u001b[43mfilesystem\u001b[49m\u001b[38;5;241;43m=\u001b[39;49m\u001b[43mfilesystem\u001b[49m\u001b[43m,\u001b[49m\n\u001b[0;32m    488\u001b[0m \u001b[43m    \u001b[49m\u001b[38;5;241;43m*\u001b[39;49m\u001b[38;5;241;43m*\u001b[39;49m\u001b[43mkwargs\u001b[49m\u001b[43m,\u001b[49m\n\u001b[0;32m    489\u001b[0m \u001b[43m\u001b[49m\u001b[43m)\u001b[49m\n\u001b[0;32m    491\u001b[0m \u001b[38;5;28;01mif\u001b[39;00m path \u001b[38;5;129;01mis\u001b[39;00m \u001b[38;5;28;01mNone\u001b[39;00m:\n\u001b[0;32m    492\u001b[0m     \u001b[38;5;28;01massert\u001b[39;00m \u001b[38;5;28misinstance\u001b[39m(path_or_buf, io\u001b[38;5;241m.\u001b[39mBytesIO)\n",
      "File \u001b[1;32mc:\\Users\\jllgo\\OneDrive\\Documentos\\UFMG\\MSc & MSI 2\\MatchSegmentation\\.venv\\Lib\\site-packages\\pandas\\io\\parquet.py:190\u001b[0m, in \u001b[0;36mPyArrowImpl.write\u001b[1;34m(self, df, path, compression, index, storage_options, partition_cols, filesystem, **kwargs)\u001b[0m\n\u001b[0;32m    187\u001b[0m \u001b[38;5;28;01mif\u001b[39;00m index \u001b[38;5;129;01mis\u001b[39;00m \u001b[38;5;129;01mnot\u001b[39;00m \u001b[38;5;28;01mNone\u001b[39;00m:\n\u001b[0;32m    188\u001b[0m     from_pandas_kwargs[\u001b[38;5;124m\"\u001b[39m\u001b[38;5;124mpreserve_index\u001b[39m\u001b[38;5;124m\"\u001b[39m] \u001b[38;5;241m=\u001b[39m index\n\u001b[1;32m--> 190\u001b[0m table \u001b[38;5;241m=\u001b[39m \u001b[38;5;28;43mself\u001b[39;49m\u001b[38;5;241;43m.\u001b[39;49m\u001b[43mapi\u001b[49m\u001b[38;5;241;43m.\u001b[39;49m\u001b[43mTable\u001b[49m\u001b[38;5;241;43m.\u001b[39;49m\u001b[43mfrom_pandas\u001b[49m\u001b[43m(\u001b[49m\u001b[43mdf\u001b[49m\u001b[43m,\u001b[49m\u001b[43m \u001b[49m\u001b[38;5;241;43m*\u001b[39;49m\u001b[38;5;241;43m*\u001b[39;49m\u001b[43mfrom_pandas_kwargs\u001b[49m\u001b[43m)\u001b[49m\n\u001b[0;32m    192\u001b[0m \u001b[38;5;28;01mif\u001b[39;00m df\u001b[38;5;241m.\u001b[39mattrs:\n\u001b[0;32m    193\u001b[0m     df_metadata \u001b[38;5;241m=\u001b[39m {\u001b[38;5;124m\"\u001b[39m\u001b[38;5;124mPANDAS_ATTRS\u001b[39m\u001b[38;5;124m\"\u001b[39m: json\u001b[38;5;241m.\u001b[39mdumps(df\u001b[38;5;241m.\u001b[39mattrs)}\n",
      "File \u001b[1;32mc:\\Users\\jllgo\\OneDrive\\Documentos\\UFMG\\MSc & MSI 2\\MatchSegmentation\\.venv\\Lib\\site-packages\\pyarrow\\table.pxi:4751\u001b[0m, in \u001b[0;36mpyarrow.lib.Table.from_pandas\u001b[1;34m()\u001b[0m\n",
      "File \u001b[1;32mc:\\Users\\jllgo\\OneDrive\\Documentos\\UFMG\\MSc & MSI 2\\MatchSegmentation\\.venv\\Lib\\site-packages\\pyarrow\\pandas_compat.py:638\u001b[0m, in \u001b[0;36mdataframe_to_arrays\u001b[1;34m(df, schema, preserve_index, nthreads, columns, safe)\u001b[0m\n\u001b[0;32m    636\u001b[0m     \u001b[38;5;28;01mfor\u001b[39;00m i, maybe_fut \u001b[38;5;129;01min\u001b[39;00m \u001b[38;5;28menumerate\u001b[39m(arrays):\n\u001b[0;32m    637\u001b[0m         \u001b[38;5;28;01mif\u001b[39;00m \u001b[38;5;28misinstance\u001b[39m(maybe_fut, futures\u001b[38;5;241m.\u001b[39mFuture):\n\u001b[1;32m--> 638\u001b[0m             arrays[i] \u001b[38;5;241m=\u001b[39m \u001b[43mmaybe_fut\u001b[49m\u001b[38;5;241;43m.\u001b[39;49m\u001b[43mresult\u001b[49m\u001b[43m(\u001b[49m\u001b[43m)\u001b[49m\n\u001b[0;32m    640\u001b[0m types \u001b[38;5;241m=\u001b[39m [x\u001b[38;5;241m.\u001b[39mtype \u001b[38;5;28;01mfor\u001b[39;00m x \u001b[38;5;129;01min\u001b[39;00m arrays]\n\u001b[0;32m    642\u001b[0m \u001b[38;5;28;01mif\u001b[39;00m schema \u001b[38;5;129;01mis\u001b[39;00m \u001b[38;5;28;01mNone\u001b[39;00m:\n",
      "File \u001b[1;32m~\\AppData\\Local\\Programs\\Python\\Python312\\Lib\\concurrent\\futures\\_base.py:449\u001b[0m, in \u001b[0;36mFuture.result\u001b[1;34m(self, timeout)\u001b[0m\n\u001b[0;32m    447\u001b[0m     \u001b[38;5;28;01mraise\u001b[39;00m CancelledError()\n\u001b[0;32m    448\u001b[0m \u001b[38;5;28;01melif\u001b[39;00m \u001b[38;5;28mself\u001b[39m\u001b[38;5;241m.\u001b[39m_state \u001b[38;5;241m==\u001b[39m FINISHED:\n\u001b[1;32m--> 449\u001b[0m     \u001b[38;5;28;01mreturn\u001b[39;00m \u001b[38;5;28;43mself\u001b[39;49m\u001b[38;5;241;43m.\u001b[39;49m\u001b[43m__get_result\u001b[49m\u001b[43m(\u001b[49m\u001b[43m)\u001b[49m\n\u001b[0;32m    451\u001b[0m \u001b[38;5;28mself\u001b[39m\u001b[38;5;241m.\u001b[39m_condition\u001b[38;5;241m.\u001b[39mwait(timeout)\n\u001b[0;32m    453\u001b[0m \u001b[38;5;28;01mif\u001b[39;00m \u001b[38;5;28mself\u001b[39m\u001b[38;5;241m.\u001b[39m_state \u001b[38;5;129;01min\u001b[39;00m [CANCELLED, CANCELLED_AND_NOTIFIED]:\n",
      "File \u001b[1;32m~\\AppData\\Local\\Programs\\Python\\Python312\\Lib\\concurrent\\futures\\_base.py:401\u001b[0m, in \u001b[0;36mFuture.__get_result\u001b[1;34m(self)\u001b[0m\n\u001b[0;32m    399\u001b[0m \u001b[38;5;28;01mif\u001b[39;00m \u001b[38;5;28mself\u001b[39m\u001b[38;5;241m.\u001b[39m_exception:\n\u001b[0;32m    400\u001b[0m     \u001b[38;5;28;01mtry\u001b[39;00m:\n\u001b[1;32m--> 401\u001b[0m         \u001b[38;5;28;01mraise\u001b[39;00m \u001b[38;5;28mself\u001b[39m\u001b[38;5;241m.\u001b[39m_exception\n\u001b[0;32m    402\u001b[0m     \u001b[38;5;28;01mfinally\u001b[39;00m:\n\u001b[0;32m    403\u001b[0m         \u001b[38;5;66;03m# Break a reference cycle with the exception in self._exception\u001b[39;00m\n\u001b[0;32m    404\u001b[0m         \u001b[38;5;28mself\u001b[39m \u001b[38;5;241m=\u001b[39m \u001b[38;5;28;01mNone\u001b[39;00m\n",
      "File \u001b[1;32m~\\AppData\\Local\\Programs\\Python\\Python312\\Lib\\concurrent\\futures\\thread.py:58\u001b[0m, in \u001b[0;36m_WorkItem.run\u001b[1;34m(self)\u001b[0m\n\u001b[0;32m     55\u001b[0m     \u001b[38;5;28;01mreturn\u001b[39;00m\n\u001b[0;32m     57\u001b[0m \u001b[38;5;28;01mtry\u001b[39;00m:\n\u001b[1;32m---> 58\u001b[0m     result \u001b[38;5;241m=\u001b[39m \u001b[38;5;28;43mself\u001b[39;49m\u001b[38;5;241;43m.\u001b[39;49m\u001b[43mfn\u001b[49m\u001b[43m(\u001b[49m\u001b[38;5;241;43m*\u001b[39;49m\u001b[38;5;28;43mself\u001b[39;49m\u001b[38;5;241;43m.\u001b[39;49m\u001b[43margs\u001b[49m\u001b[43m,\u001b[49m\u001b[43m \u001b[49m\u001b[38;5;241;43m*\u001b[39;49m\u001b[38;5;241;43m*\u001b[39;49m\u001b[38;5;28;43mself\u001b[39;49m\u001b[38;5;241;43m.\u001b[39;49m\u001b[43mkwargs\u001b[49m\u001b[43m)\u001b[49m\n\u001b[0;32m     59\u001b[0m \u001b[38;5;28;01mexcept\u001b[39;00m \u001b[38;5;167;01mBaseException\u001b[39;00m \u001b[38;5;28;01mas\u001b[39;00m exc:\n\u001b[0;32m     60\u001b[0m     \u001b[38;5;28mself\u001b[39m\u001b[38;5;241m.\u001b[39mfuture\u001b[38;5;241m.\u001b[39mset_exception(exc)\n",
      "File \u001b[1;32mc:\\Users\\jllgo\\OneDrive\\Documentos\\UFMG\\MSc & MSI 2\\MatchSegmentation\\.venv\\Lib\\site-packages\\pyarrow\\pandas_compat.py:612\u001b[0m, in \u001b[0;36mdataframe_to_arrays.<locals>.convert_column\u001b[1;34m(col, field)\u001b[0m\n\u001b[0;32m    607\u001b[0m \u001b[38;5;28;01mexcept\u001b[39;00m (pa\u001b[38;5;241m.\u001b[39mArrowInvalid,\n\u001b[0;32m    608\u001b[0m         pa\u001b[38;5;241m.\u001b[39mArrowNotImplementedError,\n\u001b[0;32m    609\u001b[0m         pa\u001b[38;5;241m.\u001b[39mArrowTypeError) \u001b[38;5;28;01mas\u001b[39;00m e:\n\u001b[0;32m    610\u001b[0m     e\u001b[38;5;241m.\u001b[39margs \u001b[38;5;241m+\u001b[39m\u001b[38;5;241m=\u001b[39m (\u001b[38;5;124m\"\u001b[39m\u001b[38;5;124mConversion failed for column \u001b[39m\u001b[38;5;132;01m{!s}\u001b[39;00m\u001b[38;5;124m with type \u001b[39m\u001b[38;5;132;01m{!s}\u001b[39;00m\u001b[38;5;124m\"\u001b[39m\n\u001b[0;32m    611\u001b[0m                \u001b[38;5;241m.\u001b[39mformat(col\u001b[38;5;241m.\u001b[39mname, col\u001b[38;5;241m.\u001b[39mdtype),)\n\u001b[1;32m--> 612\u001b[0m     \u001b[38;5;28;01mraise\u001b[39;00m e\n\u001b[0;32m    613\u001b[0m \u001b[38;5;28;01mif\u001b[39;00m \u001b[38;5;129;01mnot\u001b[39;00m field_nullable \u001b[38;5;129;01mand\u001b[39;00m result\u001b[38;5;241m.\u001b[39mnull_count \u001b[38;5;241m>\u001b[39m \u001b[38;5;241m0\u001b[39m:\n\u001b[0;32m    614\u001b[0m     \u001b[38;5;28;01mraise\u001b[39;00m \u001b[38;5;167;01mValueError\u001b[39;00m(\u001b[38;5;124m\"\u001b[39m\u001b[38;5;124mField \u001b[39m\u001b[38;5;132;01m{}\u001b[39;00m\u001b[38;5;124m was non-nullable but pandas column \u001b[39m\u001b[38;5;124m\"\u001b[39m\n\u001b[0;32m    615\u001b[0m                      \u001b[38;5;124m\"\u001b[39m\u001b[38;5;124mhad \u001b[39m\u001b[38;5;132;01m{}\u001b[39;00m\u001b[38;5;124m null values\u001b[39m\u001b[38;5;124m\"\u001b[39m\u001b[38;5;241m.\u001b[39mformat(\u001b[38;5;28mstr\u001b[39m(field),\n\u001b[0;32m    616\u001b[0m                                                  result\u001b[38;5;241m.\u001b[39mnull_count))\n",
      "File \u001b[1;32mc:\\Users\\jllgo\\OneDrive\\Documentos\\UFMG\\MSc & MSI 2\\MatchSegmentation\\.venv\\Lib\\site-packages\\pyarrow\\pandas_compat.py:606\u001b[0m, in \u001b[0;36mdataframe_to_arrays.<locals>.convert_column\u001b[1;34m(col, field)\u001b[0m\n\u001b[0;32m    603\u001b[0m     type_ \u001b[38;5;241m=\u001b[39m field\u001b[38;5;241m.\u001b[39mtype\n\u001b[0;32m    605\u001b[0m \u001b[38;5;28;01mtry\u001b[39;00m:\n\u001b[1;32m--> 606\u001b[0m     result \u001b[38;5;241m=\u001b[39m \u001b[43mpa\u001b[49m\u001b[38;5;241;43m.\u001b[39;49m\u001b[43marray\u001b[49m\u001b[43m(\u001b[49m\u001b[43mcol\u001b[49m\u001b[43m,\u001b[49m\u001b[43m \u001b[49m\u001b[38;5;28;43mtype\u001b[39;49m\u001b[38;5;241;43m=\u001b[39;49m\u001b[43mtype_\u001b[49m\u001b[43m,\u001b[49m\u001b[43m \u001b[49m\u001b[43mfrom_pandas\u001b[49m\u001b[38;5;241;43m=\u001b[39;49m\u001b[38;5;28;43;01mTrue\u001b[39;49;00m\u001b[43m,\u001b[49m\u001b[43m \u001b[49m\u001b[43msafe\u001b[49m\u001b[38;5;241;43m=\u001b[39;49m\u001b[43msafe\u001b[49m\u001b[43m)\u001b[49m\n\u001b[0;32m    607\u001b[0m \u001b[38;5;28;01mexcept\u001b[39;00m (pa\u001b[38;5;241m.\u001b[39mArrowInvalid,\n\u001b[0;32m    608\u001b[0m         pa\u001b[38;5;241m.\u001b[39mArrowNotImplementedError,\n\u001b[0;32m    609\u001b[0m         pa\u001b[38;5;241m.\u001b[39mArrowTypeError) \u001b[38;5;28;01mas\u001b[39;00m e:\n\u001b[0;32m    610\u001b[0m     e\u001b[38;5;241m.\u001b[39margs \u001b[38;5;241m+\u001b[39m\u001b[38;5;241m=\u001b[39m (\u001b[38;5;124m\"\u001b[39m\u001b[38;5;124mConversion failed for column \u001b[39m\u001b[38;5;132;01m{!s}\u001b[39;00m\u001b[38;5;124m with type \u001b[39m\u001b[38;5;132;01m{!s}\u001b[39;00m\u001b[38;5;124m\"\u001b[39m\n\u001b[0;32m    611\u001b[0m                \u001b[38;5;241m.\u001b[39mformat(col\u001b[38;5;241m.\u001b[39mname, col\u001b[38;5;241m.\u001b[39mdtype),)\n",
      "File \u001b[1;32mc:\\Users\\jllgo\\OneDrive\\Documentos\\UFMG\\MSc & MSI 2\\MatchSegmentation\\.venv\\Lib\\site-packages\\pyarrow\\array.pxi:360\u001b[0m, in \u001b[0;36mpyarrow.lib.array\u001b[1;34m()\u001b[0m\n",
      "File \u001b[1;32mc:\\Users\\jllgo\\OneDrive\\Documentos\\UFMG\\MSc & MSI 2\\MatchSegmentation\\.venv\\Lib\\site-packages\\pyarrow\\array.pxi:87\u001b[0m, in \u001b[0;36mpyarrow.lib._ndarray_to_array\u001b[1;34m()\u001b[0m\n",
      "File \u001b[1;32mc:\\Users\\jllgo\\OneDrive\\Documentos\\UFMG\\MSc & MSI 2\\MatchSegmentation\\.venv\\Lib\\site-packages\\pyarrow\\error.pxi:92\u001b[0m, in \u001b[0;36mpyarrow.lib.check_status\u001b[1;34m()\u001b[0m\n",
      "\u001b[1;31mArrowInvalid\u001b[0m: (\"Could not convert <PFF_Frame_GameEventType.FIRST_HALF_KICKOFF: '1KO'> with type PFF_Frame_GameEventType: did not recognize Python value type when inferring an Arrow data type\", 'Conversion failed for column event_type with type object')"
     ]
    }
   ],
   "source": [
    "frames_loader.save('data/intermediate/')"
   ]
  },
  {
   "cell_type": "code",
   "execution_count": 19,
   "metadata": {},
   "outputs": [],
   "source": [
    "def make_serializable(df):\n",
    "    for col in df.columns:\n",
    "        if df[col].dtype == \"object\":\n",
    "            df[col] = df[col].apply(\n",
    "                lambda x: x.name if hasattr(x, \"name\") else str(x)\n",
    "            )\n",
    "    return df"
   ]
  },
  {
   "cell_type": "code",
   "execution_count": 21,
   "metadata": {},
   "outputs": [
    {
     "data": {
      "application/vnd.jupyter.widget-view+json": {
       "model_id": "7be8b2a329ae4505bec2fc897b7fc66d",
       "version_major": 2,
       "version_minor": 0
      },
      "text/plain": [
       "Saving frames:   0%|          | 0/5 [00:00<?, ?it/s]"
      ]
     },
     "metadata": {},
     "output_type": "display_data"
    }
   ],
   "source": [
    "for i, (metadata_df, players_df) in tqdm(enumerate(frames_loader.get()), total=len(frames_loader.get()), desc=\"Saving frames\"):\n",
    "    metadata_df[\"event_type\"] = metadata_df[\"event_type\"].apply(\n",
    "        lambda x: x.name if hasattr(x, \"name\") else str(x)\n",
    "    )\n",
    "    metadata_df = make_serializable(metadata_df)\n",
    "    players_df = make_serializable(players_df)\n",
    "    \n",
    "    game_path = f\"data/intermediate/{game_ids[i]}\"\n",
    "    os.makedirs(game_path, exist_ok=True)\n",
    "\n",
    "    # Save the DataFrames\n",
    "    metadata_df.to_parquet(f\"{game_path}/metadata.parquet\", engine=\"fastparquet\")\n",
    "    players_df.to_parquet(f\"{game_path}/players.parquet\", engine=\"fastparquet\")"
   ]
  },
  {
   "cell_type": "code",
   "execution_count": null,
   "metadata": {},
   "outputs": [],
   "source": []
  }
 ],
 "metadata": {
  "kernelspec": {
   "display_name": ".venv",
   "language": "python",
   "name": "python3"
  },
  "language_info": {
   "codemirror_mode": {
    "name": "ipython",
    "version": 3
   },
   "file_extension": ".py",
   "mimetype": "text/x-python",
   "name": "python",
   "nbconvert_exporter": "python",
   "pygments_lexer": "ipython3",
   "version": "3.12.3"
  }
 },
 "nbformat": 4,
 "nbformat_minor": 2
}
