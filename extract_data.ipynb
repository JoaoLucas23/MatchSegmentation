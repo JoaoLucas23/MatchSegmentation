{
 "cells": [
  {
   "cell_type": "code",
   "execution_count": 1,
   "metadata": {},
   "outputs": [],
   "source": [
    "import gandula\n",
    "from tqdm.auto import tqdm\n",
    "import os"
   ]
  },
  {
   "cell_type": "code",
   "execution_count": 2,
   "metadata": {},
   "outputs": [
    {
     "name": "stdout",
     "output_type": "stream",
     "text": [
      "The autoreload extension is already loaded. To reload it, use:\n",
      "  %reload_ext autoreload\n"
     ]
    }
   ],
   "source": [
    "%load_ext autoreload\n",
    "%autoreload 2"
   ]
  },
  {
   "cell_type": "code",
   "execution_count": 3,
   "metadata": {},
   "outputs": [],
   "source": [
    "from src.data.loader import FramesLoader"
   ]
  },
  {
   "cell_type": "code",
   "execution_count": 4,
   "metadata": {},
   "outputs": [],
   "source": [
    "DATA_PATH = 'data/raw/PL-22-23'\n",
    "output_path = \"data/intermediate/PL-22-23\""
   ]
  },
  {
   "cell_type": "code",
   "execution_count": 5,
   "metadata": {},
   "outputs": [],
   "source": [
    "games = os.listdir(DATA_PATH)\n",
    "game_ids = [game.split('.')[0] for game in games]"
   ]
  },
  {
   "cell_type": "code",
   "execution_count": null,
   "metadata": {},
   "outputs": [
    {
     "data": {
      "application/vnd.jupyter.widget-view+json": {
       "model_id": "91e1ad4286924d129bcef701fd011f43",
       "version_major": 2,
       "version_minor": 0
      },
      "text/plain": [
       "Loading frames:   0%|          | 0/30 [00:00<?, ?it/s]"
      ]
     },
     "metadata": {},
     "output_type": "display_data"
    },
    {
     "data": {
      "application/vnd.jupyter.widget-view+json": {
       "model_id": "9441d5077c7a444bb372a9d62e6cd18f",
       "version_major": 2,
       "version_minor": 0
      },
      "text/plain": [
       "Loading frames from match 4596: 0 frames [00:00, ? frames/s]"
      ]
     },
     "metadata": {},
     "output_type": "display_data"
    },
    {
     "data": {
      "application/vnd.jupyter.widget-view+json": {
       "model_id": "c454f652b5ab42bd93f1adddd0872f5d",
       "version_major": 2,
       "version_minor": 0
      },
      "text/plain": [
       "Validating frames:   0%|          | 0/180777 [00:00<?, ? frames/s]"
      ]
     },
     "metadata": {},
     "output_type": "display_data"
    },
    {
     "name": "stderr",
     "output_type": "stream",
     "text": [
      "\n",
      "Adding ball speed, velocity, and acceleration in each frame:   0%|          | 0/2 [00:00<?, ?it/s]\n",
      "Adding ball speed, velocity, and acceleration in each frame:  50%|█████     | 1/2 [00:00<00:00,  7.40it/s]\n",
      "Adding ball speed, velocity, and acceleration in each frame: 100%|██████████| 2/2 [00:01<00:00,  1.34it/s]\n",
      "\n",
      "Adding player speed, velocity, and acceleration in each frame:   0%|          | 0/49 [00:00<?, ?it/s]\n",
      "Adding player speed, velocity, and acceleration in each frame:   2%|▏         | 1/49 [00:00<00:21,  2.23it/s]\n",
      "Adding player speed, velocity, and acceleration in each frame:  12%|█▏        | 6/49 [00:00<00:03, 13.30it/s]\n",
      "Adding player speed, velocity, and acceleration in each frame:  22%|██▏       | 11/49 [00:00<00:01, 21.90it/s]\n",
      "Adding player speed, velocity, and acceleration in each frame:  33%|███▎      | 16/49 [00:00<00:01, 28.58it/s]\n",
      "Adding player speed, velocity, and acceleration in each frame:  45%|████▍     | 22/49 [00:00<00:00, 34.79it/s]\n",
      "Adding player speed, velocity, and acceleration in each frame:  57%|█████▋    | 28/49 [00:01<00:00, 40.16it/s]\n",
      "Adding player speed, velocity, and acceleration in each frame:  67%|██████▋   | 33/49 [00:01<00:00, 42.27it/s]\n",
      "Adding player speed, velocity, and acceleration in each frame:  84%|████████▎ | 41/49 [00:01<00:00, 48.67it/s]\n",
      "Adding player speed, velocity, and acceleration in each frame: 100%|██████████| 49/49 [00:02<00:00, 23.23it/s]\n"
     ]
    },
    {
     "data": {
      "application/vnd.jupyter.widget-view+json": {
       "model_id": "3248582582014fdaaeb0af65291416ec",
       "version_major": 2,
       "version_minor": 0
      },
      "text/plain": [
       "Loading frames from match 4597: 0 frames [00:00, ? frames/s]"
      ]
     },
     "metadata": {},
     "output_type": "display_data"
    },
    {
     "data": {
      "application/vnd.jupyter.widget-view+json": {
       "model_id": "85e3d407fd534b038266a9e97c6a6183",
       "version_major": 2,
       "version_minor": 0
      },
      "text/plain": [
       "Validating frames:   0%|          | 0/175995 [00:00<?, ? frames/s]"
      ]
     },
     "metadata": {},
     "output_type": "display_data"
    },
    {
     "name": "stderr",
     "output_type": "stream",
     "text": [
      "\n",
      "Adding ball speed, velocity, and acceleration in each frame:   0%|          | 0/2 [00:00<?, ?it/s]\n",
      "Adding ball speed, velocity, and acceleration in each frame:  50%|█████     | 1/2 [00:00<00:00,  6.18it/s]\n",
      "Adding ball speed, velocity, and acceleration in each frame: 100%|██████████| 2/2 [00:01<00:00,  1.37it/s]\n",
      "\n",
      "Adding player speed, velocity, and acceleration in each frame:   0%|          | 0/52 [00:00<?, ?it/s]\n",
      "Adding player speed, velocity, and acceleration in each frame:   2%|▏         | 1/52 [00:00<00:18,  2.71it/s]\n",
      "Adding player speed, velocity, and acceleration in each frame:  13%|█▎        | 7/52 [00:00<00:02, 17.90it/s]\n",
      "Adding player speed, velocity, and acceleration in each frame:  25%|██▌       | 13/52 [00:00<00:01, 27.89it/s]\n",
      "Adding player speed, velocity, and acceleration in each frame:  37%|███▋      | 19/52 [00:00<00:00, 35.71it/s]\n",
      "Adding player speed, velocity, and acceleration in each frame:  50%|█████     | 26/52 [00:00<00:00, 41.41it/s]\n",
      "Adding player speed, velocity, and acceleration in each frame:  67%|██████▋   | 35/52 [00:00<00:00, 52.36it/s]\n",
      "Adding player speed, velocity, and acceleration in each frame:  81%|████████  | 42/52 [00:01<00:00, 54.51it/s]\n",
      "Adding player speed, velocity, and acceleration in each frame: 100%|██████████| 52/52 [00:01<00:00, 27.03it/s]\n"
     ]
    },
    {
     "data": {
      "application/vnd.jupyter.widget-view+json": {
       "model_id": "f6d379e79a3e4735865ebe668146d429",
       "version_major": 2,
       "version_minor": 0
      },
      "text/plain": [
       "Loading frames from match 4598: 0 frames [00:00, ? frames/s]"
      ]
     },
     "metadata": {},
     "output_type": "display_data"
    },
    {
     "data": {
      "application/vnd.jupyter.widget-view+json": {
       "model_id": "57e585e990504c62b96b91b04de7b71b",
       "version_major": 2,
       "version_minor": 0
      },
      "text/plain": [
       "Validating frames:   0%|          | 0/180924 [00:00<?, ? frames/s]"
      ]
     },
     "metadata": {},
     "output_type": "display_data"
    },
    {
     "name": "stderr",
     "output_type": "stream",
     "text": [
      "\n",
      "Adding ball speed, velocity, and acceleration in each frame:   0%|          | 0/2 [00:00<?, ?it/s]\n",
      "Adding ball speed, velocity, and acceleration in each frame:  50%|█████     | 1/2 [00:00<00:00,  7.00it/s]\n",
      "Adding ball speed, velocity, and acceleration in each frame: 100%|██████████| 2/2 [00:01<00:00,  1.47it/s]\n",
      "\n",
      "Adding player speed, velocity, and acceleration in each frame:   0%|          | 0/49 [00:00<?, ?it/s]\n",
      "Adding player speed, velocity, and acceleration in each frame:   2%|▏         | 1/49 [00:00<00:17,  2.67it/s]\n",
      "Adding player speed, velocity, and acceleration in each frame:  14%|█▍        | 7/49 [00:00<00:02, 18.08it/s]\n",
      "Adding player speed, velocity, and acceleration in each frame:  24%|██▍       | 12/49 [00:00<00:01, 26.93it/s]\n",
      "Adding player speed, velocity, and acceleration in each frame:  37%|███▋      | 18/49 [00:00<00:00, 35.53it/s]\n",
      "Adding player speed, velocity, and acceleration in each frame:  49%|████▉     | 24/49 [00:00<00:00, 41.50it/s]\n",
      "Adding player speed, velocity, and acceleration in each frame:  61%|██████    | 30/49 [00:00<00:00, 44.62it/s]\n",
      "Adding player speed, velocity, and acceleration in each frame:  76%|███████▌  | 37/49 [00:01<00:00, 50.55it/s]\n",
      "Adding player speed, velocity, and acceleration in each frame: 100%|██████████| 49/49 [00:01<00:00, 26.49it/s]\n"
     ]
    },
    {
     "data": {
      "application/vnd.jupyter.widget-view+json": {
       "model_id": "10ca94ad4b064a53859256f990059ea0",
       "version_major": 2,
       "version_minor": 0
      },
      "text/plain": [
       "Loading frames from match 4599: 0 frames [00:00, ? frames/s]"
      ]
     },
     "metadata": {},
     "output_type": "display_data"
    },
    {
     "data": {
      "application/vnd.jupyter.widget-view+json": {
       "model_id": "593f2b89ec16433fbb803039ab723cd8",
       "version_major": 2,
       "version_minor": 0
      },
      "text/plain": [
       "Validating frames:   0%|          | 0/178304 [00:00<?, ? frames/s]"
      ]
     },
     "metadata": {},
     "output_type": "display_data"
    },
    {
     "name": "stderr",
     "output_type": "stream",
     "text": [
      "\n",
      "Adding ball speed, velocity, and acceleration in each frame:   0%|          | 0/2 [00:00<?, ?it/s]\n",
      "Adding ball speed, velocity, and acceleration in each frame:  50%|█████     | 1/2 [00:00<00:00,  3.73it/s]\n",
      "Adding ball speed, velocity, and acceleration in each frame: 100%|██████████| 2/2 [00:03<00:00,  1.56s/it]\n",
      "\n",
      "Adding player speed, velocity, and acceleration in each frame:   0%|          | 0/50 [00:00<?, ?it/s]\n",
      "Adding player speed, velocity, and acceleration in each frame:   2%|▏         | 1/50 [00:00<00:39,  1.23it/s]\n",
      "Adding player speed, velocity, and acceleration in each frame:   8%|▊         | 4/50 [00:00<00:08,  5.35it/s]\n",
      "Adding player speed, velocity, and acceleration in each frame:  14%|█▍        | 7/50 [00:01<00:04,  9.21it/s]\n",
      "Adding player speed, velocity, and acceleration in each frame:  20%|██        | 10/50 [00:01<00:03, 12.20it/s]\n",
      "Adding player speed, velocity, and acceleration in each frame:  26%|██▌       | 13/50 [00:01<00:02, 15.02it/s]\n",
      "Adding player speed, velocity, and acceleration in each frame:  32%|███▏      | 16/50 [00:01<00:01, 17.74it/s]\n",
      "Adding player speed, velocity, and acceleration in each frame:  38%|███▊      | 19/50 [00:01<00:01, 19.19it/s]\n",
      "Adding player speed, velocity, and acceleration in each frame:  44%|████▍     | 22/50 [00:01<00:01, 20.25it/s]\n",
      "Adding player speed, velocity, and acceleration in each frame:  50%|█████     | 25/50 [00:01<00:01, 20.10it/s]\n",
      "Adding player speed, velocity, and acceleration in each frame:  56%|█████▌    | 28/50 [00:01<00:01, 20.76it/s]\n",
      "Adding player speed, velocity, and acceleration in each frame:  64%|██████▍   | 32/50 [00:02<00:00, 23.81it/s]\n",
      "Adding player speed, velocity, and acceleration in each frame:  70%|███████   | 35/50 [00:02<00:00, 24.81it/s]\n",
      "Adding player speed, velocity, and acceleration in each frame:  76%|███████▌  | 38/50 [00:02<00:00, 22.40it/s]\n",
      "Adding player speed, velocity, and acceleration in each frame:  82%|████████▏ | 41/50 [00:02<00:00, 23.44it/s]\n",
      "Adding player speed, velocity, and acceleration in each frame:  90%|█████████ | 45/50 [00:02<00:00, 25.98it/s]\n",
      "Adding player speed, velocity, and acceleration in each frame: 100%|██████████| 50/50 [00:04<00:00, 12.35it/s]\n"
     ]
    },
    {
     "data": {
      "application/vnd.jupyter.widget-view+json": {
       "model_id": "55865737cce64293b509b5db6b8efe45",
       "version_major": 2,
       "version_minor": 0
      },
      "text/plain": [
       "Loading frames from match 4600: 0 frames [00:00, ? frames/s]"
      ]
     },
     "metadata": {},
     "output_type": "display_data"
    },
    {
     "data": {
      "application/vnd.jupyter.widget-view+json": {
       "model_id": "8e8fdd64c1334cc0b9333ff9f8a7f552",
       "version_major": 2,
       "version_minor": 0
      },
      "text/plain": [
       "Validating frames:   0%|          | 0/174181 [00:00<?, ? frames/s]"
      ]
     },
     "metadata": {},
     "output_type": "display_data"
    },
    {
     "name": "stderr",
     "output_type": "stream",
     "text": [
      "\n",
      "Adding ball speed, velocity, and acceleration in each frame:   0%|          | 0/2 [00:00<?, ?it/s]\n",
      "Adding ball speed, velocity, and acceleration in each frame:  50%|█████     | 1/2 [00:00<00:00,  5.02it/s]\n",
      "Adding ball speed, velocity, and acceleration in each frame: 100%|██████████| 2/2 [00:02<00:00,  1.50s/it]\n",
      "\n",
      "Adding player speed, velocity, and acceleration in each frame:   0%|          | 0/54 [00:00<?, ?it/s]\n",
      "Adding player speed, velocity, and acceleration in each frame:   2%|▏         | 1/54 [00:00<00:46,  1.14it/s]\n",
      "Adding player speed, velocity, and acceleration in each frame:   6%|▌         | 3/54 [00:00<00:13,  3.77it/s]\n",
      "Adding player speed, velocity, and acceleration in each frame:  11%|█         | 6/54 [00:01<00:06,  7.54it/s]\n",
      "Adding player speed, velocity, and acceleration in each frame:  17%|█▋        | 9/54 [00:01<00:04, 11.07it/s]\n",
      "Adding player speed, velocity, and acceleration in each frame:  22%|██▏       | 12/54 [00:01<00:03, 13.84it/s]\n",
      "Adding player speed, velocity, and acceleration in each frame:  28%|██▊       | 15/54 [00:01<00:02, 16.03it/s]\n",
      "Adding player speed, velocity, and acceleration in each frame:  33%|███▎      | 18/54 [00:01<00:01, 18.29it/s]\n",
      "Adding player speed, velocity, and acceleration in each frame:  39%|███▉      | 21/54 [00:01<00:01, 19.38it/s]\n",
      "Adding player speed, velocity, and acceleration in each frame:  44%|████▍     | 24/54 [00:01<00:01, 19.98it/s]\n",
      "Adding player speed, velocity, and acceleration in each frame:  52%|█████▏    | 28/54 [00:02<00:01, 23.26it/s]\n",
      "Adding player speed, velocity, and acceleration in each frame:  57%|█████▋    | 31/54 [00:02<00:01, 22.83it/s]\n",
      "Adding player speed, velocity, and acceleration in each frame:  63%|██████▎   | 34/54 [00:02<00:00, 23.42it/s]\n",
      "Adding player speed, velocity, and acceleration in each frame:  69%|██████▊   | 37/54 [00:02<00:00, 25.02it/s]\n",
      "Adding player speed, velocity, and acceleration in each frame:  76%|███████▌  | 41/54 [00:02<00:00, 25.90it/s]\n",
      "Adding player speed, velocity, and acceleration in each frame:  81%|████████▏ | 44/54 [00:02<00:00, 26.83it/s]\n",
      "Adding player speed, velocity, and acceleration in each frame:  87%|████████▋ | 47/54 [00:02<00:00, 27.15it/s]\n",
      "Adding player speed, velocity, and acceleration in each frame:  93%|█████████▎| 50/54 [00:02<00:00, 27.10it/s]\n",
      "Adding player speed, velocity, and acceleration in each frame: 100%|██████████| 54/54 [00:04<00:00, 12.71it/s]\n"
     ]
    },
    {
     "data": {
      "application/vnd.jupyter.widget-view+json": {
       "model_id": "201db5e7080d4dfe9f45ec5918a60b4f",
       "version_major": 2,
       "version_minor": 0
      },
      "text/plain": [
       "Loading frames from match 4601: 0 frames [00:00, ? frames/s]"
      ]
     },
     "metadata": {},
     "output_type": "display_data"
    },
    {
     "data": {
      "application/vnd.jupyter.widget-view+json": {
       "model_id": "4dedae77e45d48fcafc054e3eb088051",
       "version_major": 2,
       "version_minor": 0
      },
      "text/plain": [
       "Validating frames:   0%|          | 0/174833 [00:00<?, ? frames/s]"
      ]
     },
     "metadata": {},
     "output_type": "display_data"
    },
    {
     "name": "stderr",
     "output_type": "stream",
     "text": [
      "\n",
      "Adding ball speed, velocity, and acceleration in each frame:   0%|          | 0/2 [00:00<?, ?it/s]\n",
      "Adding ball speed, velocity, and acceleration in each frame:  50%|█████     | 1/2 [00:00<00:00,  4.95it/s]\n",
      "Adding ball speed, velocity, and acceleration in each frame: 100%|██████████| 2/2 [00:02<00:00,  1.34s/it]\n",
      "\n",
      "Adding player speed, velocity, and acceleration in each frame:   0%|          | 0/53 [00:00<?, ?it/s]\n",
      "Adding player speed, velocity, and acceleration in each frame:   2%|▏         | 1/53 [00:00<00:36,  1.42it/s]\n",
      "Adding player speed, velocity, and acceleration in each frame:   8%|▊         | 4/53 [00:00<00:08,  5.89it/s]\n",
      "Adding player speed, velocity, and acceleration in each frame:  13%|█▎        | 7/53 [00:00<00:04,  9.75it/s]\n",
      "Adding player speed, velocity, and acceleration in each frame:  19%|█▉        | 10/53 [00:01<00:03, 12.53it/s]\n",
      "Adding player speed, velocity, and acceleration in each frame:  23%|██▎       | 12/53 [00:01<00:03, 13.58it/s]\n",
      "Adding player speed, velocity, and acceleration in each frame:  26%|██▋       | 14/53 [00:01<00:02, 14.89it/s]\n",
      "Adding player speed, velocity, and acceleration in each frame:  32%|███▏      | 17/53 [00:01<00:02, 16.89it/s]\n",
      "Adding player speed, velocity, and acceleration in each frame:  36%|███▌      | 19/53 [00:01<00:01, 17.49it/s]\n",
      "Adding player speed, velocity, and acceleration in each frame:  42%|████▏     | 22/53 [00:01<00:01, 18.64it/s]\n",
      "Adding player speed, velocity, and acceleration in each frame:  47%|████▋     | 25/53 [00:01<00:01, 20.14it/s]\n",
      "Adding player speed, velocity, and acceleration in each frame:  55%|█████▍    | 29/53 [00:01<00:00, 24.03it/s]\n",
      "Adding player speed, velocity, and acceleration in each frame:  62%|██████▏   | 33/53 [00:02<00:00, 26.97it/s]\n",
      "Adding player speed, velocity, and acceleration in each frame:  68%|██████▊   | 36/53 [00:02<00:00, 26.62it/s]\n",
      "Adding player speed, velocity, and acceleration in each frame:  75%|███████▌  | 40/53 [00:02<00:00, 26.18it/s]\n",
      "Adding player speed, velocity, and acceleration in each frame:  81%|████████  | 43/53 [00:02<00:00, 24.48it/s]\n",
      "Adding player speed, velocity, and acceleration in each frame:  87%|████████▋ | 46/53 [00:02<00:00, 23.06it/s]\n",
      "Adding player speed, velocity, and acceleration in each frame:  92%|█████████▏| 49/53 [00:02<00:00, 24.64it/s]\n",
      "Adding player speed, velocity, and acceleration in each frame: 100%|██████████| 53/53 [00:04<00:00, 13.06it/s]\n"
     ]
    },
    {
     "data": {
      "application/vnd.jupyter.widget-view+json": {
       "model_id": "5c9998fdb8d44c238e6e4e01ae588c4b",
       "version_major": 2,
       "version_minor": 0
      },
      "text/plain": [
       "Loading frames from match 4602: 0 frames [00:00, ? frames/s]"
      ]
     },
     "metadata": {},
     "output_type": "display_data"
    },
    {
     "data": {
      "application/vnd.jupyter.widget-view+json": {
       "model_id": "d2290ca884de43f6a5db675a30553fda",
       "version_major": 2,
       "version_minor": 0
      },
      "text/plain": [
       "Validating frames:   0%|          | 0/174579 [00:00<?, ? frames/s]"
      ]
     },
     "metadata": {},
     "output_type": "display_data"
    },
    {
     "name": "stderr",
     "output_type": "stream",
     "text": [
      "\n",
      "Adding ball speed, velocity, and acceleration in each frame:   0%|          | 0/2 [00:00<?, ?it/s]\n",
      "Adding ball speed, velocity, and acceleration in each frame:  50%|█████     | 1/2 [00:00<00:00,  5.05it/s]\n",
      "Adding ball speed, velocity, and acceleration in each frame: 100%|██████████| 2/2 [00:03<00:00,  1.50s/it]\n",
      "\n",
      "Adding player speed, velocity, and acceleration in each frame:   0%|          | 0/52 [00:00<?, ?it/s]\n",
      "Adding player speed, velocity, and acceleration in each frame:   2%|▏         | 1/52 [00:01<01:04,  1.27s/it]\n",
      "Adding player speed, velocity, and acceleration in each frame:   6%|▌         | 3/52 [00:01<00:18,  2.66it/s]\n",
      "Adding player speed, velocity, and acceleration in each frame:  10%|▉         | 5/52 [00:01<00:09,  4.73it/s]\n",
      "Adding player speed, velocity, and acceleration in each frame:  13%|█▎        | 7/52 [00:01<00:06,  6.80it/s]\n",
      "Adding player speed, velocity, and acceleration in each frame:  17%|█▋        | 9/52 [00:01<00:04,  8.88it/s]\n",
      "Adding player speed, velocity, and acceleration in each frame:  21%|██        | 11/52 [00:01<00:03, 10.67it/s]\n",
      "Adding player speed, velocity, and acceleration in each frame:  25%|██▌       | 13/52 [00:01<00:03, 11.73it/s]\n",
      "Adding player speed, velocity, and acceleration in each frame:  29%|██▉       | 15/52 [00:02<00:02, 12.93it/s]\n",
      "Adding player speed, velocity, and acceleration in each frame:  33%|███▎      | 17/52 [00:02<00:02, 13.84it/s]\n",
      "Adding player speed, velocity, and acceleration in each frame:  37%|███▋      | 19/52 [00:02<00:02, 14.45it/s]\n",
      "Adding player speed, velocity, and acceleration in each frame:  40%|████      | 21/52 [00:02<00:02, 14.56it/s]\n",
      "Adding player speed, velocity, and acceleration in each frame:  44%|████▍     | 23/52 [00:02<00:01, 14.81it/s]\n",
      "Adding player speed, velocity, and acceleration in each frame:  48%|████▊     | 25/52 [00:02<00:01, 15.48it/s]\n",
      "Adding player speed, velocity, and acceleration in each frame:  54%|█████▍    | 28/52 [00:02<00:01, 17.51it/s]\n",
      "Adding player speed, velocity, and acceleration in each frame:  60%|█████▉    | 31/52 [00:03<00:01, 18.29it/s]\n",
      "Adding player speed, velocity, and acceleration in each frame:  63%|██████▎   | 33/52 [00:03<00:01, 18.01it/s]\n",
      "Adding player speed, velocity, and acceleration in each frame:  71%|███████   | 37/52 [00:03<00:00, 22.53it/s]\n",
      "Adding player speed, velocity, and acceleration in each frame:  79%|███████▉  | 41/52 [00:03<00:00, 24.72it/s]\n",
      "Adding player speed, velocity, and acceleration in each frame:  85%|████████▍ | 44/52 [00:03<00:00, 25.94it/s]\n",
      "Adding player speed, velocity, and acceleration in each frame:  92%|█████████▏| 48/52 [00:03<00:00, 29.60it/s]\n",
      "Adding player speed, velocity, and acceleration in each frame: 100%|██████████| 52/52 [00:04<00:00, 10.70it/s]\n"
     ]
    },
    {
     "data": {
      "application/vnd.jupyter.widget-view+json": {
       "model_id": "e2d6a05f863f49c5b35e22f6c365d3cb",
       "version_major": 2,
       "version_minor": 0
      },
      "text/plain": [
       "Loading frames from match 4603: 0 frames [00:00, ? frames/s]"
      ]
     },
     "metadata": {},
     "output_type": "display_data"
    },
    {
     "data": {
      "application/vnd.jupyter.widget-view+json": {
       "model_id": "956cef84f5a247dc949241cde907127f",
       "version_major": 2,
       "version_minor": 0
      },
      "text/plain": [
       "Validating frames:   0%|          | 0/173403 [00:00<?, ? frames/s]"
      ]
     },
     "metadata": {},
     "output_type": "display_data"
    },
    {
     "name": "stderr",
     "output_type": "stream",
     "text": [
      "\n",
      "Adding ball speed, velocity, and acceleration in each frame:   0%|          | 0/2 [00:00<?, ?it/s]\n",
      "Adding ball speed, velocity, and acceleration in each frame:  50%|█████     | 1/2 [00:00<00:00,  4.27it/s]\n",
      "Adding ball speed, velocity, and acceleration in each frame: 100%|██████████| 2/2 [00:02<00:00,  1.49s/it]\n",
      "\n",
      "Adding player speed, velocity, and acceleration in each frame:   0%|          | 0/51 [00:00<?, ?it/s]\n",
      "Adding player speed, velocity, and acceleration in each frame:   2%|▏         | 1/51 [00:00<00:47,  1.05it/s]\n",
      "Adding player speed, velocity, and acceleration in each frame:   6%|▌         | 3/51 [00:01<00:13,  3.46it/s]\n",
      "Adding player speed, velocity, and acceleration in each frame:  10%|▉         | 5/51 [00:01<00:07,  5.92it/s]\n",
      "Adding player speed, velocity, and acceleration in each frame:  16%|█▌        | 8/51 [00:01<00:04,  9.45it/s]\n",
      "Adding player speed, velocity, and acceleration in each frame:  20%|█▉        | 10/51 [00:01<00:03, 11.40it/s]\n",
      "Adding player speed, velocity, and acceleration in each frame:  25%|██▌       | 13/51 [00:01<00:02, 14.46it/s]\n",
      "Adding player speed, velocity, and acceleration in each frame:  31%|███▏      | 16/51 [00:01<00:02, 16.49it/s]\n",
      "Adding player speed, velocity, and acceleration in each frame:  37%|███▋      | 19/51 [00:01<00:01, 18.89it/s]\n",
      "Adding player speed, velocity, and acceleration in each frame:  43%|████▎     | 22/51 [00:01<00:01, 20.72it/s]\n",
      "Adding player speed, velocity, and acceleration in each frame:  49%|████▉     | 25/51 [00:02<00:01, 20.70it/s]\n",
      "Adding player speed, velocity, and acceleration in each frame:  55%|█████▍    | 28/51 [00:02<00:01, 20.59it/s]\n",
      "Adding player speed, velocity, and acceleration in each frame:  63%|██████▎   | 32/51 [00:02<00:00, 23.90it/s]\n",
      "Adding player speed, velocity, and acceleration in each frame:  71%|███████   | 36/51 [00:02<00:00, 27.39it/s]\n",
      "Adding player speed, velocity, and acceleration in each frame:  76%|███████▋  | 39/51 [00:02<00:00, 25.34it/s]\n",
      "Adding player speed, velocity, and acceleration in each frame:  84%|████████▍ | 43/51 [00:02<00:00, 28.04it/s]\n",
      "Adding player speed, velocity, and acceleration in each frame:  92%|█████████▏| 47/51 [00:02<00:00, 30.16it/s]\n",
      "Adding player speed, velocity, and acceleration in each frame: 100%|██████████| 51/51 [00:03<00:00, 13.03it/s]\n"
     ]
    },
    {
     "data": {
      "application/vnd.jupyter.widget-view+json": {
       "model_id": "85a319347b38431f95675620dd8f83d9",
       "version_major": 2,
       "version_minor": 0
      },
      "text/plain": [
       "Loading frames from match 4604: 0 frames [00:00, ? frames/s]"
      ]
     },
     "metadata": {},
     "output_type": "display_data"
    },
    {
     "data": {
      "application/vnd.jupyter.widget-view+json": {
       "model_id": "31e43003aafe4aec9f6d121e19c7073d",
       "version_major": 2,
       "version_minor": 0
      },
      "text/plain": [
       "Validating frames:   0%|          | 0/176436 [00:00<?, ? frames/s]"
      ]
     },
     "metadata": {},
     "output_type": "display_data"
    },
    {
     "name": "stderr",
     "output_type": "stream",
     "text": [
      "\n",
      "Adding ball speed, velocity, and acceleration in each frame:   0%|          | 0/2 [00:00<?, ?it/s]\n",
      "Adding ball speed, velocity, and acceleration in each frame:  50%|█████     | 1/2 [00:00<00:00,  5.26it/s]\n",
      "Adding ball speed, velocity, and acceleration in each frame: 100%|██████████| 2/2 [00:02<00:00,  1.18s/it]\n",
      "\n",
      "Adding player speed, velocity, and acceleration in each frame:   0%|          | 0/54 [00:00<?, ?it/s]\n",
      "Adding player speed, velocity, and acceleration in each frame:   2%|▏         | 1/54 [00:00<00:37,  1.43it/s]\n",
      "Adding player speed, velocity, and acceleration in each frame:   6%|▌         | 3/54 [00:00<00:11,  4.38it/s]\n",
      "Adding player speed, velocity, and acceleration in each frame:  11%|█         | 6/54 [00:00<00:05,  8.26it/s]\n",
      "Adding player speed, velocity, and acceleration in each frame:  15%|█▍        | 8/54 [00:01<00:04, 10.25it/s]\n",
      "Adding player speed, velocity, and acceleration in each frame:  19%|█▊        | 10/54 [00:01<00:03, 11.73it/s]\n",
      "Adding player speed, velocity, and acceleration in each frame:  22%|██▏       | 12/54 [00:01<00:03, 12.83it/s]\n",
      "Adding player speed, velocity, and acceleration in each frame:  26%|██▌       | 14/54 [00:01<00:02, 13.71it/s]\n",
      "Adding player speed, velocity, and acceleration in each frame:  30%|██▉       | 16/54 [00:01<00:02, 14.56it/s]\n",
      "Adding player speed, velocity, and acceleration in each frame:  33%|███▎      | 18/54 [00:01<00:02, 15.00it/s]\n",
      "Adding player speed, velocity, and acceleration in each frame:  37%|███▋      | 20/54 [00:01<00:02, 15.34it/s]\n",
      "Adding player speed, velocity, and acceleration in each frame:  41%|████      | 22/54 [00:01<00:02, 15.97it/s]\n",
      "Adding player speed, velocity, and acceleration in each frame:  44%|████▍     | 24/54 [00:02<00:01, 16.21it/s]\n",
      "Adding player speed, velocity, and acceleration in each frame:  54%|█████▎    | 29/54 [00:02<00:01, 22.18it/s]\n",
      "Adding player speed, velocity, and acceleration in each frame:  59%|█████▉    | 32/54 [00:02<00:00, 22.48it/s]\n",
      "Adding player speed, velocity, and acceleration in each frame:  65%|██████▍   | 35/54 [00:02<00:00, 20.62it/s]\n",
      "Adding player speed, velocity, and acceleration in each frame:  70%|███████   | 38/54 [00:02<00:00, 21.03it/s]\n",
      "Adding player speed, velocity, and acceleration in each frame:  76%|███████▌  | 41/54 [00:02<00:00, 22.90it/s]\n",
      "Adding player speed, velocity, and acceleration in each frame:  81%|████████▏ | 44/54 [00:02<00:00, 22.73it/s]\n",
      "Adding player speed, velocity, and acceleration in each frame:  87%|████████▋ | 47/54 [00:03<00:00, 22.92it/s]\n",
      "Adding player speed, velocity, and acceleration in each frame:  93%|█████████▎| 50/54 [00:03<00:00, 22.87it/s]\n",
      "Adding player speed, velocity, and acceleration in each frame: 100%|██████████| 54/54 [00:04<00:00, 11.16it/s]\n"
     ]
    },
    {
     "data": {
      "application/vnd.jupyter.widget-view+json": {
       "model_id": "2bc0dcb5093c40aba4cbf598c6804372",
       "version_major": 2,
       "version_minor": 0
      },
      "text/plain": [
       "Loading frames from match 4605: 0 frames [00:00, ? frames/s]"
      ]
     },
     "metadata": {},
     "output_type": "display_data"
    },
    {
     "data": {
      "application/vnd.jupyter.widget-view+json": {
       "model_id": "4c93845bd88e411695fde13ed4dbc9bb",
       "version_major": 2,
       "version_minor": 0
      },
      "text/plain": [
       "Validating frames:   0%|          | 0/171095 [00:00<?, ? frames/s]"
      ]
     },
     "metadata": {},
     "output_type": "display_data"
    },
    {
     "name": "stderr",
     "output_type": "stream",
     "text": [
      "\n",
      "Adding ball speed, velocity, and acceleration in each frame:   0%|          | 0/2 [00:00<?, ?it/s]\n",
      "Adding ball speed, velocity, and acceleration in each frame:  50%|█████     | 1/2 [00:00<00:00,  5.17it/s]\n",
      "Adding ball speed, velocity, and acceleration in each frame: 100%|██████████| 2/2 [00:02<00:00,  1.25s/it]\n",
      "\n",
      "Adding player speed, velocity, and acceleration in each frame:   0%|          | 0/51 [00:00<?, ?it/s]\n",
      "Adding player speed, velocity, and acceleration in each frame:   2%|▏         | 1/51 [00:00<00:37,  1.35it/s]\n",
      "Adding player speed, velocity, and acceleration in each frame:   8%|▊         | 4/51 [00:00<00:08,  5.56it/s]\n",
      "Adding player speed, velocity, and acceleration in each frame:  12%|█▏        | 6/51 [00:00<00:05,  8.04it/s]\n",
      "Adding player speed, velocity, and acceleration in each frame:  16%|█▌        | 8/51 [00:01<00:04, 10.22it/s]\n",
      "Adding player speed, velocity, and acceleration in each frame:  20%|█▉        | 10/51 [00:01<00:03, 12.18it/s]\n",
      "Adding player speed, velocity, and acceleration in each frame:  24%|██▎       | 12/51 [00:01<00:02, 13.82it/s]\n",
      "Adding player speed, velocity, and acceleration in each frame:  29%|██▉       | 15/51 [00:01<00:02, 16.09it/s]\n",
      "Adding player speed, velocity, and acceleration in each frame:  35%|███▌      | 18/51 [00:01<00:01, 17.45it/s]\n",
      "Adding player speed, velocity, and acceleration in each frame:  41%|████      | 21/51 [00:01<00:01, 18.60it/s]\n",
      "Adding player speed, velocity, and acceleration in each frame:  45%|████▌     | 23/51 [00:01<00:01, 17.95it/s]\n",
      "Adding player speed, velocity, and acceleration in each frame:  51%|█████     | 26/51 [00:02<00:01, 19.16it/s]\n",
      "Adding player speed, velocity, and acceleration in each frame:  57%|█████▋    | 29/51 [00:02<00:01, 19.88it/s]\n",
      "Adding player speed, velocity, and acceleration in each frame:  63%|██████▎   | 32/51 [00:02<00:00, 21.87it/s]\n",
      "Adding player speed, velocity, and acceleration in each frame:  69%|██████▊   | 35/51 [00:02<00:00, 23.10it/s]\n",
      "Adding player speed, velocity, and acceleration in each frame:  75%|███████▍  | 38/51 [00:02<00:00, 23.08it/s]\n",
      "Adding player speed, velocity, and acceleration in each frame:  80%|████████  | 41/51 [00:02<00:00, 22.57it/s]\n",
      "Adding player speed, velocity, and acceleration in each frame:  86%|████████▋ | 44/51 [00:02<00:00, 22.89it/s]\n",
      "Adding player speed, velocity, and acceleration in each frame:  92%|█████████▏| 47/51 [00:02<00:00, 24.29it/s]\n",
      "Adding player speed, velocity, and acceleration in each frame: 100%|██████████| 51/51 [00:04<00:00, 11.18it/s]\n"
     ]
    },
    {
     "data": {
      "application/vnd.jupyter.widget-view+json": {
       "model_id": "7d7737cfec7a42ccac9ee875c6fc145e",
       "version_major": 2,
       "version_minor": 0
      },
      "text/plain": [
       "Loading frames from match 4606: 0 frames [00:00, ? frames/s]"
      ]
     },
     "metadata": {},
     "output_type": "display_data"
    },
    {
     "data": {
      "application/vnd.jupyter.widget-view+json": {
       "model_id": "6e4568533f734fdba7a4a627700f3c42",
       "version_major": 2,
       "version_minor": 0
      },
      "text/plain": [
       "Validating frames:   0%|          | 0/173616 [00:00<?, ? frames/s]"
      ]
     },
     "metadata": {},
     "output_type": "display_data"
    },
    {
     "name": "stderr",
     "output_type": "stream",
     "text": [
      "\n",
      "Adding ball speed, velocity, and acceleration in each frame:   0%|          | 0/2 [00:00<?, ?it/s]\n",
      "Adding ball speed, velocity, and acceleration in each frame:  50%|█████     | 1/2 [00:00<00:00,  5.29it/s]\n",
      "Adding ball speed, velocity, and acceleration in each frame: 100%|██████████| 2/2 [00:02<00:00,  1.42s/it]\n",
      "\n",
      "Adding player speed, velocity, and acceleration in each frame:   0%|          | 0/51 [00:00<?, ?it/s]\n",
      "Adding player speed, velocity, and acceleration in each frame:   2%|▏         | 1/51 [00:00<00:34,  1.46it/s]\n",
      "Adding player speed, velocity, and acceleration in each frame:   8%|▊         | 4/51 [00:00<00:07,  6.07it/s]\n",
      "Adding player speed, velocity, and acceleration in each frame:  14%|█▎        | 7/51 [00:00<00:04, 10.09it/s]\n",
      "Adding player speed, velocity, and acceleration in each frame:  20%|█▉        | 10/51 [00:01<00:02, 13.68it/s]\n",
      "Adding player speed, velocity, and acceleration in each frame:  25%|██▌       | 13/51 [00:01<00:02, 16.40it/s]\n",
      "Adding player speed, velocity, and acceleration in each frame:  31%|███▏      | 16/51 [00:01<00:01, 18.52it/s]\n",
      "Adding player speed, velocity, and acceleration in each frame:  37%|███▋      | 19/51 [00:01<00:01, 20.76it/s]\n",
      "Adding player speed, velocity, and acceleration in each frame:  43%|████▎     | 22/51 [00:01<00:01, 22.11it/s]\n",
      "Adding player speed, velocity, and acceleration in each frame:  49%|████▉     | 25/51 [00:01<00:01, 22.82it/s]\n",
      "Adding player speed, velocity, and acceleration in each frame:  55%|█████▍    | 28/51 [00:01<00:00, 23.82it/s]\n",
      "Adding player speed, velocity, and acceleration in each frame:  61%|██████    | 31/51 [00:01<00:00, 24.03it/s]\n",
      "Adding player speed, velocity, and acceleration in each frame:  67%|██████▋   | 34/51 [00:02<00:00, 24.33it/s]\n",
      "Adding player speed, velocity, and acceleration in each frame:  75%|███████▍  | 38/51 [00:02<00:00, 25.40it/s]\n",
      "Adding player speed, velocity, and acceleration in each frame:  80%|████████  | 41/51 [00:02<00:00, 24.03it/s]\n",
      "Adding player speed, velocity, and acceleration in each frame:  86%|████████▋ | 44/51 [00:02<00:00, 24.57it/s]\n",
      "Adding player speed, velocity, and acceleration in each frame:  94%|█████████▍| 48/51 [00:02<00:00, 26.25it/s]\n",
      "Adding player speed, velocity, and acceleration in each frame: 100%|██████████| 51/51 [00:03<00:00, 13.85it/s]\n"
     ]
    },
    {
     "data": {
      "application/vnd.jupyter.widget-view+json": {
       "model_id": "ad64d8cdebf544a299fbe7b2cb59b6d9",
       "version_major": 2,
       "version_minor": 0
      },
      "text/plain": [
       "Loading frames from match 4607: 0 frames [00:00, ? frames/s]"
      ]
     },
     "metadata": {},
     "output_type": "display_data"
    },
    {
     "data": {
      "application/vnd.jupyter.widget-view+json": {
       "model_id": "8035dd204c334fc0868d7c3e2ccaec3d",
       "version_major": 2,
       "version_minor": 0
      },
      "text/plain": [
       "Validating frames:   0%|          | 0/178576 [00:00<?, ? frames/s]"
      ]
     },
     "metadata": {},
     "output_type": "display_data"
    },
    {
     "name": "stderr",
     "output_type": "stream",
     "text": [
      "\n",
      "Adding ball speed, velocity, and acceleration in each frame:   0%|          | 0/2 [00:00<?, ?it/s]\n",
      "Adding ball speed, velocity, and acceleration in each frame:  50%|█████     | 1/2 [00:00<00:00,  6.04it/s]\n",
      "Adding ball speed, velocity, and acceleration in each frame: 100%|██████████| 2/2 [00:01<00:00,  1.13it/s]\n",
      "\n",
      "Adding player speed, velocity, and acceleration in each frame:   0%|          | 0/51 [00:00<?, ?it/s]\n",
      "Adding player speed, velocity, and acceleration in each frame:   2%|▏         | 1/51 [00:00<00:28,  1.78it/s]\n",
      "Adding player speed, velocity, and acceleration in each frame:   8%|▊         | 4/51 [00:00<00:06,  7.37it/s]\n",
      "Adding player speed, velocity, and acceleration in each frame:  14%|█▎        | 7/51 [00:00<00:03, 12.13it/s]\n",
      "Adding player speed, velocity, and acceleration in each frame:  20%|█▉        | 10/51 [00:00<00:02, 16.07it/s]\n",
      "Adding player speed, velocity, and acceleration in each frame:  27%|██▋       | 14/51 [00:01<00:01, 20.20it/s]\n",
      "Adding player speed, velocity, and acceleration in each frame:  35%|███▌      | 18/51 [00:01<00:01, 24.10it/s]\n",
      "Adding player speed, velocity, and acceleration in each frame:  43%|████▎     | 22/51 [00:01<00:01, 26.52it/s]\n",
      "Adding player speed, velocity, and acceleration in each frame:  49%|████▉     | 25/51 [00:01<00:00, 26.75it/s]\n",
      "Adding player speed, velocity, and acceleration in each frame:  57%|█████▋    | 29/51 [00:01<00:00, 28.47it/s]\n",
      "Adding player speed, velocity, and acceleration in each frame:  65%|██████▍   | 33/51 [00:01<00:00, 29.06it/s]\n",
      "Adding player speed, velocity, and acceleration in each frame:  73%|███████▎  | 37/51 [00:01<00:00, 31.37it/s]\n",
      "Adding player speed, velocity, and acceleration in each frame:  80%|████████  | 41/51 [00:01<00:00, 32.20it/s]\n",
      "Adding player speed, velocity, and acceleration in each frame:  88%|████████▊ | 45/51 [00:01<00:00, 33.77it/s]\n",
      "Adding player speed, velocity, and acceleration in each frame: 100%|██████████| 51/51 [00:03<00:00, 15.74it/s]\n"
     ]
    },
    {
     "data": {
      "application/vnd.jupyter.widget-view+json": {
       "model_id": "c63dcea03e3d436f911d978da2b936ae",
       "version_major": 2,
       "version_minor": 0
      },
      "text/plain": [
       "Loading frames from match 4608: 0 frames [00:00, ? frames/s]"
      ]
     },
     "metadata": {},
     "output_type": "display_data"
    },
    {
     "data": {
      "application/vnd.jupyter.widget-view+json": {
       "model_id": "09ce715ecdb54ddfbde9eb33d6c47df2",
       "version_major": 2,
       "version_minor": 0
      },
      "text/plain": [
       "Validating frames:   0%|          | 0/180545 [00:00<?, ? frames/s]"
      ]
     },
     "metadata": {},
     "output_type": "display_data"
    },
    {
     "name": "stderr",
     "output_type": "stream",
     "text": [
      "\n",
      "Adding ball speed, velocity, and acceleration in each frame:   0%|          | 0/2 [00:00<?, ?it/s]\n",
      "Adding ball speed, velocity, and acceleration in each frame:  50%|█████     | 1/2 [00:00<00:00,  6.56it/s]\n",
      "Adding ball speed, velocity, and acceleration in each frame: 100%|██████████| 2/2 [00:01<00:00,  1.27it/s]\n",
      "\n",
      "Adding player speed, velocity, and acceleration in each frame:   0%|          | 0/52 [00:00<?, ?it/s]\n",
      "Adding player speed, velocity, and acceleration in each frame:   2%|▏         | 1/52 [00:00<00:20,  2.50it/s]\n",
      "Adding player speed, velocity, and acceleration in each frame:  12%|█▏        | 6/52 [00:00<00:03, 14.70it/s]\n",
      "Adding player speed, velocity, and acceleration in each frame:  21%|██        | 11/52 [00:00<00:01, 23.65it/s]\n",
      "Adding player speed, velocity, and acceleration in each frame:  29%|██▉       | 15/52 [00:00<00:01, 26.97it/s]\n",
      "Adding player speed, velocity, and acceleration in each frame:  38%|███▊      | 20/52 [00:00<00:01, 31.71it/s]\n",
      "Adding player speed, velocity, and acceleration in each frame:  48%|████▊     | 25/52 [00:00<00:00, 36.01it/s]\n",
      "Adding player speed, velocity, and acceleration in each frame:  60%|█████▉    | 31/52 [00:01<00:00, 41.81it/s]\n",
      "Adding player speed, velocity, and acceleration in each frame:  77%|███████▋  | 40/52 [00:01<00:00, 53.13it/s]\n",
      "Adding player speed, velocity, and acceleration in each frame: 100%|██████████| 52/52 [00:02<00:00, 25.20it/s]\n"
     ]
    },
    {
     "data": {
      "application/vnd.jupyter.widget-view+json": {
       "model_id": "25ca8963e61940abbdc10f64f85bb9d4",
       "version_major": 2,
       "version_minor": 0
      },
      "text/plain": [
       "Loading frames from match 4609: 0 frames [00:00, ? frames/s]"
      ]
     },
     "metadata": {},
     "output_type": "display_data"
    },
    {
     "data": {
      "application/vnd.jupyter.widget-view+json": {
       "model_id": "e02433f66ba54a94926ae81b27247e1a",
       "version_major": 2,
       "version_minor": 0
      },
      "text/plain": [
       "Validating frames:   0%|          | 0/175477 [00:00<?, ? frames/s]"
      ]
     },
     "metadata": {},
     "output_type": "display_data"
    },
    {
     "name": "stderr",
     "output_type": "stream",
     "text": [
      "\n",
      "Adding ball speed, velocity, and acceleration in each frame:   0%|          | 0/2 [00:00<?, ?it/s]\n",
      "Adding ball speed, velocity, and acceleration in each frame:  50%|█████     | 1/2 [00:00<00:00,  6.52it/s]\n",
      "Adding ball speed, velocity, and acceleration in each frame: 100%|██████████| 2/2 [00:01<00:00,  1.12it/s]\n",
      "\n",
      "Adding player speed, velocity, and acceleration in each frame:   0%|          | 0/51 [00:00<?, ?it/s]\n",
      "Adding player speed, velocity, and acceleration in each frame:   2%|▏         | 1/51 [00:00<00:25,  1.94it/s]\n",
      "Adding player speed, velocity, and acceleration in each frame:  10%|▉         | 5/51 [00:00<00:04,  9.86it/s]\n",
      "Adding player speed, velocity, and acceleration in each frame:  18%|█▊        | 9/51 [00:00<00:02, 16.16it/s]\n",
      "Adding player speed, velocity, and acceleration in each frame:  24%|██▎       | 12/51 [00:00<00:02, 18.52it/s]\n",
      "Adding player speed, velocity, and acceleration in each frame:  31%|███▏      | 16/51 [00:00<00:01, 22.82it/s]\n",
      "Adding player speed, velocity, and acceleration in each frame:  37%|███▋      | 19/51 [00:01<00:01, 23.67it/s]\n",
      "Adding player speed, velocity, and acceleration in each frame:  43%|████▎     | 22/51 [00:01<00:01, 24.46it/s]\n",
      "Adding player speed, velocity, and acceleration in each frame:  51%|█████     | 26/51 [00:01<00:00, 26.34it/s]\n",
      "Adding player speed, velocity, and acceleration in each frame:  57%|█████▋    | 29/51 [00:01<00:00, 26.76it/s]\n",
      "Adding player speed, velocity, and acceleration in each frame:  65%|██████▍   | 33/51 [00:01<00:00, 29.62it/s]\n",
      "Adding player speed, velocity, and acceleration in each frame:  73%|███████▎  | 37/51 [00:01<00:00, 28.92it/s]\n",
      "Adding player speed, velocity, and acceleration in each frame:  80%|████████  | 41/51 [00:01<00:00, 30.05it/s]\n",
      "Adding player speed, velocity, and acceleration in each frame:  88%|████████▊ | 45/51 [00:01<00:00, 29.89it/s]\n",
      "Adding player speed, velocity, and acceleration in each frame: 100%|██████████| 51/51 [00:03<00:00, 16.60it/s]\n"
     ]
    },
    {
     "data": {
      "application/vnd.jupyter.widget-view+json": {
       "model_id": "7def4ea8dbdd432e8ee5e1544dd63fc7",
       "version_major": 2,
       "version_minor": 0
      },
      "text/plain": [
       "Loading frames from match 4610: 0 frames [00:00, ? frames/s]"
      ]
     },
     "metadata": {},
     "output_type": "display_data"
    },
    {
     "data": {
      "application/vnd.jupyter.widget-view+json": {
       "model_id": "2a1a324d462743a588cd1e019fff32a8",
       "version_major": 2,
       "version_minor": 0
      },
      "text/plain": [
       "Validating frames:   0%|          | 0/189116 [00:00<?, ? frames/s]"
      ]
     },
     "metadata": {},
     "output_type": "display_data"
    },
    {
     "name": "stderr",
     "output_type": "stream",
     "text": [
      "\n",
      "Adding ball speed, velocity, and acceleration in each frame:   0%|          | 0/2 [00:00<?, ?it/s]\n",
      "Adding ball speed, velocity, and acceleration in each frame:  50%|█████     | 1/2 [00:00<00:00,  6.47it/s]\n",
      "Adding ball speed, velocity, and acceleration in each frame: 100%|██████████| 2/2 [00:01<00:00,  1.36it/s]\n",
      "\n",
      "Adding player speed, velocity, and acceleration in each frame:   0%|          | 0/51 [00:00<?, ?it/s]\n",
      "Adding player speed, velocity, and acceleration in each frame:   2%|▏         | 1/51 [00:00<00:25,  1.97it/s]\n",
      "Adding player speed, velocity, and acceleration in each frame:  10%|▉         | 5/51 [00:00<00:04,  9.88it/s]\n",
      "Adding player speed, velocity, and acceleration in each frame:  18%|█▊        | 9/51 [00:00<00:02, 16.54it/s]\n",
      "Adding player speed, velocity, and acceleration in each frame:  25%|██▌       | 13/51 [00:00<00:01, 21.47it/s]\n",
      "Adding player speed, velocity, and acceleration in each frame:  33%|███▎      | 17/51 [00:00<00:01, 24.60it/s]\n",
      "Adding player speed, velocity, and acceleration in each frame:  41%|████      | 21/51 [00:01<00:01, 26.85it/s]\n",
      "Adding player speed, velocity, and acceleration in each frame:  49%|████▉     | 25/51 [00:01<00:00, 28.11it/s]\n",
      "Adding player speed, velocity, and acceleration in each frame:  57%|█████▋    | 29/51 [00:01<00:00, 31.01it/s]\n",
      "Adding player speed, velocity, and acceleration in each frame:  65%|██████▍   | 33/51 [00:01<00:00, 31.45it/s]\n",
      "Adding player speed, velocity, and acceleration in each frame:  73%|███████▎  | 37/51 [00:01<00:00, 33.09it/s]\n",
      "Adding player speed, velocity, and acceleration in each frame:  80%|████████  | 41/51 [00:01<00:00, 32.63it/s]\n",
      "Adding player speed, velocity, and acceleration in each frame:  90%|█████████ | 46/51 [00:01<00:00, 36.59it/s]\n",
      "Adding player speed, velocity, and acceleration in each frame: 100%|██████████| 51/51 [00:02<00:00, 17.84it/s]\n"
     ]
    },
    {
     "data": {
      "application/vnd.jupyter.widget-view+json": {
       "model_id": "9c47b9d6d16e4270acf30b9bf6f6eeb8",
       "version_major": 2,
       "version_minor": 0
      },
      "text/plain": [
       "Loading frames from match 4611: 0 frames [00:00, ? frames/s]"
      ]
     },
     "metadata": {},
     "output_type": "display_data"
    },
    {
     "data": {
      "application/vnd.jupyter.widget-view+json": {
       "model_id": "212dc3d02423483ba85cbeec4a663c38",
       "version_major": 2,
       "version_minor": 0
      },
      "text/plain": [
       "Validating frames:   0%|          | 0/176891 [00:00<?, ? frames/s]"
      ]
     },
     "metadata": {},
     "output_type": "display_data"
    },
    {
     "name": "stderr",
     "output_type": "stream",
     "text": [
      "\n",
      "Adding ball speed, velocity, and acceleration in each frame:   0%|          | 0/2 [00:00<?, ?it/s]\n",
      "Adding ball speed, velocity, and acceleration in each frame:  50%|█████     | 1/2 [00:00<00:00,  6.32it/s]\n",
      "Adding ball speed, velocity, and acceleration in each frame: 100%|██████████| 2/2 [00:01<00:00,  1.03it/s]\n",
      "\n",
      "Adding player speed, velocity, and acceleration in each frame:   0%|          | 0/51 [00:00<?, ?it/s]\n",
      "Adding player speed, velocity, and acceleration in each frame:   2%|▏         | 1/51 [00:00<00:28,  1.75it/s]\n",
      "Adding player speed, velocity, and acceleration in each frame:   8%|▊         | 4/51 [00:00<00:06,  7.39it/s]\n",
      "Adding player speed, velocity, and acceleration in each frame:  16%|█▌        | 8/51 [00:00<00:03, 13.96it/s]\n",
      "Adding player speed, velocity, and acceleration in each frame:  22%|██▏       | 11/51 [00:00<00:02, 17.43it/s]\n",
      "Adding player speed, velocity, and acceleration in each frame:  29%|██▉       | 15/51 [00:01<00:01, 21.28it/s]\n",
      "Adding player speed, velocity, and acceleration in each frame:  35%|███▌      | 18/51 [00:01<00:01, 22.96it/s]\n",
      "Adding player speed, velocity, and acceleration in each frame:  41%|████      | 21/51 [00:01<00:01, 24.27it/s]\n",
      "Adding player speed, velocity, and acceleration in each frame:  47%|████▋     | 24/51 [00:01<00:01, 24.82it/s]\n",
      "Adding player speed, velocity, and acceleration in each frame:  53%|█████▎    | 27/51 [00:01<00:00, 25.60it/s]\n",
      "Adding player speed, velocity, and acceleration in each frame:  61%|██████    | 31/51 [00:01<00:00, 29.14it/s]\n",
      "Adding player speed, velocity, and acceleration in each frame:  69%|██████▊   | 35/51 [00:01<00:00, 31.05it/s]\n",
      "Adding player speed, velocity, and acceleration in each frame:  78%|███████▊  | 40/51 [00:01<00:00, 34.45it/s]\n",
      "Adding player speed, velocity, and acceleration in each frame:  88%|████████▊ | 45/51 [00:01<00:00, 37.58it/s]\n",
      "Adding player speed, velocity, and acceleration in each frame: 100%|██████████| 51/51 [00:03<00:00, 16.53it/s]\n"
     ]
    },
    {
     "data": {
      "application/vnd.jupyter.widget-view+json": {
       "model_id": "7d5cedd4b1704cafb077e138a376bf76",
       "version_major": 2,
       "version_minor": 0
      },
      "text/plain": [
       "Loading frames from match 4612: 0 frames [00:00, ? frames/s]"
      ]
     },
     "metadata": {},
     "output_type": "display_data"
    },
    {
     "data": {
      "application/vnd.jupyter.widget-view+json": {
       "model_id": "85345c5210794cebb1b45fb874826028",
       "version_major": 2,
       "version_minor": 0
      },
      "text/plain": [
       "Validating frames:   0%|          | 0/169702 [00:00<?, ? frames/s]"
      ]
     },
     "metadata": {},
     "output_type": "display_data"
    },
    {
     "name": "stderr",
     "output_type": "stream",
     "text": [
      "\n",
      "Adding ball speed, velocity, and acceleration in each frame:   0%|          | 0/2 [00:00<?, ?it/s]\n",
      "Adding ball speed, velocity, and acceleration in each frame:  50%|█████     | 1/2 [00:00<00:00,  6.66it/s]\n",
      "Adding ball speed, velocity, and acceleration in each frame: 100%|██████████| 2/2 [00:01<00:00,  1.23it/s]\n",
      "\n",
      "Adding player speed, velocity, and acceleration in each frame:   0%|          | 0/52 [00:00<?, ?it/s]\n",
      "Adding player speed, velocity, and acceleration in each frame:   2%|▏         | 1/52 [00:00<00:20,  2.52it/s]\n",
      "Adding player speed, velocity, and acceleration in each frame:  12%|█▏        | 6/52 [00:00<00:03, 14.95it/s]\n",
      "Adding player speed, velocity, and acceleration in each frame:  21%|██        | 11/52 [00:00<00:01, 24.15it/s]\n",
      "Adding player speed, velocity, and acceleration in each frame:  31%|███       | 16/52 [00:00<00:01, 29.74it/s]\n",
      "Adding player speed, velocity, and acceleration in each frame:  40%|████      | 21/52 [00:00<00:00, 33.99it/s]\n",
      "Adding player speed, velocity, and acceleration in each frame:  50%|█████     | 26/52 [00:00<00:00, 37.58it/s]\n",
      "Adding player speed, velocity, and acceleration in each frame:  62%|██████▏   | 32/52 [00:01<00:00, 43.36it/s]\n",
      "Adding player speed, velocity, and acceleration in each frame:  75%|███████▌  | 39/52 [00:01<00:00, 49.74it/s]\n",
      "Adding player speed, velocity, and acceleration in each frame:  87%|████████▋ | 45/52 [00:01<00:00, 52.01it/s]\n",
      "Adding player speed, velocity, and acceleration in each frame: 100%|██████████| 52/52 [00:02<00:00, 23.07it/s]\n"
     ]
    },
    {
     "data": {
      "application/vnd.jupyter.widget-view+json": {
       "model_id": "74241858555248b383dbeb8b4b1ba4c0",
       "version_major": 2,
       "version_minor": 0
      },
      "text/plain": [
       "Loading frames from match 4613: 0 frames [00:00, ? frames/s]"
      ]
     },
     "metadata": {},
     "output_type": "display_data"
    },
    {
     "data": {
      "application/vnd.jupyter.widget-view+json": {
       "model_id": "c9004fa9b1034856ad973d18b8cd3249",
       "version_major": 2,
       "version_minor": 0
      },
      "text/plain": [
       "Validating frames:   0%|          | 0/178382 [00:00<?, ? frames/s]"
      ]
     },
     "metadata": {},
     "output_type": "display_data"
    },
    {
     "name": "stderr",
     "output_type": "stream",
     "text": [
      "\n",
      "Adding ball speed, velocity, and acceleration in each frame:   0%|          | 0/2 [00:00<?, ?it/s]\n",
      "Adding ball speed, velocity, and acceleration in each frame:  50%|█████     | 1/2 [00:00<00:00,  5.78it/s]\n",
      "Adding ball speed, velocity, and acceleration in each frame: 100%|██████████| 2/2 [00:01<00:00,  1.20it/s]\n",
      "\n",
      "Adding player speed, velocity, and acceleration in each frame:   0%|          | 0/54 [00:00<?, ?it/s]\n",
      "Adding player speed, velocity, and acceleration in each frame:   2%|▏         | 1/54 [00:00<00:28,  1.83it/s]\n",
      "Adding player speed, velocity, and acceleration in each frame:   7%|▋         | 4/54 [00:00<00:06,  7.35it/s]\n",
      "Adding player speed, velocity, and acceleration in each frame:  15%|█▍        | 8/54 [00:00<00:03, 14.31it/s]\n",
      "Adding player speed, velocity, and acceleration in each frame:  20%|██        | 11/54 [00:00<00:02, 17.66it/s]\n",
      "Adding player speed, velocity, and acceleration in each frame:  28%|██▊       | 15/54 [00:01<00:01, 22.30it/s]\n",
      "Adding player speed, velocity, and acceleration in each frame:  33%|███▎      | 18/54 [00:01<00:01, 23.53it/s]\n",
      "Adding player speed, velocity, and acceleration in each frame:  39%|███▉      | 21/54 [00:01<00:01, 24.91it/s]\n",
      "Adding player speed, velocity, and acceleration in each frame:  46%|████▋     | 25/54 [00:01<00:01, 27.75it/s]\n",
      "Adding player speed, velocity, and acceleration in each frame:  56%|█████▌    | 30/54 [00:01<00:00, 33.73it/s]\n",
      "Adding player speed, velocity, and acceleration in each frame:  65%|██████▍   | 35/54 [00:01<00:00, 36.53it/s]\n",
      "Adding player speed, velocity, and acceleration in each frame:  72%|███████▏  | 39/54 [00:01<00:00, 35.92it/s]\n",
      "Adding player speed, velocity, and acceleration in each frame:  81%|████████▏ | 44/54 [00:01<00:00, 38.93it/s]\n",
      "Adding player speed, velocity, and acceleration in each frame:  91%|█████████ | 49/54 [00:01<00:00, 40.94it/s]\n",
      "Adding player speed, velocity, and acceleration in each frame: 100%|██████████| 54/54 [00:02<00:00, 18.62it/s]\n"
     ]
    },
    {
     "data": {
      "application/vnd.jupyter.widget-view+json": {
       "model_id": "473921dbd28c4ae3950ee5c99e8c3ebf",
       "version_major": 2,
       "version_minor": 0
      },
      "text/plain": [
       "Loading frames from match 4614: 0 frames [00:00, ? frames/s]"
      ]
     },
     "metadata": {},
     "output_type": "display_data"
    },
    {
     "data": {
      "application/vnd.jupyter.widget-view+json": {
       "model_id": "27ba189b703946948a0eea99b0070162",
       "version_major": 2,
       "version_minor": 0
      },
      "text/plain": [
       "Validating frames:   0%|          | 0/182387 [00:00<?, ? frames/s]"
      ]
     },
     "metadata": {},
     "output_type": "display_data"
    },
    {
     "name": "stderr",
     "output_type": "stream",
     "text": [
      "\n",
      "Adding ball speed, velocity, and acceleration in each frame:   0%|          | 0/2 [00:00<?, ?it/s]\n",
      "Adding ball speed, velocity, and acceleration in each frame:  50%|█████     | 1/2 [00:00<00:00,  5.74it/s]\n",
      "Adding ball speed, velocity, and acceleration in each frame: 100%|██████████| 2/2 [00:02<00:00,  1.08s/it]\n",
      "\n",
      "Adding player speed, velocity, and acceleration in each frame:   0%|          | 0/50 [00:00<?, ?it/s]\n",
      "Adding player speed, velocity, and acceleration in each frame:   2%|▏         | 1/50 [00:00<00:30,  1.59it/s]\n",
      "Adding player speed, velocity, and acceleration in each frame:  10%|█         | 5/50 [00:00<00:05,  8.38it/s]\n",
      "Adding player speed, velocity, and acceleration in each frame:  18%|█▊        | 9/50 [00:00<00:02, 14.30it/s]\n",
      "Adding player speed, velocity, and acceleration in each frame:  24%|██▍       | 12/50 [00:00<00:02, 17.41it/s]\n",
      "Adding player speed, velocity, and acceleration in each frame:  32%|███▏      | 16/50 [00:01<00:01, 21.85it/s]\n",
      "Adding player speed, velocity, and acceleration in each frame:  40%|████      | 20/50 [00:01<00:01, 24.33it/s]\n",
      "Adding player speed, velocity, and acceleration in each frame:  46%|████▌     | 23/50 [00:01<00:01, 25.49it/s]\n",
      "Adding player speed, velocity, and acceleration in each frame:  52%|█████▏    | 26/50 [00:01<00:00, 24.73it/s]\n",
      "Adding player speed, velocity, and acceleration in each frame:  58%|█████▊    | 29/50 [00:01<00:00, 25.54it/s]\n",
      "Adding player speed, velocity, and acceleration in each frame:  66%|██████▌   | 33/50 [00:01<00:00, 28.11it/s]\n",
      "Adding player speed, velocity, and acceleration in each frame:  76%|███████▌  | 38/50 [00:01<00:00, 31.83it/s]\n",
      "Adding player speed, velocity, and acceleration in each frame:  84%|████████▍ | 42/50 [00:01<00:00, 31.85it/s]\n",
      "Adding player speed, velocity, and acceleration in each frame: 100%|██████████| 50/50 [00:03<00:00, 16.55it/s]\n"
     ]
    },
    {
     "data": {
      "application/vnd.jupyter.widget-view+json": {
       "model_id": "cd14dc20d6fd4bf2a66c32f03207097d",
       "version_major": 2,
       "version_minor": 0
      },
      "text/plain": [
       "Loading frames from match 4615: 0 frames [00:00, ? frames/s]"
      ]
     },
     "metadata": {},
     "output_type": "display_data"
    },
    {
     "data": {
      "application/vnd.jupyter.widget-view+json": {
       "model_id": "923b5520354e485e8116769c62c82109",
       "version_major": 2,
       "version_minor": 0
      },
      "text/plain": [
       "Validating frames:   0%|          | 0/173340 [00:00<?, ? frames/s]"
      ]
     },
     "metadata": {},
     "output_type": "display_data"
    },
    {
     "name": "stderr",
     "output_type": "stream",
     "text": [
      "\n",
      "Adding ball speed, velocity, and acceleration in each frame:   0%|          | 0/2 [00:00<?, ?it/s]\n",
      "Adding ball speed, velocity, and acceleration in each frame:  50%|█████     | 1/2 [00:00<00:00,  6.99it/s]\n",
      "Adding ball speed, velocity, and acceleration in each frame: 100%|██████████| 2/2 [00:01<00:00,  1.11it/s]\n",
      "\n",
      "Adding player speed, velocity, and acceleration in each frame:   0%|          | 0/52 [00:00<?, ?it/s]\n",
      "Adding player speed, velocity, and acceleration in each frame:   2%|▏         | 1/52 [00:00<00:23,  2.15it/s]\n",
      "Adding player speed, velocity, and acceleration in each frame:   8%|▊         | 4/52 [00:00<00:05,  8.58it/s]\n",
      "Adding player speed, velocity, and acceleration in each frame:  15%|█▌        | 8/52 [00:00<00:02, 16.27it/s]\n",
      "Adding player speed, velocity, and acceleration in each frame:  23%|██▎       | 12/52 [00:00<00:01, 22.35it/s]\n",
      "Adding player speed, velocity, and acceleration in each frame:  33%|███▎      | 17/52 [00:00<00:01, 28.08it/s]\n",
      "Adding player speed, velocity, and acceleration in each frame:  40%|████      | 21/52 [00:01<00:01, 30.59it/s]\n",
      "Adding player speed, velocity, and acceleration in each frame:  50%|█████     | 26/52 [00:01<00:00, 35.48it/s]\n",
      "Adding player speed, velocity, and acceleration in each frame:  62%|██████▏   | 32/52 [00:01<00:00, 41.00it/s]\n",
      "Adding player speed, velocity, and acceleration in each frame:  71%|███████   | 37/52 [00:01<00:00, 41.96it/s]\n",
      "Adding player speed, velocity, and acceleration in each frame:  85%|████████▍ | 44/52 [00:01<00:00, 48.67it/s]\n",
      "Adding player speed, velocity, and acceleration in each frame: 100%|██████████| 52/52 [00:02<00:00, 21.98it/s]\n"
     ]
    },
    {
     "data": {
      "application/vnd.jupyter.widget-view+json": {
       "model_id": "0697ae3c29b24933adc2406733478453",
       "version_major": 2,
       "version_minor": 0
      },
      "text/plain": [
       "Loading frames from match 4616: 0 frames [00:00, ? frames/s]"
      ]
     },
     "metadata": {},
     "output_type": "display_data"
    },
    {
     "data": {
      "application/vnd.jupyter.widget-view+json": {
       "model_id": "5560f85938754487a6990a99860db392",
       "version_major": 2,
       "version_minor": 0
      },
      "text/plain": [
       "Validating frames:   0%|          | 0/177930 [00:00<?, ? frames/s]"
      ]
     },
     "metadata": {},
     "output_type": "display_data"
    },
    {
     "name": "stderr",
     "output_type": "stream",
     "text": [
      "\n",
      "Adding ball speed, velocity, and acceleration in each frame:   0%|          | 0/2 [00:00<?, ?it/s]\n",
      "Adding ball speed, velocity, and acceleration in each frame:  50%|█████     | 1/2 [00:00<00:00,  5.16it/s]\n",
      "Adding ball speed, velocity, and acceleration in each frame: 100%|██████████| 2/2 [00:01<00:00,  1.01it/s]\n",
      "\n",
      "Adding player speed, velocity, and acceleration in each frame:   0%|          | 0/48 [00:00<?, ?it/s]\n",
      "Adding player speed, velocity, and acceleration in each frame:   2%|▏         | 1/48 [00:00<00:26,  1.81it/s]\n",
      "Adding player speed, velocity, and acceleration in each frame:  10%|█         | 5/48 [00:00<00:04,  9.40it/s]\n",
      "Adding player speed, velocity, and acceleration in each frame:  19%|█▉        | 9/48 [00:00<00:02, 15.85it/s]\n",
      "Adding player speed, velocity, and acceleration in each frame:  27%|██▋       | 13/48 [00:00<00:01, 21.44it/s]\n",
      "Adding player speed, velocity, and acceleration in each frame:  35%|███▌      | 17/48 [00:00<00:01, 25.44it/s]\n",
      "Adding player speed, velocity, and acceleration in each frame:  44%|████▍     | 21/48 [00:01<00:00, 28.81it/s]\n",
      "Adding player speed, velocity, and acceleration in each frame:  52%|█████▏    | 25/48 [00:01<00:00, 30.05it/s]\n",
      "Adding player speed, velocity, and acceleration in each frame:  60%|██████    | 29/48 [00:01<00:00, 30.98it/s]\n",
      "Adding player speed, velocity, and acceleration in each frame:  69%|██████▉   | 33/48 [00:01<00:00, 30.89it/s]\n",
      "Adding player speed, velocity, and acceleration in each frame:  77%|███████▋  | 37/48 [00:01<00:00, 31.98it/s]\n",
      "Adding player speed, velocity, and acceleration in each frame:  85%|████████▌ | 41/48 [00:01<00:00, 33.76it/s]\n",
      "Adding player speed, velocity, and acceleration in each frame: 100%|██████████| 48/48 [00:02<00:00, 16.78it/s]\n"
     ]
    },
    {
     "data": {
      "application/vnd.jupyter.widget-view+json": {
       "model_id": "f6feace5f5d2401cb5636c60c7c8f84c",
       "version_major": 2,
       "version_minor": 0
      },
      "text/plain": [
       "Loading frames from match 4617: 0 frames [00:00, ? frames/s]"
      ]
     },
     "metadata": {},
     "output_type": "display_data"
    },
    {
     "data": {
      "application/vnd.jupyter.widget-view+json": {
       "model_id": "775a88b5368e4cb491f3f13334fc978b",
       "version_major": 2,
       "version_minor": 0
      },
      "text/plain": [
       "Validating frames:   0%|          | 0/172670 [00:00<?, ? frames/s]"
      ]
     },
     "metadata": {},
     "output_type": "display_data"
    },
    {
     "name": "stderr",
     "output_type": "stream",
     "text": [
      "\n",
      "Adding ball speed, velocity, and acceleration in each frame:   0%|          | 0/2 [00:00<?, ?it/s]\n",
      "Adding ball speed, velocity, and acceleration in each frame:  50%|█████     | 1/2 [00:00<00:00,  6.01it/s]\n",
      "Adding ball speed, velocity, and acceleration in each frame: 100%|██████████| 2/2 [00:02<00:00,  1.09s/it]\n",
      "\n",
      "Adding player speed, velocity, and acceleration in each frame:   0%|          | 0/51 [00:00<?, ?it/s]\n",
      "Adding player speed, velocity, and acceleration in each frame:   2%|▏         | 1/51 [00:00<00:39,  1.28it/s]\n",
      "Adding player speed, velocity, and acceleration in each frame:  10%|▉         | 5/51 [00:00<00:06,  6.93it/s]\n",
      "Adding player speed, velocity, and acceleration in each frame:  16%|█▌        | 8/51 [00:01<00:03, 10.94it/s]\n",
      "Adding player speed, velocity, and acceleration in each frame:  22%|██▏       | 11/51 [00:01<00:02, 14.69it/s]\n",
      "Adding player speed, velocity, and acceleration in each frame:  27%|██▋       | 14/51 [00:01<00:02, 18.06it/s]\n",
      "Adding player speed, velocity, and acceleration in each frame:  33%|███▎      | 17/51 [00:01<00:01, 20.92it/s]\n",
      "Adding player speed, velocity, and acceleration in each frame:  41%|████      | 21/51 [00:01<00:01, 23.91it/s]\n",
      "Adding player speed, velocity, and acceleration in each frame:  47%|████▋     | 24/51 [00:01<00:01, 24.57it/s]\n",
      "Adding player speed, velocity, and acceleration in each frame:  53%|█████▎    | 27/51 [00:01<00:00, 24.86it/s]\n",
      "Adding player speed, velocity, and acceleration in each frame:  61%|██████    | 31/51 [00:01<00:00, 28.00it/s]\n",
      "Adding player speed, velocity, and acceleration in each frame:  71%|███████   | 36/51 [00:01<00:00, 30.18it/s]\n",
      "Adding player speed, velocity, and acceleration in each frame:  78%|███████▊  | 40/51 [00:02<00:00, 29.50it/s]\n",
      "Adding player speed, velocity, and acceleration in each frame:  86%|████████▋ | 44/51 [00:02<00:00, 27.91it/s]\n",
      "Adding player speed, velocity, and acceleration in each frame: 100%|██████████| 51/51 [00:03<00:00, 13.81it/s]\n"
     ]
    },
    {
     "data": {
      "application/vnd.jupyter.widget-view+json": {
       "model_id": "1cefc941f9a94d38a9c308087a7c54d6",
       "version_major": 2,
       "version_minor": 0
      },
      "text/plain": [
       "Loading frames from match 4618: 0 frames [00:00, ? frames/s]"
      ]
     },
     "metadata": {},
     "output_type": "display_data"
    },
    {
     "data": {
      "application/vnd.jupyter.widget-view+json": {
       "model_id": "446c12495a9d410099480fd50331fb2a",
       "version_major": 2,
       "version_minor": 0
      },
      "text/plain": [
       "Validating frames:   0%|          | 0/180002 [00:00<?, ? frames/s]"
      ]
     },
     "metadata": {},
     "output_type": "display_data"
    },
    {
     "name": "stderr",
     "output_type": "stream",
     "text": [
      "\n",
      "Adding ball speed, velocity, and acceleration in each frame:   0%|          | 0/2 [00:00<?, ?it/s]\n",
      "Adding ball speed, velocity, and acceleration in each frame:  50%|█████     | 1/2 [00:00<00:00,  5.92it/s]\n",
      "Adding ball speed, velocity, and acceleration in each frame: 100%|██████████| 2/2 [00:02<00:00,  1.01s/it]\n",
      "\n",
      "Adding player speed, velocity, and acceleration in each frame:   0%|          | 0/50 [00:00<?, ?it/s]\n",
      "Adding player speed, velocity, and acceleration in each frame:   2%|▏         | 1/50 [00:00<00:28,  1.72it/s]\n",
      "Adding player speed, velocity, and acceleration in each frame:  10%|█         | 5/50 [00:00<00:04,  9.16it/s]\n",
      "Adding player speed, velocity, and acceleration in each frame:  18%|█▊        | 9/50 [00:00<00:02, 15.80it/s]\n",
      "Adding player speed, velocity, and acceleration in each frame:  26%|██▌       | 13/50 [00:00<00:01, 21.39it/s]\n",
      "Adding player speed, velocity, and acceleration in each frame:  34%|███▍      | 17/50 [00:00<00:01, 25.90it/s]\n",
      "Adding player speed, velocity, and acceleration in each frame:  44%|████▍     | 22/50 [00:01<00:00, 30.27it/s]\n",
      "Adding player speed, velocity, and acceleration in each frame:  52%|█████▏    | 26/50 [00:01<00:00, 32.32it/s]\n",
      "Adding player speed, velocity, and acceleration in each frame:  60%|██████    | 30/50 [00:01<00:00, 32.83it/s]\n",
      "Adding player speed, velocity, and acceleration in each frame:  68%|██████▊   | 34/50 [00:01<00:00, 32.51it/s]\n",
      "Adding player speed, velocity, and acceleration in each frame:  76%|███████▌  | 38/50 [00:01<00:00, 32.20it/s]\n",
      "Adding player speed, velocity, and acceleration in each frame:  86%|████████▌ | 43/50 [00:01<00:00, 36.76it/s]\n",
      "Adding player speed, velocity, and acceleration in each frame: 100%|██████████| 50/50 [00:02<00:00, 18.02it/s]\n"
     ]
    },
    {
     "data": {
      "application/vnd.jupyter.widget-view+json": {
       "model_id": "a31d843700a442528ec86d33c3e5e4aa",
       "version_major": 2,
       "version_minor": 0
      },
      "text/plain": [
       "Loading frames from match 4619: 0 frames [00:00, ? frames/s]"
      ]
     },
     "metadata": {},
     "output_type": "display_data"
    },
    {
     "data": {
      "application/vnd.jupyter.widget-view+json": {
       "model_id": "cd12817fe767422191e5c46c656b3d37",
       "version_major": 2,
       "version_minor": 0
      },
      "text/plain": [
       "Validating frames:   0%|          | 0/172551 [00:00<?, ? frames/s]"
      ]
     },
     "metadata": {},
     "output_type": "display_data"
    },
    {
     "name": "stderr",
     "output_type": "stream",
     "text": [
      "\n",
      "Adding ball speed, velocity, and acceleration in each frame:   0%|          | 0/2 [00:00<?, ?it/s]\n",
      "Adding ball speed, velocity, and acceleration in each frame:  50%|█████     | 1/2 [00:00<00:00,  5.89it/s]\n",
      "Adding ball speed, velocity, and acceleration in each frame: 100%|██████████| 2/2 [00:01<00:00,  1.04it/s]\n",
      "\n",
      "Adding player speed, velocity, and acceleration in each frame:   0%|          | 0/52 [00:00<?, ?it/s]\n",
      "Adding player speed, velocity, and acceleration in each frame:   2%|▏         | 1/52 [00:00<00:31,  1.62it/s]\n",
      "Adding player speed, velocity, and acceleration in each frame:   8%|▊         | 4/52 [00:00<00:06,  6.91it/s]\n",
      "Adding player speed, velocity, and acceleration in each frame:  15%|█▌        | 8/52 [00:00<00:03, 13.15it/s]\n",
      "Adding player speed, velocity, and acceleration in each frame:  23%|██▎       | 12/52 [00:00<00:02, 18.29it/s]\n",
      "Adding player speed, velocity, and acceleration in each frame:  31%|███       | 16/52 [00:01<00:01, 22.25it/s]\n",
      "Adding player speed, velocity, and acceleration in each frame:  38%|███▊      | 20/52 [00:01<00:01, 25.47it/s]\n",
      "Adding player speed, velocity, and acceleration in each frame:  46%|████▌     | 24/52 [00:01<00:01, 26.06it/s]\n",
      "Adding player speed, velocity, and acceleration in each frame:  52%|█████▏    | 27/52 [00:01<00:00, 26.59it/s]\n",
      "Adding player speed, velocity, and acceleration in each frame:  58%|█████▊    | 30/52 [00:01<00:00, 25.96it/s]\n",
      "Adding player speed, velocity, and acceleration in each frame:  63%|██████▎   | 33/52 [00:01<00:00, 26.73it/s]\n",
      "Adding player speed, velocity, and acceleration in each frame:  71%|███████   | 37/52 [00:01<00:00, 29.83it/s]\n",
      "Adding player speed, velocity, and acceleration in each frame:  79%|███████▉  | 41/52 [00:01<00:00, 31.86it/s]\n",
      "Adding player speed, velocity, and acceleration in each frame:  87%|████████▋ | 45/52 [00:02<00:00, 33.04it/s]\n",
      "Adding player speed, velocity, and acceleration in each frame: 100%|██████████| 52/52 [00:03<00:00, 16.30it/s]\n"
     ]
    },
    {
     "data": {
      "application/vnd.jupyter.widget-view+json": {
       "model_id": "cf4696d7a3ad4ad58c51d27257a99943",
       "version_major": 2,
       "version_minor": 0
      },
      "text/plain": [
       "Loading frames from match 4620: 0 frames [00:00, ? frames/s]"
      ]
     },
     "metadata": {},
     "output_type": "display_data"
    },
    {
     "data": {
      "application/vnd.jupyter.widget-view+json": {
       "model_id": "426b00b64aad4b4891a00ea3c0b253c7",
       "version_major": 2,
       "version_minor": 0
      },
      "text/plain": [
       "Validating frames:   0%|          | 0/169964 [00:00<?, ? frames/s]"
      ]
     },
     "metadata": {},
     "output_type": "display_data"
    },
    {
     "name": "stderr",
     "output_type": "stream",
     "text": [
      "\n",
      "Adding ball speed, velocity, and acceleration in each frame:   0%|          | 0/2 [00:00<?, ?it/s]\n",
      "Adding ball speed, velocity, and acceleration in each frame:  50%|█████     | 1/2 [00:00<00:00,  6.66it/s]\n",
      "Adding ball speed, velocity, and acceleration in each frame: 100%|██████████| 2/2 [00:02<00:00,  1.09s/it]\n",
      "\n",
      "Adding player speed, velocity, and acceleration in each frame:   0%|          | 0/52 [00:00<?, ?it/s]\n",
      "Adding player speed, velocity, and acceleration in each frame:   2%|▏         | 1/52 [00:00<00:24,  2.11it/s]\n",
      "Adding player speed, velocity, and acceleration in each frame:  10%|▉         | 5/52 [00:00<00:04, 10.27it/s]\n",
      "Adding player speed, velocity, and acceleration in each frame:  17%|█▋        | 9/52 [00:00<00:02, 16.32it/s]\n",
      "Adding player speed, velocity, and acceleration in each frame:  23%|██▎       | 12/52 [00:00<00:02, 18.95it/s]\n",
      "Adding player speed, velocity, and acceleration in each frame:  29%|██▉       | 15/52 [00:00<00:01, 20.26it/s]\n",
      "Adding player speed, velocity, and acceleration in each frame:  35%|███▍      | 18/52 [00:01<00:01, 20.13it/s]\n",
      "Adding player speed, velocity, and acceleration in each frame:  40%|████      | 21/52 [00:01<00:01, 22.23it/s]\n",
      "Adding player speed, velocity, and acceleration in each frame:  48%|████▊     | 25/52 [00:01<00:01, 24.99it/s]\n",
      "Adding player speed, velocity, and acceleration in each frame:  56%|█████▌    | 29/52 [00:01<00:00, 28.78it/s]\n",
      "Adding player speed, velocity, and acceleration in each frame:  65%|██████▌   | 34/52 [00:01<00:00, 34.15it/s]\n",
      "Adding player speed, velocity, and acceleration in each frame:  79%|███████▉  | 41/52 [00:01<00:00, 42.46it/s]\n",
      "Adding player speed, velocity, and acceleration in each frame:  90%|█████████ | 47/52 [00:01<00:00, 45.24it/s]\n",
      "Adding player speed, velocity, and acceleration in each frame: 100%|██████████| 52/52 [00:03<00:00, 16.87it/s]\n"
     ]
    },
    {
     "data": {
      "application/vnd.jupyter.widget-view+json": {
       "model_id": "33a9ffef8a3647df8fb0a63145e9e655",
       "version_major": 2,
       "version_minor": 0
      },
      "text/plain": [
       "Loading frames from match 4621: 0 frames [00:00, ? frames/s]"
      ]
     },
     "metadata": {},
     "output_type": "display_data"
    },
    {
     "data": {
      "application/vnd.jupyter.widget-view+json": {
       "model_id": "2e10f869c4fc497bbc92e2d68c516944",
       "version_major": 2,
       "version_minor": 0
      },
      "text/plain": [
       "Validating frames:   0%|          | 0/171701 [00:00<?, ? frames/s]"
      ]
     },
     "metadata": {},
     "output_type": "display_data"
    }
   ],
   "source": [
    "frames_loader = FramesLoader(game_ids[160:], DATA_PATH)\n",
    "frames_loader.load()\n",
    "frames_loader.save(output_path)"
   ]
  }
 ],
 "metadata": {
  "kernelspec": {
   "display_name": ".venv",
   "language": "python",
   "name": "python3"
  },
  "language_info": {
   "codemirror_mode": {
    "name": "ipython",
    "version": 3
   },
   "file_extension": ".py",
   "mimetype": "text/x-python",
   "name": "python",
   "nbconvert_exporter": "python",
   "pygments_lexer": "ipython3",
   "version": "3.12.3"
  }
 },
 "nbformat": 4,
 "nbformat_minor": 2
}
